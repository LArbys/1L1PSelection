{
 "cells": [
  {
   "cell_type": "code",
   "execution_count": 1,
   "metadata": {},
   "outputs": [
    {
     "name": "stdout",
     "output_type": "stream",
     "text": [
      "Welcome to JupyROOT 6.18/04\n"
     ]
    }
   ],
   "source": [
    "%matplotlib inline\n",
    "\n",
    "from ROOT import TFile,vector,TGraph\n",
    "import ROOT\n",
    "import matplotlib.pyplot as plt\n",
    "import pickle\n",
    "import pandas as pd\n",
    "import numpy as np\n",
    "from numpy import mean\n",
    "from math import sqrt,acos,cos,sin,pi,exp,log,isnan,atan2\n",
    "from xgboost import XGBClassifier\n",
    "from sklearn.model_selection import train_test_split\n",
    "from numpy import asarray\n",
    "from root_pandas import read_root\n",
    "from matplotlib import gridspec\n",
    "from scipy import stats"
   ]
  },
  {
   "cell_type": "code",
   "execution_count": 2,
   "metadata": {},
   "outputs": [],
   "source": [
    "def bless_scedr(row):\n",
    "    scedr = float(-1)\n",
    "    dx = row['Xreco'] - row['sceshift_parentX']\n",
    "    dy = row['Yreco'] - row['sceshift_parentY']\n",
    "    dz = row['Zreco'] - row['sceshift_parentZ']\n",
    "    dr2 = dx*dx+dy*dy+dz*dz\n",
    "    dr = np.sqrt(dr2)\n",
    "\n",
    "    scedr = dr\n",
    "    return scedr\n",
    "\n",
    "def bless_scedir(row):\n",
    "    scedr = float(-1)\n",
    "    dx = row['Xreco'] - row['parentSCEX']\n",
    "    dy = row['Yreco'] - row['parentSCEY']\n",
    "    dz = row['Zreco'] - row['parentSCEZ']\n",
    "    dr2 = dx*dx+dy*dy+dz*dz\n",
    "    dr = np.sqrt(dr2)\n",
    "\n",
    "    scedr = dr\n",
    "    return scedr\n",
    "\n",
    "\n",
    "def bless_ccqe_reweight_numu(row):\n",
    "    rw = float(1)\n",
    "    if row['interactionType']==1001:\n",
    "        rw = xsec_tune1_graph_numu.Eval(row['energyInit']) / xsec_mcc9_graph_numu.Eval(row['energyInit'])\n",
    "    return rw\n",
    "\n",
    "def bless_ccqe_reweight_nue(row):\n",
    "    rw = float(1)\n",
    "    if row['interactionType']==1001:\n",
    "        rw = xsec_tune1_graph_nue.Eval(row['energyInit']) / xsec_mcc9_graph_nue.Eval(row['energyInit'])\n",
    "    return rw\n",
    "\n",
    "def bless_leeweight(row):\n",
    "    wgts_unfolded = np.array((0.0, 6.3744, 5.64554, 3.73055, 1.50914, 1.074093, 0.754093, 0.476307, 0.152327, 0.0))\n",
    "    binedges_unfolded = np.array((0,.200,.250,.300,.350,.400,.450,.500,.600,.800,3.000))\n",
    "    \n",
    "    for i in range(len(wgts_unfolded)):\n",
    "        if row['energyInit'] < binedges_unfolded[i+1]:\n",
    "            return wgts_unfolded[i]\n",
    "        \n",
    "    return 0"
   ]
  },
  {
   "cell_type": "code",
   "execution_count": 3,
   "metadata": {},
   "outputs": [],
   "source": [
    "# Time to load the good runs list\n",
    "good_df = pd.read_csv('../data/goodruns_2020.txt')\n",
    "good_df['good'] = 1\n",
    "\n",
    "# load pmt precuts\n",
    "df_pmtprecut_bnb = read_root('../data/mcc9_v13_bnb_overlay/pmt_precut_dump.root')\n",
    "df_pmtprecut_nue = read_root('../data/mcc9_v13_nueintrinsic_overlay/pmt_precut_dump.root')\n",
    "df_pmtprecut_ext = read_root('../data/mcc9jan_extbnb/pmt_precut_dump.root')\n",
    "df_pmtprecut_data = read_root('../data/mcc9jan_bnb5e19/pmt_precut_dump.root')\n",
    "\n",
    "RSE=['run','subrun','event']"
   ]
  },
  {
   "cell_type": "code",
   "execution_count": 4,
   "metadata": {},
   "outputs": [],
   "source": [
    "xsec_mcc9_file = ROOT.TFile('../data/xsec_graphs_mcc9_broken.root')\n",
    "xsec_mcc9_graph_numu = xsec_mcc9_file.Get('nu_mu_Ar40/qel_cc_n')\n",
    "xsec_mcc9_graph_nue = xsec_mcc9_file.Get('nu_e_Ar40/qel_cc_n')\n",
    "xsec_tune1_file = ROOT.TFile('../data/xsec_graphs_tune1.root')\n",
    "xsec_tune1_graph_numu = xsec_tune1_file.Get('nu_mu_Ar40/qel_cc_n')\n",
    "xsec_tune1_graph_nue = xsec_tune1_file.Get('nu_e_Ar40/qel_cc_n')"
   ]
  },
  {
   "cell_type": "code",
   "execution_count": 5,
   "metadata": {},
   "outputs": [],
   "source": [
    "# Beam quality\n",
    "beamq_df = read_root('../data/beamdataquality_hist_bnb5e19.root','beamdataquality/bdq')"
   ]
  },
  {
   "cell_type": "code",
   "execution_count": 6,
   "metadata": {},
   "outputs": [],
   "source": [
    "tag = 'Jan21-Sparsenet-1m1p'"
   ]
  },
  {
   "cell_type": "markdown",
   "metadata": {},
   "source": [
    "# MC BNB OVERLAY"
   ]
  },
  {
   "cell_type": "code",
   "execution_count": 7,
   "metadata": {},
   "outputs": [
    {
     "name": "stdout",
     "output_type": "stream",
     "text": [
      "Loaded Files\n",
      "Merged\n",
      "Scedir Corrected\n",
      "Genie Reweighted\n"
     ]
    }
   ],
   "source": [
    "df_bnb = read_root('../data/mcc9_v13_bnb_overlay/FVV-Prime-bnb_overlay_run1-sparsenet_NUMUONLY.root')\n",
    "df_bnb_truth = read_root('../data/mcc9_v13_bnb_overlay/MCInfo.root','EventMCINFO_DL')\n",
    "\n",
    "print('Loaded Files')\n",
    "\n",
    "# merge dfs\n",
    "df_bnb = df_bnb.join(df_bnb_truth.set_index(RSE),on=RSE)\n",
    "df_bnb = df_bnb.join(good_df.set_index('run'),on='run')\n",
    "df_bnb = df_bnb.join(df_pmtprecut_bnb.set_index(RSE),on=RSE)\n",
    "\n",
    "df_numu = df_bnb.query('parentPDG==14 or parentPDG==-14')\n",
    "df_numu_goodruns = df_numu.query(\"good==1\")\n",
    "df_numu_goodruns_pmtprecut = df_numu_goodruns.query(\"passed==1\")\n",
    "\n",
    "print('Merged')\n",
    "\n",
    "df_numu_goodruns_pmtprecut.insert(0,'scedir_corrected',df_numu_goodruns_pmtprecut.apply(bless_scedir,axis=1))\n",
    "\n",
    "print('Scedir Corrected')\n",
    "\n",
    "df_numu_goodruns_pmtprecut.insert(0,'geniereweight',df_numu_goodruns_pmtprecut.apply(bless_ccqe_reweight_numu,axis=1))\n",
    "\n",
    "print('Genie Reweighted')"
   ]
  },
  {
   "cell_type": "code",
   "execution_count": 8,
   "metadata": {},
   "outputs": [
    {
     "name": "stdout",
     "output_type": "stream",
     "text": [
      "Saved Pickle\n",
      "Cleaned up\n"
     ]
    }
   ],
   "source": [
    "df_numu_goodruns_pmtprecut.to_pickle('../data/pickles/numu_goodruns_pmtprecut_%s.pkl'%tag)\n",
    "\n",
    "print('Saved Pickle')\n",
    "\n",
    "del df_bnb,df_numu,df_numu_goodruns_pmtprecut\n",
    "\n",
    "print('Cleaned up')"
   ]
  },
  {
   "cell_type": "markdown",
   "metadata": {},
   "source": [
    "# DIRT"
   ]
  },
  {
   "cell_type": "code",
   "execution_count": 9,
   "metadata": {},
   "outputs": [
    {
     "name": "stdout",
     "output_type": "stream",
     "text": [
      "Loaded Files\n",
      "Merged\n"
     ]
    }
   ],
   "source": [
    "df_dirt = read_root('../data/mcc9_v13_overlay_dirt_run1/FVV_mcc9_dirt_NUMU.root')\n",
    "\n",
    "print('Loaded Files')\n",
    "\n",
    "df_dirt = df_dirt.join(good_df.set_index('run'),on='run')\n",
    "\n",
    "df_dirt_goodruns = df_dirt.query(\"good==1\")\n",
    "df_dirt_goodruns_pmtprecut = df_dirt_goodruns.query(\"PassPMTPrecut==1\")\n",
    "\n",
    "print('Merged')"
   ]
  },
  {
   "cell_type": "code",
   "execution_count": 10,
   "metadata": {},
   "outputs": [
    {
     "name": "stdout",
     "output_type": "stream",
     "text": [
      "Saved Pickle\n",
      "Cleaned up\n"
     ]
    }
   ],
   "source": [
    "df_dirt_goodruns_pmtprecut.to_pickle('../data/pickles/dirt_goodruns_pmtprecut_%s.pkl'%tag)\n",
    "\n",
    "print('Saved Pickle')\n",
    "\n",
    "del df_dirt, df_dirt_goodruns,df_dirt_goodruns_pmtprecut\n",
    "\n",
    "print('Cleaned up')"
   ]
  },
  {
   "cell_type": "markdown",
   "metadata": {},
   "source": [
    "# MC NUE OVERLAY"
   ]
  },
  {
   "cell_type": "code",
   "execution_count": 11,
   "metadata": {},
   "outputs": [
    {
     "name": "stdout",
     "output_type": "stream",
     "text": [
      "Loaded Files\n",
      "Merged\n",
      "Scedr Corrected\n",
      "Genie Reweighted\n"
     ]
    }
   ],
   "source": [
    "df_nue = read_root('../data/mcc9_v13_nueintrinsic_overlay/FVV-Prime-nueintrinsic_overlay_run1-sparsenet_NUMUONLY.root')\n",
    "df_nue_truth = read_root('../data/mcc9_v13_nueintrinsic_overlay/mc_info_mcc9_v13_nueintrinsics_overlay_run1.root','EventMCINFO_DL')\n",
    "\n",
    "print('Loaded Files')\n",
    "\n",
    "df_nue = df_nue.join(df_nue_truth.set_index(RSE),on=RSE)\n",
    "df_nue = df_nue.join(good_df.set_index('run'),on='run')\n",
    "df_nue = df_nue.join(df_pmtprecut_nue.set_index(RSE),on=RSE)\n",
    "\n",
    "\n",
    "df_nue_goodruns = df_nue.query(\"good==1\")\n",
    "df_nue_goodruns_pmtprecut = df_nue_goodruns.query(\"passed==1\")\n",
    "\n",
    "print('Merged')\n",
    "\n",
    "df_nue_goodruns_pmtprecut.insert(0,'scedir_corrected',df_nue_goodruns_pmtprecut.apply(bless_scedir,axis=1))\n",
    "\n",
    "print('Scedr Corrected')\n",
    "\n",
    "df_nue_goodruns_pmtprecut.insert(0,'geniereweight',df_nue_goodruns_pmtprecut.apply(bless_ccqe_reweight_nue,axis=1))\n",
    "\n",
    "print ('Genie Reweighted')"
   ]
  },
  {
   "cell_type": "code",
   "execution_count": 12,
   "metadata": {},
   "outputs": [
    {
     "name": "stdout",
     "output_type": "stream",
     "text": [
      "Saved Pickle\n",
      "Cleaned up\n"
     ]
    }
   ],
   "source": [
    "df_nue_goodruns_pmtprecut.to_pickle('../data/pickles/nue_goodruns_pmtprecut_%s.pkl'%tag)\n",
    "\n",
    "print('Saved Pickle')\n",
    "\n",
    "del df_nue,df_nue_goodruns_pmtprecut,df_nue_truth\n",
    "\n",
    "print('Cleaned up')"
   ]
  },
  {
   "cell_type": "markdown",
   "metadata": {},
   "source": [
    "# EXT"
   ]
  },
  {
   "cell_type": "code",
   "execution_count": 13,
   "metadata": {},
   "outputs": [
    {
     "name": "stdout",
     "output_type": "stream",
     "text": [
      "Loaded files\n",
      "Merged\n"
     ]
    }
   ],
   "source": [
    "df_ext = read_root('../data/mcc9jan_extbnb/FVV-Prime-ext-sparsenet.root')\n",
    "\n",
    "print('Loaded files')\n",
    "\n",
    "df_ext = df_ext.join(good_df.set_index('run'),on='run')\n",
    "\n",
    "df_ext_goodruns = df_ext.query(\"good==1\")\n",
    "df_ext_goodruns_pmtprecut = df_ext_goodruns.query(\"PassPMTPrecut==1\")\n",
    "\n",
    "print('Merged')\n",
    "\n",
    "# restrict to 5e19 run range\n",
    "#df_ext_goodruns_pmtprecut = df_ext_goodruns_pmtprecut.query('run>=5119 and run<=5955')"
   ]
  },
  {
   "cell_type": "code",
   "execution_count": 14,
   "metadata": {},
   "outputs": [
    {
     "name": "stdout",
     "output_type": "stream",
     "text": [
      "Saved Pickle\n",
      "Cleaned up\n"
     ]
    }
   ],
   "source": [
    "df_ext_goodruns_pmtprecut.to_pickle('../data/pickles/ext_goodruns_pmtprecut_%s.pkl'%tag)\n",
    "\n",
    "print('Saved Pickle')\n",
    "\n",
    "del df_ext,df_ext_goodruns,df_ext_goodruns_pmtprecut\n",
    "\n",
    "print('Cleaned up')"
   ]
  },
  {
   "cell_type": "code",
   "execution_count": 11,
   "metadata": {},
   "outputs": [
    {
     "data": {
      "text/plain": [
       "Index(['run', 'subrun', 'sec', 'msec', 'event', 'tor', 'horn', 'fom',\n",
       "       'trigger', 'result'],\n",
       "      dtype='object')"
      ]
     },
     "execution_count": 11,
     "metadata": {},
     "output_type": "execute_result"
    }
   ],
   "source": [
    "beamq_df.keys()"
   ]
  },
  {
   "cell_type": "markdown",
   "metadata": {},
   "source": [
    "# Data"
   ]
  },
  {
   "cell_type": "code",
   "execution_count": 21,
   "metadata": {},
   "outputs": [
    {
     "name": "stdout",
     "output_type": "stream",
     "text": [
      "Loaded files\n",
      "245023\n",
      "245023\n",
      "245023\n",
      "Merged\n"
     ]
    }
   ],
   "source": [
    "df_data = read_root('../data/mcc9jan_bnb5e19/FVV-Prime-data-sparsenet_NUMU.root')\n",
    "\n",
    "print('Loaded files')\n",
    "\n",
    "df_data = df_data.join(good_df.set_index('run'),on='run')\n",
    "df_data = df_data.join(beamq_df.set_index(['run','subrun','event']),on=['run','subrun','event'])\n",
    "\n",
    "df_data_goodruns = df_data.query(\"good==1 and result==1\")\n",
    "df_data_goodruns_pmtprecut = df_data_goodruns.query(\"PassPMTPrecut==1\")\n",
    "\n",
    "print('Merged')"
   ]
  },
  {
   "cell_type": "code",
   "execution_count": 22,
   "metadata": {},
   "outputs": [
    {
     "name": "stdout",
     "output_type": "stream",
     "text": [
      "Saved Pickle\n",
      "Cleaned up\n"
     ]
    }
   ],
   "source": [
    "df_data_goodruns_pmtprecut.to_pickle('../data/pickles/data_goodruns_pmtprecut_%s.pkl'%tag)\n",
    "\n",
    "print('Saved Pickle')\n",
    "\n",
    "del df_data,df_data_goodruns,df_data_goodruns_pmtprecut\n",
    "\n",
    "print('Cleaned up')"
   ]
  },
  {
   "cell_type": "code",
   "execution_count": 18,
   "metadata": {},
   "outputs": [
    {
     "data": {
      "text/plain": [
       "2086141"
      ]
     },
     "execution_count": 18,
     "metadata": {},
     "output_type": "execute_result"
    }
   ],
   "source": [
    "\n",
    "len(df_data)"
   ]
  },
  {
   "cell_type": "code",
   "execution_count": null,
   "metadata": {},
   "outputs": [],
   "source": []
  },
  {
   "cell_type": "code",
   "execution_count": 24,
   "metadata": {},
   "outputs": [],
   "source": [
    "df_data = read_root('../data/mcc9jan_bnb5e19/FVV-Prime-data-sparsenet_NUMU.root')"
   ]
  },
  {
   "cell_type": "code",
   "execution_count": 39,
   "metadata": {},
   "outputs": [
    {
     "name": "stdout",
     "output_type": "stream",
     "text": [
      "245023\n"
     ]
    }
   ],
   "source": [
    "print(len(df_data))"
   ]
  },
  {
   "cell_type": "code",
   "execution_count": 38,
   "metadata": {},
   "outputs": [
    {
     "name": "stdout",
     "output_type": "stream",
     "text": [
      "225888\n",
      "245023\n",
      "245023\n"
     ]
    }
   ],
   "source": [
    "df_data_1 = pd.merge(df_data,good_df,on='run')\n",
    "print(len(df_data_1))\n",
    "df_data_1b = df_data.set_index('run').join(good_df.set_index('run'))\n",
    "df_data_1b.reset_index(inplace=True)\n",
    "print(len(df_data_1b))\n",
    "df_data_1c = df_data.join(good_df.set_index('run'),on='run')\n",
    "print(len(df_data_1c))"
   ]
  },
  {
   "cell_type": "code",
   "execution_count": null,
   "metadata": {},
   "outputs": [],
   "source": [
    "print(len(df_data.query('PassCuts==1')))\n",
    "\n",
    "\n",
    "\n",
    "print('Merged')"
   ]
  },
  {
   "cell_type": "code",
   "execution_count": null,
   "metadata": {},
   "outputs": [],
   "source": []
  },
  {
   "cell_type": "code",
   "execution_count": null,
   "metadata": {},
   "outputs": [],
   "source": []
  },
  {
   "cell_type": "code",
   "execution_count": null,
   "metadata": {},
   "outputs": [],
   "source": []
  },
  {
   "cell_type": "code",
   "execution_count": null,
   "metadata": {},
   "outputs": [],
   "source": [
    "df_nue_goodruns_pmtprecut.insert(0,'leeweight',df_nue_goodruns_pmtprecut.apply(bless_leeweight,axis=1))"
   ]
  },
  {
   "cell_type": "markdown",
   "metadata": {},
   "source": [
    "# Get POT for mc"
   ]
  },
  {
   "cell_type": "code",
   "execution_count": 31,
   "metadata": {},
   "outputs": [
    {
     "name": "stdout",
     "output_type": "stream",
     "text": [
      "1.219190611900899e+21\n"
     ]
    }
   ],
   "source": [
    "df_pot = read_root('../data/mcc9_v13_bnb_overlay/pot_scrape.root','pot_tree',columns=['run', 'subrun','pot'])\n",
    "RS=['run','subrun']\n",
    "\n",
    "df_pot = pd.merge(df_numu_goodruns.query('passed==1'),df_pot,on=RS)\n",
    "df_pot.drop_duplicates(RS,inplace=True)\n",
    "print(df_pot['pot'].values.sum())"
   ]
  },
  {
   "cell_type": "code",
   "execution_count": 23,
   "metadata": {},
   "outputs": [],
   "source": [
    "# Get list of RS\n",
    "RS=['run','subrun']\n",
    "df_rs = df_data_goodruns.drop_duplicates(RS)\n",
    "\n",
    "f = open('../data/RS_data.txt','w')\n",
    "for e in range(len(df_rs)):\n",
    "    f.write('%i %i\\n' % (df_rs['run'].values[e], df_rs['subrun'].values[e]))\n",
    "f.close() "
   ]
  },
  {
   "cell_type": "code",
   "execution_count": null,
   "metadata": {},
   "outputs": [],
   "source": [
    "def bless_scedr(row):\n",
    "    scedr = float(-1)\n",
    "    dx = row['Xreco'] - row['parentSCEX']\n",
    "    dy = row['Yreco'] - row['parentSCEY']\n",
    "    dz = row['Zreco'] - row['parentSCEZ']\n",
    "    dr2 = dx*dx+dy*dy+dz*dz\n",
    "    dr = np.sqrt(dr2)\n",
    "\n",
    "    scedr = dr\n",
    "    return scedr\n"
   ]
  },
  {
   "cell_type": "code",
   "execution_count": null,
   "metadata": {},
   "outputs": [],
   "source": [
    "def bless_proton_dedx(row):\n",
    "    dedx = row['Proton_Edep']/float(row['Proton_TrackLength'])\n",
    "    return dedx\n",
    "\n",
    "def bless_proton_dedx_recombo(row):\n",
    "    \n",
    "    Rho = 1.383\n",
    "    betap = 0.183592\n",
    "    alpha = 0.921969\n",
    "\n",
    "    Wion = 23.6e-6\n",
    "    Efield = 0.273\n",
    "\n",
    "    dedx = (np.exp(row['Proton_dQdx']*(betap/(Rho*Efield))*Wion)-alpha)/(betap/(Rho*Efield))\n",
    "    return dedx"
   ]
  },
  {
   "cell_type": "code",
   "execution_count": null,
   "metadata": {},
   "outputs": [],
   "source": [
    "# restrict to 5e19 run range\n",
    "#df_nue_goodruns_pmtprecut = df_nue_goodruns_pmtprecut.query('run>=5119 and run<=5955')"
   ]
  }
 ],
 "metadata": {
  "kernelspec": {
   "display_name": "Python 3",
   "language": "python",
   "name": "python3"
  },
  "language_info": {
   "codemirror_mode": {
    "name": "ipython",
    "version": 3
   },
   "file_extension": ".py",
   "mimetype": "text/x-python",
   "name": "python",
   "nbconvert_exporter": "python",
   "pygments_lexer": "ipython3",
   "version": "3.6.9"
  }
 },
 "nbformat": 4,
 "nbformat_minor": 2
}
