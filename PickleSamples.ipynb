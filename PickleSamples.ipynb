{
 "cells": [
  {
   "cell_type": "code",
   "execution_count": 1,
   "metadata": {},
   "outputs": [
    {
     "name": "stdout",
     "output_type": "stream",
     "text": [
      "Welcome to JupyROOT 6.18/04\n"
     ]
    }
   ],
   "source": [
    "%matplotlib inline\n",
    "\n",
    "from ROOT import TFile,vector,TGraph\n",
    "import ROOT\n",
    "import matplotlib.pyplot as plt\n",
    "import pickle\n",
    "import pandas as pd\n",
    "import numpy as np\n",
    "from numpy import mean\n",
    "from math import sqrt,acos,cos,sin,pi,exp,log,isnan,atan2\n",
    "from xgboost import XGBClassifier\n",
    "from sklearn.model_selection import train_test_split\n",
    "from numpy import asarray\n",
    "from root_pandas import read_root\n",
    "from matplotlib import gridspec\n",
    "from scipy import stats"
   ]
  },
  {
   "cell_type": "code",
   "execution_count": 2,
   "metadata": {},
   "outputs": [],
   "source": [
    "def bless_tune1_reweight(row):\n",
    "    rw = float(1)\n",
    "    if row['nu_interaction_mode']==1001 and (row['nu_pdg']==14 or row['nu_pdg']==-14):\n",
    "        rw = xsec_tune1_graph_numu.Eval(row['MC_energyInit']) / xsec_mcc9_graph_numu.Eval(row['MC_energyInit'])\n",
    "    if row['nu_interaction_mode']==1001 and (row['nu_pdg']==12 or row['nu_pdg']==-12):\n",
    "        rw = xsec_tune1_graph_nue.Eval(row['MC_energyInit']) / xsec_mcc9_graph_nue.Eval(row['MC_energyInit'])\n",
    "    return rw\n",
    "\n",
    "def bless_MC_labels(row):\n",
    "    mclabel = ''\n",
    "    intlabel = ''\n",
    "    parentlabel = ''\n",
    "    pizero = [1090,1086,1090,1080,1015,1013,1011,1008,1006,1004]\n",
    "    piplusminus = [1085,1079,1032,1017,1014,1007,1005,1003,1028,1021,1016,1012,1010,1009]\n",
    "        \n",
    "    if abs(row['nu_pdg']) == 12:\n",
    "        intlabel = 'nue'\n",
    "    elif abs(row['nu_pdg']) == 14:\n",
    "        intlabel = 'numu'\n",
    "    \n",
    "    if not 0 < row['MC_scedr'] <= 5.0 :\n",
    "        mclabel = 'offvtx'\n",
    "    else:\n",
    "        if row['nu_interaction_type'] == 1001:\n",
    "            mclabel = 'CCQE'\n",
    "        elif row['nu_interaction_type'] == 1000:\n",
    "            mclabel = 'MEC'\n",
    "        elif row['nu_interaction_type'] in pizero:\n",
    "            mclabel = 'pizero'\n",
    "        elif row['nu_interaction_type'] in piplusminus:\n",
    "            mclabel = 'piplusminus' \n",
    "        else:\n",
    "            mclabel = 'other'\n",
    "            \n",
    "    return '%s_%s'%(intlabel,mclabel)"
   ]
  },
  {
   "cell_type": "code",
   "execution_count": 3,
   "metadata": {},
   "outputs": [],
   "source": [
    "# Time to load the good runs list\n",
    "good_df = pd.read_csv('../data/goodruns_2020.txt')\n",
    "good_df['good'] = 1\n",
    "\n",
    "RSE=['run','subrun','event']"
   ]
  },
  {
   "cell_type": "code",
   "execution_count": 4,
   "metadata": {},
   "outputs": [],
   "source": [
    "xsec_mcc9_file = ROOT.TFile('../data/xsec_graphs_mcc9_broken.root')\n",
    "xsec_mcc9_graph_numu = xsec_mcc9_file.Get('nu_mu_Ar40/qel_cc_n')\n",
    "xsec_mcc9_graph_nue = xsec_mcc9_file.Get('nu_e_Ar40/qel_cc_n')\n",
    "xsec_tune1_file = ROOT.TFile('../data/xsec_graphs_tune1.root')\n",
    "xsec_tune1_graph_numu = xsec_tune1_file.Get('nu_mu_Ar40/qel_cc_n')\n",
    "xsec_tune1_graph_nue = xsec_tune1_file.Get('nu_e_Ar40/qel_cc_n')"
   ]
  },
  {
   "cell_type": "code",
   "execution_count": 5,
   "metadata": {},
   "outputs": [],
   "source": [
    "# Beam quality\n",
    "beamq_df = read_root('../data/beamdataquality_remix_bnb5e19.root','bdq')"
   ]
  },
  {
   "cell_type": "code",
   "execution_count": 6,
   "metadata": {},
   "outputs": [],
   "source": [
    "tag = 'Feb21-final'"
   ]
  },
  {
   "cell_type": "markdown",
   "metadata": {},
   "source": [
    "# MC BNB OVERLAY"
   ]
  },
  {
   "cell_type": "code",
   "execution_count": 7,
   "metadata": {},
   "outputs": [
    {
     "name": "stdout",
     "output_type": "stream",
     "text": [
      "Loaded Files\n",
      "Merged\n",
      "Genie Reweighted\n",
      "MC Labeled\n"
     ]
    }
   ],
   "source": [
    "df_bnb = read_root('../data/mcc9_v13_bnb_overlay/FVV-Prime-bnb-feb13-allclean.root')\n",
    "df_bnb_cvweight = read_root('../data/mcc9_v13_bnb_overlay/weights_forCV_v33_bnb_nu_run1.root')\n",
    "\n",
    "print('Loaded Files')\n",
    "\n",
    "df_bnb = df_bnb.join(good_df.set_index('run'),on='run')\n",
    "df_bnb = df_bnb.join(df_bnb_cvweight.set_index(RSE)[['nu_interaction_mode','nu_interaction_type','xsec_corr_weight','spline_weight','nu_interaction_ccnc','nu_pdg']],on=RSE)\n",
    "\n",
    "# remove nue cc events\n",
    "df_numu = df_bnb.query('not (nu_interaction_ccnc==0 and abs(nu_pdg)==12)')\n",
    "df_numu_goodruns = df_numu.query(\"good==1\")\n",
    "df_numu_goodruns_precuts = df_numu_goodruns.query(\"PassPMTPrecut==1 and PassSimpleCuts==1\")\n",
    "\n",
    "print('Merged')\n",
    "\n",
    "df_numu_goodruns_precuts.insert(0,'xsec_tune1_weight',df_numu_goodruns_precuts.apply(bless_tune1_reweight,axis=1))\n",
    "\n",
    "print('Genie Reweighted')\n",
    "\n",
    "df_numu_goodruns_precuts.insert(0,'mc_label',df_numu_goodruns_precuts.apply(bless_MC_labels,axis=1))\n",
    "\n",
    "print ('MC Labeled')"
   ]
  },
  {
   "cell_type": "code",
   "execution_count": 8,
   "metadata": {},
   "outputs": [
    {
     "name": "stdout",
     "output_type": "stream",
     "text": [
      "Saved Parquet\n",
      "Cleaned up\n"
     ]
    }
   ],
   "source": [
    "df_numu_goodruns_precuts.to_parquet('../data/pickles/numu_goodruns_precuts_%s.parquet'%tag)\n",
    "\n",
    "print('Saved Parquet')\n",
    "\n",
    "del df_bnb,df_bnb_cvweight,df_numu_goodruns_precuts\n",
    "\n",
    "print('Cleaned up')"
   ]
  },
  {
   "cell_type": "markdown",
   "metadata": {},
   "source": [
    "# DIRT"
   ]
  },
  {
   "cell_type": "code",
   "execution_count": 9,
   "metadata": {},
   "outputs": [
    {
     "name": "stdout",
     "output_type": "stream",
     "text": [
      "Loaded Files\n",
      "Merged\n"
     ]
    }
   ],
   "source": [
    "df_dirt = read_root('../data/mcc9_v13_overlay_dirt_run1/FVV-Prime-dirt-Feb21.root')\n",
    "df_weights_dirt = read_root('../data/mcc9_v13_overlay_dirt_run1/weights_forCV_v33_dirt_nu_run1.root')\n",
    "\n",
    "print('Loaded Files')\n",
    "\n",
    "df_dirt = df_dirt.join(good_df.set_index('run'),on='run')\n",
    "df_dirt = df_dirt.join(df_weights_dirt.set_index(RSE)[['nu_interaction_mode','xsec_corr_weight','spline_weight','nu_pdg']],on=RSE)\n",
    "\n",
    "df_dirt_goodruns = df_dirt.query(\"good==1\")\n",
    "df_dirt_goodruns_precuts = df_dirt_goodruns.query(\"PassPMTPrecut==1 and PassSimpleCuts==1\")\n",
    "\n",
    "print('Merged')\n",
    "\n",
    "df_dirt_goodruns_precuts.insert(0,'xsec_tune1_weight',df_dirt_goodruns_precuts.apply(bless_tune1_reweight,axis=1))\n",
    "df_dirt_goodruns_precuts.insert(0,'mc_label',df_dirt_goodruns_precuts.apply(bless_MC_labels,axis=1))"
   ]
  },
  {
   "cell_type": "code",
   "execution_count": 10,
   "metadata": {},
   "outputs": [
    {
     "name": "stdout",
     "output_type": "stream",
     "text": [
      "Saved parquet\n",
      "Cleaned up\n"
     ]
    }
   ],
   "source": [
    "df_dirt_goodruns_precuts.to_parquet('../data/pickles/dirt_goodruns_precuts_%s.parquet'%tag)\n",
    "\n",
    "print('Saved parquet')\n",
    "\n",
    "del df_dirt, df_dirt_goodruns,df_dirt_goodruns_precuts\n",
    "\n",
    "print('Cleaned up')"
   ]
  },
  {
   "cell_type": "markdown",
   "metadata": {},
   "source": [
    "# MC NUE OVERLAY"
   ]
  },
  {
   "cell_type": "code",
   "execution_count": 11,
   "metadata": {},
   "outputs": [
    {
     "name": "stdout",
     "output_type": "stream",
     "text": [
      "Loaded Files\n",
      "Merged\n"
     ]
    }
   ],
   "source": [
    "df_nue = read_root('../data/mcc9_v13_nueintrinsic_overlay/FVV-Prime-nue-Feb13-allclean.root')\n",
    "df_nue_cvweights = read_root('../data/mcc9_v13_nueintrinsic_overlay/weights_forCV_v33_intrinsic_nue_run1.root')\n",
    "\n",
    "print('Loaded Files')\n",
    "\n",
    "df_nue = df_nue.join(good_df.set_index('run'),on='run')\n",
    "df_nue = df_nue.join(df_nue_cvweights.set_index(RSE)[['nu_interaction_mode','nu_interaction_type','xsec_corr_weight','spline_weight','nu_pdg']],on=RSE)\n",
    "\n",
    "df_nue_goodruns = df_nue.query(\"good==1\")\n",
    "df_nue_goodruns_precuts = df_nue_goodruns.query(\"PassPMTPrecut==1 and PassSimpleCuts==1\")\n",
    "\n",
    "print('Merged')\n",
    "\n",
    "df_nue_goodruns_precuts.insert(0,'xsec_tune1_weight',df_nue_goodruns_precuts.apply(bless_tune1_reweight,axis=1))\n",
    "df_nue_goodruns_precuts.insert(0,'mc_label',df_nue_goodruns_precuts.apply(bless_MC_labels,axis=1))"
   ]
  },
  {
   "cell_type": "code",
   "execution_count": 12,
   "metadata": {},
   "outputs": [
    {
     "name": "stdout",
     "output_type": "stream",
     "text": [
      "Saved Parquet\n",
      "Cleaned up\n"
     ]
    }
   ],
   "source": [
    "df_nue_goodruns_precuts.to_parquet('../data/pickles/nue_goodruns_precuts_%s.parquet'%tag)\n",
    "\n",
    "print('Saved Parquet')\n",
    "\n",
    "del df_nue,df_nue_goodruns_precuts,df_nue_cvweights\n",
    "\n",
    "print('Cleaned up')"
   ]
  },
  {
   "cell_type": "markdown",
   "metadata": {},
   "source": [
    "# EXT"
   ]
  },
  {
   "cell_type": "code",
   "execution_count": 13,
   "metadata": {},
   "outputs": [
    {
     "name": "stdout",
     "output_type": "stream",
     "text": [
      "Loaded files\n",
      "Merged\n"
     ]
    }
   ],
   "source": [
    "df_ext = read_root('../data/mcc9jan_extbnb/FVV-Prime-ext-Feb13-allclean.root')\n",
    "\n",
    "print('Loaded files')\n",
    "\n",
    "df_ext = df_ext.join(good_df.set_index('run'),on='run')\n",
    "\n",
    "df_ext_goodruns = df_ext.query(\"good==1\")\n",
    "df_ext_goodruns_precuts = df_ext_goodruns.query(\"PassPMTPrecut==1 and PassSimpleCuts==1\")\n",
    "\n",
    "print('Merged')\n",
    "\n",
    "# restrict to 5e19 run range\n",
    "#df_ext_goodruns_pmtprecut = df_ext_goodruns_pmtprecut.query('run>=5119 and run<=5955')"
   ]
  },
  {
   "cell_type": "code",
   "execution_count": 14,
   "metadata": {},
   "outputs": [
    {
     "name": "stdout",
     "output_type": "stream",
     "text": [
      "Saved Parquet\n",
      "Cleaned up\n"
     ]
    }
   ],
   "source": [
    "df_ext_goodruns_precuts.to_parquet('../data/pickles/ext_goodruns_precuts_%s.parquet'%tag)\n",
    "\n",
    "print('Saved Parquet')\n",
    "\n",
    "del df_ext,df_ext_goodruns,df_ext_goodruns_precuts\n",
    "\n",
    "print('Cleaned up')"
   ]
  },
  {
   "cell_type": "markdown",
   "metadata": {},
   "source": [
    "# Data"
   ]
  },
  {
   "cell_type": "code",
   "execution_count": 15,
   "metadata": {},
   "outputs": [
    {
     "name": "stdout",
     "output_type": "stream",
     "text": [
      "Loaded files\n",
      "Merged\n"
     ]
    }
   ],
   "source": [
    "df_data = read_root('../data/mcc9jan_bnb5e19/FVV-Prime-data-Feb21.root')\n",
    "\n",
    "print('Loaded files')\n",
    "\n",
    "df_data = df_data.join(good_df.set_index('run'),on='run')\n",
    "df_data = df_data.join(beamq_df.set_index(['run','subrun','event']),on=['run','subrun','event'])\n",
    "\n",
    "df_data_goodruns = df_data.query(\"good==1 and result==1\")\n",
    "df_data_goodruns_precuts = df_data_goodruns.query(\"PassPMTPrecut==1 and PassSimpleCuts==1\")\n",
    "\n",
    "print('Merged')"
   ]
  },
  {
   "cell_type": "code",
   "execution_count": 16,
   "metadata": {},
   "outputs": [
    {
     "name": "stdout",
     "output_type": "stream",
     "text": [
      "Saved Parquet\n",
      "Cleaned up\n"
     ]
    }
   ],
   "source": [
    "df_data_goodruns_precuts.to_parquet('../data/pickles/data_goodruns_precuts_%s.parquet'%tag)\n",
    "\n",
    "print('Saved Parquet')\n",
    "\n",
    "del df_data,df_data_goodruns,df_data_goodruns_precuts\n",
    "\n",
    "print('Cleaned up')"
   ]
  },
  {
   "cell_type": "markdown",
   "metadata": {},
   "source": [
    "# Get POT for mc"
   ]
  },
  {
   "cell_type": "code",
   "execution_count": null,
   "metadata": {},
   "outputs": [],
   "source": [
    "df_pot = read_root('../data/mcc9_v13_bnb_overlay/old/pot_scrape.root','pot_tree',columns=['run', 'subrun','pot'])\n",
    "RS=['run','subrun']\n",
    "\n",
    "df_pot = pd.merge(df_numu_goodruns,df_pot,on=RS)\n",
    "df_pot.drop_duplicates(RS,inplace=True)\n",
    "print(df_pot['pot'].values.sum())"
   ]
  },
  {
   "cell_type": "code",
   "execution_count": null,
   "metadata": {},
   "outputs": [],
   "source": [
    "# Get list of RS\n",
    "RS=['run','subrun']\n",
    "df_rs = df_data_goodruns.drop_duplicates(RS)\n",
    "\n",
    "f = open('../data/RS_data.txt','w')\n",
    "for e in range(len(df_rs)):\n",
    "    f.write('%i %i\\n' % (df_rs['run'].values[e], df_rs['subrun'].values[e]))\n",
    "f.close() "
   ]
  },
  {
   "cell_type": "code",
   "execution_count": null,
   "metadata": {},
   "outputs": [],
   "source": [
    "def bless_scedr(row):\n",
    "    scedr = float(-1)\n",
    "    dx = row['Xreco'] - row['parentSCEX']\n",
    "    dy = row['Yreco'] - row['parentSCEY']\n",
    "    dz = row['Zreco'] - row['parentSCEZ']\n",
    "    dr2 = dx*dx+dy*dy+dz*dz\n",
    "    dr = np.sqrt(dr2)\n",
    "\n",
    "    scedr = dr\n",
    "    return scedr\n"
   ]
  },
  {
   "cell_type": "code",
   "execution_count": null,
   "metadata": {},
   "outputs": [],
   "source": [
    "def bless_proton_dedx(row):\n",
    "    dedx = row['Proton_Edep']/float(row['Proton_TrackLength'])\n",
    "    return dedx\n",
    "\n",
    "def bless_proton_dedx_recombo(row):\n",
    "    \n",
    "    Rho = 1.383\n",
    "    betap = 0.183592\n",
    "    alpha = 0.921969\n",
    "\n",
    "    Wion = 23.6e-6\n",
    "    Efield = 0.273\n",
    "\n",
    "    dedx = (np.exp(row['Proton_dQdx']*(betap/(Rho*Efield))*Wion)-alpha)/(betap/(Rho*Efield))\n",
    "    return dedx"
   ]
  },
  {
   "cell_type": "code",
   "execution_count": null,
   "metadata": {},
   "outputs": [],
   "source": [
    "# restrict to 5e19 run range\n",
    "#df_nue_goodruns_pmtprecut = df_nue_goodruns_pmtprecut.query('run>=5119 and run<=5955')"
   ]
  }
 ],
 "metadata": {
  "kernelspec": {
   "display_name": "Python 3",
   "language": "python",
   "name": "python3"
  },
  "language_info": {
   "codemirror_mode": {
    "name": "ipython",
    "version": 3
   },
   "file_extension": ".py",
   "mimetype": "text/x-python",
   "name": "python",
   "nbconvert_exporter": "python",
   "pygments_lexer": "ipython3",
   "version": "3.6.9"
  }
 },
 "nbformat": 4,
 "nbformat_minor": 2
}
