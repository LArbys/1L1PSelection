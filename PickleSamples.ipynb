{
 "cells": [
  {
   "cell_type": "code",
   "execution_count": 1,
   "metadata": {},
   "outputs": [
    {
     "name": "stdout",
     "output_type": "stream",
     "text": [
      "Welcome to JupyROOT 6.12/06\n"
     ]
    },
    {
     "name": "stderr",
     "output_type": "stream",
     "text": [
      "/usr/local/lib/python2.7/dist-packages/root_numpy/__init__.py:46: RuntimeWarning: numpy 1.16.3 is currently installed but you installed root_numpy against numpy 1.14.3. Please consider reinstalling root_numpy for this numpy version.\n",
      "  RuntimeWarning)\n"
     ]
    }
   ],
   "source": [
    "%matplotlib inline\n",
    "\n",
    "from ROOT import TFile,vector,TGraph\n",
    "import ROOT\n",
    "import matplotlib.pyplot as plt\n",
    "import pickle\n",
    "import pandas as pd\n",
    "import numpy as np\n",
    "from numpy import mean\n",
    "from math import sqrt,acos,cos,sin,pi,exp,log,isnan,atan2\n",
    "from xgboost import XGBClassifier\n",
    "from sklearn.model_selection import train_test_split\n",
    "from numpy import asarray\n",
    "from root_pandas import read_root\n",
    "from matplotlib import gridspec\n",
    "from scipy import stats"
   ]
  },
  {
   "cell_type": "code",
   "execution_count": 2,
   "metadata": {},
   "outputs": [],
   "source": [
    "def bless_mcinfo(row):\n",
    "    try:\n",
    "        idx = tuple((row['run'],row['subrun'],row['event']))\n",
    "        if MCInfo[idx]['nuPDG'] in [12,-12]:\n",
    "            return 0\n",
    "        else:\n",
    "            return 1\n",
    "    except:\n",
    "        return 0\n",
    "\n",
    "def bless_scedr(row):\n",
    "    scedr = float(-1)\n",
    "    dx = row['Xreco'] - row['parentSCEX']\n",
    "    dy = row['Yreco'] - row['parentSCEY']\n",
    "    dz = row['Zreco'] - row['parentSCEZ']\n",
    "    dr2 = dx*dx+dy*dy+dz*dz\n",
    "    dr = np.sqrt(dr2)\n",
    "\n",
    "    scedr = dr\n",
    "    return scedr\n",
    "\n",
    "def bless_ccqe_reweight_numu(row):\n",
    "    rw = float(1)\n",
    "    if row['interactionType']==1001:\n",
    "        rw = xsec_tune1_graph_numu.Eval(row['energyInit']) / xsec_mcc9_graph_numu.Eval(row['energyInit'])\n",
    "    return rw\n",
    "\n",
    "def bless_ccqe_reweight_nue(row):\n",
    "    rw = float(1)\n",
    "    if row['interactionType']==1001:\n",
    "        rw = xsec_tune1_graph_nue.Eval(row['energyInit']) / xsec_mcc9_graph_nue.Eval(row['energyInit'])\n",
    "    return rw\n"
   ]
  },
  {
   "cell_type": "code",
   "execution_count": 3,
   "metadata": {},
   "outputs": [],
   "source": [
    "# Time to load the good runs list\n",
    "good_df = pd.read_csv('../data/goodruns_intersec_all_runs.txt')\n",
    "good_df['good'] = 1\n",
    "\n",
    "# loat pmt precuts\n",
    "df_pmtprecut_bnb = read_root('../data/mcc9_v13_bnb_overlay/pmt_precut_dump.root')\n",
    "df_pmtprecut_nue = read_root('../data/mcc9_v13_nueintrinsic_overlay/pmt_precut_dump.root')\n",
    "df_pmtprecut_ext = read_root('../data/mcc9jan_extbnb/pmt_precut_dump.root')\n",
    "df_pmtprecut_data = read_root('../data/mcc9jan_bnb5e19/pmt_precut_dump.root')\n",
    "\n",
    "RSE=['run','subrun','event']"
   ]
  },
  {
   "cell_type": "code",
   "execution_count": 4,
   "metadata": {},
   "outputs": [],
   "source": [
    "df_bnb = read_root('../data/mcc9_v13_bnb_overlay/FinalVertexVariables-prime_vOct31_FULL.root')\n",
    "df_bnb_truth = read_root('../data/mcc9_v13_bnb_overlay/MCInfo.root','EventMCINFO_DL')\n",
    "\n",
    "# merge dfs\n",
    "df_bnb = pd.merge(df_bnb,df_bnb_truth,on=RSE)\n",
    "df_bnb = pd.merge(df_bnb,good_df,on='run')\n",
    "df_bnb = pd.merge(df_bnb,df_pmtprecut_bnb,on=RSE)\n",
    "\n",
    "df_numu = df_bnb.query('parentPDG==14 or parentPDG==-14')\n",
    "df_numu_goodruns = df_numu.query(\"good==1\")\n",
    "df_numu_goodruns_pmtprecut = df_numu_goodruns.query(\"passed==1\")\n",
    "\n",
    "# restrict to 5e19 run range\n",
    "#df_numu_goodruns_pmtprecut = df_numu_goodruns_pmtprecut.query('run>=5119 and run<=5955')"
   ]
  },
  {
   "cell_type": "code",
   "execution_count": 5,
   "metadata": {},
   "outputs": [],
   "source": [
    "df_nue = read_root('../data/mcc9_v13_nueintrinsic_overlay/FinalVertexVariables-prime_vOct31_FULL.root')\n",
    "df_nue_truth = read_root('../data/mcc9_v13_nueintrinsic_overlay/mc_info_mcc9_v13_nueintrinsics_overlay_run1.root','EventMCINFO_DL')\n",
    "\n",
    "df_nue = pd.merge(df_nue,df_nue_truth,on=RSE)\n",
    "df_nue = pd.merge(df_nue,good_df,on='run')\n",
    "df_nue = pd.merge(df_nue,df_pmtprecut_nue,on=RSE)\n",
    "\n",
    "df_nue_goodruns = df_nue.query(\"good==1\")\n",
    "df_nue_goodruns_pmtprecut = df_nue_goodruns.query(\"passed==1\")\n",
    "\n",
    "# restrict to 5e19 run range\n",
    "#df_nue_goodruns_pmtprecut = df_nue_goodruns_pmtprecut.query('run>=5119 and run<=5955')"
   ]
  },
  {
   "cell_type": "code",
   "execution_count": 6,
   "metadata": {},
   "outputs": [],
   "source": [
    "df_ext = read_root('../data/mcc9jan_extbnb/FinalVertexVariables-prime_vOct31_FULL.root')\n",
    "\n",
    "df_ext = pd.merge(df_ext,good_df,on='run')\n",
    "df_ext = pd.merge(df_ext,df_pmtprecut_ext,on=RSE)\n",
    "\n",
    "df_ext_goodruns = df_ext.query(\"good==1\")\n",
    "df_ext_goodruns_pmtprecut = df_ext_goodruns.query(\"passed==1\")\n",
    "\n",
    "# restrict to 5e19 run range\n",
    "#df_ext_goodruns_pmtprecut = df_ext_goodruns_pmtprecut.query('run>=5119 and run<=5955')"
   ]
  },
  {
   "cell_type": "code",
   "execution_count": 7,
   "metadata": {},
   "outputs": [],
   "source": [
    "df_data = read_root('../data/mcc9jan_bnb5e19/FinalVertexVariables-prime_vOct31_FULL.root')\n",
    "\n",
    "df_data = pd.merge(df_data,good_df,on='run')\n",
    "df_data = pd.merge(df_data,df_pmtprecut_data,on=RSE)\n",
    "\n",
    "df_data_goodruns = df_data.query(\"good==1\")\n",
    "df_data_goodruns_pmtprecut = df_data_goodruns.query(\"passed==1\")"
   ]
  },
  {
   "cell_type": "code",
   "execution_count": 8,
   "metadata": {},
   "outputs": [],
   "source": [
    "df_numu_goodruns_pmtprecut.insert(0,'scedir_corrected',df_numu_goodruns_pmtprecut.apply(bless_scedr,axis=1))"
   ]
  },
  {
   "cell_type": "code",
   "execution_count": 9,
   "metadata": {},
   "outputs": [],
   "source": [
    "df_nue_goodruns_pmtprecut.insert(0,'scedir_corrected',df_nue_goodruns_pmtprecut.apply(bless_scedr,axis=1))"
   ]
  },
  {
   "cell_type": "code",
   "execution_count": 10,
   "metadata": {},
   "outputs": [],
   "source": [
    "xsec_mcc9_file = ROOT.TFile('../data/xsec_graphs_mcc9_broken.root')\n",
    "xsec_mcc9_graph_numu = xsec_mcc9_file.Get('nu_mu_Ar40/qel_cc_n')\n",
    "xsec_mcc9_graph_nue = xsec_mcc9_file.Get('nu_e_Ar40/qel_cc_n')\n",
    "xsec_tune1_file = ROOT.TFile('../data/xsec_graphs_tune1.root')\n",
    "xsec_tune1_graph_numu = xsec_tune1_file.Get('nu_mu_Ar40/qel_cc_n')\n",
    "xsec_tune1_graph_nue = xsec_tune1_file.Get('nu_e_Ar40/qel_cc_n')"
   ]
  },
  {
   "cell_type": "code",
   "execution_count": 11,
   "metadata": {},
   "outputs": [],
   "source": [
    "df_numu_goodruns_pmtprecut.insert(0,'geniereweight',df_numu_goodruns_pmtprecut.apply(bless_ccqe_reweight_numu,axis=1))"
   ]
  },
  {
   "cell_type": "code",
   "execution_count": 12,
   "metadata": {},
   "outputs": [],
   "source": [
    "df_nue_goodruns_pmtprecut.insert(0,'geniereweight',df_nue_goodruns_pmtprecut.apply(bless_ccqe_reweight_nue,axis=1))"
   ]
  },
  {
   "cell_type": "code",
   "execution_count": 13,
   "metadata": {},
   "outputs": [],
   "source": [
    "tag = 'Oct31_fullrange'\n",
    "df_data_goodruns_pmtprecut.to_pickle('../data/pickles/data_goodruns_pmtprecut_%s.pkl'%tag)\n",
    "df_numu_goodruns_pmtprecut.to_pickle('../data/pickles/numu_goodruns_pmtprecut_%s.pkl'%tag)\n",
    "df_nue_goodruns_pmtprecut.to_pickle('../data/pickles/nue_goodruns_pmtprecut_%s.pkl'%tag)\n",
    "df_ext_goodruns_pmtprecut.to_pickle('../data/pickles/ext_goodruns_pmtprecut_%s.pkl'%tag)"
   ]
  },
  {
   "cell_type": "markdown",
   "metadata": {},
   "source": [
    "# Get POT for mc"
   ]
  },
  {
   "cell_type": "code",
   "execution_count": null,
   "metadata": {},
   "outputs": [],
   "source": [
    "df_pot = read_root('../data/mcc9_v13_nueintrinsic_overlay/pot_scrape.root','pot_tree',columns=['run', 'subrun','pot'])\n",
    "RS=['run','subrun']\n",
    "\n",
    "df_pot = pd.merge(df_nue_goodruns_pmtprecut.query('run>=5119 and run<=5955'),df_pot,on=RS)\n",
    "df_pot.drop_duplicates(RS,inplace=True)\n",
    "print df_pot['pot'].values.sum()"
   ]
  },
  {
   "cell_type": "code",
   "execution_count": null,
   "metadata": {},
   "outputs": [],
   "source": [
    "# Get list of RS\n",
    "RS=['run','subrun']\n",
    "df_rs = df_ext_goodruns.drop_duplicates(RS)\n",
    "\n",
    "f = open('RS_mcc9_ext_goodruns.txt','w')\n",
    "for e in xrange(0,len(df_rs)):\n",
    "    f.write('%i %i\\n' % (df_rs['run'].values[e], df_rs['subrun'].values[e]))\n",
    "f.close()    \n",
    "\n",
    "print len(df_rs),'%i %i\\n' % (df_rs['run'].values[-1], df_rs['subrun'].values[-1])"
   ]
  }
 ],
 "metadata": {
  "kernelspec": {
   "display_name": "Python 2",
   "language": "python",
   "name": "python2"
  },
  "language_info": {
   "codemirror_mode": {
    "name": "ipython",
    "version": 2
   },
   "file_extension": ".py",
   "mimetype": "text/x-python",
   "name": "python",
   "nbconvert_exporter": "python",
   "pygments_lexer": "ipython2",
   "version": "2.7.15+"
  }
 },
 "nbformat": 4,
 "nbformat_minor": 2
}
