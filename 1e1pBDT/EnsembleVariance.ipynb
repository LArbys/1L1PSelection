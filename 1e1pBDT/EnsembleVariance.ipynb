{
 "cells": [
  {
   "cell_type": "code",
   "execution_count": 1,
   "metadata": {},
   "outputs": [
    {
     "name": "stdout",
     "output_type": "stream",
     "text": [
      "Welcome to JupyROOT 6.16/00\n"
     ]
    }
   ],
   "source": [
    "import numpy as np\n",
    "import pandas as pd\n",
    "import matplotlib.pyplot as plt\n",
    "import scipy.stats\n",
    "from matplotlib.colors import LogNorm\n",
    "import pickle as pkl\n",
    "\n",
    "from SelectionHelper import MakeAvgBDTcut\n"
   ]
  },
  {
   "cell_type": "code",
   "execution_count": 2,
   "metadata": {},
   "outputs": [],
   "source": [
    "intrin1 = pd.read_parquet('Parquets/3March2021_vA_fullLowE_withPi0Sample_newShowerCalib/SelectionMode0_intrinsics_run1_r23swap.parquet.gzip')\n",
    "intrin2 = pd.read_parquet('Parquets/3March2021_vA_fullLowE_withPi0Sample_newShowerCalib/SelectionMode0_intrinsics_run2_r23swap.parquet.gzip')\n",
    "intrin3 = pd.read_parquet('Parquets/3March2021_vA_fullLowE_withPi0Sample_newShowerCalib/SelectionMode0_intrinsics_run3_r23swap.parquet.gzip')\n",
    "\n",
    "ovr2 = pd.read_parquet('Parquets/3March2021_vA_fullLowE_withPi0Sample_newShowerCalib/SelectionMode0_overlay_run2_r23swap.parquet.gzip')\n",
    "ovr3 = pd.read_parquet('Parquets/3March2021_vA_fullLowE_withPi0Sample_newShowerCalib/SelectionMode0_overlay_run3_r23swap.parquet.gzip')\n",
    "ncpi03 = pd.read_parquet('Parquets/3March2021_vA_fullLowE_withPi0Sample_newShowerCalib/SelectionMode0_ncpi0_run3_r23swap.parquet.gzip')\n",
    "ccpi03 = pd.read_parquet('Parquets/3March2021_vA_fullLowE_withPi0Sample_newShowerCalib/SelectionMode0_ccpi0_run3_r23swap.parquet.gzip')\n",
    "\n",
    "DAT_POT1 = 1.631e+20\n",
    "DAT_POT2 = 2.750e+20\n",
    "DAT_POT3 = 2.291e+20\n",
    "ovr2['weights'] = ovr2['GenieWeight'] * ovr2['POTweight']**(-1) * DAT_POT2\n",
    "ovr3['weights'] = ovr3['GenieWeight'] * ovr3['POTweight']**(-1) * DAT_POT3\n",
    "ncpi03['weights'] = ncpi03['GenieWeight'] * ncpi03['POTweight']**(-1) * DAT_POT3\n",
    "ccpi03['weights'] = ccpi03['GenieWeight'] * ccpi03['POTweight']**(-1) * DAT_POT3\n"
   ]
  },
  {
   "cell_type": "code",
   "execution_count": 3,
   "metadata": {},
   "outputs": [],
   "source": [
    "cuts = 'Enu_1e1p<1200 and \\\n",
    "        Enu_1e1p>200'\n",
    "intrin = pd.concat((intrin2,intrin3)).query(cuts+'and label==\\'nue_ccqe\\'')\n",
    "bkg = pd.concat((ovr2,ovr3,ncpi03,ccpi03)).query(cuts)\n",
    "MakeAvgBDTcut(intrin,0.95,20)\n",
    "MakeAvgBDTcut(bkg,0.95,20)"
   ]
  },
  {
   "cell_type": "code",
   "execution_count": 4,
   "metadata": {},
   "outputs": [
    {
     "name": "stdout",
     "output_type": "stream",
     "text": [
      "665\n"
     ]
    }
   ],
   "source": [
    "N = 10\n",
    "samps = len(intrin)/N\n",
    "print(samps)\n",
    "fsel_ensemble = []\n",
    "fsel_single = []\n",
    "for i in range(N):\n",
    "    intrin_subset = intrin.sample(n=samps,random_state=i)\n",
    "    fsel_ensemble.append(len(intrin_subset.query('sigprobavg>0.95'))/float(samps))\n",
    "    fsel_single.append(len(intrin_subset.query('sigprob0>0.95'))/float(samps))\n",
    "    \n",
    "    "
   ]
  },
  {
   "cell_type": "code",
   "execution_count": 5,
   "metadata": {},
   "outputs": [
    {
     "name": "stdout",
     "output_type": "stream",
     "text": [
      "0.017177777386919064\n",
      "0.0191515434284908\n"
     ]
    },
    {
     "data": {
      "image/png": "[encoded data removed]",
      "text/plain": [
       "<Figure size 432x288 with 1 Axes>"
      ]
     },
     "metadata": {
      "needs_background": "light"
     },
     "output_type": "display_data"
    }
   ],
   "source": [
    "plt.hist(fsel_ensemble,range=(0.3,0.7),bins=20,alpha=0.5,label='ensemble')\n",
    "plt.hist(fsel_single,range=(0.3,0.7),bins=20,alpha=0.5,label='single')\n",
    "print(np.std(fsel_ensemble))\n",
    "print(np.std(fsel_single))\n",
    "plt.legend()\n",
    "plt.show()"
   ]
  },
  {
   "cell_type": "code",
   "execution_count": 6,
   "metadata": {},
   "outputs": [
    {
     "name": "stdout",
     "output_type": "stream",
     "text": [
      "638\n"
     ]
    }
   ],
   "source": [
    "N = 10\n",
    "samps = len(bkg)/N\n",
    "print(samps)\n",
    "fsel_ensemble = []\n",
    "fsel_single = []\n",
    "for i in range(N):\n",
    "    bkg_subset = bkg.sample(n=samps,random_state=i)\n",
    "    fsel_ensemble.append(len(bkg_subset.query('sigprobavg>0.1'))/float(samps))\n",
    "    fsel_single.append(len(bkg_subset.query('sigprob0>0.1'))/float(samps))\n"
   ]
  },
  {
   "cell_type": "code",
   "execution_count": 7,
   "metadata": {},
   "outputs": [
    {
     "name": "stdout",
     "output_type": "stream",
     "text": [
      "0.014593646519127713\n",
      "0.014471932063181338\n"
     ]
    },
    {
     "data": {
      "image/png": "[encoded data removed]",
      "text/plain": [
       "<Figure size 432x288 with 1 Axes>"
      ]
     },
     "metadata": {
      "needs_background": "light"
     },
     "output_type": "display_data"
    }
   ],
   "source": [
    "plt.hist(fsel_ensemble,range=(0.0,0.15),bins=20,alpha=0.5,label='ensemble')\n",
    "plt.hist(fsel_single,range=(0.0,0.15),bins=20,alpha=0.5,label='single')\n",
    "print(np.std(fsel_ensemble))\n",
    "print(np.std(fsel_single))\n",
    "plt.legend()\n",
    "plt.show()"
   ]
  },
  {
   "cell_type": "code",
   "execution_count": 9,
   "metadata": {},
   "outputs": [
    {
     "name": "stdout",
     "output_type": "stream",
     "text": [
      "\n",
      "\n",
      " #################### RUN 1 #################### \n",
      "\n",
      "Sample: data\n",
      "5462\n",
      "Sample: dirt\n",
      "No Events\n",
      "Sample: ext\n",
      "263\n",
      "Sample: overlay\n",
      "5602\n",
      "Sample: intrinsics\n",
      "14733\n",
      "Sample: ncpi0\n",
      "589\n",
      "Sample: ccpi0\n",
      "285\n",
      "\n",
      "\n",
      " #################### RUN 2 #################### \n",
      "\n",
      "Sample: data\n",
      "No Events\n",
      "Sample: dirt\n",
      "No Events\n",
      "Sample: ext\n",
      "No Events\n",
      "Sample: overlay\n",
      "5784\n",
      "Sample: intrinsics\n",
      "11241\n",
      "\n",
      "\n",
      " #################### RUN 3 #################### \n",
      "\n",
      "Sample: data\n",
      "No Events\n",
      "Sample: dirt\n",
      "63\n",
      "Sample: ext\n",
      "537\n",
      "Sample: overlay\n",
      "3943\n",
      "Sample: intrinsics\n",
      "5940\n",
      "Sample: ncpi0\n",
      "504\n",
      "Sample: ccpi0\n",
      "266\n"
     ]
    }
   ],
   "source": [
    "from __future__ import print_function\n",
    "cutMode=0\n",
    "tag='3March2021_vA_fullLowE_withPi0Sample_newShowerCalib'\n",
    "\n",
    "filetaglist = {1:['data','dirt','ext','overlay','overlay_lowE','intrinsics','intrinsics_lowE','ncpi0','ccpi0'],\n",
    "               2:['data','dirt','ext','overlay','overlay_lowE','intrinsics','intrinsics_lowE'],\n",
    "               3:['data','dirt','ext','overlay','overlay_lowE','intrinsics','intrinsics_lowE','ncpi0','ccpi0']}\n",
    "\n",
    "df = {1:{},2:{},3:{}}\n",
    "\n",
    "psavedir = 'Parquets/'+tag+'/'\n",
    "\n",
    "for r in [1,2,3]:\n",
    "    print('\\n\\n','#'*20,'RUN',r,'#'*20,'\\n')\n",
    "\n",
    "    for filetag in filetaglist[r]:\n",
    "        if 'lowE' in filetag: continue\n",
    "        print('Sample:',filetag)\n",
    "        if filetag=='data':\n",
    "            pstring = 'SelectionMode%i_%s_fset12_run%i.parquet.gzip'%(cutMode,filetag,r)\n",
    "        else:\n",
    "            pstring = 'SelectionMode%i_%s_fset12_run%i.parquet.gzip'%(cutMode,filetag,r)\n",
    "        try:\n",
    "            df[r][filetag] = pd.read_parquet(psavedir+pstring)\n",
    "            print(len(df[r][filetag]))\n",
    "        except:\n",
    "            print('No Events')\n",
    "            pass\n",
    "        \n",
    "df[2]['ext'] = df[3]['ext'].copy()\n",
    "\n",
    "df1d = (df[1]['data'].copy()).query('run<8000')\n",
    "df2d = (df[1]['data'].copy()).query('run>8000 and run<13697')\n",
    "df3d = (df[1]['data'].copy()).query('run>13696')\n",
    "df[1]['data'] = df1d\n",
    "df[2]['data'] = df2d\n",
    "df[3]['data'] = df3d"
   ]
  },
  {
   "cell_type": "code",
   "execution_count": null,
   "metadata": {},
   "outputs": [],
   "source": []
  },
  {
   "cell_type": "code",
   "execution_count": 10,
   "metadata": {},
   "outputs": [],
   "source": [
    "#ROC curve\n",
    "\n",
    "POTdict = {1:{ft:DAT_POT1 for ft in filetaglist[1]},\n",
    "           2:{ft:DAT_POT2 for ft in filetaglist[2]},\n",
    "           3:{ft:DAT_POT3 for ft in filetaglist[3]}}\n",
    "\n",
    "cuts = 'Enu_1e1p<1200 and Enu_1e1p>200'\n",
    "dftot = pd.DataFrame()\n",
    "for r in [1,2,3]:\n",
    "    for filetag in df[r].keys():\n",
    "        if filetag=='data': continue\n",
    "        dfc = df[r][filetag].copy().query(cuts)\n",
    "        MakeAvgBDTcut(dfc,0.0,20,(r==2 and filetag=='overlay'),ttc=0.1)\n",
    "        weights = dfc['GenieWeight'] * dfc['POTweight']**(-1) * POTdict[r][filetag]\n",
    "        weights_single = weights\n",
    "        dfc['weights'] = weights\n",
    "        dftot = pd.concat((dftot,dfc))\n",
    "        \n",
    "        "
   ]
  },
  {
   "cell_type": "code",
   "execution_count": null,
   "metadata": {},
   "outputs": [],
   "source": []
  }
 ],
 "metadata": {
  "kernelspec": {
   "display_name": "Python 2",
   "language": "python",
   "name": "python2"
  },
  "language_info": {
   "codemirror_mode": {
    "name": "ipython",
    "version": 2
   },
   "file_extension": ".py",
   "mimetype": "text/x-python",
   "name": "python",
   "nbconvert_exporter": "python",
   "pygments_lexer": "ipython2",
   "version": "2.7.17"
  }
 },
 "nbformat": 4,
 "nbformat_minor": 2
}
