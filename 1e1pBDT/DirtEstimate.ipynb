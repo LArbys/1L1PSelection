{
 "cells": [
  {
   "cell_type": "code",
   "execution_count": 1,
   "id": "02f7e871",
   "metadata": {},
   "outputs": [
    {
     "name": "stdout",
     "output_type": "stream",
     "text": [
      "Welcome to JupyROOT 6.16/00\n"
     ]
    }
   ],
   "source": [
    "from __future__ import print_function\n",
    "import matplotlib.pyplot as plt\n",
    "from matplotlib import gridspec\n",
    "import numpy as np\n",
    "from math import sqrt,cos,acos,pi,exp,sin,atan2,log\n",
    "from numpy import arange,mean,asarray,isnan,isinf\n",
    "import pickle as pkl\n",
    "from scipy import stats\n",
    "\n",
    "import csv\n",
    "import sys\n",
    "import pandas as pd\n",
    "import os\n",
    "\n",
    "from SelectionHelper import MakeAvgBDTcut"
   ]
  },
  {
   "cell_type": "code",
   "execution_count": 3,
   "id": "08de4461",
   "metadata": {},
   "outputs": [],
   "source": [
    "dirtt = pd.read_parquet('Parquets/3March2021_vA_fullLowE_withPi0Sample_newShowerCalib/SelectionMode0_dirt_fset12_run3.parquet.gzip')"
   ]
  },
  {
   "cell_type": "code",
   "execution_count": 17,
   "id": "73f0263e",
   "metadata": {},
   "outputs": [],
   "source": [
    "dirtt['weights'] = dirtt['POTweight']**-1 *6.67e20\n",
    "dirtt.query('Enu_1e1p>200 and Enu_1e1p<1200',inplace=True)\n",
    "MakeAvgBDTcut(dirtt,0.95,20)"
   ]
  },
  {
   "cell_type": "code",
   "execution_count": 32,
   "id": "791a071b",
   "metadata": {},
   "outputs": [
    {
     "data": {
      "image/png": "[encoded data removed]",
      "text/plain": [
       "<Figure size 432x288 with 1 Axes>"
      ]
     },
     "metadata": {
      "needs_background": "light"
     },
     "output_type": "display_data"
    },
    {
     "name": "stdout",
     "output_type": "stream",
     "text": [
      "0.221742021277\n"
     ]
    }
   ],
   "source": [
    "n,_,_ = plt.hist(dirtt['sigprob'],range=(0,1),bins=20,weights=dirtt['weights'])\n",
    "plt.semilogy()\n",
    "plt.xlabel('1e1p BDT Score Average',fontsize=12)\n",
    "plt.ylabel('Events',fontsize=12)\n",
    "plt.title('Predicted Rate in DL 1e1p Selection (200-1200 MeV)')\n",
    "plt.show()\n",
    "print(0.05/0.8 * 6.67e20 / 1.88e20)"
   ]
  },
  {
   "cell_type": "markdown",
   "id": "fd85e757",
   "metadata": {},
   "source": [
    "So we have a single event in the range $[0.2, 1,0]$\n",
    "\n",
    "Let's assume this event is spread out evenly over this region, meaining that we expect\n",
    "\n",
    "$ \\frac{0.05}{0.8} \\times 1 =  0.0625 $ events in the signal region\n",
    "\n",
    "POT-scaled, this corresponds to \n",
    "\n",
    "$ 0.0625 \\times \\frac{6.67 \\times 10^{20}}{1.88 \\times 10^{20}} = 0.22$ events across our full energy range\n",
    "\n",
    "As we predict to observe 26.9 events in this energy range, this corresponds to a 0.8% effect\n",
    "\n",
    "In the pessimistic case, all of these events end up in our signal region. As we predict 7.9 events in the signal region, this would correspond to a 2.8% effect"
   ]
  },
  {
   "cell_type": "code",
   "execution_count": 25,
   "id": "ccf39df4",
   "metadata": {},
   "outputs": [
    {
     "name": "stdout",
     "output_type": "stream",
     "text": [
      "0.00824163568773\n",
      "0.0280632911392\n"
     ]
    }
   ],
   "source": [
    "print(0.2217 / 26.9)\n",
    "print(0.2217 / 7.9)"
   ]
  },
  {
   "cell_type": "code",
   "execution_count": null,
   "id": "7dad15dc",
   "metadata": {},
   "outputs": [],
   "source": []
  }
 ],
 "metadata": {
  "kernelspec": {
   "display_name": "Python 2",
   "language": "python",
   "name": "python2"
  },
  "language_info": {
   "codemirror_mode": {
    "name": "ipython",
    "version": 2
   },
   "file_extension": ".py",
   "mimetype": "text/x-python",
   "name": "python",
   "nbconvert_exporter": "python",
   "pygments_lexer": "ipython2",
   "version": "2.7.17"
  }
 },
 "nbformat": 4,
 "nbformat_minor": 5
}
