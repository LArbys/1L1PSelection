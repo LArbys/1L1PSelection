{
 "cells": [
  {
   "cell_type": "code",
   "execution_count": 1,
   "id": "562b607f",
   "metadata": {},
   "outputs": [],
   "source": [
    "import pandas as pd\n",
    "import numpy as np\n",
    "import matplotlib.pyplot as plt\n",
    "\n",
    "DAT_POT1 = 1.631e+20\n",
    "DAT_POT2 = 2.750e+20\n",
    "DAT_POT3 = 2.291e+20\n",
    "\n",
    "DAT_POT1 = 1.69E+20\n",
    "DAT_POT2 = 2.73E+20\n",
    "DAT_POT3 = 2.44E+20"
   ]
  },
  {
   "cell_type": "code",
   "execution_count": 2,
   "id": "7f9993dd",
   "metadata": {},
   "outputs": [],
   "source": [
    "def MakeBDTcut(idf,sigcut,mode,nBDTs,r2overlay=False,ttc=0.1):\n",
    "    \n",
    "    # Conglemerate BDT scores and weights based on strategy \n",
    "    \n",
    "    bdtweight = np.zeros(idf.shape[0])\n",
    "    sigprobmax = np.zeros(idf.shape[0]) \n",
    "    sigprobavg = np.zeros(idf.shape[0])\n",
    "    sigprobmedian = np.zeros(idf.shape[0])\n",
    "    sigproblist = np.zeros((idf.shape[0],nBDTs))\n",
    "    notintrain = np.zeros((idf.shape[0],nBDTs),dtype=bool)\n",
    "    numnottrain = np.zeros(idf.shape[0])\n",
    "    for b in range(nBDTs):\n",
    "        sp = idf['sigprob%i'%b]\n",
    "        tvw = idf['tvweight%i'%b]\n",
    "        sigprobmax = np.where(np.logical_and(tvw>0,sp>sigprobmax),sp,sigprobmax) # cut on the maximum non-train score in ensemble\n",
    "        if mode == 'fracweight': \n",
    "            #bdtweight += np.where(sp>sigcut,tvw/float(nBDTs),0)\n",
    "            bdtweight += np.where((tvw>ttc) & (sp>sigcut),1.0,0.0)\n",
    "        sigprobavg += np.where(tvw>ttc,sp,0)\n",
    "        numnottrain += np.where(tvw>ttc,1,0)\n",
    "        sigproblist[:,b] = sp\n",
    "        notintrain[:,b] = tvw > ttc\n",
    "    sigprobavg /= np.where(numnottrain>0,numnottrain,1)\n",
    "    for i,(tlist,siglist) in enumerate(zip(notintrain,sigproblist)):\n",
    "        splist = siglist[tlist]\n",
    "        if splist.size!=0: sigprobmedian[i] = np.median(splist)\n",
    "        else: sigprobmedian[i] = 0\n",
    "        \n",
    "    idf['sigprobavg'] = sigprobavg\n",
    "    idf['sigprobmedian'] = sigprobmedian\n",
    "    idf['sigprobmax'] = sigprobmax\n",
    "\n",
    "    \n",
    "    if mode == 'avgscore':\n",
    "        idf['sigprob'] = idf['sigprobavg']\n",
    "        bdtweight = np.where(sigprobavg>sigcut,1,0)\n",
    "    elif mode == 'medianscore':\n",
    "        idf['sigprob'] = idf['sigprobmedian']\n",
    "        bdtweight = np.where(sigprobmedian>sigcut,1,0)\n",
    "    elif mode == 'fracweight':\n",
    "        idf['sigprob'] = idf['sigprobmax']\n",
    "        bdtweight /= np.where(numnottrain>0,numnottrain,1)\n",
    "    \n",
    "    idf['bdtweight'] = bdtweight\n",
    "    \n",
    "    # Drop duplicates\n",
    "    \n",
    "    idf.sort_values(by=['run','subrun','event','sigprob'],ascending=False,inplace=True)\n",
    "    if r2overlay:\n",
    "        idf.drop_duplicates(subset=['run','subrun','event','EnuTrue'],inplace=True)\n",
    "    else:\n",
    "        idf.drop_duplicates(subset=['run','subrun','event'],inplace=True)"
   ]
  },
  {
   "cell_type": "code",
   "execution_count": 3,
   "id": "ceedbb20",
   "metadata": {},
   "outputs": [],
   "source": [
    "dfs = {1:{},2:{},3:{}}\n",
    "pot = {1:{},2:{},3:{}}\n",
    "\n",
    "dfs[1]['intrin'] = pd.read_parquet('Parquets/3March2021_vA_fullLowE_withPi0Sample_newShowerCalib/SelectionMode0_intrinsics_fset11_run1.parquet.gzip')\n",
    "dfs[1]['overlay'] = pd.read_parquet('Parquets/3March2021_vA_fullLowE_withPi0Sample_newShowerCalib/SelectionMode0_overlay_fset11_run1.parquet.gzip')\n",
    "dfs[1]['ext'] = pd.read_parquet('Parquets/3March2021_vA_fullLowE_withPi0Sample_newShowerCalib/SelectionMode0_ext_fset11_run1.parquet.gzip')\n",
    "dfs[1]['ncpi0'] = pd.read_parquet('Parquets/3March2021_vA_fullLowE_withPi0Sample_newShowerCalib/SelectionMode0_ncpi0_fset11_run1.parquet.gzip')\n",
    "dfs[1]['ccpi0'] = pd.read_parquet('Parquets/3March2021_vA_fullLowE_withPi0Sample_newShowerCalib/SelectionMode0_ccpi0_fset11_run1.parquet.gzip')\n",
    "\n",
    "dfs[2]['intrin'] = pd.read_parquet('Parquets/3March2021_vA_fullLowE_withPi0Sample_newShowerCalib/SelectionMode0_intrinsics_fset11_run2.parquet.gzip')\n",
    "dfs[2]['overlay'] = pd.read_parquet('Parquets/3March2021_vA_fullLowE_withPi0Sample_newShowerCalib/SelectionMode0_overlay_fset11_run2.parquet.gzip')\n",
    "\n",
    "dfs[3]['intrin'] = pd.read_parquet('Parquets/3March2021_vA_fullLowE_withPi0Sample_newShowerCalib/SelectionMode0_intrinsics_fset11_run3.parquet.gzip')\n",
    "dfs[3]['overlay'] = pd.read_parquet('Parquets/3March2021_vA_fullLowE_withPi0Sample_newShowerCalib/SelectionMode0_overlay_fset11_run3.parquet.gzip')\n",
    "dfs[3]['ext'] = pd.read_parquet('Parquets/3March2021_vA_fullLowE_withPi0Sample_newShowerCalib/SelectionMode0_ext_fset11_run3.parquet.gzip')\n",
    "dfs[3]['ncpi0'] = pd.read_parquet('Parquets/3March2021_vA_fullLowE_withPi0Sample_newShowerCalib/SelectionMode0_ncpi0_fset11_run3.parquet.gzip')\n",
    "dfs[3]['ccpi0'] = pd.read_parquet('Parquets/3March2021_vA_fullLowE_withPi0Sample_newShowerCalib/SelectionMode0_ccpi0_fset11_run3.parquet.gzip')\n",
    "\n",
    "for k in dfs[1].keys(): pot[1][k] = DAT_POT1\n",
    "for k in dfs[2].keys(): pot[2][k] = DAT_POT2\n",
    "for k in dfs[3].keys(): pot[3][k] = DAT_POT3\n",
    "pot[3]['ext'] = DAT_POT2+DAT_POT3"
   ]
  },
  {
   "cell_type": "code",
   "execution_count": 6,
   "id": "d1c97cca",
   "metadata": {},
   "outputs": [
    {
     "name": "stdout",
     "output_type": "stream",
     "text": [
      "1.6777204254950355\n"
     ]
    }
   ],
   "source": [
    "num = 0\n",
    "dftot = pd.DataFrame()\n",
    "for r in [1,2,3]:\n",
    "    for k in dfs[r].keys():\n",
    "        dfc = dfs[r][k].copy()\n",
    "        MakeBDTcut(dfc,0.95,'avgscore',20,r==2 and k=='overlay')\n",
    "        dfc = dfc.query('oldBDTscore<0.7 and sigprob>0.95')\n",
    "        dfc['weights'] = dfc['GenieWeight']/dfc['POTweight']*pot[r][k]\n",
    "        dfc['weights'] *= dfc['Enu_1e1p']<1200\n",
    "        dfc['weights'] *= dfc['Enu_1e1p']>700\n",
    "        dftot = pd.concat((dftot,dfc))\n",
    "        num += sum(np.array(dfc['weights']))\n",
    "        \n",
    "print(num)"
   ]
  },
  {
   "cell_type": "code",
   "execution_count": 7,
   "id": "a4f5a9eb",
   "metadata": {},
   "outputs": [
    {
     "name": "stdout",
     "output_type": "stream",
     "text": [
      "{1000: 0.30577863124736715, 1091: 0.029313213525238975, 1003: 0.1126326006982528, 1004: 0.03220496878537793, 1005: 0.01849011481552591}\n"
     ]
    },
    {
     "name": "stderr",
     "output_type": "stream",
     "text": [
      "/home/nwkamp/.local/lib/python2.7/site-packages/ipykernel_launcher.py:11: SettingWithCopyWarning: \n",
      "A value is trying to be set on a copy of a slice from a DataFrame.\n",
      "Try using .loc[row_indexer,col_indexer] = value instead\n",
      "\n",
      "See the caveats in the documentation: http://pandas.pydata.org/pandas-docs/stable/indexing.html#indexing-view-versus-copy\n",
      "  # This is added back by InteractiveShellApp.init_path()\n"
     ]
    },
    {
     "data": {
      "image/png": "[encoded data removed]",
      "text/plain": [
       "<Figure size 432x288 with 1 Axes>"
      ]
     },
     "metadata": {
      "needs_background": "light"
     },
     "output_type": "display_data"
    }
   ],
   "source": [
    "dfsig = dftot.query('label == \\'nue_ccqe\\'')\n",
    "dfnuebkg = dftot.query('label == \\'nue_other\\'')\n",
    "nuebkgrate = {}\n",
    "for ev in np.array(dfnuebkg.query('weights>0')[['interactionType','weights']]):\n",
    "    if int(ev[0]) not in nuebkgrate.keys(): nuebkgrate[int(ev[0])] = ev[1]\n",
    "    else: nuebkgrate[int(ev[0])] += ev[1]\n",
    "print(nuebkgrate)\n",
    "pipm = []\n",
    "for mode in dfnuebkg['interactionType']:\n",
    "    pipm.append(mode in [1003,1005,1007,1009,1010,1012,1014,1016,1017,1021,1028,1032,1079,1085])\n",
    "dfnuebkg['pipm'] = pipm\n",
    "dfnumubkg = dftot.query('label != \\'nue_other\\' and label != \\'nue_ccqe\\'')\n",
    "\n",
    "hists = [dfsig['Enu_1e1p'],\n",
    "         #dfnuebkg.query('pipm')['Enu_1e1p'],\n",
    "         dfnuebkg['Enu_1e1p'],\n",
    "         dfnumubkg['Enu_1e1p']]\n",
    "weights = [dfsig['weights'],\n",
    "           #dfnuebkg.query('pipm')['weights'],\n",
    "           dfnuebkg['weights'],\n",
    "           dfnumubkg['weights']]\n",
    "cls = ['deeppink','purple','darkgreen']\n",
    "\n",
    "\n",
    "n,_,_ = plt.hist(hists,weights=weights,range=(700,1200),bins=5,stacked=True)\n",
    "plt.clf()\n",
    "labels = [r'$\\nu_e$ CCQE (%2.2f)'%sum(n[0]),\n",
    "          #r'$\\nu_e$ $\\pi^\\pm$ (%2.2f)'%(sum(n[1])-sum(n[0])),\n",
    "          r'$\\nu_e$ Other (%2.2f)'%(sum(n[1])-sum(n[0])),\n",
    "          r'$\\nu_\\mu$ (%2.2f)'%(sum(n[2])-sum(n[1]))]\n",
    "plt.hist(hists,weights=weights,label=labels,range=(700,1200),bins=5,color=cls,stacked=True)\n",
    "plt.xlabel(r'$E_\\nu$ [MeV]',fontsize=15)\n",
    "plt.ylabel('POT-scaled Event Rate',fontsize=15)\n",
    "plt.title('Old BDT < 0.7, New BDT > 0.95',fontsize=20)\n",
    "plt.xticks(fontsize=12)\n",
    "plt.yticks(fontsize=12)\n",
    "plt.legend(fontsize=12)\n",
    "plt.show()"
   ]
  },
  {
   "cell_type": "code",
   "execution_count": 73,
   "id": "53e46d8d",
   "metadata": {},
   "outputs": [
    {
     "data": {
      "text/plain": [
       "(array([0.        , 0.        , 0.05250961]),\n",
       " array([0.7, 0.8, 0.9, 1. ]),\n",
       " <a list of 3 Patch objects>)"
      ]
     },
     "execution_count": 73,
     "metadata": {},
     "output_type": "execute_result"
    },
    {
     "data": {
      "image/png": "[encoded data removed]",
      "text/plain": [
       "<Figure size 432x288 with 1 Axes>"
      ]
     },
     "metadata": {
      "needs_background": "light"
     },
     "output_type": "display_data"
    }
   ],
   "source": [
    "plt.hist(dfnumubkg['sigprob'],range=(0.7,1.0),bins=3,weights=dfnumubkg['weights'])"
   ]
  },
  {
   "cell_type": "code",
   "execution_count": null,
   "id": "58cb5170",
   "metadata": {},
   "outputs": [],
   "source": []
  }
 ],
 "metadata": {
  "kernelspec": {
   "display_name": "Python 2",
   "language": "python",
   "name": "python2"
  },
  "language_info": {
   "codemirror_mode": {
    "name": "ipython",
    "version": 2
   },
   "file_extension": ".py",
   "mimetype": "text/x-python",
   "name": "python",
   "nbconvert_exporter": "python",
   "pygments_lexer": "ipython2",
   "version": "2.7.17"
  }
 },
 "nbformat": 4,
 "nbformat_minor": 5
}
