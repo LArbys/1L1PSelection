{
 "cells": [
  {
   "cell_type": "code",
   "execution_count": 1,
   "metadata": {},
   "outputs": [
    {
     "name": "stdout",
     "output_type": "stream",
     "text": [
      "Welcome to JupyROOT 6.16/00\n"
     ]
    }
   ],
   "source": [
    "from __future__ import print_function\n",
    "import matplotlib.pyplot as plt\n",
    "from matplotlib import gridspec\n",
    "import numpy as np\n",
    "from math import sqrt,cos,acos,pi,exp,sin,atan2,log\n",
    "from numpy import arange,mean,asarray,isnan,isinf\n",
    "import pickle as pkl\n",
    "from scipy import stats\n",
    "\n",
    "import csv\n",
    "import sys\n",
    "import pandas as pd\n",
    "import os\n",
    "\n",
    "from SelectionHelper import MakeAvgBDTcut\n",
    "from DavioPlotter import *\n",
    "    \n",
    "cutMode = 0\n",
    "cutmodedir = 'SignalRegion'\n",
    "lowEpatch = False\n",
    "vtxCut = 5\n",
    "\n",
    "\n",
    "\n",
    "DAT_POT1 = 1.631e+20\n",
    "DAT_POT2 = 2.750e+20\n",
    "DAT_POT3 = 2.291e+20\n",
    "DATA_POT_TOT = DAT_POT1 + DAT_POT2 + DAT_POT3\n",
    "\n",
    "\n",
    "def poisson_errors(k, CL = 0.6827):\n",
    "    \n",
    "    # 1 Sig = 0.6827\n",
    "    # 2 Sig = 0.9545\n",
    "    # 3 Sig = 0.9973\n",
    "    \n",
    "    a = 1.0 - CL\n",
    "    low, high = (stats.chi2.ppf(a/2, 2*k) / 2, stats.chi2.ppf(1-a/2, 2*k + 2) / 2)\n",
    "    low = np.where(k==0,0,low)\n",
    "    return k - low, high - k\n"
   ]
  },
  {
   "cell_type": "code",
   "execution_count": 2,
   "metadata": {
    "scrolled": false
   },
   "outputs": [
    {
     "name": "stdout",
     "output_type": "stream",
     "text": [
      "\n",
      "\n",
      " #################### RUN 1 #################### \n",
      "\n",
      "Sample: data\n",
      "Sample: dirt\n",
      "No Events\n",
      "Sample: ext\n",
      "Sample: overlay\n",
      "Sample: intrinsics\n",
      "Sample: ncpi0\n",
      "Sample: ccpi0\n",
      "\n",
      "\n",
      " #################### RUN 2 #################### \n",
      "\n",
      "Sample: data\n",
      "No Events\n",
      "Sample: dirt\n",
      "No Events\n",
      "Sample: ext\n",
      "No Events\n",
      "Sample: overlay\n",
      "Sample: intrinsics\n",
      "\n",
      "\n",
      " #################### RUN 3 #################### \n",
      "\n",
      "Sample: data\n",
      "No Events\n",
      "Sample: dirt\n",
      "Sample: ext\n",
      "Sample: overlay\n",
      "Sample: intrinsics\n",
      "Sample: ncpi0\n",
      "Sample: ccpi0\n"
     ]
    }
   ],
   "source": [
    "tag='3March2021_vA_fullLowE_withPi0Sample_newShowerCalib'\n",
    "\n",
    "filetaglist = {1:['data','dirt','ext','overlay','overlay_lowE','intrinsics','intrinsics_lowE','ncpi0','ccpi0'],\n",
    "               2:['data','dirt','ext','overlay','overlay_lowE','intrinsics','intrinsics_lowE'],\n",
    "               3:['data','dirt','ext','overlay','overlay_lowE','intrinsics','intrinsics_lowE','ncpi0','ccpi0']}\n",
    "\n",
    "df = {1:{},2:{},3:{}}\n",
    "\n",
    "psavedir = 'Parquets/'+tag+'/'\n",
    "\n",
    "for r in [1,2,3]:\n",
    "    print('\\n\\n','#'*20,'RUN',r,'#'*20,'\\n')\n",
    "\n",
    "    for filetag in filetaglist[r]:\n",
    "        if not lowEpatch and 'lowE' in filetag: continue\n",
    "        print('Sample:',filetag)\n",
    "        if filetag=='data':\n",
    "            pstring = 'SelectionMode%i_%s_fset12_run%i.parquet.gzip'%(cutMode,filetag,r)\n",
    "        else:\n",
    "            pstring = 'SelectionMode%i_%s_fset12_run%i.parquet.gzip'%(cutMode,filetag,r)\n",
    "        try:\n",
    "            df[r][filetag] = pd.read_parquet(psavedir+pstring)\n",
    "            #print(len(df[r][filetag]))\n",
    "        except:\n",
    "            print('No Events')\n",
    "            pass\n",
    "        \n",
    "df[2]['ext'] = df[3]['ext'].copy()\n",
    "df[1]['dirt'] = df[3]['dirt'].copy()\n",
    "df[2]['dirt'] = df[3]['dirt'].copy()\n",
    "df1d = (df[1]['data'].copy()).query('run<8000')\n",
    "df2d = (df[1]['data'].copy()).query('run>8000 and run<13697')\n",
    "df3d = (df[1]['data'].copy()).query('run>13696')\n",
    "df[1]['data'] = df1d\n",
    "df[2]['data'] = df2d\n",
    "df[3]['data'] = df3d"
   ]
  },
  {
   "cell_type": "code",
   "execution_count": 3,
   "metadata": {
    "scrolled": false
   },
   "outputs": [],
   "source": [
    "signalOnly = False\n",
    "cut = 0.0\n",
    "nBDTs=20\n",
    "\n",
    "dfdat = pd.DataFrame()\n",
    "dflee = pd.DataFrame()\n",
    "dftot = pd.DataFrame()\n",
    "\n",
    "POTdict = {1:{ft:DAT_POT1 for ft in filetaglist[1]},\n",
    "           2:{ft:DAT_POT2 for ft in filetaglist[2]},\n",
    "           3:{ft:DAT_POT3 for ft in filetaglist[3]}}\n",
    "\n",
    "POTdict[1]['data'] = DATA_POT_TOT\n",
    "POTdict[2]['data'] = DATA_POT_TOT\n",
    "POTdict[3]['data'] = DATA_POT_TOT\n",
    "\n",
    "for r in [1,2,3]:\n",
    "\n",
    "    for filetag in df[r].keys():\n",
    "        if not lowEpatch and 'lowE' in filetag: continue\n",
    "        dfc = df[r][filetag].copy()\n",
    "        if filetag!='data':\n",
    "            MakeAvgBDTcut(dfc,cut,nBDTs,(r==2 and filetag=='overlay'),ttc=0.1)\n",
    "        else:\n",
    "            dfc.rename(columns={\"BDTscore_1e1p\": \"oldBDTscore\"},inplace=True)\n",
    "            dfc['sigprobavg'] = dfc['oldBDTscore']\n",
    "            dfc['sigprobmedian'] = -1\n",
    "            dfc['sigprobmax'] = -1\n",
    "            dfc['sigprob'] = dfc['oldBDTscore']\n",
    "            dfc['bdtweight'] = np.where(np.array(dfc['sigprob'])>cut,1,0)\n",
    "            dfc.sort_values(by=['run','subrun','event','sigprob'],ascending=False,inplace=True)\n",
    "            dfc.drop_duplicates(subset=['run','subrun','event'],inplace=True)\n",
    "\n",
    "\n",
    "\n",
    "        numu_l = np.core.defchararray.find(np.array(dfc['label'],dtype=np.string_),'m')!=-1\n",
    "        labels = np.where(np.logical_and(numu_l,dfc['scedr']>vtxCut),'offvtx',dfc['label'])\n",
    "\n",
    "        dfc['label'] = labels\n",
    "\n",
    "\n",
    "        weights = dfc['GenieWeight'] * dfc['POTweight']**(-1) * POTdict[r][filetag]\n",
    "        weights*= dfc['bdtweight']\n",
    "        weights*=dfc['sigprob']>cut\n",
    "        weights*=dfc['sigprob']<1.0\n",
    "        weights*=dfc['Enu_1e1p']>200\n",
    "        weights*=dfc['Enu_1e1p']<1200\n",
    "        if signalOnly: weights*=dfc['Enu_1e1p']<500\n",
    "\n",
    "        leeweights = dfc['LEEweight'] * weights\n",
    "\n",
    "        if filetag!='intrinsics': leeweights*=0\n",
    "\n",
    "        dfc_lee = dfc.copy()\n",
    "        dfc['weights'] = weights\n",
    "        dfc_lee['weights'] = leeweights\n",
    "\n",
    "        if filetag=='data':\n",
    "            dfdat = pd.concat((dfdat,dfc.query('weights>0')))\n",
    "        else:\n",
    "            dflee = pd.concat((dflee,dfc_lee))\n",
    "            dftot = pd.concat((dftot,dfc))\n",
    "\n",
    "      "
   ]
  },
  {
   "cell_type": "code",
   "execution_count": 4,
   "metadata": {},
   "outputs": [
    {
     "data": {
      "image/png": "[encoded data removed]",
      "text/plain": [
       "<Figure size 432x288 with 1 Axes>"
      ]
     },
     "metadata": {
      "needs_background": "light"
     },
     "output_type": "display_data"
    }
   ],
   "source": [
    "dftotMPID = dftot.query('MPIDY_muon>0.2')\n",
    "n,xbins,_ = plt.hist(dftotMPID['sigprob'],weights=dftotMPID['weights'],range=(0,1),bins=20)   \n",
    "var,_,_ = plt.hist(dftotMPID['sigprob'],weights=dftotMPID['weights']**2,range=(0,1),bins=20)\n",
    "err = np.sqrt(var)\n",
    "plt.clf()\n",
    "xbc = 0.5*(xbins[:-1]+xbins[1:])\n",
    "xbw = 0.5*(xbins[1:]-xbins[:-1])\n",
    "plt.errorbar(xbc,n,xerr=xbw,yerr=err,fmt='.',capsize=3)\n",
    "plt.semilogy()\n",
    "plt.xlabel('1e1p BDT Score')\n",
    "plt.ylabel('Rate in Final Selection')\n",
    "plt.show()"
   ]
  },
  {
   "cell_type": "code",
   "execution_count": 5,
   "metadata": {},
   "outputs": [
    {
     "data": {
      "image/png": "[encoded data removed]",
      "text/plain": [
       "<Figure size 432x288 with 1 Axes>"
      ]
     },
     "metadata": {
      "needs_background": "light"
     },
     "output_type": "display_data"
    }
   ],
   "source": [
    "n,xbins,_ = plt.hist(dftotMPID['Electron_Edep'],weights=dftotMPID['weights'],range=(0,200),bins=20)   \n",
    "var,_,_ = plt.hist(dftotMPID['Electron_Edep'],weights=dftotMPID['weights']**2,range=(0,200),bins=20)\n",
    "err = np.sqrt(var)\n",
    "plt.clf()\n",
    "xbc = 0.5*(xbins[:-1]+xbins[1:])\n",
    "xbw = 0.5*(xbins[1:]-xbins[:-1])\n",
    "plt.errorbar(xbc,n,xerr=xbw,yerr=err,fmt='.',capsize=3)\n",
    "#plt.semilogy()\n",
    "plt.xlabel('1e1p BDT Score')\n",
    "plt.ylabel('Rate in Final Selection')\n",
    "plt.show()"
   ]
  },
  {
   "cell_type": "code",
   "execution_count": 6,
   "metadata": {},
   "outputs": [
    {
     "name": "stdout",
     "output_type": "stream",
     "text": [
      "[95.69574547  3.54428687  3.54428687  0.          0.          0.\n",
      "  0.          0.          0.          0.          0.          0.\n",
      "  0.          0.          3.54428687  0.          0.          0.\n",
      "  0.          0.        ]\n"
     ]
    },
    {
     "data": {
      "image/png": "[encoded data removed]",
      "text/plain": [
       "<Figure size 432x288 with 1 Axes>"
      ]
     },
     "metadata": {
      "needs_background": "light"
     },
     "output_type": "display_data"
    },
    {
     "name": "stdout",
     "output_type": "stream",
     "text": [
      "Series([], Name: Enu_1e1p, dtype: float64)\n",
      "[27.  1.  1.  0.  0.  0.  0.  0.  0.  0.  0.  0.  0.  0.  1.  0.  0.  0.\n",
      "  0.  0.]\n"
     ]
    },
    {
     "name": "stderr",
     "output_type": "stream",
     "text": [
      "SelectionHelper.py:550: SettingWithCopyWarning: \n",
      "A value is trying to be set on a copy of a slice from a DataFrame.\n",
      "Try using .loc[row_indexer,col_indexer] = value instead\n",
      "\n",
      "See the caveats in the documentation: http://pandas.pydata.org/pandas-docs/stable/indexing.html#indexing-view-versus-copy\n",
      "  idf['sigprobavg'] = sigprobavg\n",
      "SelectionHelper.py:551: SettingWithCopyWarning: \n",
      "A value is trying to be set on a copy of a slice from a DataFrame.\n",
      "Try using .loc[row_indexer,col_indexer] = value instead\n",
      "\n",
      "See the caveats in the documentation: http://pandas.pydata.org/pandas-docs/stable/indexing.html#indexing-view-versus-copy\n",
      "  idf['sigprobmedian'] = -1\n",
      "SelectionHelper.py:552: SettingWithCopyWarning: \n",
      "A value is trying to be set on a copy of a slice from a DataFrame.\n",
      "Try using .loc[row_indexer,col_indexer] = value instead\n",
      "\n",
      "See the caveats in the documentation: http://pandas.pydata.org/pandas-docs/stable/indexing.html#indexing-view-versus-copy\n",
      "  idf['sigprobmax'] = -1\n",
      "SelectionHelper.py:553: SettingWithCopyWarning: \n",
      "A value is trying to be set on a copy of a slice from a DataFrame.\n",
      "Try using .loc[row_indexer,col_indexer] = value instead\n",
      "\n",
      "See the caveats in the documentation: http://pandas.pydata.org/pandas-docs/stable/indexing.html#indexing-view-versus-copy\n",
      "  idf['sigprob'] = sigprobavg\n",
      "SelectionHelper.py:554: SettingWithCopyWarning: \n",
      "A value is trying to be set on a copy of a slice from a DataFrame.\n",
      "Try using .loc[row_indexer,col_indexer] = value instead\n",
      "\n",
      "See the caveats in the documentation: http://pandas.pydata.org/pandas-docs/stable/indexing.html#indexing-view-versus-copy\n",
      "  idf['bdtweight'] = np.where(sigprobavg>sigcut,1,0)\n",
      "SelectionHelper.py:558: SettingWithCopyWarning: \n",
      "A value is trying to be set on a copy of a slice from a DataFrame\n",
      "\n",
      "See the caveats in the documentation: http://pandas.pydata.org/pandas-docs/stable/indexing.html#indexing-view-versus-copy\n",
      "  idf.sort_values(by=['run','subrun','event','sigprob'],ascending=False,inplace=True)\n",
      "SelectionHelper.py:562: SettingWithCopyWarning: \n",
      "A value is trying to be set on a copy of a slice from a DataFrame\n",
      "\n",
      "See the caveats in the documentation: http://pandas.pydata.org/pandas-docs/stable/indexing.html#indexing-view-versus-copy\n",
      "  idf.drop_duplicates(subset=['run','subrun','event'],inplace=True)\n"
     ]
    },
    {
     "data": {
      "image/png": "[encoded data removed]",
      "text/plain": [
       "<Figure size 432x288 with 1 Axes>"
      ]
     },
     "metadata": {
      "needs_background": "light"
     },
     "output_type": "display_data"
    }
   ],
   "source": [
    "dfdirt = dftot.query('label==\\'DIRT\\'')\n",
    "n,xbins,_ = plt.hist(dfdirt['sigprob'],weights=dfdirt['weights'],range=(0,1),bins=20)   \n",
    "print(n)\n",
    "var,_,_ = plt.hist(dfdirt['sigprob'],weights=dfdirt['weights']**2,range=(0,1),bins=20)\n",
    "err = np.sqrt(var)\n",
    "plt.clf()\n",
    "xbc = 0.5*(xbins[:-1]+xbins[1:])\n",
    "xbw = 0.5*(xbins[1:]-xbins[:-1])\n",
    "plt.errorbar(xbc,n,xerr=xbw,yerr=err,fmt='.',capsize=3)\n",
    "plt.semilogy()\n",
    "plt.xlabel('1e1p BDT Score')\n",
    "plt.ylabel('Rate in Final Selection')\n",
    "plt.show()\n",
    "\n",
    "dfdirt = dftot.query('label==\\'DIRT\\' and datarun==3 and weights>0')\n",
    "print(dfdirt.query('sigprob>0.9')['Enu_1e1p'])\n",
    "\n",
    "MakeAvgBDTcut(dfdirt,cut,nBDTs,False,ttc=0.1)\n",
    "n,xbins,_ = plt.hist(dfdirt['sigprob'],range=(0,1),bins=20)\n",
    "print(n)\n",
    "err = np.sqrt(n)\n",
    "plt.clf()\n",
    "xbc = 0.5*(xbins[:-1]+xbins[1:])\n",
    "xbw = 0.5*(xbins[1:]-xbins[:-1])\n",
    "plt.errorbar(xbc,n,xerr=xbw,yerr=err,fmt='.',capsize=3)\n",
    "#plt.semilogy()\n",
    "plt.xlabel('1e1p BDT Score')\n",
    "plt.ylabel('Raw MC count')\n",
    "plt.show()"
   ]
  },
  {
   "cell_type": "code",
   "execution_count": null,
   "metadata": {},
   "outputs": [],
   "source": []
  }
 ],
 "metadata": {
  "kernelspec": {
   "display_name": "Python 2",
   "language": "python",
   "name": "python2"
  },
  "language_info": {
   "codemirror_mode": {
    "name": "ipython",
    "version": 2
   },
   "file_extension": ".py",
   "mimetype": "text/x-python",
   "name": "python",
   "nbconvert_exporter": "python",
   "pygments_lexer": "ipython2",
   "version": "2.7.17"
  }
 },
 "nbformat": 4,
 "nbformat_minor": 2
}
