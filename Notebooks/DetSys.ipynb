{
 "cells": [
  {
   "cell_type": "code",
   "execution_count": 1,
   "metadata": {},
   "outputs": [
    {
     "name": "stdout",
     "output_type": "stream",
     "text": [
      "Welcome to JupyROOT 6.18/04\n"
     ]
    },
    {
     "data": {
      "text/html": [
       "<style>.container { width:100% !important; }</style>"
      ],
      "text/plain": [
       "<IPython.core.display.HTML object>"
      ]
     },
     "metadata": {},
     "output_type": "display_data"
    }
   ],
   "source": [
    "%matplotlib inline\n",
    "\n",
    "import matplotlib.pyplot as plt\n",
    "import pickle\n",
    "import pandas as pd\n",
    "import numpy as np\n",
    "from numpy import mean\n",
    "from math import sqrt,acos,cos,sin,pi,exp,log,isnan,atan2\n",
    "from numpy import asarray\n",
    "from root_pandas import read_root\n",
    "from matplotlib import gridspec\n",
    "from scipy import stats\n",
    "from matplotlib.collections import PatchCollection\n",
    "from matplotlib.patches import Rectangle\n",
    "from textwrap import wrap\n",
    "import seaborn as sns\n",
    "\n",
    "import os\n",
    "\n",
    "from PlottingScripts import CV, Spline, Tune1, distVar, distplot_wratio, StackedHisto, SimpleHisto, mcplot\n",
    "\n",
    "from IPython.core.display import display, HTML\n",
    "display(HTML(\"<style>.container { width:100% !important; }</style>\"))"
   ]
  },
  {
   "cell_type": "code",
   "execution_count": 2,
   "metadata": {},
   "outputs": [],
   "source": [
    "orthogonalcut = 'MaxShrFrac < .2'\n",
    "precuts ='ChargeNearTrunk > 0 and FailedBoost != 1 and OpenAng > .5'# and  and Lepton_EdgeDist > 15 and Proton_EdgeDist > 15'\n",
    "emptycut = 'Enu_1m1p > 0'\n",
    "\n",
    "precut = orthogonalcut + ' and ' + precuts\n",
    "\n",
    "totalscale = 5e19\n",
    "\n",
    "\n",
    "f_scaleslist = []\n",
    "s_detsyslist = []\n",
    "\n",
    "s_detsyslist.append('wiremodX')\n",
    "f_scaleslist.append(9.57329064772e+19) #POT\n",
    "\n",
    "s_detsyslist.append('wiremodYZ')\n",
    "f_scaleslist.append(9.47300763323e+19) #POT\n",
    "\n",
    "s_detsyslist.append('wiremoddEdx')\n",
    "f_scaleslist.append(1.1091115051e+20)\n",
    "\n",
    "s_detsyslist.append('LYdown')\n",
    "f_scaleslist.append(1.01577606567e+20)\n",
    "\n",
    "#s_detsyslist.append('LYattenuation')\n",
    "#f_scaleslist.append(1.09661060344e+20)\n",
    "\n",
    "s_detsyslist.append('SCE')\n",
    "f_scaleslist.append(7.18768474771e+19)\n",
    "\n",
    "s_detsyslist.append('wiremodThetaYZ')\n",
    "f_scaleslist.append(9.17621782665e+19)\n",
    "\n",
    "s_detsyslist.append('wiremodThetaXZ')\n",
    "f_scaleslist.append(8.95024851469e+19)\n",
    "\n",
    "#s_detsyslist.append('recomb')\n",
    "#f_scaleslist.append(7.26515325677e+19)\n",
    "\n",
    "df_cv = pd.read_parquet('../../data/pickles/detsys_CV_run3_nodupesMay1.parquet')\n",
    "scaleCV = 9.65858292241e+19 \n",
    "\n",
    "a_df_sys = []\n",
    "\n",
    "RSE = ['run','subrun','event']\n",
    "\n",
    "\n",
    "for sys in s_detsyslist:\n",
    "    df_sys = pd.read_parquet('../../data/pickles/detsys_%s_run3_nodupesMay1.parquet'%sys)\n",
    "    df_sys = df_sys.join(df_cv.set_index(RSE),on=RSE,rsuffix='_cv')\n",
    "    a_df_sys.append(df_sys)\n",
    "\n",
    "df_numu_run3_presel = pd.read_parquet('../../data/pickles/numu_run1_nodupesMay1.parquet')"
   ]
  },
  {
   "cell_type": "code",
   "execution_count": 6,
   "metadata": {},
   "outputs": [],
   "source": [
    "# Make big list of variables with their accompanying ranges so we can just dump a buttload of plots\n",
    "varlistSel = []\n",
    "\n",
    "varlistSel.append(distVar('Xreco',(15,241.25),'Reco Vertex X')\n",
    "varlistSel.append(distVar('Yreco',(-101.5,101.5),'Reco Vertex Y')\n",
    "varlistSel.append(distVar('Zreco',(15,1021.8),'Reco Vertex Z')\n",
    "varlistSel.append(distVar('OpenAng',(.6,2.8),'Opening Angle (rads)')\n",
    "varlistSel.append(distVar('Thetas',(0,2*np.pi),r'Sum of Thetas ($\\theta_{p} + \\theta_{\\mu}$) (rads)')\n",
    "varlistSel.append(distVar('Phis',(0,2*np.pi),r'Sum of Phis ($\\phi_{p} + \\phi_{\\mu}$)  (rads)')\n",
    "varlistSel.append(distVar('ChargeNearTrunk',(0,800),'ADC Charge within 5cm of Reco Vertex')\n",
    "varlistSel.append(distVar('Enu_1m1p',(300,1200),'Reconstructed Neutrino Energy (MeV)')\n",
    "varlistSel.append(distVar('PhiT_1m1p',(0,1),r'$\\phi_T$')\n",
    "varlistSel.append(distVar('AlphaT_1m1p',(0,np.pi),r'$\\alpha_T$')\n",
    "varlistSel.append(distVar('PT_1m1p',(0,400),r'$p_T$')\n",
    "varlistSel.append(distVar('PTRat_1m1p',(0,.4),r'$p_T/|p|$')\n",
    "varlistSel.append(distVar('BjX_1m1p',(0,2),'Bjorken X')\n",
    "varlistSel.append(distVar('BjY_1m1p',(0,.8),'Bjorken Y')\n",
    "varlistSel.append(distVar('Q2_1m1p',(0,6e5),r'$Q^2$')\n",
    "varlistSel.append(distVar('Sph_1m1p',(0,1000),'QE Consistency')\n",
    "varlistSel.append(distVar('PzEnu_1m1p',(-300,400),r'$p_z - E_\\nu$ (MeV)'))\n",
    "varlistSel.append(distVar('Q0_1m1p',(70,600),r'$Q_0$')\n",
    "varlistSel.append(distVar('Q3_1m1p',(50,1000),r'$Q_3$')\n",
    "varlistSel.append(distVar('Lepton_PhiReco',(-np.pi,np.pi),r'Muon $\\phi$')\n",
    "varlistSel.append(distVar('Lepton_ThetaReco',(0,np.pi),r'Muon $\\theta$')\n",
    "varlistSel.append(distVar('Lepton_TrackLength',(5,200),'Muon Track Length (cm)')\n",
    "varlistSel.append(distVar('Muon_Edep',(20,600),'Reco Muon Energy (from range) (MeV)')\n",
    "varlistSel.append(distVar('Proton_PhiReco',(-np.pi,np.pi),r'Proton $\\phi$')\n",
    "varlistSel.append(distVar('Proton_ThetaReco',(0,np.pi),r'Proton $\\theta$')\n",
    "varlistSel.append(distVar('Proton_TrackLength',(5,150),'Proton Track Length')\n",
    "varlistSel.append(distVar('Proton_Edep',(50,500),'Reco Proton Energy (from range) (MeV)')"
   ]
  },
  {
   "cell_type": "code",
   "execution_count": 39,
   "metadata": {},
   "outputs": [],
   "source": [
    "#add experimental weights\n",
    "with open('/home/dcianci/Physics/1e1p/1mu1pSelection/bdtweights_1m1p_run3_lowe_may13vars.pickle','rb') as handle: bdt_run3_cosmic,bdt_run3_nu = pickle.load(handle)          # Load BDT weights for 1mu1p background differentiation\n",
    "    \n",
    "vars_may13 = ['OpenAng','Phis','ChargeNearTrunk','Enu_1m1p','PhiT_1m1p','AlphaT_1m1p','PT_1m1p','PTRat_1m1p','BjX_1m1p','BjY_1m1p','Sph_1m1p','Q0_1m1p','Q3_1m1p','Lepton_PhiReco','Lepton_TrackLength','Proton_PhiReco','Proton_ThetaReco']\n",
    "\n",
    "myvars = vars_may13"
   ]
  },
  {
   "cell_type": "code",
   "execution_count": 40,
   "metadata": {},
   "outputs": [],
   "source": [
    "for df in a_df_sys:\n",
    "    df.insert(0,'bdt_run3_cosmic',bdt_run3_cosmic.predict_proba(df[myvars].values.tolist())[:,0])\n",
    "    df.insert(0,'bdt_run3_nu',bdt_run3_nu.predict_proba(df[myvars].values.tolist())[:,0])\n",
    "\n",
    "\n",
    "df_numu_run3_presel.insert(0,'bdt_run3_cosmic',bdt_run3_cosmic.predict_proba(df_numu_run3_presel[myvars].values.tolist())[:,0])\n",
    "df_numu_run3_presel.insert(0,'bdt_run3_nu',bdt_run3_nu.predict_proba(df_numu_run3_presel[myvars].values.tolist())[:,0])\n",
    "       \n",
    "df_cv.insert(0,'bdt_run3_cosmic',bdt_run3_cosmic.predict_proba(df_cv[myvars].values.tolist())[:,0])\n",
    "df_cv.insert(0,'bdt_run3_nu',bdt_run3_nu.predict_proba(df_cv[myvars].values.tolist())[:,0])\n",
    "    "
   ]
  },
  {
   "cell_type": "code",
   "execution_count": 87,
   "metadata": {},
   "outputs": [],
   "source": [
    "dumpbins = 18\n",
    "dumphole = '/home/dcianci/Downloads/detsys_may18_sel' # where are we dumping these?\n",
    "\n",
    "bdtcuts = 'bdt_run3_cosmic < .5 and bdt_run3_nu < .5'\n",
    "\n",
    "emptycut = 'Enu_1m1p > 0'\n",
    "morecuts = 'Enu_1m1p < 1000'#Lepton_CosTheta < .9'\n",
    "\n",
    "s_cuts = precuts + ' and ' + bdtcuts + ' and ' + morecuts\n",
    "\n",
    "if not os.path.exists(dumphole):\n",
    "    os.makedirs(dumphole)\n",
    "\n",
    "for dist in varlist:\n",
    "    \n",
    "    fig,ax = plt.subplots(figsize=(16,11))\n",
    "    gs = gridspec.GridSpec(2, 1, height_ratios=[3, .75])\n",
    "    ax0 = plt.subplot(gs[0])\n",
    "    ax1 = plt.subplot(gs[1])\n",
    "    hSys =  []\n",
    "    \n",
    "    for i in range(len(s_detsyslist)):\n",
    "        var_sys = a_df_sys[i].query(s_cuts)[dist.myname]\n",
    "        sys_scale = np.ones(len(var_sys))*totalscale/f_scaleslist[i]\n",
    "        h0,_ = np.histogram(var_sys,range=dist.myrange,bins=dumpbins,weights=sys_scale)\n",
    "        h1,_,_ = ax0.hist(var_sys,range=dist.myrange,bins=dumpbins,histtype='step',label=s_detsyslist[i]+' (%i)'%h0.sum(),linewidth=2,weights=sys_scale)\n",
    "        hSys.append(h1)\n",
    "    \n",
    "    var_cv = df_cv.query(s_cuts)[dist.myname]\n",
    "    cv_scale = np.ones(len(var_cv))*totalscale/scaleCV\n",
    "    h0,_ = np.histogram(var_cv,range=dist.myrange,bins=dumpbins,weights=cv_scale)\n",
    "    hCV,binedges,_ = ax0.hist(var_cv,range=dist.myrange,bins=dumpbins,histtype='step',label='CV (%i)'%h0.sum(),linewidth=3,color='black',linestyle='--',weights=cv_scale)       \n",
    "    \n",
    "    ax0.set_ylabel('Events in 5e19 POT',fontsize=20)\n",
    "    ax0.set_xlabel(dist.mylabel,fontsize=25)\n",
    "    ax0.set_title('BNB Overlay w/ Detsys',fontsize=15)\n",
    "    ax0.set_xlim(dist.myrange)\n",
    "    ax1.set_xlim(dist.myrange)\n",
    "    ax1.set_ylim(0,2.5)\n",
    "    ax0.legend(fontsize=15)\n",
    "    \n",
    "    for i in range(len(hSys)):\n",
    "        ydots = np.true_divide(hSys[i],hCV,where=hCV!=0)\n",
    "        xdots = binedges[:-1] + (binedges[1]-binedges[0])/float(len(hSys)) * i\n",
    "        ax1.scatter(xdots,ydots)\n",
    "    \n",
    "    ax1.axhline(1,linestyle=':',color='maroon')\n",
    "    \n",
    "    for j in range(len(hCV)):\n",
    "        ax1.axvline(binedges[j+1],linestyle=':',color='gray') \n",
    "    \n",
    "    plt.savefig(dumphole+'/'+dist.myname+'.png')\n",
    "    plt.close(fig)"
   ]
  },
  {
   "cell_type": "markdown",
   "metadata": {},
   "source": [
    "# Build Covariance Matrices!"
   ]
  },
  {
   "cell_type": "code",
   "execution_count": 59,
   "metadata": {},
   "outputs": [],
   "source": [
    "bdtcuts = 'bdt_run3_cosmic < .5 and bdt_run3_nu < .5'\n",
    "emptycut = 'Enu_1m1p > 0'\n",
    "morecuts = 'Enu_1m1p < 1000'#Lepton_CosTheta < .9'\n",
    "\n",
    "s_cuts = precut + ' and ' + bdtcuts + ' and ' + morecuts\n",
    "\n",
    "nbins = 18\n",
    "\n",
    "\n",
    "if not os.path.exists('DetSysCov'):\n",
    "    os.makedirs('DetSysCov')\n",
    "\n",
    "for dist in varlistSel:\n",
    "\n",
    "    cov = np.zeros((nbins,nbins))\n",
    "\n",
    "    for sysi in range(len(a_df_sys)):\n",
    "        myvardf = a_df_sys[sysi].query('Enu_1m1p > 0 and Enu_1m1p_cv > 0')\n",
    "        \n",
    "        var_sys = myvardf.query(s_cuts)[dist.myname]\n",
    "        var_cv = myvardf.query(s_cuts)[dist.myname+'_cv']\n",
    "        #cv_scale = np.ones(len(var_cv))*totalscale/scaleCV\n",
    "        #sys_scale = np.ones(len(var_sys))*totalscale/f_scaleslist[sysi]\n",
    "\n",
    "        hCV,binedges = np.histogram(var_cv,bins=nbins,range=dist.myrange)#,weights=cv_scale)\n",
    "        h0,_ = np.histogram(var_sys,bins=nbins,range=dist.myrange)#,weights=cv_scale)\n",
    "        \n",
    "        #fig,ax = plt.subplots(figsize=(16,11))\n",
    "        #_ = plt.hist(var_cv,bins=nbins,range=dist.myrange)\n",
    "        #_ = plt.hist(var_sys,bins=nbins,range=dist.myrange)\n",
    "                \n",
    "        for i in range(nbins):\n",
    "            for j in range(nbins):\n",
    "                if hCV[i] > 0 and hCV[j] > 0:\n",
    "                    cov[i][j] += (h0[i]-hCV[i])*(h0[j]-hCV[j])/(hCV[i]*hCV[j])\n",
    "                elif h0[i] > 0 and h0[j] > 0:\n",
    "                    cov[i][j] += (h0[i]-hCV[i])*(h0[j]-hCV[j])/(h0[i]*h0[j])\n",
    "        \n",
    "    np.savetxt('DetSysCov/detsys_%s_cov.csv'%dist.myname, cov, delimiter=',')"
   ]
  },
  {
   "cell_type": "code",
   "execution_count": 46,
   "metadata": {},
   "outputs": [
    {
     "data": {
      "image/png": "[encoded data removed]",
      "text/plain": [
       "<Figure size 720x720 with 2 Axes>"
      ]
     },
     "metadata": {
      "needs_background": "light"
     },
     "output_type": "display_data"
    }
   ],
   "source": [
    "X, Y = np.meshgrid(binedges,binedges)\n",
    "\n",
    "fig,ax = plt.subplots(figsize=(10,10))\n",
    "crat = ax.pcolormesh(X, Y,cov,cmap='cool')#,vmin=-2,vmax=3)\n",
    "cbar = fig.colorbar(crat)\n"
   ]
  },
  {
   "cell_type": "code",
   "execution_count": 55,
   "metadata": {
    "scrolled": false
   },
   "outputs": [
    {
     "name": "stderr",
     "output_type": "stream",
     "text": [
      "/home/dcianci/.local/lib/python3.6/site-packages/ipykernel_launcher.py:22: RuntimeWarning: divide by zero encountered in long_scalars\n",
      "/home/dcianci/.local/lib/python3.6/site-packages/ipykernel_launcher.py:22: RuntimeWarning: invalid value encountered in long_scalars\n",
      "/home/dcianci/.local/lib/python3.6/site-packages/ipykernel_launcher.py:22: RuntimeWarning: invalid value encountered in double_scalars\n"
     ]
    },
    {
     "data": {
      "image/png": "[encoded data removed]",
      "text/plain": [
       "<Figure size 1152x792 with 1 Axes>"
      ]
     },
     "metadata": {
      "needs_background": "light"
     },
     "output_type": "display_data"
    },
    {
     "data": {
      "image/png": "[encoded data removed]",
      "text/plain": [
       "<Figure size 1152x792 with 1 Axes>"
      ]
     },
     "metadata": {
      "needs_background": "light"
     },
     "output_type": "display_data"
    },
    {
     "data": {
      "image/png": "[encoded data removed]",
      "text/plain": [
       "<Figure size 1152x792 with 1 Axes>"
      ]
     },
     "metadata": {
      "needs_background": "light"
     },
     "output_type": "display_data"
    },
    {
     "data": {
      "image/png": "[encoded data removed]",
      "text/plain": [
       "<Figure size 1152x792 with 1 Axes>"
      ]
     },
     "metadata": {
      "needs_background": "light"
     },
     "output_type": "display_data"
    },
    {
     "data": {
      "image/png": "[encoded data removed]",
      "text/plain": [
       "<Figure size 1152x792 with 1 Axes>"
      ]
     },
     "metadata": {
      "needs_background": "light"
     },
     "output_type": "display_data"
    },
    {
     "data": {
      "image/png": "[encoded data removed]",
      "text/plain": [
       "<Figure size 1152x792 with 1 Axes>"
      ]
     },
     "metadata": {
      "needs_background": "light"
     },
     "output_type": "display_data"
    },
    {
     "data": {
      "image/png": "[encoded data removed]",
      "text/plain": [
       "<Figure size 1152x792 with 1 Axes>"
      ]
     },
     "metadata": {
      "needs_background": "light"
     },
     "output_type": "display_data"
    }
   ],
   "source": [
    "dist = varlistSel[3]\n",
    "\n",
    "cov = np.zeros((nbins,nbins))\n",
    "\n",
    "for sysi in range(len(a_df_sys)):\n",
    "    myvardf = a_df_sys[sysi].query('Enu_1m1p > 0 and Enu_1m1p_cv > 0')\n",
    "        \n",
    "    var_sys = myvardf.query(s_cuts)[dist.myname]\n",
    "    var_cv = myvardf.query(s_cuts)[dist.myname+'_cv']\n",
    "    #cv_scale = np.ones(len(var_cv))*totalscale/scaleCV\n",
    "    #sys_scale = np.ones(len(var_sys))*totalscale/f_scaleslist[sysi]\n",
    "\n",
    "    hCV,binedges = np.histogram(var_cv,bins=nbins,range=dist.myrange)#,weights=cv_scale)\n",
    "    h0,_ = np.histogram(var_sys,bins=nbins,range=dist.myrange)#,weights=cv_scale)\n",
    "        \n",
    "    fig,ax = plt.subplots(figsize=(16,11))\n",
    "    _ = plt.hist(var_cv,bins=nbins,range=dist.myrange,histtype='step')\n",
    "    _ = plt.hist(var_sys,bins=nbins,range=dist.myrange,histtype='step')\n",
    "                \n",
    "    for i in range(nbins):\n",
    "        for j in range(nbins):\n",
    "            cov[i][j] += (h0[i]-hCV[i])*(h0[j]-hCV[j])/(hCV[i]*hCV[j])"
   ]
  },
  {
   "cell_type": "code",
   "execution_count": 57,
   "metadata": {},
   "outputs": [
    {
     "data": {
      "image/png": "[encoded data removed]",
      "text/plain": [
       "<Figure size 720x720 with 2 Axes>"
      ]
     },
     "metadata": {
      "needs_background": "light"
     },
     "output_type": "display_data"
    }
   ],
   "source": [
    "def DrawMatrix(cov,nbins)\n",
    "\n",
    "\n",
    "X, Y = np.meshgrid(binedges,binedges)\n",
    "\n",
    "fig,ax = plt.subplots(figsize=(10,10))\n",
    "crat = ax.pcolormesh(X, Y,cov,cmap='cool')#,vmin=-2,vmax=3)\n",
    "cbar = fig.colorbar(crat)\n"
   ]
  },
  {
   "cell_type": "code",
   "execution_count": null,
   "metadata": {},
   "outputs": [],
   "source": []
  },
  {
   "cell_type": "code",
   "execution_count": 75,
   "metadata": {},
   "outputs": [
    {
     "data": {
      "image/png": "[encoded data removed]",
      "text/plain": [
       "<Figure size 1152x792 with 1 Axes>"
      ]
     },
     "metadata": {
      "needs_background": "light"
     },
     "output_type": "display_data"
    }
   ],
   "source": [
    "vartest = 'Enu_1m1p'\n",
    "myrange = (300,1200)\n",
    "mybins = 18\n",
    "\n",
    "var_cv = df_cv.query(s_cuts)[vartest]\n",
    "cv_scale = np.ones(len(var_cv))*totalscale/scaleCV\n",
    "\n",
    "scalebnb = 8.98773223801e+20\n",
    "\n",
    "var_bnb = df_numu_run3_presel.query(s_cuts)[vartest]\n",
    "bnb_scale = df_numu_run3_presel.query(s_cuts)['xsec_corr_weight']*totalscale/scalebnb\n",
    "\n",
    "\n",
    "fig,ax = plt.subplots(figsize=(16,11))\n",
    "_ = plt.hist(var_cv,bins=nbins,range=myrange,weights=cv_scale,histtype='step')\n",
    "_ = plt.hist(var_bnb,bins=nbins,range=myrange,weights= bnb_scale,histtype='step')\n"
   ]
  },
  {
   "cell_type": "code",
   "execution_count": null,
   "metadata": {},
   "outputs": [],
   "source": []
  },
  {
   "cell_type": "code",
   "execution_count": null,
   "metadata": {},
   "outputs": [],
   "source": []
  },
  {
   "cell_type": "code",
   "execution_count": null,
   "metadata": {},
   "outputs": [],
   "source": []
  },
  {
   "cell_type": "code",
   "execution_count": null,
   "metadata": {},
   "outputs": [],
   "source": []
  },
  {
   "cell_type": "markdown",
   "metadata": {},
   "source": [
    "## Extras"
   ]
  },
  {
   "cell_type": "code",
   "execution_count": 83,
   "metadata": {},
   "outputs": [
    {
     "name": "stderr",
     "output_type": "stream",
     "text": [
      "/home/dcianci/.local/lib/python3.6/site-packages/numpy/lib/histograms.py:839: RuntimeWarning: invalid value encountered in greater_equal\n",
      "  keep = (tmp_a >= first_edge)\n",
      "/home/dcianci/.local/lib/python3.6/site-packages/numpy/lib/histograms.py:840: RuntimeWarning: invalid value encountered in less_equal\n",
      "  keep &= (tmp_a <= last_edge)\n"
     ]
    }
   ],
   "source": [
    "dumpbins = 18\n",
    "dumphole = '/home/dcianci/Downloads/detsys_may18_presel' # where are we dumping these?\n",
    "\n",
    "if not os.path.exists(dumphole):\n",
    "    os.makedirs(dumphole)\n",
    "\n",
    "for dist in varlistSel:\n",
    "    \n",
    "    fig,ax = plt.subplots(figsize=(16,11))\n",
    "    gs = gridspec.GridSpec(2, 1, height_ratios=[3, .75])\n",
    "    ax0 = plt.subplot(gs[0])\n",
    "    ax1 = plt.subplot(gs[1])\n",
    "    hSys =  []\n",
    "    \n",
    "    for i in range(len(s_detsyslist)):\n",
    "        var_sys = a_df_sys[i][dist.myname]\n",
    "        sys_scale = np.ones(len(var_sys))*totalscale/f_scaleslist[i]\n",
    "        h0,_ = np.histogram(var_sys,range=dist.myrange,bins=dumpbins,weights=sys_scale)\n",
    "        h1,_,_ = ax0.hist(var_sys,range=dist.myrange,bins=dumpbins,histtype='step',label=s_detsyslist[i]+' (%.4f)'%h0.sum(),linewidth=2,weights=sys_scale)\n",
    "        hSys.append(h1)\n",
    "    \n",
    "    var_cv = df_cv[dist.myname]\n",
    "    cv_scale = np.ones(len(var_cv))*totalscale/scaleCV\n",
    "    h0,_ = np.histogram(var_cv,range=dist.myrange,bins=dumpbins,weights=cv_scale)\n",
    "    hCV,binedges,_ = ax0.hist(var_cv,range=dist.myrange,bins=dumpbins,histtype='step',label='CV (%.4f)'%h0.sum(),linewidth=3,color='black',linestyle='--',weights=cv_scale)\n",
    "    \n",
    "    ax0.set_ylabel('Events in 5e19 POT',fontsize=20)\n",
    "    ax0.set_xlabel(dist.mylabel,fontsize=25)\n",
    "    ax0.set_title('BNB Overlay w/ Detsys',fontsize=15)\n",
    "    ax0.set_xlim(dist.myrange)\n",
    "    ax1.set_xlim(dist.myrange)\n",
    "    ax0.legend(fontsize=15)\n",
    "    ax1.set_ylim(0,2.5)\n",
    "    \n",
    "    for i in range(len(hSys)):\n",
    "        ydots = np.true_divide(hSys[i],hCV,where=hCV!=0)\n",
    "        xdots = binedges[:-1] + (binedges[1]-binedges[0])/float(len(hSys)) * i\n",
    "        ax1.scatter(xdots,ydots)\n",
    "    \n",
    "    ax1.axhline(1,linestyle=':',color='maroon')\n",
    "    \n",
    "    for j in range(len(hCV)):\n",
    "        ax1.axvline(binedges[j+1],linestyle=':',color='gray') \n",
    "    \n",
    "    plt.savefig(dumphole+'/'+dist.myname+'.png')\n",
    "    plt.close(fig)"
   ]
  }
 ],
 "metadata": {
  "kernelspec": {
   "display_name": "Python 3",
   "language": "python",
   "name": "python3"
  },
  "language_info": {
   "codemirror_mode": {
    "name": "ipython",
    "version": 3
   },
   "file_extension": ".py",
   "mimetype": "text/x-python",
   "name": "python",
   "nbconvert_exporter": "python",
   "pygments_lexer": "ipython3",
   "version": "3.6.9"
  }
 },
 "nbformat": 4,
 "nbformat_minor": 2
}
