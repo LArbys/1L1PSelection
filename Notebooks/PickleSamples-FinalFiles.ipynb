{
 "cells": [
  {
   "cell_type": "code",
   "execution_count": 1,
   "metadata": {},
   "outputs": [
    {
     "name": "stdout",
     "output_type": "stream",
     "text": [
      "Welcome to JupyROOT 6.18/04\n"
     ]
    }
   ],
   "source": [
    "%matplotlib inline\n",
    "\n",
    "from ROOT import TFile,vector,TGraph\n",
    "import ROOT\n",
    "import matplotlib.pyplot as plt\n",
    "import pickle\n",
    "import pandas as pd\n",
    "import numpy as np\n",
    "from numpy import mean\n",
    "from math import sqrt,acos,cos,sin,pi,exp,log,isnan,atan2\n",
    "from xgboost import XGBClassifier\n",
    "from sklearn.model_selection import train_test_split\n",
    "from numpy import asarray\n",
    "from root_pandas import read_root\n",
    "from matplotlib import gridspec\n",
    "from scipy import stats"
   ]
  },
  {
   "cell_type": "code",
   "execution_count": 2,
   "metadata": {},
   "outputs": [],
   "source": [
    "def bless_MC_labels(row):\n",
    "    mclabel = ''\n",
    "    intlabel = ''\n",
    "    parentlabel = ''\n",
    "    pizero = [1090,1086,1090,1080,1015,1013,1011,1008,1006,1004]\n",
    "    piplusminus = [1085,1079,1032,1017,1014,1007,1005,1003,1028,1021,1016,1012,1010,1009]\n",
    "        \n",
    "    if abs(row['nu_pdg']) == 12:\n",
    "        intlabel = 'nue'\n",
    "    elif abs(row['nu_pdg']) == 14:\n",
    "        intlabel = 'numu'\n",
    "        \n",
    "    if not (row['MC_nproton']==1 and row['MC_nlepton']==1):\n",
    "        return 'nLmP'\n",
    "    elif not 0 < row['MC_scedr'] <= 5.0:\n",
    "        return 'offvtx'\n",
    "    elif not abs((row['MC_energyInit']-row['Enu_1m1p'])/row['MC_energyInit']) < 0.2:\n",
    "        return 'badreco'    \n",
    "    else:\n",
    "        if row['nu_interaction_type'] == 1001:\n",
    "            mclabel = 'CCQE'\n",
    "        elif row['nu_interaction_type'] == 1000:\n",
    "            mclabel = 'MEC'\n",
    "        elif row['nu_interaction_type'] in pizero:\n",
    "            mclabel = 'pizero'\n",
    "        elif row['nu_interaction_type'] in piplusminus:\n",
    "            mclabel = 'piplusminus' \n",
    "        else:\n",
    "            mclabel = 'other'\n",
    "           \n",
    "    return '%s_%s'%(intlabel,mclabel)"
   ]
  },
  {
   "cell_type": "code",
   "execution_count": 3,
   "metadata": {},
   "outputs": [],
   "source": [
    "RSE=['run','subrun','event']\n",
    "\n",
    "def proc_df_mc(df_dlana,df_wgts,df_goodrun):\n",
    "    \n",
    "    df_full = df_dlana.join(df_goodrun.set_index('run'),on='run')\n",
    "    if df_wgts!='':\n",
    "        df_full = df_full.join(df_wgts.set_index(RSE)[['nu_interaction_mode','nu_interaction_type','xsec_corr_weight','spline_weight','nu_interaction_ccnc','nu_pdg']],on=RSE)\n",
    "\n",
    "    df_full_goodruns = df_full.query('good==1')\n",
    "    df_full_goodruns_precuts = df_full_goodruns.query('PassPMTPrecut==1 and PassSimpleCuts==1')\n",
    "    if df_wgts != '':\n",
    "        df_full_goodruns_precuts.insert(0,'mc_label',df_full_goodruns_precuts.apply(bless_MC_labels,axis=1))\n",
    "    df_full_nodupes = df_full_goodruns_precuts.sort_values('BDTscore_1mu1p_cosmic',ascending=False).drop_duplicates(RSE).sort_index()\n",
    "    \n",
    "    return df_full_nodupes"
   ]
  },
  {
   "cell_type": "code",
   "execution_count": 4,
   "metadata": {},
   "outputs": [],
   "source": [
    "# Time to load the good runs list\n",
    "good_run1_df = pd.read_csv('../data/goodruns_2020.txt')\n",
    "good_run3_df = pd.read_csv('../data/goodruns_2020_run3.txt')\n",
    "\n",
    "good_run1_df['good'] = 1\n",
    "good_run3_df['good'] = 1"
   ]
  },
  {
   "cell_type": "code",
   "execution_count": 5,
   "metadata": {},
   "outputs": [],
   "source": [
    "# Beam quality\n",
    "beamq_df = read_root('../data/beamdataquality_remix_bnb5e19.root','bdq')"
   ]
  },
  {
   "cell_type": "code",
   "execution_count": 6,
   "metadata": {},
   "outputs": [],
   "source": [
    "tag = 'May1'"
   ]
  },
  {
   "cell_type": "markdown",
   "metadata": {},
   "source": [
    "# MC BNB OVERLAY"
   ]
  },
  {
   "cell_type": "markdown",
   "metadata": {},
   "source": [
    "##  Run1"
   ]
  },
  {
   "cell_type": "code",
   "execution_count": 13,
   "metadata": {},
   "outputs": [],
   "source": [
    "df_bnb = read_root('../data/bnb_overlay/mcc9_v28_wctagger_bnboverlay_stripped.root','FinalVertexVariables')\n",
    "df_bnb_cvweight = read_root('../data/bnb_overlay/weights_forCV_v40_bnb_nu_run1.root')\n",
    "\n",
    "df_nodupes = proc_df_mc(df_bnb,df_bnb_cvweight,good_run1_df)  \n",
    "df_nodupes = df_nodupes.query('not (nu_interaction_ccnc==0 and abs(nu_pdg)==12)') # cut out nue ccqes\n",
    "\n",
    "df_nodupes.to_parquet('../data/pickles/numu_run1_nodupes%s.parquet'%tag)"
   ]
  },
  {
   "cell_type": "code",
   "execution_count": 14,
   "metadata": {},
   "outputs": [],
   "source": [
    "df_bnb = read_root('../data/bnb_overlay/mcc9_v29e_run1_bnb_nu_overlay_LowE.root','dlana/FinalVertexVariables')\n",
    "df_bnb_cvweight = read_root('../data/bnb_overlay/weights_forCV_v40_bnb_nu_lowE_run1.root')\n",
    "\n",
    "df_nodupes = proc_df_mc(df_bnb,df_bnb_cvweight,good_run1_df)  \n",
    "df_nodupes = df_nodupes.query('not (nu_interaction_ccnc==0 and abs(nu_pdg)==12)') # cut out nue ccqes\n",
    "\n",
    "df_nodupes.to_parquet('../data/pickles/numu_lowe_run1_nodupes%s.parquet'%tag)"
   ]
  },
  {
   "cell_type": "markdown",
   "metadata": {},
   "source": [
    "## Run3"
   ]
  },
  {
   "cell_type": "code",
   "execution_count": 19,
   "metadata": {},
   "outputs": [],
   "source": [
    "df_bnb = read_root('../data/bnb_overlay/mcc9_v29e_dl_run3b_bnb_nu_overlay_nocrtremerge_stripped.root','FinalVertexVariables')\n",
    "df_bnb_cvweight = read_root('../data/bnb_overlay/weights_forCV_v40_bnb_nu_run3.root')\n",
    "\n",
    "df_nodupes = proc_df_mc(df_bnb,df_bnb_cvweight,good_run3_df)  \n",
    "df_nodupes = df_nodupes.query('not (nu_interaction_ccnc==0 and abs(nu_pdg)==12)') # cut out nue ccqes\n",
    "\n",
    "df_nodupes.to_parquet('../data/pickles/numu_run3_nodupes%s.parquet'%tag)"
   ]
  },
  {
   "cell_type": "code",
   "execution_count": 24,
   "metadata": {},
   "outputs": [],
   "source": [
    "df_bnb = read_root('../data/bnb_overlay/mcc9_v29e_run3b_bnb_nu_overlay_LowE.root','dlana/FinalVertexVariables')\n",
    "df_bnb_cvweight = read_root('../data/bnb_overlay/weights_forCV_v40_bnb_nu_lowE_run3.root')\n",
    "\n",
    "df_nodupes = proc_df_mc(df_bnb,df_bnb_cvweight,good_run3_df)  \n",
    "df_nodupes = df_nodupes.query('not (nu_interaction_ccnc==0 and abs(nu_pdg)==12)') # cut out nue ccqes\n",
    "\n",
    "df_nodupes.to_parquet('../data/pickles/numu_lowe_run3_nodupes%s.parquet'%tag)"
   ]
  },
  {
   "cell_type": "code",
   "execution_count": null,
   "metadata": {},
   "outputs": [],
   "source": []
  },
  {
   "cell_type": "code",
   "execution_count": 19,
   "metadata": {},
   "outputs": [],
   "source": [
    "df_cv = read_root('../data/detsys/mcc9_v40a_dl_run3b_bnb_overlay_CV.root','FinalVertexVariables')"
   ]
  },
  {
   "cell_type": "code",
   "execution_count": 7,
   "metadata": {},
   "outputs": [
    {
     "ename": "OSError",
     "evalue": "cannot read ../data/detsys/mcc9_v40a_dl_run3b_bnb_nu_overlay_DetVar_wiremodYZ.root",
     "output_type": "error",
     "traceback": [
      "\u001b[0;31m---------------------------------------------------------------------------\u001b[0m",
      "\u001b[0;31mOSError\u001b[0m                                   Traceback (most recent call last)",
      "\u001b[0;32m<ipython-input-7-e1f01d94931c>\u001b[0m in \u001b[0;36m<module>\u001b[0;34m\u001b[0m\n\u001b[0;32m----> 1\u001b[0;31m \u001b[0mdf_bnb\u001b[0m \u001b[0;34m=\u001b[0m \u001b[0mread_root\u001b[0m\u001b[0;34m(\u001b[0m\u001b[0;34m'../data/detsys/mcc9_v40a_dl_run3b_bnb_nu_overlay_DetVar_wiremodYZ.root'\u001b[0m\u001b[0;34m,\u001b[0m\u001b[0;34m'dlana/FinalVertexVariables'\u001b[0m\u001b[0;34m)\u001b[0m\u001b[0;34m\u001b[0m\u001b[0;34m\u001b[0m\u001b[0m\n\u001b[0m\u001b[1;32m      2\u001b[0m \u001b[0mdf_nodupes\u001b[0m \u001b[0;34m=\u001b[0m \u001b[0mproc_df_mc\u001b[0m\u001b[0;34m(\u001b[0m\u001b[0mdf_bnb\u001b[0m\u001b[0;34m,\u001b[0m\u001b[0;34m''\u001b[0m\u001b[0;34m,\u001b[0m\u001b[0mgood_run3_df\u001b[0m\u001b[0;34m)\u001b[0m\u001b[0;34m\u001b[0m\u001b[0;34m\u001b[0m\u001b[0m\n\u001b[1;32m      3\u001b[0m \u001b[0mdf_nodupes\u001b[0m\u001b[0;34m.\u001b[0m\u001b[0mto_parquet\u001b[0m\u001b[0;34m(\u001b[0m\u001b[0;34m'../data/pickles/detsys_wiremodYZ_run3_nodupes%s.parquet'\u001b[0m\u001b[0;34m%\u001b[0m\u001b[0mtag\u001b[0m\u001b[0;34m)\u001b[0m\u001b[0;34m\u001b[0m\u001b[0;34m\u001b[0m\u001b[0m\n",
      "\u001b[0;32m~/.local/lib/python3.6/site-packages/root_pandas/readwrite.py\u001b[0m in \u001b[0;36mread_root\u001b[0;34m(paths, key, columns, ignore, chunksize, where, flatten, *args, **kwargs)\u001b[0m\n\u001b[1;32m    204\u001b[0m     \u001b[0;31m# Use a single file to search for trees and branches, ensuring the key exists\u001b[0m\u001b[0;34m\u001b[0m\u001b[0;34m\u001b[0m\u001b[0;34m\u001b[0m\u001b[0m\n\u001b[1;32m    205\u001b[0m     \u001b[0;32mfor\u001b[0m \u001b[0mseed_path\u001b[0m \u001b[0;32min\u001b[0m \u001b[0mpaths\u001b[0m\u001b[0;34m:\u001b[0m\u001b[0;34m\u001b[0m\u001b[0;34m\u001b[0m\u001b[0m\n\u001b[0;32m--> 206\u001b[0;31m         \u001b[0mtrees\u001b[0m \u001b[0;34m=\u001b[0m \u001b[0mlist_trees\u001b[0m\u001b[0;34m(\u001b[0m\u001b[0mseed_path\u001b[0m\u001b[0;34m)\u001b[0m\u001b[0;34m\u001b[0m\u001b[0;34m\u001b[0m\u001b[0m\n\u001b[0m\u001b[1;32m    207\u001b[0m         \u001b[0;32mif\u001b[0m \u001b[0mkey\u001b[0m \u001b[0;32mand\u001b[0m \u001b[0mkey\u001b[0m \u001b[0;32mnot\u001b[0m \u001b[0;32min\u001b[0m \u001b[0mtrees\u001b[0m\u001b[0;34m:\u001b[0m\u001b[0;34m\u001b[0m\u001b[0;34m\u001b[0m\u001b[0m\n\u001b[1;32m    208\u001b[0m             \u001b[0;32mcontinue\u001b[0m\u001b[0;34m\u001b[0m\u001b[0;34m\u001b[0m\u001b[0m\n",
      "\u001b[0;32m~/.local/lib/python3.6/site-packages/root_numpy/_tree.py\u001b[0m in \u001b[0;36mlist_trees\u001b[0;34m(filename)\u001b[0m\n\u001b[1;32m     53\u001b[0m \u001b[0;34m\u001b[0m\u001b[0m\n\u001b[1;32m     54\u001b[0m     \"\"\"\n\u001b[0;32m---> 55\u001b[0;31m     \u001b[0;32mreturn\u001b[0m \u001b[0m_librootnumpy\u001b[0m\u001b[0;34m.\u001b[0m\u001b[0mlist_trees\u001b[0m\u001b[0;34m(\u001b[0m\u001b[0mfilename\u001b[0m\u001b[0;34m)\u001b[0m\u001b[0;34m\u001b[0m\u001b[0;34m\u001b[0m\u001b[0m\n\u001b[0m\u001b[1;32m     56\u001b[0m \u001b[0;34m\u001b[0m\u001b[0m\n\u001b[1;32m     57\u001b[0m \u001b[0;34m\u001b[0m\u001b[0m\n",
      "\u001b[0;32mroot_numpy/src/tree.pyx\u001b[0m in \u001b[0;36m_librootnumpy.list_trees\u001b[0;34m()\u001b[0m\n",
      "\u001b[0;32mroot_numpy/src/tree.pyx\u001b[0m in \u001b[0;36m_librootnumpy.list_objects\u001b[0;34m()\u001b[0m\n",
      "\u001b[0;31mOSError\u001b[0m: cannot read ../data/detsys/mcc9_v40a_dl_run3b_bnb_nu_overlay_DetVar_wiremodYZ.root"
     ]
    },
    {
     "name": "stderr",
     "output_type": "stream",
     "text": [
      "Error in <TFile::TFile>: file ../data/detsys/mcc9_v40a_dl_run3b_bnb_nu_overlay_DetVar_wiremodYZ.root does not exist\n"
     ]
    }
   ],
   "source": [
    "df_bnb = read_root('../data/detsys/mcc9_v40a_dl_run3b_bnb_nu_overlay_DetVar_wiremodYZ.root','dlana/FinalVertexVariables')\n",
    "df_bnb.join\n",
    "df_nodupes = proc_df_mc(df_bnb,'',good_run3_df)  \n",
    "df_nodupes.to_parquet('../data/pickles/detsys_wiremodYZ_run3_nodupes%s.parquet'%tag)"
   ]
  },
  {
   "cell_type": "code",
   "execution_count": 10,
   "metadata": {},
   "outputs": [],
   "source": [
    "df_bnb = read_root('../data/detsys/mcc9_v40a_dl_run3b_bnb_nu_overlay_DetVar_LYdown.root','dlana/FinalVertexVariables')\n",
    "df_nodupes = proc_df_mc(df_bnb,'',good_run3_df)  \n",
    "df_nodupes.to_parquet('../data/pickles/detsys_LYdown_run3_nodupes%s.parquet'%tag)"
   ]
  },
  {
   "cell_type": "code",
   "execution_count": 11,
   "metadata": {},
   "outputs": [],
   "source": [
    "df_bnb = read_root('../data/detsys/mcc9_v40a_dl_run3b_bnb_nu_overlay_DetVar_LYAttenuation.root','dlana/FinalVertexVariables')\n",
    "df_nodupes = proc_df_mc(df_bnb,'',good_run3_df)  \n",
    "df_nodupes.to_parquet('../data/pickles/detsys_LYattenuation_run3_nodupes%s.parquet'%tag)"
   ]
  },
  {
   "cell_type": "code",
   "execution_count": 12,
   "metadata": {},
   "outputs": [],
   "source": [
    "df_bnb = read_root('../data/detsys/mcc9_v40a_dl_run3b_bnb_nu_overlay_DetVar_SCE.root','dlana/FinalVertexVariables')\n",
    "df_nodupes = proc_df_mc(df_bnb,'',good_run3_df)  \n",
    "df_nodupes.to_parquet('../data/pickles/detsys_SCE_run3_nodupes%s.parquet'%tag)"
   ]
  },
  {
   "cell_type": "code",
   "execution_count": 13,
   "metadata": {},
   "outputs": [],
   "source": [
    "df_bnb = read_root('../data/detsys/mcc9_v40a_dl_run3b_bnb_nu_overlay_DetVar_wiremodThetaYZ.root','dlana/FinalVertexVariables')\n",
    "df_nodupes = proc_df_mc(df_bnb,'',good_run3_df)  \n",
    "df_nodupes.to_parquet('../data/pickles/detsys_wiremodThetaYZ_run3_nodupes%s.parquet'%tag)"
   ]
  },
  {
   "cell_type": "code",
   "execution_count": 26,
   "metadata": {},
   "outputs": [
    {
     "ename": "OSError",
     "evalue": "cannot read ../data/detsys/mcc9_v40a_dl_run3b_bnb_nu_overlay_DetVar_wiremodThetaXZ.root",
     "output_type": "error",
     "traceback": [
      "\u001b[0;31m---------------------------------------------------------------------------\u001b[0m",
      "\u001b[0;31mOSError\u001b[0m                                   Traceback (most recent call last)",
      "\u001b[0;32m<ipython-input-26-2a2a297ba2a0>\u001b[0m in \u001b[0;36m<module>\u001b[0;34m\u001b[0m\n\u001b[0;32m----> 1\u001b[0;31m \u001b[0mdf_bnb\u001b[0m \u001b[0;34m=\u001b[0m \u001b[0mread_root\u001b[0m\u001b[0;34m(\u001b[0m\u001b[0;34m'../data/detsys/mcc9_v40a_dl_run3b_bnb_nu_overlay_DetVar_wiremodThetaXZ.root'\u001b[0m\u001b[0;34m,\u001b[0m\u001b[0;34m'FinalVertexVariables'\u001b[0m\u001b[0;34m)\u001b[0m\u001b[0;34m\u001b[0m\u001b[0;34m\u001b[0m\u001b[0m\n\u001b[0m\u001b[1;32m      2\u001b[0m \u001b[0mdf_nodupes\u001b[0m \u001b[0;34m=\u001b[0m \u001b[0mproc_df_mc\u001b[0m\u001b[0;34m(\u001b[0m\u001b[0mdf_bnb\u001b[0m\u001b[0;34m,\u001b[0m\u001b[0;34m''\u001b[0m\u001b[0;34m,\u001b[0m\u001b[0mgood_run3_df\u001b[0m\u001b[0;34m)\u001b[0m\u001b[0;34m\u001b[0m\u001b[0;34m\u001b[0m\u001b[0m\n\u001b[1;32m      3\u001b[0m \u001b[0mdf_nodupes\u001b[0m\u001b[0;34m.\u001b[0m\u001b[0mto_parquet\u001b[0m\u001b[0;34m(\u001b[0m\u001b[0;34m'../data/pickles/detsys_wiremodThetaXZ_run3_nodupes%s.parquet'\u001b[0m\u001b[0;34m%\u001b[0m\u001b[0mtag\u001b[0m\u001b[0;34m)\u001b[0m\u001b[0;34m\u001b[0m\u001b[0;34m\u001b[0m\u001b[0m\n",
      "\u001b[0;32m~/.local/lib/python3.6/site-packages/root_pandas/readwrite.py\u001b[0m in \u001b[0;36mread_root\u001b[0;34m(paths, key, columns, ignore, chunksize, where, flatten, *args, **kwargs)\u001b[0m\n\u001b[1;32m    204\u001b[0m     \u001b[0;31m# Use a single file to search for trees and branches, ensuring the key exists\u001b[0m\u001b[0;34m\u001b[0m\u001b[0;34m\u001b[0m\u001b[0;34m\u001b[0m\u001b[0m\n\u001b[1;32m    205\u001b[0m     \u001b[0;32mfor\u001b[0m \u001b[0mseed_path\u001b[0m \u001b[0;32min\u001b[0m \u001b[0mpaths\u001b[0m\u001b[0;34m:\u001b[0m\u001b[0;34m\u001b[0m\u001b[0;34m\u001b[0m\u001b[0m\n\u001b[0;32m--> 206\u001b[0;31m         \u001b[0mtrees\u001b[0m \u001b[0;34m=\u001b[0m \u001b[0mlist_trees\u001b[0m\u001b[0;34m(\u001b[0m\u001b[0mseed_path\u001b[0m\u001b[0;34m)\u001b[0m\u001b[0;34m\u001b[0m\u001b[0;34m\u001b[0m\u001b[0m\n\u001b[0m\u001b[1;32m    207\u001b[0m         \u001b[0;32mif\u001b[0m \u001b[0mkey\u001b[0m \u001b[0;32mand\u001b[0m \u001b[0mkey\u001b[0m \u001b[0;32mnot\u001b[0m \u001b[0;32min\u001b[0m \u001b[0mtrees\u001b[0m\u001b[0;34m:\u001b[0m\u001b[0;34m\u001b[0m\u001b[0;34m\u001b[0m\u001b[0m\n\u001b[1;32m    208\u001b[0m             \u001b[0;32mcontinue\u001b[0m\u001b[0;34m\u001b[0m\u001b[0;34m\u001b[0m\u001b[0m\n",
      "\u001b[0;32m~/.local/lib/python3.6/site-packages/root_numpy/_tree.py\u001b[0m in \u001b[0;36mlist_trees\u001b[0;34m(filename)\u001b[0m\n\u001b[1;32m     53\u001b[0m \u001b[0;34m\u001b[0m\u001b[0m\n\u001b[1;32m     54\u001b[0m     \"\"\"\n\u001b[0;32m---> 55\u001b[0;31m     \u001b[0;32mreturn\u001b[0m \u001b[0m_librootnumpy\u001b[0m\u001b[0;34m.\u001b[0m\u001b[0mlist_trees\u001b[0m\u001b[0;34m(\u001b[0m\u001b[0mfilename\u001b[0m\u001b[0;34m)\u001b[0m\u001b[0;34m\u001b[0m\u001b[0;34m\u001b[0m\u001b[0m\n\u001b[0m\u001b[1;32m     56\u001b[0m \u001b[0;34m\u001b[0m\u001b[0m\n\u001b[1;32m     57\u001b[0m \u001b[0;34m\u001b[0m\u001b[0m\n",
      "\u001b[0;32mroot_numpy/src/tree.pyx\u001b[0m in \u001b[0;36m_librootnumpy.list_trees\u001b[0;34m()\u001b[0m\n",
      "\u001b[0;32mroot_numpy/src/tree.pyx\u001b[0m in \u001b[0;36m_librootnumpy.list_objects\u001b[0;34m()\u001b[0m\n",
      "\u001b[0;31mOSError\u001b[0m: cannot read ../data/detsys/mcc9_v40a_dl_run3b_bnb_nu_overlay_DetVar_wiremodThetaXZ.root"
     ]
    },
    {
     "name": "stderr",
     "output_type": "stream",
     "text": [
      "Error in <TFile::TFile>: file ../data/detsys/mcc9_v40a_dl_run3b_bnb_nu_overlay_DetVar_wiremodThetaXZ.root does not exist\n"
     ]
    }
   ],
   "source": [
    "df_bnb = read_root('../data/detsys/mcc9_v40a_dl_run3b_bnb_nu_overlay_DetVar_wiremodThetaXZ.root','FinalVertexVariables')\n",
    "df_nodupes = proc_df_mc(df_bnb,'',good_run3_df)  \n",
    "df_nodupes.to_parquet('../data/pickles/detsys_wiremodThetaXZ_run3_nodupes%s.parquet'%tag)"
   ]
  },
  {
   "cell_type": "code",
   "execution_count": 27,
   "metadata": {},
   "outputs": [],
   "source": [
    "df_bnb = read_root('../data/detsys/mcc9_v40_dl_run3b_bnb_nu_overlay_DetVar_recomb2.root','FinalVertexVariables')\n",
    "df_nodupes = proc_df_mc(df_bnb,'',good_run3_df)  \n",
    "df_nodupes.to_parquet('../data/pickles/detsys_recomb_run3_nodupes%s.parquet'%tag)"
   ]
  },
  {
   "cell_type": "code",
   "execution_count": 23,
   "metadata": {},
   "outputs": [],
   "source": [
    "df_bnb = read_root('../data/detsys/mcc9_v40a_dl_run3b_bnb_overlay_wiremodX.root','dlana/FinalVertexVariables')\n",
    "df_nodupes = proc_df_mc(df_bnb,'',good_run3_df)  \n",
    "df_nodupes.to_parquet('../data/pickles/detsys_wiremodX_run3_nodupes%s.parquet'%tag)"
   ]
  },
  {
   "cell_type": "code",
   "execution_count": 24,
   "metadata": {},
   "outputs": [],
   "source": [
    "df_bnb = read_root('../data/detsys/mcc9_v40_dl_run3b_bnb_nu_overlay_DetVar_wiremodscaleddedx.root','FinalVertexVariables')\n",
    "df_nodupes = proc_df_mc(df_bnb,'',good_run3_df)  \n",
    "df_nodupes.to_parquet('../data/pickles/detsys_wiremoddEdx_run3_nodupes%s.parquet'%tag)"
   ]
  },
  {
   "cell_type": "markdown",
   "metadata": {},
   "source": [
    "# DIRT"
   ]
  },
  {
   "cell_type": "code",
   "execution_count": 12,
   "metadata": {},
   "outputs": [
    {
     "name": "stdout",
     "output_type": "stream",
     "text": [
      "7557 1470\n"
     ]
    }
   ],
   "source": [
    "df_dirt = read_root('../data/dirt/FVV-Prime-dirt-Mar3-WC-1M1P.root','FinalVertexVariables')\n",
    "df_dirt_cvweight = read_root('../data/dirt/weights_forCV_v40_dirt_nu_run1.root')\n",
    "\n",
    "df_full = df_dirt.join(good_run1_df.set_index('run'),on='run')\n",
    "df_full = df_full.join(df_dirt_cvweight.set_index(RSE)[['nu_interaction_mode','nu_interaction_type','xsec_corr_weight','spline_weight','nu_interaction_ccnc','nu_pdg']],on=RSE)\n",
    "df_full_goodruns = df_full.query('good==1')\n",
    "df_full_goodruns_precuts = df_full_goodruns.query('PassPMTPrecut==1 and PassSimpleCuts==1')\n",
    "\n",
    "with open('/home/dcianci/Physics/1e1p/1mu1pSelection/bdtweights_1mu1p_WC_apr1.pickle','rb') as handle: cosmicBDT,nubkgBDT = pickle.load(handle)          # Load BDT weights for 1mu1p background differentiation    \n",
    "myvars = ['Eta','ChargeNearTrunk','PT_1m1p','PhiT_1m1p','AlphaT_1m1p','Sph_1m1p','Q0_1m1p','Q2_1m1p','Q3_1m1p','Lepton_ThetaReco','Lepton_PhiReco','Proton_ThetaReco','Proton_PhiReco','PTRat_1m1p','Lepton_TrackLength','Thetas','Phis','Proton_TrackLength','OpenAng','PzEnu_1m1p']\n",
    "s_nubdtname = 'BDTscore_1mu1p_nu'\n",
    "s_cosbdtname = 'BDTscore_1mu1p_cosmic'\n",
    "df_full_goodruns_precuts.insert(0,s_nubdtname,nubkgBDT.predict(df_full_goodruns_precuts[myvars].values.tolist(),output_margin=True))\n",
    "df_full_goodruns_precuts.insert(0,s_cosbdtname,cosmicBDT.predict(df_full_goodruns_precuts[myvars].values.tolist(),output_margin=True))\n",
    "\n",
    "df_nodupes = df_full_goodruns_precuts.sort_values('BDTscore_1mu1p_cosmic',ascending=False).drop_duplicates(RSE).sort_index()\n",
    "df_nodupes.to_parquet('../data/pickles/dirt_run1_nodupes%s.parquet'%tag)\n",
    "\n",
    "del df_full,df_full_goodruns,df_full_goodruns_precuts"
   ]
  },
  {
   "cell_type": "markdown",
   "metadata": {},
   "source": [
    "# MC NUE OVERLAY"
   ]
  },
  {
   "cell_type": "code",
   "execution_count": 21,
   "metadata": {},
   "outputs": [],
   "source": [
    "df_nue = read_root('../data/nue_intrinsic_overlay/mcc9_v28_wctagger_nueintrinsics_stripped.root')\n",
    "df_nue_cvweights = read_root('../data/nue_intrinsic_overlay/weights_forCV_v40_intrinsic_nue_run1.root')\n",
    "\n",
    "df_nodupes = proc_df_mc(df_nue,df_nue_cvweights,good_run1_df)  \n",
    "\n",
    "df_nodupes.to_parquet('../data/pickles/nue_run1_nodupes%s.parquet'%tag)"
   ]
  },
  {
   "cell_type": "code",
   "execution_count": 22,
   "metadata": {},
   "outputs": [],
   "source": [
    "df_nue = read_root('../data/nue_intrinsic_overlay/mcc9_v29e_run3b_bnb_intrinsic_nue_overlay_nocrtremerge_stripped.root')\n",
    "df_nue_cvweights = read_root('../data/nue_intrinsic_overlay/weights_forCV_v40_intrinsic_nue_run3.root')\n",
    "\n",
    "df_nodupes = proc_df_mc(df_nue,df_nue_cvweights,good_run3_df)  \n",
    "\n",
    "df_nodupes.to_parquet('../data/pickles/nue_run3_nodupes%s.parquet'%tag)"
   ]
  },
  {
   "cell_type": "markdown",
   "metadata": {},
   "source": [
    "# EXT"
   ]
  },
  {
   "cell_type": "code",
   "execution_count": 27,
   "metadata": {},
   "outputs": [],
   "source": [
    "df_ext = read_root('../data/ext/mcc9_v28_wctagger_extbnbFULL_stripped.root')\n",
    "    \n",
    "df_ext = df_ext.join(good_run1_df.set_index('run'),on='run')\n",
    "df_ext_goodruns = df_ext.query(\"good==1\")\n",
    "df_ext_goodruns_precuts = df_ext_goodruns.query(\"PassPMTPrecut==1 and PassSimpleCuts==1\")\n",
    "df_nodupes = df_ext_goodruns_precuts.sort_values('BDTscore_1mu1p_cosmic',ascending=False).drop_duplicates(RSE).sort_index()\n",
    "\n",
    "df_nodupes.to_parquet('../data/pickles/ext_run1_nodupes%s.parquet'%tag)\n",
    " \n",
    "del df_ext,df_ext_goodruns,df_ext_goodruns_precuts"
   ]
  },
  {
   "cell_type": "code",
   "execution_count": 25,
   "metadata": {},
   "outputs": [],
   "source": [
    "df_ext = read_root('../data/ext/mcc9_v29e_dl_run3_G1_extbnb_stripped.root')\n",
    "    \n",
    "df_ext = df_ext.join(good_run3_df.set_index('run'),on='run')\n",
    "df_ext_goodruns = df_ext.query(\"good==1\")\n",
    "df_ext_goodruns_precuts = df_ext_goodruns.query(\"PassPMTPrecut==1 and PassSimpleCuts==1\")\n",
    "df_nodupes = df_ext_goodruns_precuts.sort_values('BDTscore_1mu1p_cosmic',ascending=False).drop_duplicates(RSE).sort_index()\n",
    "\n",
    "df_nodupes.to_parquet('../data/pickles/ext_run3_nodupes%s.parquet'%tag)\n",
    "\n",
    "del df_ext,df_ext_goodruns,df_ext_goodruns_precuts"
   ]
  },
  {
   "cell_type": "markdown",
   "metadata": {},
   "source": [
    "# Data"
   ]
  },
  {
   "cell_type": "code",
   "execution_count": 10,
   "metadata": {},
   "outputs": [],
   "source": [
    "df_data = read_root('../data/bnb/mcc9_v28_wctagger_5e19.root','dlana/FinalVertexVariables')\n",
    "\n",
    "df_data = df_data.join(good_run1_df.set_index('run'),on='run')\n",
    "df_data = df_data.join(beamq_df.set_index(['run','subrun','event']),on=['run','subrun','event'])\n",
    "\n",
    "df_data_goodruns = df_data.query(\"good==1 and result==1\")\n",
    "df_data_goodruns_precuts = df_data_goodruns.query(\"PassPMTPrecut==1 and PassSimpleCuts==1\")\n",
    "df_nodupes = df_data_goodruns_precuts.sort_values('BDTscore_1mu1p_cosmic',ascending=False).drop_duplicates(RSE).sort_index()\n",
    "\n",
    "df_nodupes.to_parquet('../data/pickles/data_run1_nodupes%s.parquet'%tag)\n",
    "\n",
    "del df_data,df_data_goodruns,df_data_goodruns_precuts"
   ]
  },
  {
   "cell_type": "code",
   "execution_count": 7,
   "metadata": {},
   "outputs": [],
   "source": [
    "df_data = read_root('../data/bnb/mcc9_v29e_dl_run3_G1_bnb_dlfilter_1m1p_fvv.root','dlana/FinalVertexVariables')\n",
    "\n",
    "df_data = df_data.join(good_run3_df.set_index('run'),on='run')\n",
    "#df_data = df_data.join(beamq_df.set_index(['run','subrun','event']),on=['run','subrun','event'])\n",
    "\n",
    "df_data_goodruns = df_data.query(\"good==1\")# and result==1\")\n",
    "df_data_goodruns_precuts = df_data_goodruns.query(\"PassPMTPrecut==1 and PassSimpleCuts==1\")\n",
    "df_nodupes = df_data_goodruns_precuts.sort_values('BDTscore_1mu1p_cosmic',ascending=False).drop_duplicates(RSE).sort_index()\n",
    "\n",
    "df_nodupes.to_parquet('../data/pickles/data_run3_filter_nodupes%s.parquet'%tag)\n",
    "\n",
    "del df_data,df_data_goodruns,df_data_goodruns_precuts"
   ]
  },
  {
   "cell_type": "code",
   "execution_count": 9,
   "metadata": {},
   "outputs": [],
   "source": [
    "#FAKEDATA\n",
    "df_data = read_root('../data/bnb/FVV_fakedata_test.root','dlana/FinalVertexVariables')\n",
    "\n",
    "df_data = df_data.query(\"PassPMTPrecut==1 and PassSimpleCuts==1\")\n",
    "df_nodupes = df_data.sort_values('BDTscore_1mu1p_cosmic',ascending=False).drop_duplicates(RSE).sort_index()\n",
    "\n",
    "df_nodupes.to_parquet('../data/pickles/data_fakedata_nodupes%s.parquet'%tag)\n",
    "\n",
    "del df_data"
   ]
  },
  {
   "cell_type": "markdown",
   "metadata": {},
   "source": [
    "# Get POT for mc"
   ]
  },
  {
   "cell_type": "code",
   "execution_count": null,
   "metadata": {},
   "outputs": [],
   "source": [
    "df_pot = read_root('../data/mcc9_v13_bnb_overlay/old/pot_scrape.root','pot_tree',columns=['run', 'subrun','pot'])\n",
    "RS=['run','subrun']\n",
    "\n",
    "df_pot = pd.merge(df_numu_goodruns,df_pot,on=RS)\n",
    "df_pot.drop_duplicates(RS,inplace=True)\n",
    "print(df_pot['pot'].values.sum())"
   ]
  },
  {
   "cell_type": "code",
   "execution_count": null,
   "metadata": {},
   "outputs": [],
   "source": [
    "# Get list of RS\n",
    "RS=['run','subrun']\n",
    "df_rs = df_data_goodruns.drop_duplicates(RS)\n",
    "\n",
    "f = open('../data/RS_data.txt','w')\n",
    "for e in range(len(df_rs)):\n",
    "    f.write('%i %i\\n' % (df_rs['run'].values[e], df_rs['subrun'].values[e]))\n",
    "f.close() "
   ]
  },
  {
   "cell_type": "code",
   "execution_count": null,
   "metadata": {},
   "outputs": [],
   "source": [
    "def bless_scedr(row):\n",
    "    scedr = float(-1)\n",
    "    dx = row['Xreco'] - row['parentSCEX']\n",
    "    dy = row['Yreco'] - row['parentSCEY']\n",
    "    dz = row['Zreco'] - row['parentSCEZ']\n",
    "    dr2 = dx*dx+dy*dy+dz*dz\n",
    "    dr = np.sqrt(dr2)\n",
    "\n",
    "    scedr = dr\n",
    "    return scedr\n"
   ]
  },
  {
   "cell_type": "code",
   "execution_count": null,
   "metadata": {},
   "outputs": [],
   "source": [
    "def bless_proton_dedx(row):\n",
    "    dedx = row['Proton_Edep']/float(row['Proton_TrackLength'])\n",
    "    return dedx\n",
    "\n",
    "def bless_proton_dedx_recombo(row):\n",
    "    \n",
    "    Rho = 1.383\n",
    "    betap = 0.183592\n",
    "    alpha = 0.921969\n",
    "\n",
    "    Wion = 23.6e-6\n",
    "    Efield = 0.273\n",
    "\n",
    "    dedx = (np.exp(row['Proton_dQdx']*(betap/(Rho*Efield))*Wion)-alpha)/(betap/(Rho*Efield))\n",
    "    return dedx"
   ]
  },
  {
   "cell_type": "code",
   "execution_count": null,
   "metadata": {},
   "outputs": [],
   "source": [
    "# restrict to 5e19 run range\n",
    "#df_nue_goodruns_pmtprecut = df_nue_goodruns_pmtprecut.query('run>=5119 and run<=5955')"
   ]
  }
 ],
 "metadata": {
  "kernelspec": {
   "display_name": "Python 3",
   "language": "python",
   "name": "python3"
  },
  "language_info": {
   "codemirror_mode": {
    "name": "ipython",
    "version": 3
   },
   "file_extension": ".py",
   "mimetype": "text/x-python",
   "name": "python",
   "nbconvert_exporter": "python",
   "pygments_lexer": "ipython3",
   "version": "3.6.9"
  }
 },
 "nbformat": 4,
 "nbformat_minor": 2
}
