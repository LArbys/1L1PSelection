{
 "cells": [
  {
   "cell_type": "code",
   "execution_count": 54,
   "metadata": {},
   "outputs": [],
   "source": [
    "%matplotlib inline\n",
    "\n",
    "import matplotlib.pyplot as plt\n",
    "import pickle\n",
    "import pandas as pd\n",
    "import numpy as np\n",
    "from numpy import mean\n",
    "from math import sqrt,acos,cos,sin,pi,exp,log,isnan,atan2\n",
    "from xgboost import XGBClassifier\n",
    "from sklearn.model_selection import train_test_split\n",
    "from numpy import asarray\n",
    "from root_pandas import read_root\n",
    "from matplotlib import gridspec\n",
    "from scipy import stats\n",
    "\n",
    "\n",
    "datafolder = '../../data'\n",
    "dumpfolder = '../PlotDumps'\n",
    "\n",
    "RSE  = ['run','subrun','event']\n",
    "RSEV = ['run','subrun','event','vtxid']\n",
    "\n",
    "with open('/home/dcianci/Physics/1e1p/testzone/1L1PSelection/bdt_models/bdtweight_series2_june1_run1.pickle','rb') as handle: bkgBDT_run1 = pickle.load(handle)          # Load BDT weights for 1mu1p background differentiation     \n",
    "with open('/home/dcianci/Physics/1e1p/testzone/1L1PSelection/bdt_models/bdtweight_series2_june1_run3.pickle','rb') as handle: bkgBDT_run3 = pickle.load(handle)          # Load BDT weights for 1mu1p background differentiation  \n",
    "\n",
    "vars_june1 = ['Phis','ChargeNearTrunk','Enu_1m1p','PhiT_1m1p','AlphaT_1m1p','PT_1m1p','PTRat_1m1p','BjXB_1m1p','BjYB_1m1p','SphB_1m1p','Q0_1m1p','Q3_1m1p','Lepton_PhiReco','Lepton_TrackLength','Proton_PhiReco','Proton_ThetaReco']\n",
    "bdtVars = vars_june1"
   ]
  },
  {
   "cell_type": "code",
   "execution_count": 55,
   "metadata": {},
   "outputs": [],
   "source": [
    "def bless_MC_labels(row):\n",
    "    mclabel = ''\n",
    "    intlabel = ''\n",
    "    parentlabel = ''\n",
    "    pizero = [1090,1086,1090,1080,1015,1013,1011,1008,1006,1004]\n",
    "    piplusminus = [1085,1079,1032,1017,1014,1007,1005,1003,1028,1021,1016,1012,1010,1009]\n",
    "        \n",
    "    if abs(row['nu_pdg']) == 12:\n",
    "        intlabel = 'nue'\n",
    "    elif abs(row['nu_pdg']) == 14:\n",
    "        intlabel = 'numu'\n",
    "        \n",
    "    if not (row['MC_nproton']==1 and row['MC_nlepton']==1):\n",
    "        return 'nLmP'\n",
    "    elif not 0 < row['MC_scedr'] <= 5.0:\n",
    "        return 'offvtx'\n",
    "    elif not abs((row['MC_energyInit']-row['Enu_1m1p'])/row['MC_energyInit']) < 0.2:\n",
    "        return 'badreco'    \n",
    "    else:\n",
    "        if row['nu_interaction_type'] == 1001:\n",
    "            mclabel = 'CCQE'\n",
    "        elif row['nu_interaction_type'] == 1000:\n",
    "            mclabel = 'MEC'\n",
    "        elif row['nu_interaction_type'] in pizero:\n",
    "            mclabel = 'pizero'\n",
    "        elif row['nu_interaction_type'] in piplusminus:\n",
    "            mclabel = 'piplusminus' \n",
    "        else:\n",
    "            mclabel = 'other'\n",
    "           \n",
    "    return '%s_%s'%(intlabel,mclabel)\n",
    "\n",
    "def bless_int_labels(row):\n",
    "    mclabel = ''\n",
    "    intlabel = ''\n",
    "    parentlabel = ''\n",
    "    pizero = [1090,1086,1090,1080,1015,1013,1011,1008,1006,1004]\n",
    "    piplusminus = [1085,1079,1032,1017,1014,1007,1005,1003,1028,1021,1016,1012,1010,1009]\n",
    "        \n",
    "    if abs(row['nu_pdg']) == 12:\n",
    "        intlabel = 'nue'\n",
    "    elif abs(row['nu_pdg']) == 14:\n",
    "        intlabel = 'numu'\n",
    "        \n",
    "    if row['nu_interaction_type'] == 1001:\n",
    "        mclabel = 'CCQE'\n",
    "    elif row['nu_interaction_type'] == 1000:\n",
    "        mclabel = 'MEC'\n",
    "    elif row['nu_interaction_type'] in pizero:\n",
    "        mclabel = 'pizero'\n",
    "    elif row['nu_interaction_type'] in piplusminus:\n",
    "        mclabel = 'piplusminus' \n",
    "    else:\n",
    "        mclabel = 'other'\n",
    "           \n",
    "    return '%s_%s'%(intlabel,mclabel)"
   ]
  },
  {
   "cell_type": "code",
   "execution_count": 56,
   "metadata": {},
   "outputs": [],
   "source": [
    "def proc_df(df_dlana,df_wgts,df_goodrun,bdtwgts,isMC=True):\n",
    "    \n",
    "    # join with goodruns list and cv weights list\n",
    "    df_full = df_dlana.join(df_goodrun.set_index('run'),on='run')\n",
    "    if(isMC):\n",
    "        df_full = df_full.join(df_wgts.set_index(RSE)[['nu_interaction_mode','nu_interaction_type','xsec_corr_weight','spline_weight','nu_interaction_ccnc','nu_pdg']],on=RSE)\n",
    "    \n",
    "    df_full_goodruns = df_full.query('good==1')   # keep good runs\n",
    "    df_full_goodruns_precuts = df_full_goodruns.query(s_precut)    # apply precuts\n",
    "    \n",
    "    if(isMC):\n",
    "        # add interaction labels\n",
    "        df_full_goodruns_precuts.insert(0,'mc_label',df_full_goodruns_precuts.apply(bless_MC_labels,axis=1))\n",
    "        df_full_goodruns_precuts.insert(0,'int_label',df_full_goodruns_precuts.apply(bless_int_labels,axis=1))\n",
    "    \n",
    "    # add a bunch of helpful variables!\n",
    "    df_full_goodruns_precuts.insert(0,'MPID_eminus',[ef.max() for ef in df_full_goodruns_precuts['EminusPID_int_v'].values])\n",
    "    df_full_goodruns_precuts.insert(0,'MPID_muon',[ef.max() for ef in df_full_goodruns_precuts['MuonPID_int_v'].values])\n",
    "    df_full_goodruns_precuts.insert(0,'MPID_proton',[ef.max() for ef in df_full_goodruns_precuts['ProtonPID_int_v'].values])\n",
    "    df_full_goodruns_precuts.insert(0,'MPID_gamma',[ef.max() for ef in df_full_goodruns_precuts['GammaPID_int_v'].values])\n",
    "    df_full_goodruns_precuts.insert(0,'MPID_pion',[ef.max() for ef in df_full_goodruns_precuts['PionPID_int_v'].values])\n",
    "    df_full_goodruns_precuts.insert(0,'Lepton_CosTheta',np.cos(df_full_goodruns_precuts['Lepton_ThetaReco'].values).tolist())\n",
    "    df_full_goodruns_precuts.insert(0,'Proton_CosTheta',np.cos(df_full_goodruns_precuts['Proton_ThetaReco'].values).tolist())\n",
    "    \n",
    "    # add most current bdt weights.\n",
    "    df_full_goodruns_precuts.insert(0,'bkgBDT_univ',bdtwgts.predict_proba(df_full_goodruns_precuts[bdtVars].values.tolist())[:,0])\n",
    "    df_full_nodupes = df_full_goodruns_precuts.sort_values('bkgBDT_univ',ascending=True).drop_duplicates(RSE).sort_index()\n",
    "    \n",
    "    return df_full_nodupes\n",
    "\n",
    "def proc_df_fakedata(df_dlana,bdtwgts):\n",
    "    \n",
    "    df_full_precuts = df_dlana.query(s_precut)    # apply precuts\n",
    "    \n",
    "    # add a bunch of helpful variables!\n",
    "    df_full_precuts.insert(0,'MPID_eminus',[ef.max() for ef in df_full_precuts['EminusPID_int_v'].values])\n",
    "    df_full_precuts.insert(0,'MPID_muon',[ef.max() for ef in df_full_precuts['MuonPID_int_v'].values])\n",
    "    df_full_precuts.insert(0,'MPID_proton',[ef.max() for ef in df_full_precuts['ProtonPID_int_v'].values])\n",
    "    df_full_precuts.insert(0,'MPID_gamma',[ef.max() for ef in df_full_precuts['GammaPID_int_v'].values])\n",
    "    df_full_precuts.insert(0,'MPID_pion',[ef.max() for ef in df_full_precuts['PionPID_int_v'].values])\n",
    "    df_full_precuts.insert(0,'Lepton_CosTheta',np.cos(df_full_precuts['Lepton_ThetaReco'].values).tolist())\n",
    "    df_full_precuts.insert(0,'Proton_CosTheta',np.cos(df_full_precuts['Proton_ThetaReco'].values).tolist())\n",
    "    \n",
    "    # add most current bdt weights.\n",
    "    df_full_precuts.insert(0,'bkgBDT_univ',bdtwgts.predict_proba(df_full_precuts[bdtVars].values.tolist())[:,0])\n",
    "    df_full_nodupes = df_full_precuts.sort_values('bkgBDT_univ',ascending=True).drop_duplicates(RSE).sort_index()\n",
    "    \n",
    "    return df_full_nodupes"
   ]
  },
  {
   "cell_type": "code",
   "execution_count": 57,
   "metadata": {},
   "outputs": [],
   "source": [
    "# Time to load the good runs list\n",
    "good_run1_df = pd.read_csv('%s/goodruns_2020.txt'%datafolder)\n",
    "good_run2_df = pd.read_csv('%s/goodruns_2020_run2.txt'%datafolder)\n",
    "good_run3_df = pd.read_csv('%s/goodruns_2020_run3.txt'%datafolder)\n",
    "\n",
    "good_run1_df['good'] = 1\n",
    "good_run2_df['good'] = 1\n",
    "good_run3_df['good'] = 1"
   ]
  },
  {
   "cell_type": "code",
   "execution_count": 58,
   "metadata": {},
   "outputs": [],
   "source": [
    "# Beam quality\n",
    "beamq_df = read_root('%s/beamdataquality_remix_bnb5e19.root'%datafolder,'bdq')"
   ]
  },
  {
   "cell_type": "code",
   "execution_count": 59,
   "metadata": {},
   "outputs": [],
   "source": [
    "tag = 'Aug10_fullyloaded'\n",
    "\n",
    "# All Precuts\n",
    "orthogonalcut = 'MaxShrFrac < .2'\n",
    "precuts ='PassSimpleCuts == 1 and ChargeNearTrunk > 0 and FailedBoost != 1 and OpenAng > .5'\n",
    "pmtprecuts = 'TotPE > 20 and PorchTotPE < 20'\n",
    "s_precut = orthogonalcut + ' and ' + precuts + ' and ' + pmtprecuts"
   ]
  },
  {
   "cell_type": "markdown",
   "metadata": {},
   "source": [
    "# MC BNB OVERLAY"
   ]
  },
  {
   "cell_type": "markdown",
   "metadata": {},
   "source": [
    "##  Run1"
   ]
  },
  {
   "cell_type": "code",
   "execution_count": 32,
   "metadata": {},
   "outputs": [],
   "source": [
    "s_mc = 'numu_run1'\n",
    "df_mc = read_root('%s/bnb_overlay/mcc9_v28_wctagger_bnboverlay_stripped.root'%datafolder,'FinalVertexVariables')\n",
    "df_mc_cvweight = read_root('%s/bnb_overlay/weights_forCV_v40_bnb_nu_run1.root'%datafolder)\n",
    "\n",
    "df_mc_full = proc_df(df_mc,df_mc_cvweight,good_run1_df,bkgBDT_run1,True) \n",
    "df_mc_full = df_mc_full.query('not (nu_interaction_ccnc==0 and abs(nu_pdg)==12)') # cut out nue ccqes\n",
    "\n",
    "df_mc_full.to_parquet('%s/pickles/%s_%s.parquet'%(datafolder,s_mc,tag))\n",
    "\n",
    "del df_mc, df_mc_cvweight, df_mc_full"
   ]
  },
  {
   "cell_type": "code",
   "execution_count": 33,
   "metadata": {},
   "outputs": [],
   "source": [
    "s_mc = 'numu_lowe_run1'\n",
    "df_mc = read_root('%s/bnb_overlay/mcc9_v29e_run1_bnb_nu_overlay_LowE.root'%datafolder,'dlana/FinalVertexVariables')\n",
    "df_mc_cvweight = read_root('%s/bnb_overlay/weights_forCV_v40_bnb_nu_lowE_run1.root'%datafolder)\n",
    "\n",
    "df_mc_full = proc_df(df_mc,df_mc_cvweight,good_run1_df,bkgBDT_run1,True)\n",
    "df_mc_full = df_mc_full.query('not (nu_interaction_ccnc==0 and abs(nu_pdg)==12)') # cut out nue ccqes\n",
    "\n",
    "df_mc_full.to_parquet('%s/pickles/%s_%s.parquet'%(datafolder,s_mc,tag))\n",
    "\n",
    "del df_mc, df_mc_cvweight, df_mc_full"
   ]
  },
  {
   "cell_type": "markdown",
   "metadata": {},
   "source": [
    "## Run3"
   ]
  },
  {
   "cell_type": "code",
   "execution_count": 34,
   "metadata": {},
   "outputs": [],
   "source": [
    "s_mc = 'numu_run3'\n",
    "df_mc = read_root('%s/bnb_overlay/mcc9_v29e_dl_run3b_bnb_nu_overlay_nocrtremerge_stripped.root'%datafolder,'FinalVertexVariables')\n",
    "df_mc_cvweight = read_root('%s/bnb_overlay/weights_forCV_v40_bnb_nu_run3.root'%datafolder)\n",
    "\n",
    "df_mc_full = proc_df(df_mc,df_mc_cvweight,good_run3_df,bkgBDT_run3,True) \n",
    "df_mc_full = df_mc_full.query('not (nu_interaction_ccnc==0 and abs(nu_pdg)==12)') # cut out nue ccqes\n",
    "\n",
    "df_mc_full.to_parquet('%s/pickles/%s_%s.parquet'%(datafolder,s_mc,tag))\n",
    "\n",
    "del df_mc, df_mc_cvweight, df_mc_full"
   ]
  },
  {
   "cell_type": "code",
   "execution_count": 35,
   "metadata": {},
   "outputs": [],
   "source": [
    "s_mc = 'numu_lowe_run3'\n",
    "df_mc = read_root('%s/bnb_overlay/mcc9_v29e_run3b_bnb_nu_overlay_LowE.root'%datafolder,'dlana/FinalVertexVariables')\n",
    "df_mc_cvweight = read_root('%s/bnb_overlay/weights_forCV_v40_bnb_nu_lowE_run3.root'%datafolder)\n",
    "\n",
    "df_mc_full = proc_df(df_mc,df_mc_cvweight,good_run3_df,bkgBDT_run3,True) \n",
    "df_mc_full = df_mc_full.query('not (nu_interaction_ccnc==0 and abs(nu_pdg)==12)') # cut out nue ccqes\n",
    "\n",
    "df_mc_full.to_parquet('%s/pickles/%s_%s.parquet'%(datafolder,s_mc,tag))\n",
    "\n",
    "del df_mc, df_mc_cvweight, df_mc_full"
   ]
  },
  {
   "cell_type": "markdown",
   "metadata": {},
   "source": [
    "# MC NUE OVERLAY"
   ]
  },
  {
   "cell_type": "code",
   "execution_count": 37,
   "metadata": {},
   "outputs": [],
   "source": [
    "s_mc = 'nue_run1'\n",
    "df_mc = read_root('%s/nue_intrinsic_overlay/mcc9_v28_wctagger_nueintrinsics_stripped.root'%datafolder,'FinalVertexVariables')\n",
    "df_mc_cvweight = read_root('%s/nue_intrinsic_overlay/weights_forCV_v40_intrinsic_nue_run1.root'%datafolder)\n",
    "\n",
    "df_mc_full = proc_df(df_mc,df_mc_cvweight,good_run1_df,bkgBDT_run1,True)\n",
    "\n",
    "df_mc_full.to_parquet('%s/pickles/%s_%s.parquet'%(datafolder,s_mc,tag))\n",
    "\n",
    "del df_mc, df_mc_cvweight, df_mc_full"
   ]
  },
  {
   "cell_type": "code",
   "execution_count": 38,
   "metadata": {},
   "outputs": [],
   "source": [
    "s_mc = 'nue_run3'\n",
    "df_mc = read_root('%s/nue_intrinsic_overlay/mcc9_v29e_run3b_bnb_intrinsic_nue_overlay_nocrtremerge_stripped.root'%datafolder,'FinalVertexVariables')\n",
    "df_mc_cvweight = read_root('%s/nue_intrinsic_overlay/weights_forCV_v40_intrinsic_nue_run3.root'%datafolder)\n",
    "\n",
    "df_mc_full = proc_df(df_mc,df_mc_cvweight,good_run3_df,bkgBDT_run3,True)\n",
    "\n",
    "df_mc_full.to_parquet('%s/pickles/%s_%s.parquet'%(datafolder,s_mc,tag))\n",
    "\n",
    "del df_mc, df_mc_cvweight, df_mc_full"
   ]
  },
  {
   "cell_type": "markdown",
   "metadata": {},
   "source": [
    "# EXT"
   ]
  },
  {
   "cell_type": "code",
   "execution_count": 39,
   "metadata": {},
   "outputs": [],
   "source": [
    "s_ext = 'ext_run1'\n",
    "df_ext = read_root('%s/ext/mcc9_v28_wctagger_extbnbFULL_stripped.root'%datafolder)\n",
    "\n",
    "df_ext_full = proc_df(df_ext,'',good_run1_df,bkgBDT_run1,False)\n",
    "\n",
    "df_ext_full.to_parquet('%s/pickles/%s_%s.parquet'%(datafolder,s_ext,tag))"
   ]
  },
  {
   "cell_type": "code",
   "execution_count": 42,
   "metadata": {},
   "outputs": [],
   "source": [
    "s_ext = 'ext_run3'\n",
    "df_ext = read_root('%s/ext/mcc9_v29e_dl_run3_G1_extbnb_stripped.root'%datafolder)\n",
    "    \n",
    "df_ext_full = proc_df(df_ext,'',good_run3_df,bkgBDT_run3,False)\n",
    "\n",
    "df_ext_full.to_parquet('%s/pickles/%s_%s.parquet'%(datafolder,s_ext,tag)) "
   ]
  },
  {
   "cell_type": "markdown",
   "metadata": {},
   "source": [
    "# Data"
   ]
  },
  {
   "cell_type": "code",
   "execution_count": 43,
   "metadata": {},
   "outputs": [],
   "source": [
    "s_data = 'data_run1_5e19'\n",
    "df_data = read_root('%s/bnb/mcc9_v28_wctagger_5e19.root'%datafolder,'dlana/FinalVertexVariables')\n",
    "\n",
    "# add beam quality filter\n",
    "df_data = df_data.join(beamq_df.set_index(['run','subrun','event']),on=['run','subrun','event'])\n",
    "df_data_full = proc_df(df_data,'',good_run1_df,bkgBDT_run1,False)\n",
    "\n",
    "df_data_full.query('result==1').to_parquet('%s/pickles/%s_%s.parquet'%(datafolder,s_data,tag))"
   ]
  },
  {
   "cell_type": "code",
   "execution_count": 44,
   "metadata": {},
   "outputs": [],
   "source": [
    "s_data = 'data_run3_1e19'\n",
    "df_data = read_root('%s/bnb/mcc9_v28_wctagger_run3_bnb1e19.root'%datafolder,'dlana/FinalVertexVariables')\n",
    "\n",
    "df_data_full = proc_df(df_data,'',good_run3_df,bkgBDT_run3,False)\n",
    "\n",
    "df_data_full.to_parquet('%s/pickles/%s_%s.parquet'%(datafolder,s_data,tag))"
   ]
  },
  {
   "cell_type": "code",
   "execution_count": 45,
   "metadata": {},
   "outputs": [],
   "source": [
    "s_data = 'data_run2_filter'\n",
    "df_data = read_root('%s/bnb/mcc9_v29e_run2_D2E1_1m1p_fvv.root'%datafolder,'dlana/FinalVertexVariables')\n",
    "\n",
    "df_data_full = proc_df(df_data,'',good_run2_df,bkgBDT_run3,False)\n",
    "\n",
    "df_data_full.to_parquet('%s/pickles/%s_%s.parquet'%(datafolder,s_data,tag))"
   ]
  },
  {
   "cell_type": "code",
   "execution_count": 46,
   "metadata": {},
   "outputs": [],
   "source": [
    "s_data = 'data_run3_filter'\n",
    "df_data = read_root('%s/bnb/mcc9_v29e_run3_F1G1_1m1p_fvv.root'%datafolder,'dlana/FinalVertexVariables')\n",
    "\n",
    "df_data_full = proc_df(df_data,'',good_run3_df,bkgBDT_run3,False)\n",
    "\n",
    "df_data_full.to_parquet('%s/pickles/%s_%s.parquet'%(datafolder,s_data,tag))"
   ]
  },
  {
   "cell_type": "code",
   "execution_count": 47,
   "metadata": {},
   "outputs": [],
   "source": [
    "s_data = 'data_run1_filter'\n",
    "df_data = read_root('%s/bnb/mcc9_v29e_dl_run1_C1_bnb_dlfilter_1m1p_v1_1_2b_fvv.root'%datafolder,'dlana/FinalVertexVariables')\n",
    "\n",
    "df_data_full = proc_df(df_data,'',good_run1_df,bkgBDT_run1,False)\n",
    "\n",
    "df_data_full.to_parquet('%s/pickles/%s_%s.parquet'%(datafolder,s_data,tag))"
   ]
  },
  {
   "cell_type": "code",
   "execution_count": 50,
   "metadata": {},
   "outputs": [],
   "source": [
    "s_data = 'fakedata_set1_run1'\n",
    "df_data = read_root('%s/fakedata/dlfilter_fakedata_v08_00_00_29e_dl_ubdlana_v1_1_2_set1_run1_1m1p_stripped.root'%datafolder,'FinalVertexVariables')\n",
    "\n",
    "df_data_full = proc_df_fakedata(df_data,bkgBDT_run1)\n",
    "\n",
    "df_data_full.to_parquet('%s/pickles/%s_%s.parquet'%(datafolder,s_data,tag))"
   ]
  },
  {
   "cell_type": "code",
   "execution_count": 52,
   "metadata": {},
   "outputs": [],
   "source": [
    "s_data = 'fakedata_set1_run3b'\n",
    "df_data = read_root('%s/fakedata/dlfilter_fakedata_v08_00_00_29e_dl_ubdlana_v1_1_2_set1_run3b_1m1p_stripped.root'%datafolder,'FinalVertexVariables')\n",
    "\n",
    "df_data_full = proc_df_fakedata(df_data,bkgBDT_run3)\n",
    "\n",
    "df_data_full.to_parquet('%s/pickles/%s_%s.parquet'%(datafolder,s_data,tag))"
   ]
  },
  {
   "cell_type": "markdown",
   "metadata": {},
   "source": [
    "# Detector Systematics (run3; not updated)"
   ]
  },
  {
   "cell_type": "code",
   "execution_count": 6,
   "metadata": {},
   "outputs": [
    {
     "ename": "ValueError",
     "evalue": "unsupported format character 'm' (0x6d) at index 1",
     "output_type": "error",
     "traceback": [
      "\u001b[0;31m---------------------------------------------------------------------------\u001b[0m",
      "\u001b[0;31mValueError\u001b[0m                                Traceback (most recent call last)",
      "\u001b[0;32m<ipython-input-6-4684ce0b3e64>\u001b[0m in \u001b[0;36m<module>\u001b[0;34m\u001b[0m\n\u001b[1;32m      1\u001b[0m \u001b[0ms_mc\u001b[0m \u001b[0;34m=\u001b[0m \u001b[0;34m'numu_run3'\u001b[0m\u001b[0;34m\u001b[0m\u001b[0;34m\u001b[0m\u001b[0m\n\u001b[1;32m      2\u001b[0m \u001b[0mdf_mc\u001b[0m \u001b[0;34m=\u001b[0m \u001b[0mread_root\u001b[0m\u001b[0;34m(\u001b[0m\u001b[0;34m'%s/bnb_overlay/mcc9_v29e_dl_run3b_bnb_nu_overlay_nocrtremerge_stripped.root'\u001b[0m\u001b[0;34m%\u001b[0m\u001b[0mdatafolder\u001b[0m\u001b[0;34m,\u001b[0m\u001b[0;34m'FinalVertexVariables'\u001b[0m\u001b[0;34m)\u001b[0m\u001b[0;34m\u001b[0m\u001b[0;34m\u001b[0m\u001b[0m\n\u001b[0;32m----> 3\u001b[0;31m \u001b[0mdf_mc_cvweight\u001b[0m \u001b[0;34m=\u001b[0m \u001b[0mread_root\u001b[0m\u001b[0;34m(\u001b[0m\u001b[0;34m'%mc/bnb_overlay/weights_forCV_v40_bnb_nu_run3.root'\u001b[0m\u001b[0;34m%\u001b[0m\u001b[0mdatafolder\u001b[0m\u001b[0;34m)\u001b[0m\u001b[0;34m\u001b[0m\u001b[0;34m\u001b[0m\u001b[0m\n\u001b[0m\u001b[1;32m      4\u001b[0m \u001b[0;34m\u001b[0m\u001b[0m\n\u001b[1;32m      5\u001b[0m \u001b[0mdf_mc_full\u001b[0m \u001b[0;34m=\u001b[0m \u001b[0mproc_df_mc\u001b[0m\u001b[0;34m(\u001b[0m\u001b[0mdf_mc\u001b[0m\u001b[0;34m,\u001b[0m\u001b[0mdf_mc_cvweight\u001b[0m\u001b[0;34m,\u001b[0m\u001b[0mgood_run3_df\u001b[0m\u001b[0;34m)\u001b[0m\u001b[0;34m\u001b[0m\u001b[0;34m\u001b[0m\u001b[0m\n",
      "\u001b[0;31mValueError\u001b[0m: unsupported format character 'm' (0x6d) at index 1"
     ]
    }
   ],
   "source": [
    "s_mc = 'numu_run3'\n",
    "df_mc = read_root('%s/bnb_overlay/mcc9_v29e_dl_run3b_bnb_nu_overlay_nocrtremerge_stripped.root'%datafolder,'FinalVertexVariables')\n",
    "df_mc_cvweight = read_root('%mc/bnb_overlay/weights_forCV_v40_bnb_nu_run3.root'%datafolder)\n",
    "\n",
    "df_mc_full = proc_df_mc(df_mc,df_mc_cvweight,good_run3_df)  \n",
    "df_mc_full = df_bnb_full.query('not (nu_interaction_ccnc==0 and abs(nu_pdg)==12)') # cut out nue ccqes\n",
    "\n",
    "df_mc_full.to_parquet('%s/pickles/%s_%s.parquet'%(datafolder,s_mc,tag))\n",
    "\n",
    "del df_mc, df_mc_cvweight, df_mc_full"
   ]
  },
  {
   "cell_type": "code",
   "execution_count": 30,
   "metadata": {},
   "outputs": [],
   "source": [
    "def proc_detvar_mc(df_dlana,df_cv,df_goodrun):\n",
    "    \n",
    "    df_cv['isCV'] = True\n",
    "    df_dlana['isCV'] = False\n",
    "    # Join cv and detsys together\n",
    "    # ugh. okay. this phase takes a million years so let's do it smarter\n",
    "    \n",
    "    df3_big = pd.concat((df_cv,df_dlana))\n",
    "    overlap = df_cv.merge(df_dlana[RSE],how='inner')[RSE].drop_duplicates()\n",
    "    df_full = df3_big.merge(overlap,how='inner')\n",
    "     \n",
    "    #df_full = pd.concat((df_dlana[df_dlana[RSE].isin(df_cv[RSE])],df_cv[df_cv[RSE].isin(df_dlana[RSE])])) \n",
    "    df_full_wGoodruns = df_full.join(df_goodrun.set_index('run'),on='run')\n",
    "    df_full_goodruns = df_full_wGoodruns.query('good == 1 and Enu_1m1p > 0')\n",
    "    df_full_goodruns.insert(0,'PassPrecuts1m1p',df_full_goodruns.apply(passPrecut,axis=1))     \n",
    "    return df_full_goodruns\n",
    "\n",
    "def passPrecut(row):\n",
    "    #orthogonalcut = 'MaxShrFrac < .2'\n",
    "    #precuts ='PassSimpleCuts == 1 and ChargeNearTrunk > 0 and FailedBoost != 1 and OpenAng > .5 and '\n",
    "    #s_precut = orthogonalcut + ' and ' + precuts\n",
    "    return (row['PassSimpleCuts'] == 1 and row['ChargeNearTrunk'] > 0 and row['FailedBoost'] != 1 and row['OpenAng'] > .5 and row['MaxShrFrac'] < .2)"
   ]
  },
  {
   "cell_type": "code",
   "execution_count": null,
   "metadata": {},
   "outputs": [],
   "source": [
    "def proc_detvar_mc(df_dlana,df_cv,df_goodrun):\n",
    "    df_cv['isCV'] = True\n",
    "    df_dlana['isCV'] = False\n",
    "    \n",
    "    # Join cv and detsys together\n",
    "    df3_big = pd.concat((df_cv,df_dlana))\n",
    "    overlap = df_cv.merge(df_dlana[RSE],how='inner')[RSE].drop_duplicates()\n",
    "    df_full = df3_big.merge(overlap,how='inner')\n",
    "    \n",
    "    # add goodruns and 1m1p precut tag\n",
    "    df_full_wGoodruns = df_full.join(df_goodrun.set_index('run'),on='run')\n",
    "    df_full_goodruns = df_full_wGoodruns.query('good == 1 and Enu_1m1p > 0')\n",
    "    df_full_goodruns.insert(0,'PassPrecuts1m1p',df_full_goodruns.apply(passPrecut,axis=1))     \n",
    "    return df_full_goodruns#goodruns_precuts\n",
    "\n",
    "def passPrecut(row):\n",
    "    #orthogonalcut = 'MaxShrFrac < .2'\n",
    "    #precuts ='PassSimpleCuts == 1 and ChargeNearTrunk > 0 and FailedBoost != 1 and OpenAng > .5 and '\n",
    "    #s_precut = orthogonalcut + ' and ' + precuts\n",
    "    return (row['PassSimpleCuts'] == 1 and row['ChargeNearTrunk'] > 0 and row['FailedBoost'] != 1 and row['OpenAng'] > .5 and row['MaxShrFrac'] < .2)"
   ]
  },
  {
   "cell_type": "code",
   "execution_count": 35,
   "metadata": {},
   "outputs": [
    {
     "name": "stdout",
     "output_type": "stream",
     "text": [
      "done cv\n",
      "done wiremodThetaXZ\n",
      "done wiremodThetaYZ\n"
     ]
    },
    {
     "name": "stderr",
     "output_type": "stream",
     "text": [
      "/home/dcianci/.local/lib/python3.6/site-packages/ipykernel_launcher.py:8: FutureWarning: Sorting because non-concatenation axis is not aligned. A future version\n",
      "of pandas will change to not sort by default.\n",
      "\n",
      "To accept the future behavior, pass 'sort=False'.\n",
      "\n",
      "To retain the current behavior and silence the warning, pass 'sort=True'.\n",
      "\n",
      "  \n"
     ]
    },
    {
     "name": "stdout",
     "output_type": "stream",
     "text": [
      "done LYdownRayleigh\n",
      "done SCE\n",
      "done LYdown\n",
      "done wiremodYZ\n",
      "done wiremodX\n",
      "done wiremoddEdx\n"
     ]
    }
   ],
   "source": [
    "df_cv = read_root('../../data/detsys/mcc9_v40a_dl_run3b_bnb_overlay_CV.root','FinalVertexVariables')\n",
    "df_passPi0 = pd.read_table('../../data/detsys/Pi0Sel/July27_CV_numu.txt',sep=',')\n",
    "df_passPi0['PassFinalSelectionPi0'] = 1\n",
    "df_cv_wPass = df_cv.join(df_passPi0.set_index(RSEV),on=RSEV)\n",
    "print('done cv')\n",
    "\n",
    "s_data = 'wiremodThetaXZ'\n",
    "df_bnb = read_root('../../data/detsys/mcc9_v40a_dl_run3b_bnb_nu_overlay_DetVar_wiremodThetaXZ.root','dlana/FinalVertexVariables')\n",
    "df_passPi0 = pd.read_table('../../data/detsys/Pi0Sel/July27_wiremodthetaXZ_numu.txt',sep=',')\n",
    "df_passPi0['PassFinalSelectionPi0'] = 1\n",
    "df_bnb_wPass = df_bnb.join(df_passPi0.set_index(RSEV),on=RSEV)\n",
    "df_bnb_wCV_wPass_wProc = proc_detvar_mc(df_bnb_wPass,df_cv_wPass,good_run3_df)\n",
    "df_bnb_wCV_wPass_wProc.to_parquet('%s/pickles/%s_%s.parquet'%(datafolder,s_data,tag))\n",
    "print('done %s'%s_data)\n",
    "\n",
    "s_data = 'wiremodThetaYZ'\n",
    "df_bnb = read_root('../../data/detsys/mcc9_v40a_dl_run3b_bnb_nu_overlay_DetVar_wiremodThetaYZ.root','dlana/FinalVertexVariables')\n",
    "df_passPi0 = pd.read_table('../../data/detsys/Pi0Sel/July27_wiremodthetaYZ_numu.txt',sep=',')\n",
    "df_passPi0['PassFinalSelectionPi0'] = 1\n",
    "df_bnb_wPass = df_bnb.join(df_passPi0.set_index(RSEV),on=RSEV)\n",
    "df_bnb_wCV_wPass_wProc = proc_detvar_mc(df_bnb_wPass,df_cv_wPass,good_run3_df)\n",
    "df_bnb_wCV_wPass_wProc.to_parquet('%s/pickles/%s_%s.parquet'%(datafolder,s_data,tag))\n",
    "print('done %s'%s_data)\n",
    "\n",
    "s_data = 'LYdownRayleigh'\n",
    "df_bnb = read_root('../../data/detsys/mcc9_v40_dl_run3b_bnb_nu_overlay_DetVar_LYRayleigh.root','dlana/FinalVertexVariables')\n",
    "df_passPi0 = pd.read_table('../../data/detsys/Pi0Sel/July27_LYRayleigh_numu.txt',sep=',')\n",
    "df_passPi0['PassFinalSelectionPi0'] = 1\n",
    "df_bnb_wPass = df_bnb.join(df_passPi0.set_index(RSEV),on=RSEV)\n",
    "df_bnb_wCV_wPass_wProc = proc_detvar_mc(df_bnb_wPass,df_cv_wPass,good_run3_df)\n",
    "df_bnb_wCV_wPass_wProc.to_parquet('%s/pickles/%s_%s.parquet'%(datafolder,s_data,tag))\n",
    "print('done %s'%s_data)\n",
    "\n",
    "s_data = 'SCE'\n",
    "df_bnb = read_root('../../data/detsys/mcc9_v40a_dl_run3b_bnb_nu_overlay_DetVar_SCE.root','dlana/FinalVertexVariables')\n",
    "df_passPi0 = pd.read_table('../../data/detsys/Pi0Sel/July27_SCE_numu.txt',sep=',')\n",
    "df_passPi0['PassFinalSelectionPi0'] = 1\n",
    "df_bnb_wPass = df_bnb.join(df_passPi0.set_index(RSEV),on=RSEV)\n",
    "df_bnb_wCV_wPass_wProc = proc_detvar_mc(df_bnb_wPass,df_cv_wPass,good_run3_df)\n",
    "df_bnb_wCV_wPass_wProc.to_parquet('%s/pickles/%s_%s.parquet'%(datafolder,s_data,tag))\n",
    "print('done %s'%s_data)\n",
    "\n",
    "s_data = 'LYdown'\n",
    "df_bnb = read_root('../../data/detsys/mcc9_v40a_dl_run3b_bnb_nu_overlay_DetVar_LYdown.root','dlana/FinalVertexVariables')\n",
    "df_passPi0 = pd.read_table('../../data/detsys/Pi0Sel/July27_LYdown_numu.txt',sep=',')\n",
    "df_passPi0['PassFinalSelectionPi0'] = 1\n",
    "df_bnb_wPass = df_bnb.join(df_passPi0.set_index(RSEV),on=RSEV)\n",
    "df_bnb_wCV_wPass_wProc = proc_detvar_mc(df_bnb_wPass,df_cv_wPass,good_run3_df)\n",
    "df_bnb_wCV_wPass_wProc.to_parquet('%s/pickles/%s_%s.parquet'%(datafolder,s_data,tag))\n",
    "print('done %s'%s_data)\n",
    "\n",
    "s_data = 'wiremodYZ'\n",
    "df_bnb = read_root('../../data/detsys/mcc9_v40a_dl_run3b_bnb_nu_overlay_DetVar_wiremodYZ.root','dlana/FinalVertexVariables')\n",
    "df_passPi0 = pd.read_table('../../data/detsys/Pi0Sel/July27_wiremodYZ_numu.txt',sep=',')\n",
    "df_passPi0['PassFinalSelectionPi0'] = 1\n",
    "df_bnb_wPass = df_bnb.join(df_passPi0.set_index(RSEV),on=RSEV)\n",
    "df_bnb_wCV_wPass_wProc = proc_detvar_mc(df_bnb_wPass,df_cv_wPass,good_run3_df)\n",
    "df_bnb_wCV_wPass_wProc.to_parquet('%s/pickles/%s_%s.parquet'%(datafolder,s_data,tag))\n",
    "print('done %s'%s_data)\n",
    "\n",
    "s_data = 'wiremodX'\n",
    "df_bnb = read_root('../../data/detsys/mcc9_v40a_dl_run3b_bnb_overlay_wiremodX.root','dlana/FinalVertexVariables')\n",
    "df_passPi0 = pd.read_table('../../data/detsys/Pi0Sel/July27_wiremodX_numu.txt',sep=',')\n",
    "df_passPi0['PassFinalSelectionPi0'] = 1\n",
    "df_bnb_wPass = df_bnb.join(df_passPi0.set_index(RSEV),on=RSEV)\n",
    "df_bnb_wCV_wPass_wProc = proc_detvar_mc(df_bnb_wPass,df_cv_wPass,good_run3_df)\n",
    "df_bnb_wCV_wPass_wProc.to_parquet('%s/pickles/%s_%s.parquet'%(datafolder,s_data,tag))\n",
    "print('done %s'%s_data)\n",
    "\n",
    "s_data = 'wiremoddEdx'\n",
    "df_bnb = read_root('../../data/detsys/mcc9_v40_dl_run3b_bnb_nu_overlay_DetVar_wiremodscaleddedx.root','FinalVertexVariables')\n",
    "df_passPi0 = pd.read_table('../../data/detsys/Pi0Sel/July27_scaleddedx_numu.txt',sep=',')\n",
    "df_passPi0['PassFinalSelectionPi0'] = 1\n",
    "df_bnb_wPass = df_bnb.join(df_passPi0.set_index(RSEV),on=RSEV)\n",
    "df_bnb_wCV_wPass_wProc = proc_detvar_mc(df_bnb_wPass,df_cv_wPass,good_run3_df)\n",
    "df_bnb_wCV_wPass_wProc.to_parquet('%s/pickles/%s_%s.parquet'%(datafolder,s_data,tag))\n",
    "print('done %s'%s_data)"
   ]
  },
  {
   "cell_type": "code",
   "execution_count": 36,
   "metadata": {},
   "outputs": [
    {
     "name": "stdout",
     "output_type": "stream",
     "text": [
      "donecv\n",
      "done wiremodX\n",
      "done LYdownRayleigh\n",
      "done LYdown\n",
      "done SCE\n",
      "done wiremoddEdx\n",
      "done wiremodThetaXZ\n",
      "done wiremodThetaYZ\n",
      "done wiremodYZ\n"
     ]
    }
   ],
   "source": [
    "#Detsys for nues now!\n",
    "df_cv = read_root('../../data/detsys/mcc9_v40a_dl_run3b_bnb_intrinsic_nue_overlay_CV.root','dlana/FinalVertexVariables')\n",
    "df_passPi0 = pd.read_table('../../data/detsys/SystematicsForDavio/SystematicsForDavio_CV.txt',sep=',',names=['run','subrun','event','vtxid'])\n",
    "df_passPi0['PassFinalSelection1e1p'] = 1\n",
    "df_cv_wPass = df_cv.merge(df_passPi0,how='left')\n",
    "print('donecv')\n",
    "\n",
    "s_data = 'wiremodX'\n",
    "df_bnb = read_root('../../data/detsys/mcc9_v40a_dl_run3b_bnb_intrinsic_nue_overlay_wiremodX.root','dlana/FinalVertexVariables')\n",
    "df_passPi0 = pd.read_table('../../data/detsys/SystematicsForDavio/SystematicsForDavio_WireModX.txt',sep=',',names=['run','subrun','event','vtxid'])\n",
    "df_passPi0['PassFinalSelection1e1p'] = 1\n",
    "df_bnb_wPass = df_bnb.join(df_passPi0.set_index(RSEV),on=RSEV)\n",
    "df_bnb_wCV_wPass_wProc = proc_detvar_mc(df_bnb_wPass,df_cv_wPass,good_run3_df)\n",
    "df_bnb_wCV_wPass_wProc.to_parquet('%s/pickles/nue_%s_%s.parquet'%(datafolder,s_data,tag))\n",
    "print('done %s'%s_data)\n",
    "\n",
    "\n",
    "s_data = 'LYdownRayleigh'\n",
    "df_bnb = read_root('../../data/detsys/mcc9_v40a_dl_run3b_bnb_intrinsic_nue_overlay_wiremodLYRayleigh.root','dlana/FinalVertexVariables')\n",
    "df_passPi0 = pd.read_table('../../data/detsys/SystematicsForDavio/SystematicsForDavio_LYdownRayleigh.txt',sep=',',names=['run','subrun','event','vtxid'])\n",
    "df_passPi0['PassFinalSelection1e1p'] = 1\n",
    "df_bnb_wPass = df_bnb.join(df_passPi0.set_index(RSEV),on=RSEV)\n",
    "df_bnb_wCV_wPass_wProc = proc_detvar_mc(df_bnb_wPass,df_cv_wPass,good_run3_df)\n",
    "df_bnb_wCV_wPass_wProc.to_parquet('%s/pickles/nue_%s_%s.parquet'%(datafolder,s_data,tag))\n",
    "print('done %s'%s_data)\n",
    "\n",
    "\n",
    "s_data = 'LYdown'\n",
    "df_bnb = read_root('../../data/detsys/mcc9_v40a_dl_run3b_bnb_intrinsic_nue_overlay_wiremodLYdown.root','dlana/FinalVertexVariables')\n",
    "df_passPi0 = pd.read_table('../../data/detsys/SystematicsForDavio/SystematicsForDavio_LYdown.txt',sep=',',names=['run','subrun','event','vtxid'])\n",
    "df_passPi0['PassFinalSelection1e1p'] = 1\n",
    "df_bnb_wPass = df_bnb.join(df_passPi0.set_index(RSEV),on=RSEV)\n",
    "df_bnb_wCV_wPass_wProc = proc_detvar_mc(df_bnb_wPass,df_cv_wPass,good_run3_df)\n",
    "df_bnb_wCV_wPass_wProc.to_parquet('%s/pickles/nue_%s_%s.parquet'%(datafolder,s_data,tag))\n",
    "print('done %s'%s_data)\n",
    "\n",
    "s_data = 'SCE'\n",
    "df_bnb = read_root('../../data/detsys/mcc9_v29e_dl_run3b_bnb_intrinsic_nue_wiremodSCE.root','dlana/FinalVertexVariables')\n",
    "df_passPi0 = pd.read_table('../../data/detsys/SystematicsForDavio/SystematicsForDavio_SCE.txt',sep=',',names=['run','subrun','event','vtxid'])\n",
    "df_passPi0['PassFinalSelection1e1p'] = 1\n",
    "df_bnb_wPass = df_bnb.join(df_passPi0.set_index(RSEV),on=RSEV)\n",
    "df_bnb_wCV_wPass_wProc = proc_detvar_mc(df_bnb_wPass,df_cv_wPass,good_run3_df)\n",
    "df_bnb_wCV_wPass_wProc.to_parquet('%s/pickles/nue_%s_%s.parquet'%(datafolder,s_data,tag))\n",
    "print('done %s'%s_data)\n",
    "\n",
    "s_data = 'wiremoddEdx'\n",
    "df_bnb = read_root('../../data/detsys/mcc9_v40a_dl_run3b_bnb_intrinsic_nue_overlay_wiremodScaleddEdX.root','dlana/FinalVertexVariables')\n",
    "df_passPi0 = pd.read_table('../../data/detsys/SystematicsForDavio/SystematicsForDavio_WireModdEdx.txt',sep=',',names=['run','subrun','event','vtxid'])\n",
    "df_passPi0['PassFinalSelection1e1p'] = 1\n",
    "df_bnb_wPass = df_bnb.join(df_passPi0.set_index(RSEV),on=RSEV)\n",
    "df_bnb_wCV_wPass_wProc = proc_detvar_mc(df_bnb_wPass,df_cv_wPass,good_run3_df)\n",
    "df_bnb_wCV_wPass_wProc.to_parquet('%s/pickles/nue_%s_%s.parquet'%(datafolder,s_data,tag))\n",
    "print('done %s'%s_data)\n",
    "\n",
    "s_data = 'wiremodThetaXZ'\n",
    "df_bnb = read_root('../../data/detsys/mcc9_v40a_dl_run3b_bnb_intrinsic_nue_overlay_wiremodThetaXZ.root','dlana/FinalVertexVariables')\n",
    "df_passPi0 = pd.read_table('../../data/detsys/SystematicsForDavio/SystematicsForDavio_WireModThetaXZ.txt',sep=',',names=['run','subrun','event','vtxid'])\n",
    "df_passPi0['PassFinalSelection1e1p'] = 1\n",
    "df_bnb_wPass = df_bnb.join(df_passPi0.set_index(RSEV),on=RSEV)\n",
    "df_bnb_wCV_wPass_wProc = proc_detvar_mc(df_bnb_wPass,df_cv_wPass,good_run3_df)\n",
    "df_bnb_wCV_wPass_wProc.to_parquet('%s/pickles/nue_%s_%s.parquet'%(datafolder,s_data,tag))\n",
    "print('done %s'%s_data)\n",
    "\n",
    "s_data = 'wiremodThetaYZ'\n",
    "df_bnb = read_root('../../data/detsys/mcc9_v40a_dl_run3b_bnb_intrinsic_nue_overlay_wiremodThetaYZ.root','dlana/FinalVertexVariables')\n",
    "df_passPi0 = pd.read_table('../../data/detsys/SystematicsForDavio/SystematicsForDavio_WireModThetaYZ.txt',sep=',',names=['run','subrun','event','vtxid'])\n",
    "df_passPi0['PassFinalSelection1e1p'] = 1\n",
    "df_bnb_wPass = df_bnb.join(df_passPi0.set_index(RSEV),on=RSEV)\n",
    "df_bnb_wCV_wPass_wProc = proc_detvar_mc(df_bnb_wPass,df_cv_wPass,good_run3_df)\n",
    "df_bnb_wCV_wPass_wProc.to_parquet('%s/pickles/nue_%s_%s.parquet'%(datafolder,s_data,tag))\n",
    "print('done %s'%s_data)\n",
    "\n",
    "s_data = 'wiremodYZ'\n",
    "df_bnb = read_root('../../data/detsys/mcc9_v40a_dl_run3b_bnb_intrinsic_nue_overlay_wiremodYZ.root','dlana/FinalVertexVariables')\n",
    "df_passPi0 = pd.read_table('../../data/detsys/SystematicsForDavio/SystematicsForDavio_WireModYZ.txt',sep=',',names=['run','subrun','event','vtxid'])\n",
    "df_passPi0['PassFinalSelection1e1p'] = 1\n",
    "df_bnb_wPass = df_bnb.join(df_passPi0.set_index(RSEV),on=RSEV)\n",
    "df_bnb_wCV_wPass_wProc = proc_detvar_mc(df_bnb_wPass,df_cv_wPass,good_run3_df)\n",
    "df_bnb_wCV_wPass_wProc.to_parquet('%s/pickles/nue_%s_%s.parquet'%(datafolder,s_data,tag))\n",
    "print('done %s'%s_data)"
   ]
  },
  {
   "cell_type": "code",
   "execution_count": null,
   "metadata": {},
   "outputs": [],
   "source": []
  },
  {
   "cell_type": "code",
   "execution_count": null,
   "metadata": {},
   "outputs": [],
   "source": []
  },
  {
   "cell_type": "code",
   "execution_count": 70,
   "metadata": {},
   "outputs": [],
   "source": [
    "s_data = 'LYdown'\n",
    "df_bnb = read_root('../../data/detsys/mcc9_v40a_dl_run3b_bnb_nu_overlay_DetVar_LYdown.root','dlana/FinalVertexVariables')"
   ]
  },
  {
   "cell_type": "code",
   "execution_count": 71,
   "metadata": {},
   "outputs": [
    {
     "data": {
      "text/plain": [
       "0       -99998.0\n",
       "1       -99998.0\n",
       "2       -99998.0\n",
       "3       -99998.0\n",
       "4       -99998.0\n",
       "          ...   \n",
       "30387   -99998.0\n",
       "30388   -99998.0\n",
       "30389   -99998.0\n",
       "30390   -99998.0\n",
       "30391   -99998.0\n",
       "Name: MC_energyInit, Length: 30392, dtype: float32"
      ]
     },
     "execution_count": 71,
     "metadata": {},
     "output_type": "execute_result"
    }
   ],
   "source": [
    "df_bnb['MC_energyInit']"
   ]
  },
  {
   "cell_type": "code",
   "execution_count": null,
   "metadata": {},
   "outputs": [],
   "source": []
  },
  {
   "cell_type": "code",
   "execution_count": null,
   "metadata": {},
   "outputs": [],
   "source": []
  },
  {
   "cell_type": "markdown",
   "metadata": {},
   "source": [
    "# DIRT"
   ]
  },
  {
   "cell_type": "code",
   "execution_count": 20,
   "metadata": {},
   "outputs": [
    {
     "ename": "OSError",
     "evalue": "cannot read ../data/dirt/FVV-Prime-dirt-Mar3-WC-1M1P.root",
     "output_type": "error",
     "traceback": [
      "\u001b[0;31m---------------------------------------------------------------------------\u001b[0m",
      "\u001b[0;31mOSError\u001b[0m                                   Traceback (most recent call last)",
      "\u001b[0;32m<ipython-input-20-f18622baf8f1>\u001b[0m in \u001b[0;36m<module>\u001b[0;34m\u001b[0m\n\u001b[0;32m----> 1\u001b[0;31m \u001b[0mdf_dirt\u001b[0m \u001b[0;34m=\u001b[0m \u001b[0mread_root\u001b[0m\u001b[0;34m(\u001b[0m\u001b[0;34m'../data/dirt/FVV-Prime-dirt-Mar3-WC-1M1P.root'\u001b[0m\u001b[0;34m,\u001b[0m\u001b[0;34m'FinalVertexVariables'\u001b[0m\u001b[0;34m)\u001b[0m\u001b[0;34m\u001b[0m\u001b[0;34m\u001b[0m\u001b[0m\n\u001b[0m\u001b[1;32m      2\u001b[0m \u001b[0mdf_dirt_cvweight\u001b[0m \u001b[0;34m=\u001b[0m \u001b[0mread_root\u001b[0m\u001b[0;34m(\u001b[0m\u001b[0;34m'../data/dirt/weights_forCV_v40_dirt_nu_run1.root'\u001b[0m\u001b[0;34m)\u001b[0m\u001b[0;34m\u001b[0m\u001b[0;34m\u001b[0m\u001b[0m\n\u001b[1;32m      3\u001b[0m \u001b[0;34m\u001b[0m\u001b[0m\n\u001b[1;32m      4\u001b[0m \u001b[0mdf_full\u001b[0m \u001b[0;34m=\u001b[0m \u001b[0mdf_dirt\u001b[0m\u001b[0;34m.\u001b[0m\u001b[0mjoin\u001b[0m\u001b[0;34m(\u001b[0m\u001b[0mgood_run1_df\u001b[0m\u001b[0;34m.\u001b[0m\u001b[0mset_index\u001b[0m\u001b[0;34m(\u001b[0m\u001b[0;34m'run'\u001b[0m\u001b[0;34m)\u001b[0m\u001b[0;34m,\u001b[0m\u001b[0mon\u001b[0m\u001b[0;34m=\u001b[0m\u001b[0;34m'run'\u001b[0m\u001b[0;34m)\u001b[0m\u001b[0;34m\u001b[0m\u001b[0;34m\u001b[0m\u001b[0m\n\u001b[1;32m      5\u001b[0m \u001b[0mdf_full\u001b[0m \u001b[0;34m=\u001b[0m \u001b[0mdf_full\u001b[0m\u001b[0;34m.\u001b[0m\u001b[0mjoin\u001b[0m\u001b[0;34m(\u001b[0m\u001b[0mdf_dirt_cvweight\u001b[0m\u001b[0;34m.\u001b[0m\u001b[0mset_index\u001b[0m\u001b[0;34m(\u001b[0m\u001b[0mRSE\u001b[0m\u001b[0;34m)\u001b[0m\u001b[0;34m[\u001b[0m\u001b[0;34m[\u001b[0m\u001b[0;34m'nu_interaction_mode'\u001b[0m\u001b[0;34m,\u001b[0m\u001b[0;34m'nu_interaction_type'\u001b[0m\u001b[0;34m,\u001b[0m\u001b[0;34m'xsec_corr_weight'\u001b[0m\u001b[0;34m,\u001b[0m\u001b[0;34m'spline_weight'\u001b[0m\u001b[0;34m,\u001b[0m\u001b[0;34m'nu_interaction_ccnc'\u001b[0m\u001b[0;34m,\u001b[0m\u001b[0;34m'nu_pdg'\u001b[0m\u001b[0;34m]\u001b[0m\u001b[0;34m]\u001b[0m\u001b[0;34m,\u001b[0m\u001b[0mon\u001b[0m\u001b[0;34m=\u001b[0m\u001b[0mRSE\u001b[0m\u001b[0;34m)\u001b[0m\u001b[0;34m\u001b[0m\u001b[0;34m\u001b[0m\u001b[0m\n",
      "\u001b[0;32m~/.local/lib/python3.6/site-packages/root_pandas/readwrite.py\u001b[0m in \u001b[0;36mread_root\u001b[0;34m(paths, key, columns, ignore, chunksize, where, flatten, *args, **kwargs)\u001b[0m\n\u001b[1;32m    204\u001b[0m     \u001b[0;31m# Use a single file to search for trees and branches, ensuring the key exists\u001b[0m\u001b[0;34m\u001b[0m\u001b[0;34m\u001b[0m\u001b[0;34m\u001b[0m\u001b[0m\n\u001b[1;32m    205\u001b[0m     \u001b[0;32mfor\u001b[0m \u001b[0mseed_path\u001b[0m \u001b[0;32min\u001b[0m \u001b[0mpaths\u001b[0m\u001b[0;34m:\u001b[0m\u001b[0;34m\u001b[0m\u001b[0;34m\u001b[0m\u001b[0m\n\u001b[0;32m--> 206\u001b[0;31m         \u001b[0mtrees\u001b[0m \u001b[0;34m=\u001b[0m \u001b[0mlist_trees\u001b[0m\u001b[0;34m(\u001b[0m\u001b[0mseed_path\u001b[0m\u001b[0;34m)\u001b[0m\u001b[0;34m\u001b[0m\u001b[0;34m\u001b[0m\u001b[0m\n\u001b[0m\u001b[1;32m    207\u001b[0m         \u001b[0;32mif\u001b[0m \u001b[0mkey\u001b[0m \u001b[0;32mand\u001b[0m \u001b[0mkey\u001b[0m \u001b[0;32mnot\u001b[0m \u001b[0;32min\u001b[0m \u001b[0mtrees\u001b[0m\u001b[0;34m:\u001b[0m\u001b[0;34m\u001b[0m\u001b[0;34m\u001b[0m\u001b[0m\n\u001b[1;32m    208\u001b[0m             \u001b[0;32mcontinue\u001b[0m\u001b[0;34m\u001b[0m\u001b[0;34m\u001b[0m\u001b[0m\n",
      "\u001b[0;32m~/.local/lib/python3.6/site-packages/root_numpy/_tree.py\u001b[0m in \u001b[0;36mlist_trees\u001b[0;34m(filename)\u001b[0m\n\u001b[1;32m     53\u001b[0m \u001b[0;34m\u001b[0m\u001b[0m\n\u001b[1;32m     54\u001b[0m     \"\"\"\n\u001b[0;32m---> 55\u001b[0;31m     \u001b[0;32mreturn\u001b[0m \u001b[0m_librootnumpy\u001b[0m\u001b[0;34m.\u001b[0m\u001b[0mlist_trees\u001b[0m\u001b[0;34m(\u001b[0m\u001b[0mfilename\u001b[0m\u001b[0;34m)\u001b[0m\u001b[0;34m\u001b[0m\u001b[0;34m\u001b[0m\u001b[0m\n\u001b[0m\u001b[1;32m     56\u001b[0m \u001b[0;34m\u001b[0m\u001b[0m\n\u001b[1;32m     57\u001b[0m \u001b[0;34m\u001b[0m\u001b[0m\n",
      "\u001b[0;32mroot_numpy/src/tree.pyx\u001b[0m in \u001b[0;36m_librootnumpy.list_trees\u001b[0;34m()\u001b[0m\n",
      "\u001b[0;32mroot_numpy/src/tree.pyx\u001b[0m in \u001b[0;36m_librootnumpy.list_objects\u001b[0;34m()\u001b[0m\n",
      "\u001b[0;31mOSError\u001b[0m: cannot read ../data/dirt/FVV-Prime-dirt-Mar3-WC-1M1P.root"
     ]
    },
    {
     "name": "stderr",
     "output_type": "stream",
     "text": [
      "Error in <TFile::TFile>: file ../data/dirt/FVV-Prime-dirt-Mar3-WC-1M1P.root does not exist\n"
     ]
    }
   ],
   "source": [
    "df_dirt = read_root('../data/dirt/FVV-Prime-dirt-Mar3-WC-1M1P.root','FinalVertexVariables')\n",
    "df_dirt_cvweight = read_root('../data/dirt/weights_forCV_v40_dirt_nu_run1.root')\n",
    "\n",
    "df_full = df_dirt.join(good_run1_df.set_index('run'),on='run')\n",
    "df_full = df_full.join(df_dirt_cvweight.set_index(RSE)[['nu_interaction_mode','nu_interaction_type','xsec_corr_weight','spline_weight','nu_interaction_ccnc','nu_pdg']],on=RSE)\n",
    "df_full_goodruns = df_full.query('good==1')\n",
    "df_full_goodruns_precuts = df_full_goodruns.query('PassPMTPrecut==1 and PassSimpleCuts==1')\n",
    "\n",
    "with open('/home/dcianci/Physics/1e1p/1mu1pSelection/bdtweights_1mu1p_WC_apr1.pickle','rb') as handle: cosmicBDT,nubkgBDT = pickle.load(handle)          # Load BDT weights for 1mu1p background differentiation    \n",
    "myvars = ['Eta','ChargeNearTrunk','PT_1m1p','PhiT_1m1p','AlphaT_1m1p','Sph_1m1p','Q0_1m1p','Q2_1m1p','Q3_1m1p','Lepton_ThetaReco','Lepton_PhiReco','Proton_ThetaReco','Proton_PhiReco','PTRat_1m1p','Lepton_TrackLength','Thetas','Phis','Proton_TrackLength','OpenAng','PzEnu_1m1p']\n",
    "s_nubdtname = 'BDTscore_1mu1p_nu'\n",
    "s_cosbdtname = 'BDTscore_1mu1p_cosmic'\n",
    "df_full_goodruns_precuts.insert(0,s_nubdtname,nubkgBDT.predict(df_full_goodruns_precuts[myvars].values.tolist(),output_margin=True))\n",
    "df_full_goodruns_precuts.insert(0,s_cosbdtname,cosmicBDT.predict(df_full_goodruns_precuts[myvars].values.tolist(),output_margin=True))\n",
    "\n",
    "df_nodupes = df_full_goodruns_precuts.sort_values('BDTscore_1mu1p_cosmic',ascending=False).drop_duplicates(RSE).sort_index()\n",
    "df_nodupes.to_parquet('../data/pickles/dirt_run1_nodupes%s.parquet'%tag)\n",
    "\n",
    "del df_full,df_full_goodruns,df_full_goodruns_precuts"
   ]
  }
 ],
 "metadata": {
  "kernelspec": {
   "display_name": "Python 3",
   "language": "python",
   "name": "python3"
  },
  "language_info": {
   "codemirror_mode": {
    "name": "ipython",
    "version": 3
   },
   "file_extension": ".py",
   "mimetype": "text/x-python",
   "name": "python",
   "nbconvert_exporter": "python",
   "pygments_lexer": "ipython3",
   "version": "3.6.9"
  }
 },
 "nbformat": 4,
 "nbformat_minor": 2
}
