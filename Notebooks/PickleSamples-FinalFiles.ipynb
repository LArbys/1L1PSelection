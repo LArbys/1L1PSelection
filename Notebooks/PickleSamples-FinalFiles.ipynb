{
 "cells": [
  {
   "cell_type": "code",
   "execution_count": 7,
   "metadata": {},
   "outputs": [],
   "source": [
    "%matplotlib inline\n",
    "\n",
    "import matplotlib.pyplot as plt\n",
    "import pickle\n",
    "import pandas as pd\n",
    "import numpy as np\n",
    "from numpy import mean\n",
    "from math import sqrt,acos,cos,sin,pi,exp,log,isnan,atan2\n",
    "from xgboost import XGBClassifier\n",
    "from sklearn.model_selection import train_test_split\n",
    "from numpy import asarray\n",
    "from root_pandas import read_root\n",
    "from matplotlib import gridspec\n",
    "from scipy import stats\n",
    "\n",
    "\n",
    "datafolder = '../../data'\n",
    "dumpfolder = '../PlotDumps'\n",
    "\n",
    "RSE  = ['run','subrun','event']"
   ]
  },
  {
   "cell_type": "code",
   "execution_count": 8,
   "metadata": {},
   "outputs": [],
   "source": [
    "def proc_df_mc(df_dlana,df_wgts,df_goodrun):\n",
    "    \n",
    "    df_full = df_dlana.join(df_goodrun.set_index('run'),on='run')\n",
    "    #df_full = df_full.join(df_wgts.set_index(RSE)[['nu_interaction_mode','nu_interaction_type','xsec_corr_weight','spline_weight','nu_interaction_ccnc','nu_pdg']],on=RSE)\n",
    "\n",
    "    df_full_goodruns = df_full.query('good==1')\n",
    "    df_full_goodruns_precuts = df_full_goodruns.query(s_precut)\n",
    "    #df_full_goodruns_precuts.insert(0,'mc_label',df_full_goodruns_precuts.apply(bless_MC_labels,axis=1))\n",
    "    #df_full_goodruns_precuts.insert(0,'int_label',df_full_goodruns_precuts.apply(bless_int_labels,axis=1))\n",
    "    \n",
    "    #df_full_nodupes = df_full_goodruns_precuts.sort_values('BDTscore_1mu1p_cosmic',ascending=False).drop_duplicates(RSE).sort_index()\n",
    "    # keep dupes for now...\n",
    "    return df_full_goodruns_precuts\n",
    "\n",
    "def proc_detvar_mc(df_dlana,df_cv,df_goodrun):\n",
    "    \n",
    "    df_full = df_dlana.join(df_goodrun.set_index('run'),on='run')\n",
    "    df_full = df_full.join(df_cv.set_index(RSE),on=RSE,rsuffix='_cv')\n",
    "\n",
    "    df_full_goodruns = df_full.query('good==1')\n",
    "    df_full_overlap = df_full_goodruns.query('Enu_1m1p > 0 and Enu_1m1p_cv > 0')\n",
    "    df_full_goodruns_precuts = df_full_overlap.query(s_precut)\n",
    "    \n",
    "    return df_full_goodruns_precuts"
   ]
  },
  {
   "cell_type": "code",
   "execution_count": 9,
   "metadata": {},
   "outputs": [],
   "source": [
    "# Time to load the good runs list\n",
    "good_run1_df = pd.read_csv('%s/goodruns_2020.txt'%datafolder)\n",
    "good_run2_df = pd.read_csv('%s/goodruns_2020_run2.txt'%datafolder)\n",
    "good_run3_df = pd.read_csv('%s/goodruns_2020_run3.txt'%datafolder)\n",
    "\n",
    "good_run1_df['good'] = 1\n",
    "good_run2_df['good'] = 1\n",
    "good_run3_df['good'] = 1"
   ]
  },
  {
   "cell_type": "code",
   "execution_count": 10,
   "metadata": {},
   "outputs": [],
   "source": [
    "# Beam quality\n",
    "beamq_df = read_root('%s/beamdataquality_remix_bnb5e19.root'%datafolder,'bdq')"
   ]
  },
  {
   "cell_type": "code",
   "execution_count": 11,
   "metadata": {},
   "outputs": [],
   "source": [
    "tag = 'June8_yesdupes'\n",
    "\n",
    "# All Precuts\n",
    "orthogonalcut = 'MaxShrFrac < .2'\n",
    "precuts ='PassSimpleCuts == 1 and ChargeNearTrunk > 0 and FailedBoost != 1 and OpenAng > .5'\n",
    "s_precut = orthogonalcut + ' and ' + precuts"
   ]
  },
  {
   "cell_type": "markdown",
   "metadata": {},
   "source": [
    "# MC BNB OVERLAY"
   ]
  },
  {
   "cell_type": "markdown",
   "metadata": {},
   "source": [
    "##  Run1"
   ]
  },
  {
   "cell_type": "code",
   "execution_count": 12,
   "metadata": {},
   "outputs": [
    {
     "ename": "NameError",
     "evalue": "name 'df_bnb_full' is not defined",
     "output_type": "error",
     "traceback": [
      "\u001b[0;31m---------------------------------------------------------------------------\u001b[0m",
      "\u001b[0;31mNameError\u001b[0m                                 Traceback (most recent call last)",
      "\u001b[0;32m<ipython-input-12-883d75b30f3e>\u001b[0m in \u001b[0;36m<module>\u001b[0;34m\u001b[0m\n\u001b[1;32m      4\u001b[0m \u001b[0;34m\u001b[0m\u001b[0m\n\u001b[1;32m      5\u001b[0m \u001b[0mdf_mc_full\u001b[0m \u001b[0;34m=\u001b[0m \u001b[0mproc_df_mc\u001b[0m\u001b[0;34m(\u001b[0m\u001b[0mdf_mc\u001b[0m\u001b[0;34m,\u001b[0m\u001b[0mdf_mc_cvweight\u001b[0m\u001b[0;34m,\u001b[0m\u001b[0mgood_run1_df\u001b[0m\u001b[0;34m)\u001b[0m\u001b[0;34m\u001b[0m\u001b[0;34m\u001b[0m\u001b[0m\n\u001b[0;32m----> 6\u001b[0;31m \u001b[0mdf_mc_full\u001b[0m \u001b[0;34m=\u001b[0m \u001b[0mdf_bnb_full\u001b[0m\u001b[0;34m.\u001b[0m\u001b[0mquery\u001b[0m\u001b[0;34m(\u001b[0m\u001b[0;34m'not (nu_interaction_ccnc==0 and abs(nu_pdg)==12)'\u001b[0m\u001b[0;34m)\u001b[0m \u001b[0;31m# cut out nue ccqes\u001b[0m\u001b[0;34m\u001b[0m\u001b[0;34m\u001b[0m\u001b[0m\n\u001b[0m\u001b[1;32m      7\u001b[0m \u001b[0;34m\u001b[0m\u001b[0m\n\u001b[1;32m      8\u001b[0m \u001b[0mdf_mc_full\u001b[0m\u001b[0;34m.\u001b[0m\u001b[0mto_parquet\u001b[0m\u001b[0;34m(\u001b[0m\u001b[0;34m'%s/pickles/%s_%s.parquet'\u001b[0m\u001b[0;34m%\u001b[0m\u001b[0;34m(\u001b[0m\u001b[0mdatafolder\u001b[0m\u001b[0;34m,\u001b[0m\u001b[0ms_mc\u001b[0m\u001b[0;34m,\u001b[0m\u001b[0mtag\u001b[0m\u001b[0;34m)\u001b[0m\u001b[0;34m)\u001b[0m\u001b[0;34m\u001b[0m\u001b[0;34m\u001b[0m\u001b[0m\n",
      "\u001b[0;31mNameError\u001b[0m: name 'df_bnb_full' is not defined"
     ]
    }
   ],
   "source": [
    "s_mc = 'numu_run1'\n",
    "df_mc = read_root('%s/bnb_overlay/mcc9_v28_wctagger_bnboverlay_stripped.root'%datafolder,'FinalVertexVariables')\n",
    "df_mc_cvweight = read_root('%s/bnb_overlay/weights_forCV_v40_bnb_nu_run1.root'%datafolder)\n",
    "\n",
    "df_mc_full = proc_df_mc(df_mc,df_mc_cvweight,good_run1_df)  \n",
    "df_mc_full = df_bnb_full.query('not (nu_interaction_ccnc==0 and abs(nu_pdg)==12)') # cut out nue ccqes\n",
    "\n",
    "df_mc_full.to_parquet('%s/pickles/%s_%s.parquet'%(datafolder,s_mc,tag))\n",
    "\n",
    "del df_mc, df_mc_cvweight, df_mc_full"
   ]
  },
  {
   "cell_type": "code",
   "execution_count": null,
   "metadata": {},
   "outputs": [],
   "source": [
    "s_mc = 'numu_lowe_run1'\n",
    "df_mc = read_root('%s/bnb_overlay/mcc9_v29e_run1_bnb_nu_overlay_LowE.root'%datafolder,'dlana/FinalVertexVariables')\n",
    "df_mc_cvweight = read_root('%s/bnb_overlay/weights_forCV_v40_bnb_nu_lowE_run1.root'%datafolder)\n",
    "\n",
    "df_mc_full = proc_df_mc(df_mc,df_mc_cvweight,good_run1_df)  \n",
    "df_mc_full = df_bnb_full.query('not (nu_interaction_ccnc==0 and abs(nu_pdg)==12)') # cut out nue ccqes\n",
    "\n",
    "df_mc_full.to_parquet('%s/pickles/%s_%s.parquet'%(datafolder,s_mc,tag))\n",
    "\n",
    "del df_mc, df_mc_cvweight, df_mc_full"
   ]
  },
  {
   "cell_type": "markdown",
   "metadata": {},
   "source": [
    "## Run3"
   ]
  },
  {
   "cell_type": "code",
   "execution_count": 57,
   "metadata": {},
   "outputs": [],
   "source": [
    "s_mc = 'numu_run3'\n",
    "df_mc = read_root('%s/bnb_overlay/mcc9_v29e_dl_run3b_bnb_nu_overlay_nocrtremerge_stripped.root'%datafolder,'FinalVertexVariables')\n",
    "df_mc_cvweight = read_root('%mc/bnb_overlay/weights_forCV_v40_bnb_nu_run3.root'%datafolder)\n",
    "\n",
    "df_mc_full = proc_df_mc(df_mc,df_mc_cvweight,good_run3_df)  \n",
    "df_mc_full = df_bnb_full.query('not (nu_interaction_ccnc==0 and abs(nu_pdg)==12)') # cut out nue ccqes\n",
    "\n",
    "df_mc_full.to_parquet('%s/pickles/%s_%s.parquet'%(datafolder,s_mc,tag))\n",
    "\n",
    "del df_mc, df_mc_cvweight, df_mc_full"
   ]
  },
  {
   "cell_type": "code",
   "execution_count": 66,
   "metadata": {},
   "outputs": [],
   "source": [
    "s_mc = 'numu_lowe_run3'\n",
    "df_mc = read_root('%s/bnb_overlay/mcc9_v29e_run3b_bnb_nu_overlay_LowE.root'%datafolder,'FinalVertexVariables')\n",
    "df_mc_cvweight = read_root('%mc/bnb_overlay/weights_forCV_v40_bnb_nu_lowE_run3.root'%datafolder)\n",
    "\n",
    "df_mc_full = proc_df_mc(df_mc,df_mc_cvweight,good_run3_df)  \n",
    "df_mc_full = df_bnb_full.query('not (nu_interaction_ccnc==0 and abs(nu_pdg)==12)') # cut out nue ccqes\n",
    "\n",
    "df_mc_full.to_parquet('%s/pickles/%s_%s.parquet'%(datafolder,s_mc,tag))\n",
    "\n",
    "del df_mc, df_mc_cvweight, df_mc_full"
   ]
  },
  {
   "cell_type": "markdown",
   "metadata": {},
   "source": [
    "# DIRT"
   ]
  },
  {
   "cell_type": "code",
   "execution_count": 12,
   "metadata": {},
   "outputs": [
    {
     "name": "stdout",
     "output_type": "stream",
     "text": [
      "7557 1470\n"
     ]
    }
   ],
   "source": [
    "df_dirt = read_root('../data/dirt/FVV-Prime-dirt-Mar3-WC-1M1P.root','FinalVertexVariables')\n",
    "df_dirt_cvweight = read_root('../data/dirt/weights_forCV_v40_dirt_nu_run1.root')\n",
    "\n",
    "df_full = df_dirt.join(good_run1_df.set_index('run'),on='run')\n",
    "df_full = df_full.join(df_dirt_cvweight.set_index(RSE)[['nu_interaction_mode','nu_interaction_type','xsec_corr_weight','spline_weight','nu_interaction_ccnc','nu_pdg']],on=RSE)\n",
    "df_full_goodruns = df_full.query('good==1')\n",
    "df_full_goodruns_precuts = df_full_goodruns.query('PassPMTPrecut==1 and PassSimpleCuts==1')\n",
    "\n",
    "with open('/home/dcianci/Physics/1e1p/1mu1pSelection/bdtweights_1mu1p_WC_apr1.pickle','rb') as handle: cosmicBDT,nubkgBDT = pickle.load(handle)          # Load BDT weights for 1mu1p background differentiation    \n",
    "myvars = ['Eta','ChargeNearTrunk','PT_1m1p','PhiT_1m1p','AlphaT_1m1p','Sph_1m1p','Q0_1m1p','Q2_1m1p','Q3_1m1p','Lepton_ThetaReco','Lepton_PhiReco','Proton_ThetaReco','Proton_PhiReco','PTRat_1m1p','Lepton_TrackLength','Thetas','Phis','Proton_TrackLength','OpenAng','PzEnu_1m1p']\n",
    "s_nubdtname = 'BDTscore_1mu1p_nu'\n",
    "s_cosbdtname = 'BDTscore_1mu1p_cosmic'\n",
    "df_full_goodruns_precuts.insert(0,s_nubdtname,nubkgBDT.predict(df_full_goodruns_precuts[myvars].values.tolist(),output_margin=True))\n",
    "df_full_goodruns_precuts.insert(0,s_cosbdtname,cosmicBDT.predict(df_full_goodruns_precuts[myvars].values.tolist(),output_margin=True))\n",
    "\n",
    "df_nodupes = df_full_goodruns_precuts.sort_values('BDTscore_1mu1p_cosmic',ascending=False).drop_duplicates(RSE).sort_index()\n",
    "df_nodupes.to_parquet('../data/pickles/dirt_run1_nodupes%s.parquet'%tag)\n",
    "\n",
    "del df_full,df_full_goodruns,df_full_goodruns_precuts"
   ]
  },
  {
   "cell_type": "markdown",
   "metadata": {},
   "source": [
    "# MC NUE OVERLAY"
   ]
  },
  {
   "cell_type": "code",
   "execution_count": 11,
   "metadata": {},
   "outputs": [
    {
     "ename": "NameError",
     "evalue": "name 'df_bnb' is not defined",
     "output_type": "error",
     "traceback": [
      "\u001b[0;31m---------------------------------------------------------------------------\u001b[0m",
      "\u001b[0;31mNameError\u001b[0m                                 Traceback (most recent call last)",
      "\u001b[0;32m<ipython-input-11-1500dd189d64>\u001b[0m in \u001b[0;36m<module>\u001b[0;34m\u001b[0m\n\u001b[1;32m      2\u001b[0m \u001b[0mdf_nue_cvweights\u001b[0m \u001b[0;34m=\u001b[0m \u001b[0mread_root\u001b[0m\u001b[0;34m(\u001b[0m\u001b[0;34m'../../data/nue_intrinsic_overlay/weights_forCV_v40_intrinsic_nue_run1.root'\u001b[0m\u001b[0;34m)\u001b[0m\u001b[0;34m\u001b[0m\u001b[0;34m\u001b[0m\u001b[0m\n\u001b[1;32m      3\u001b[0m \u001b[0;34m\u001b[0m\u001b[0m\n\u001b[0;32m----> 4\u001b[0;31m \u001b[0mdf_mc_full\u001b[0m \u001b[0;34m=\u001b[0m \u001b[0mproc_df_mc\u001b[0m\u001b[0;34m(\u001b[0m\u001b[0mdf_bnb\u001b[0m\u001b[0;34m,\u001b[0m\u001b[0mdf_nue_cvweights\u001b[0m\u001b[0;34m,\u001b[0m\u001b[0mgood_run3_df\u001b[0m\u001b[0;34m)\u001b[0m\u001b[0;34m\u001b[0m\u001b[0;34m\u001b[0m\u001b[0m\n\u001b[0m\u001b[1;32m      5\u001b[0m \u001b[0;34m\u001b[0m\u001b[0m\n\u001b[1;32m      6\u001b[0m \u001b[0mdf_mc_full\u001b[0m\u001b[0;34m.\u001b[0m\u001b[0mto_parquet\u001b[0m\u001b[0;34m(\u001b[0m\u001b[0;34m'%s/pickles/%s_%s.parquet'\u001b[0m\u001b[0;34m%\u001b[0m\u001b[0;34m(\u001b[0m\u001b[0mdatafolder\u001b[0m\u001b[0;34m,\u001b[0m\u001b[0ms_mc\u001b[0m\u001b[0;34m,\u001b[0m\u001b[0mtag\u001b[0m\u001b[0;34m)\u001b[0m\u001b[0;34m)\u001b[0m\u001b[0;34m\u001b[0m\u001b[0;34m\u001b[0m\u001b[0m\n",
      "\u001b[0;31mNameError\u001b[0m: name 'df_bnb' is not defined"
     ]
    }
   ],
   "source": [
    "s_mc = 'nue_run1'\n",
    "df_mc = read_root('%s/nue_intrinsic_overlay/mcc9_v28_wctagger_nueintrinsics_stripped.root'%datafolder,'FinalVertexVariables')\n",
    "df_mc_cvweight = read_root('%mc/nue_intrinsic_overlay/weights_forCV_v40_intrinsic_nue_run1.root'%datafolder)\n",
    "\n",
    "df_mc_full = proc_df_mc(df_mc,df_mc_cvweight,good_run1_df)  \n",
    "\n",
    "df_mc_full.to_parquet('%s/pickles/%s_%s.parquet'%(datafolder,s_mc,tag))\n",
    "\n",
    "del df_mc, df_mc_cvweight, df_mc_full"
   ]
  },
  {
   "cell_type": "code",
   "execution_count": 60,
   "metadata": {},
   "outputs": [],
   "source": [
    "s_mc = 'nue_run3'\n",
    "df_mc = read_root('%s/nue_intrinsic_overlay/mcc9_v29e_run3b_bnb_intrinsic_nue_overlay_nocrtremerge_stripped.root'%datafolder,'FinalVertexVariables')\n",
    "df_mc_cvweight = read_root('%mc/nue_intrinsic_overlay/weights_forCV_v40_intrinsic_nue_run3.root'%datafolder)\n",
    "\n",
    "df_mc_full = proc_df_mc(df_mc,df_mc_cvweight,good_run3_df)  \n",
    "\n",
    "df_mc_full.to_parquet('%s/pickles/%s_%s.parquet'%(datafolder,s_mc,tag))\n",
    "\n",
    "del df_mc, df_mc_cvweight, df_mc_full"
   ]
  },
  {
   "cell_type": "markdown",
   "metadata": {},
   "source": [
    "# EXT"
   ]
  },
  {
   "cell_type": "code",
   "execution_count": 62,
   "metadata": {},
   "outputs": [],
   "source": [
    "s_ext = 'ext_run1'\n",
    "df_ext = read_root('%s/ext/mcc9_v28_wctagger_extbnbFULL_stripped.root'%datafolder)\n",
    "    \n",
    "df_ext = df_ext.join(good_run1_df.set_index('run'),on='run')\n",
    "df_ext_goodruns = df_ext.query(\"good==1\")\n",
    "df_ext_goodruns_precuts = df_ext_goodruns.query(s_precut)\n",
    "\n",
    "#df_nodupes = df_ext_goodruns_precuts.sort_values('BDTscore_1mu1p_cosmic',ascending=False).drop_duplicates(RSE).sort_index()\n",
    "\n",
    "df_ext_goodruns_precuts.to_parquet('%s/pickles/%s_%s.parquet'%(datafolder,s_ext,tag)\n",
    " \n",
    "del df_ext,df_ext_goodruns,df_ext_goodruns_precuts"
   ]
  },
  {
   "cell_type": "code",
   "execution_count": 64,
   "metadata": {},
   "outputs": [],
   "source": [
    "s_ext = 'ext_run3'\n",
    "df_ext = read_root('%s/ext/mcc9_v29e_dl_run3_G1_extbnb_stripped.root'%datafolder)\n",
    "    \n",
    "df_ext = df_ext.join(good_run3_df.set_index('run'),on='run')\n",
    "df_ext_goodruns = df_ext.query(\"good==1\")\n",
    "df_ext_goodruns_precuts = df_ext_goodruns.query(s_precut)\n",
    "\n",
    "#df_nodupes = df_ext_goodruns_precuts.sort_values('BDTscore_1mu1p_cosmic',ascending=False).drop_duplicates(RSE).sort_index()\n",
    "\n",
    "df_ext_goodruns_precuts.to_parquet('%s/pickles/%s_%s.parquet'%(datafolder,s_ext,tag)\n",
    " \n",
    "del df_ext,df_ext_goodruns,df_ext_goodruns_precuts"
   ]
  },
  {
   "cell_type": "markdown",
   "metadata": {},
   "source": [
    "# Data"
   ]
  },
  {
   "cell_type": "code",
   "execution_count": 103,
   "metadata": {},
   "outputs": [
    {
     "name": "stdout",
     "output_type": "stream",
     "text": [
      "0\n"
     ]
    }
   ],
   "source": [
    "s_data = 'data_run1_5e19'\n",
    "df_data = read_root('%s/bnb/mcc9_v28_wctagger_5e19.root'%datafolder,'dlana/FinalVertexVariables')\n",
    "\n",
    "df_data = df_data.join(good_run1_df.set_index('run'),on='run')\n",
    "df_data = df_data.join(beamq_df.set_index(['run','subrun','event']),on=['run','subrun','event'])\n",
    "\n",
    "df_data_goodruns = df_data.query(\"good==1 and result==1\")\n",
    "df_data_goodruns_precuts = df_data_goodruns.query(s_precut)\n",
    "#df_nodupes = df_data_goodruns_precuts.sort_values('BDTscore_1mu1p_cosmic',ascending=False).drop_duplicates(RSE).sort_index()\n",
    "\n",
    "df_data_goodruns_precuts.to_parquet('%s/pickles/%s_%s.parquet'%(datafolder,s_data,tag)\n",
    "\n",
    "\n",
    "del df_data,df_data_goodruns,df_data_goodruns_precuts"
   ]
  },
  {
   "cell_type": "code",
   "execution_count": 19,
   "metadata": {},
   "outputs": [],
   "source": [
    "s_data = 'data_run3_1e19'\n",
    "df_data = read_root('%s/bnb/mcc9_v28_wctagger_run3_bnb1e19.root'%datafolder,'dlana/FinalVertexVariables')\n",
    "\n",
    "df_data = df_data.join(good_run3_df.set_index('run'),on='run')\n",
    "\n",
    "df_data_goodruns = df_data.query(\"good==1\")# and result==1\")\n",
    "df_data_goodruns_precuts = df_data_goodruns.query(s_precut)\n",
    "#df_nodupes = df_data_goodruns_precuts.sort_values('BDTscore_1mu1p_cosmic',ascending=False).drop_duplicates(RSE).sort_index()\n",
    "\n",
    "df_data_goodruns_precuts.to_parquet('%s/pickles/%s_%s.parquet'%(datafolder,s_data,tag))\n",
    "\n",
    "\n",
    "del df_data,df_data_goodruns,df_data_goodruns_precuts"
   ]
  },
  {
   "cell_type": "code",
   "execution_count": 7,
   "metadata": {},
   "outputs": [],
   "source": [
    "s_data = 'data_run2_filter'\n",
    "#df_data = read_root('%s/bnb/mcc9_v29e_dl_run3_G1_bnb_dlfilter_1m1p_v1_1_2b_fvv.root'%datafolder,'dlana/FinalVertexVariables')\n",
    "df_data = read_root('%s/bnb/mcc9_v29e_dl_run2_D2_bnb_dlfilter_1m1p_v1_1_2b_fvv.root'%datafolder,'dlana/FinalVertexVariables')\n",
    "\n",
    "\n",
    "df_data = df_data.join(good_run2_df.set_index('run'),on='run')\n",
    "\n",
    "df_data_goodruns = df_data.query(\"good==1\")# and result==1\")\n",
    "df_data_goodruns_precuts = df_data_goodruns.query(s_precut)\n",
    "#df_nodupes = df_data_goodruns_precuts.sort_values('BDTscore_1mu1p_cosmic',ascending=False).drop_duplicates(RSE).sort_index()\n",
    "\n",
    "df_data_goodruns_precuts.to_parquet('%s/pickles/%s_%s.parquet'%(datafolder,s_data,tag))\n",
    "\n",
    "del df_data,df_data_goodruns,df_data_goodruns_precuts"
   ]
  },
  {
   "cell_type": "code",
   "execution_count": 13,
   "metadata": {},
   "outputs": [],
   "source": [
    "s_data = 'data_run3_filter'\n",
    "df_data = read_root('%s/bnb/mcc9_v29e_dl_run3_G1_bnb_dlfilter_1m1p_v1_1_2b_fvv.root'%datafolder,'dlana/FinalVertexVariables')\n",
    "\n",
    "df_data = df_data.join(good_run3_df.set_index('run'),on='run')\n",
    "\n",
    "df_data_goodruns = df_data.query(\"good==1\")# and result==1\")\n",
    "df_data_goodruns_precuts = df_data_goodruns.query(s_precut)\n",
    "\n",
    "df_data_goodruns_precuts.to_parquet('%s/pickles/%s_%s.parquet'%(datafolder,s_data,tag))\n",
    "\n",
    "del df_data,df_data_goodruns,df_data_goodruns_precuts"
   ]
  },
  {
   "cell_type": "code",
   "execution_count": 6,
   "metadata": {},
   "outputs": [],
   "source": [
    "s_data = 'data_run1_filter'\n",
    "df_data = read_root('%s/bnb/mcc9_v29e_dl_run1_C1_bnb_dlfilter_1m1p_v1_1_2b_fvv.root'%datafolder,'dlana/FinalVertexVariables')\n",
    "\n",
    "\n",
    "df_data = df_data.join(good_run1_df.set_index('run'),on='run')\n",
    "\n",
    "df_data_goodruns = df_data.query(\"good==1\")# and result==1\")\n",
    "df_data_goodruns_precuts = df_data_goodruns.query(s_precut)\n",
    "#df_nodupes = df_data_goodruns_precuts.sort_values('BDTscore_1mu1p_cosmic',ascending=False).drop_duplicates(RSE).sort_index()\n",
    "\n",
    "df_data_goodruns_precuts.to_parquet('%s/pickles/%s_%s.parquet'%(datafolder,s_data,tag))\n",
    "\n",
    "del df_data,df_data_goodruns,df_data_goodruns_precuts"
   ]
  },
  {
   "cell_type": "code",
   "execution_count": 6,
   "metadata": {},
   "outputs": [],
   "source": [
    "s_data = 'data_run1_makeup'\n",
    "df_data = read_root('%s/bnb/mcc9_v29e_dl_run1_C1_bnb_dlfilter_1m1p_v1_1_2b_fvv.root'%datafolder,'dlana/FinalVertexVariables')\n",
    "\n",
    "\n",
    "df_data = df_data.join(good_run1_df.set_index('run'),on='run')\n",
    "\n",
    "df_data_goodruns = df_data.query(\"good==1\")# and result==1\")\n",
    "df_data_goodruns_precuts = df_data_goodruns.query(s_precut)\n",
    "#df_nodupes = df_data_goodruns_precuts.sort_values('BDTscore_1mu1p_cosmic',ascending=False).drop_duplicates(RSE).sort_index()\n",
    "\n",
    "df_data_goodruns_precuts.to_parquet('%s/pickles/%s_%s.parquet'%(datafolder,s_data,tag))\n",
    "\n",
    "del df_data,df_data_goodruns,df_data_goodruns_precuts"
   ]
  },
  {
   "cell_type": "code",
   "execution_count": null,
   "metadata": {},
   "outputs": [],
   "source": []
  },
  {
   "cell_type": "code",
   "execution_count": null,
   "metadata": {},
   "outputs": [],
   "source": []
  },
  {
   "cell_type": "markdown",
   "metadata": {},
   "source": [
    "# Detector Systematics (run3; not updated)"
   ]
  },
  {
   "cell_type": "code",
   "execution_count": null,
   "metadata": {},
   "outputs": [],
   "source": [
    "s_mc = 'numu_run3'\n",
    "df_mc = read_root('%s/bnb_overlay/mcc9_v29e_dl_run3b_bnb_nu_overlay_nocrtremerge_stripped.root'%datafolder,'FinalVertexVariables')\n",
    "df_mc_cvweight = read_root('%mc/bnb_overlay/weights_forCV_v40_bnb_nu_run3.root'%datafolder)\n",
    "\n",
    "df_mc_full = proc_df_mc(df_mc,df_mc_cvweight,good_run3_df)  \n",
    "df_mc_full = df_bnb_full.query('not (nu_interaction_ccnc==0 and abs(nu_pdg)==12)') # cut out nue ccqes\n",
    "\n",
    "df_mc_full.to_parquet('%s/pickles/%s_%s.parquet'%(datafolder,s_mc,tag))\n",
    "\n",
    "del df_mc, df_mc_cvweight, df_mc_full"
   ]
  },
  {
   "cell_type": "code",
   "execution_count": 14,
   "metadata": {},
   "outputs": [],
   "source": [
    "df_cv = read_root('../../data/detsys/mcc9_v40a_dl_run3b_bnb_overlay_CV.root','FinalVertexVariables')\n",
    "\n",
    "s_data = 'wiremodX'\n",
    "df_bnb = read_root('../../data/detsys/mcc9_v40a_dl_run3b_bnb_overlay_wiremodX.root','dlana/FinalVertexVariables')\n",
    "df_bnb_proc = proc_detvar_mc(df_bnb,df_cv,good_run3_df)\n",
    "df_bnb_proc.to_parquet('%s/pickles/%s_%s.parquet'%(datafolder,s_data,tag))\n",
    "\n",
    "s_data = 'recomb2'\n",
    "df_bnb = read_root('../../data/detsys/mcc9_v40_dl_run3b_bnb_nu_overlay_DetVar_recomb2.root','FinalVertexVariables')\n",
    "df_bnb_proc = proc_detvar_mc(df_bnb,df_cv,good_run3_df)\n",
    "df_bnb_proc.to_parquet('%s/pickles/%s_%s.parquet'%(datafolder,s_data,tag))\n",
    "\n",
    "s_data = 'wiremoddEdx'\n",
    "df_bnb = read_root('../../data/detsys/mcc9_v40_dl_run3b_bnb_nu_overlay_DetVar_wiremodscaleddedx.root','FinalVertexVariables')\n",
    "df_bnb_proc = proc_detvar_mc(df_bnb,df_cv,good_run3_df)\n",
    "df_bnb_proc.to_parquet('%s/pickles/%s_%s.parquet'%(datafolder,s_data,tag))"
   ]
  },
  {
   "cell_type": "code",
   "execution_count": 16,
   "metadata": {},
   "outputs": [],
   "source": [
    "s_data = 'wiremodThetaXZ'\n",
    "df_bnb = read_root('../../data/detsys/mcc9_v40a_dl_run3b_bnb_nu_overlay_DetVar_wiremodThetaXZ.root','dlana/FinalVertexVariables')\n",
    "df_bnb_proc = proc_detvar_mc(df_bnb,df_cv,good_run3_df)\n",
    "df_bnb_proc.to_parquet('%s/pickles/%s_%s.parquet'%(datafolder,s_data,tag))"
   ]
  },
  {
   "cell_type": "code",
   "execution_count": 17,
   "metadata": {},
   "outputs": [],
   "source": [
    "s_data = 'wiremodThetaYZ'\n",
    "df_bnb = read_root('../../data/detsys/mcc9_v40a_dl_run3b_bnb_nu_overlay_DetVar_wiremodThetaYZ.root','dlana/FinalVertexVariables')\n",
    "df_bnb_proc = proc_detvar_mc(df_bnb,df_cv,good_run3_df)\n",
    "df_bnb_proc.to_parquet('%s/pickles/%s_%s.parquet'%(datafolder,s_data,tag))\n",
    "\n",
    "s_data = 'LYAttenuation'\n",
    "df_bnb = read_root('../../data/detsys/mcc9_v40a_dl_run3b_bnb_nu_overlay_DetVar_LYAttenuation.root','dlana/FinalVertexVariables')\n",
    "df_bnb_proc = proc_detvar_mc(df_bnb,df_cv,good_run3_df)\n",
    "df_bnb_proc.to_parquet('%s/pickles/%s_%s.parquet'%(datafolder,s_data,tag))\n",
    "\n",
    "s_data = 'SCE'\n",
    "df_bnb = read_root('../../data/detsys/mcc9_v40a_dl_run3b_bnb_nu_overlay_DetVar_SCE.root','dlana/FinalVertexVariables')\n",
    "df_bnb_proc = proc_detvar_mc(df_bnb,df_cv,good_run3_df)\n",
    "df_bnb_proc.to_parquet('%s/pickles/%s_%s.parquet'%(datafolder,s_data,tag))\n",
    "\n",
    "s_data = 'LYdown'\n",
    "df_bnb = read_root('../../data/detsys/mcc9_v40a_dl_run3b_bnb_nu_overlay_DetVar_LYdown.root','dlana/FinalVertexVariables')\n",
    "df_bnb_proc = proc_detvar_mc(df_bnb,df_cv,good_run3_df)\n",
    "df_bnb_proc.to_parquet('%s/pickles/%s_%s.parquet'%(datafolder,s_data,tag))\n",
    "\n",
    "s_data = 'wiremodYZ'\n",
    "df_bnb = read_root('../../data/detsys/mcc9_v40a_dl_run3b_bnb_nu_overlay_DetVar_wiremodYZ.root','dlana/FinalVertexVariables')\n",
    "df_bnb_proc = proc_detvar_mc(df_bnb,df_cv,good_run3_df)\n",
    "df_bnb_proc.to_parquet('%s/pickles/%s_%s.parquet'%(datafolder,s_data,tag))\n",
    "\n",
    "#s_data = 'wiremodX'\n",
    "#df_cv = read_root('../../data/detsys/mcc9_v40a_dl_run3b_bnb_overlay_CV.root','FinalVertexVariables')\n",
    "#df_bnb_proc = proc_detvar_mc(df_bnb,df_cv,good_run3_df)\n",
    "#df_bnb_proc.to_parquet('%s/pickles/%s_%s.parquet'%(datafolder,s_data,tag))"
   ]
  },
  {
   "cell_type": "code",
   "execution_count": null,
   "metadata": {},
   "outputs": [],
   "source": []
  },
  {
   "cell_type": "code",
   "execution_count": null,
   "metadata": {},
   "outputs": [],
   "source": []
  },
  {
   "cell_type": "code",
   "execution_count": 8,
   "metadata": {},
   "outputs": [],
   "source": [
    "df_data = read_root('../../data/bnb/mcc9_v29e_dl_run3_G1_bnb_dlfilter_1m1p_v1_1_2b_fvv.root','dlana/FinalVertexVariables')\n",
    "\n",
    "df_data = df_data.join(good_run3_df.set_index('run'),on='run')\n",
    "#df_data = df_data.join(beamq_df.set_index(['run','subrun','event']),on=['run','subrun','event'])\n",
    "\n",
    "df_data_goodruns = df_data.query(\"good==1\")# and result==1\")\n",
    "df_data_goodruns_precuts = df_data_goodruns.query(s_precut)\n",
    "\n",
    "#df_nodupes.to_parquet('../../data/pickles/data_run1_filtertest_nodupes.parquet')\n",
    "df_data_goodruns_precuts.to_parquet('../../data/pickles/data_run3_filtertest_yesdupes.parquet')\n",
    "\n",
    "del df_data,df_data_goodruns,df_data_goodruns_precuts"
   ]
  },
  {
   "cell_type": "code",
   "execution_count": null,
   "metadata": {},
   "outputs": [],
   "source": []
  },
  {
   "cell_type": "code",
   "execution_count": 7,
   "metadata": {},
   "outputs": [],
   "source": [
    "df_data = read_root('../data/bnb/mcc9_v29e_dl_run3_G1_bnb_dlfilter_1m1p_fvv.root','dlana/FinalVertexVariables')\n",
    "\n",
    "df_data = df_data.join(good_run3_df.set_index('run'),on='run')\n",
    "#df_data = df_data.join(beamq_df.set_index(['run','subrun','event']),on=['run','subrun','event'])\n",
    "\n",
    "df_data_goodruns = df_data.query(\"good==1\")# and result==1\")\n",
    "df_data_goodruns_precuts = df_data_goodruns.query(\"PassPMTPrecut==1 and PassSimpleCuts==1\")\n",
    "df_nodupes = df_data_goodruns_precuts.sort_values('BDTscore_1mu1p_cosmic',ascending=False).drop_duplicates(RSE).sort_index()\n",
    "\n",
    "df_nodupes.to_parquet('../data/pickles/data_run3_filter_nodupes%s.parquet'%tag)\n",
    "\n",
    "del df_data,df_data_goodruns,df_data_goodruns_precuts"
   ]
  },
  {
   "cell_type": "code",
   "execution_count": 9,
   "metadata": {},
   "outputs": [],
   "source": [
    "#FAKEDATA\n",
    "df_data = read_root('../data/bnb/FVV_fakedata_test.root','dlana/FinalVertexVariables')\n",
    "\n",
    "df_data = df_data.query(\"PassPMTPrecut==1 and PassSimpleCuts==1\")\n",
    "df_nodupes = df_data.sort_values('BDTscore_1mu1p_cosmic',ascending=False).drop_duplicates(RSE).sort_index()\n",
    "\n",
    "df_nodupes.to_parquet('../data/pickles/data_fakedata_nodupes%s.parquet'%tag)\n",
    "\n",
    "del df_data"
   ]
  }
 ],
 "metadata": {
  "kernelspec": {
   "display_name": "Python 3",
   "language": "python",
   "name": "python3"
  },
  "language_info": {
   "codemirror_mode": {
    "name": "ipython",
    "version": 3
   },
   "file_extension": ".py",
   "mimetype": "text/x-python",
   "name": "python",
   "nbconvert_exporter": "python",
   "pygments_lexer": "ipython3",
   "version": "3.6.9"
  }
 },
 "nbformat": 4,
 "nbformat_minor": 2
}
