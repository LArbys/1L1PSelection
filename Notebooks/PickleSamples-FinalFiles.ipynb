{
 "cells": [
  {
   "cell_type": "code",
   "execution_count": 1,
   "metadata": {},
   "outputs": [
    {
     "name": "stdout",
     "output_type": "stream",
     "text": [
      "Welcome to JupyROOT 6.22/02\n"
     ]
    }
   ],
   "source": [
    "%matplotlib inline\n",
    "\n",
    "import matplotlib.pyplot as plt\n",
    "import pickle\n",
    "import pandas as pd\n",
    "import numpy as np\n",
    "from numpy import mean\n",
    "from math import sqrt,acos,cos,sin,pi,exp,log,isnan,atan2\n",
    "#from xgboost import XGBClassifier\n",
    "from sklearn.model_selection import train_test_split\n",
    "from numpy import asarray\n",
    "from root_pandas import read_root\n",
    "from matplotlib import gridspec\n",
    "from scipy import stats\n",
    " \n",
    "from datetime import date\n",
    "\n",
    "datafolder = '../../rootFiles/1mu1p_selection'\n",
    "auxfolder = '../aux'\n",
    "dumpfolder = '../PlotDumps'\n",
    "\n",
    "RSE  = ['run','subrun','event']\n",
    "RSEV = ['run','subrun','event','vtxid']\n",
    "\n",
    "#with open('/home/dcianci/Physics/1e1p/1mu1pSelection/bdtweight_series4_Sept16_run1.pickle','rb') as handle: bkgBDT_run1 = pickle.load(handle)          # Load BDT weights for 1mu1p background differentiation     \n",
    "#with open('/home/dcianci/Physics/1e1p/1mu1pSelection/bdtweight_series4_Sept16_run2.pickle','rb') as handle: bkgBDT_run2 = pickle.load(handle)          # Load BDT weights for 1mu1p background differentiation  \n",
    "#with open('/home/dcianci/Physics/1e1p/1mu1pSelection/bdtweight_series4_Sept16_run3.pickle','rb') as handle: bkgBDT_run3 = pickle.load(handle)          # Load BDT weights for 1mu1p background differentiation  \n",
    "    \n",
    "#with open('/home/dcianci/Physics/1e1p/testzone/1L1PSelection/bdt_models/bdtweight_series2_june1_run1.pickle','rb') as handle: bkgBDT_run1 = pickle.load(handle)          # Load BDT weights for 1mu1p background differentiation     \n",
    "#with open('/home/dcianci/Physics/1e1p/testzone/1L1PSelection/bdt_models/bdtweight_series2_june1_run3.pickle','rb') as handle: bkgBDT_run3 = pickle.load(handle)          # Load BDT weights for 1mu1p background differentiation  \n",
    "    \n",
    "vars_june1 = ['Phis','ChargeNearTrunk','Enu_1m1p','PhiT_1m1p','AlphaT_1m1p','PT_1m1p','PTRat_1m1p','BjXB_1m1p','BjYB_1m1p','SphB_1m1p','Q0_1m1p','Q3_1m1p','Lepton_PhiReco','Lepton_TrackLength','Proton_PhiReco','Proton_ThetaReco']\n",
    "bdtVars = vars_june1"
   ]
  },
  {
   "cell_type": "code",
   "execution_count": 2,
   "metadata": {},
   "outputs": [],
   "source": [
    "def bless_MC_labels(row):\n",
    "    mclabel = ''\n",
    "    intlabel = ''\n",
    "    parentlabel = ''\n",
    "    pizero = [1090,1086,1090,1080,1015,1013,1011,1008,1006,1004]\n",
    "    piplusminus = [1085,1079,1032,1017,1014,1007,1005,1003,1028,1021,1016,1012,1010,1009]\n",
    "        \n",
    "    if abs(row['nu_pdg']) == 12:\n",
    "        intlabel = 'nue'\n",
    "    elif abs(row['nu_pdg']) == 14:\n",
    "        intlabel = 'numu'\n",
    "        \n",
    "    if not (row['MC_nproton']==1 and row['MC_nlepton']==1):\n",
    "        return 'nLmP'\n",
    "    elif not 0 < row['MC_scedr'] <= 5.0:\n",
    "        return 'offvtx'\n",
    "    elif not abs((row['MC_energyInit']-row['Enu_1m1p'])/row['MC_energyInit']) < 0.2:\n",
    "        return 'badreco'    \n",
    "    else:\n",
    "        if row['nu_interaction_type'] == 1001:\n",
    "            mclabel = 'CCQE'\n",
    "        elif row['nu_interaction_type'] == 1000:\n",
    "            mclabel = 'MEC'\n",
    "        elif row['nu_interaction_type'] in pizero:\n",
    "            mclabel = 'pizero'\n",
    "        elif row['nu_interaction_type'] in piplusminus:\n",
    "            mclabel = 'piplusminus' \n",
    "        else:\n",
    "            mclabel = 'other'\n",
    "    return '%s_%s'%(intlabel,mclabel)\n",
    "\n",
    "def bless_int_labels(row):\n",
    "    mclabel = ''\n",
    "    intlabel = ''\n",
    "    parentlabel = ''\n",
    "    pizero = [1090,1086,1090,1080,1015,1013,1011,1008,1006,1004]\n",
    "    piplusminus = [1085,1079,1032,1017,1014,1007,1005,1003,1028,1021,1016,1012,1010,1009]\n",
    "        \n",
    "    if abs(row['nu_pdg']) == 12:\n",
    "        intlabel = 'nue'\n",
    "    elif abs(row['nu_pdg']) == 14:\n",
    "        intlabel = 'numu'\n",
    "        \n",
    "    if row['nu_interaction_type'] == 1001:\n",
    "        mclabel = 'CCQE'\n",
    "    elif row['nu_interaction_type'] == 1000:\n",
    "        mclabel = 'MEC'\n",
    "    elif row['nu_interaction_type'] in pizero:\n",
    "        mclabel = 'pizero'\n",
    "    elif row['nu_interaction_type'] in piplusminus:\n",
    "        mclabel = 'piplusminus' \n",
    "    else:\n",
    "        mclabel = 'other'\n",
    "           \n",
    "    return '%s_%s'%(intlabel,mclabel)"
   ]
  },
  {
   "cell_type": "code",
   "execution_count": 3,
   "metadata": {},
   "outputs": [],
   "source": [
    "tag = date.today()\n",
    "\n",
    "# Tag dictionary:\n",
    "# Oct21_cmt - all up to date as of the collaboration meeting in october. Identical selection to internal note, now with training samples marked\n",
    "\n",
    "# All Precuts\n",
    "orthogonalcut = 'MaxShrFrac < .2'\n",
    "precuts ='PassSimpleCuts == 1 and ChargeNearTrunk > 0 and FailedBoost != 1 and OpenAng > .5'\n",
    "pmtprecuts = 'TotPE > 20 and PorchTotPE < 20'\n",
    "s_precut = orthogonalcut + ' and ' + precuts + ' and ' + pmtprecuts"
   ]
  },
  {
   "cell_type": "code",
   "execution_count": 4,
   "metadata": {},
   "outputs": [],
   "source": [
    "def proc_df(df_dlana,df_wgts,df_goodrun,bdtwgts,isMC=True):\n",
    "    \n",
    "    # join with goodruns list and cv weights list\n",
    "    df_full = df_dlana.join(df_goodrun.set_index('run'),on='run')\n",
    "    if(isMC):\n",
    "        df_full = df_full.join(df_wgts.set_index(RSE)[['nu_interaction_mode','nu_interaction_type','xsec_corr_weight','spline_weight','nu_interaction_ccnc','nu_pdg','nu_energy_true']],on=RSE)\n",
    "    df_full_goodruns = df_full.query('good==1')   # keep good runs\n",
    "    df_full_goodruns_precuts = df_full_goodruns.query(s_precut)    # apply precuts\n",
    "    \n",
    "    \n",
    "    if(isMC):\n",
    "        df_full_goodruns_precuts.insert(0,'mc_label',df_full_goodruns_precuts.apply(bless_MC_labels,axis=1))\n",
    "        df_full_goodruns_precuts.insert(0,'int_label',df_full_goodruns_precuts.apply(bless_int_labels,axis=1))\n",
    "       \n",
    "    # add a bunch of helpful variables!\n",
    "    df_full_goodruns_precuts.insert(0,'MPID_eminus',[ef.max() for ef in df_full_goodruns_precuts['EminusPID_int_v'].values])\n",
    "    df_full_goodruns_precuts.insert(0,'MPID_muon',[ef.max() for ef in df_full_goodruns_precuts['MuonPID_int_v'].values])\n",
    "    df_full_goodruns_precuts.insert(0,'MPID_proton',[ef.max() for ef in df_full_goodruns_precuts['ProtonPID_int_v'].values])\n",
    "    df_full_goodruns_precuts.insert(0,'MPID_gamma',[ef.max() for ef in df_full_goodruns_precuts['GammaPID_int_v'].values])\n",
    "    df_full_goodruns_precuts.insert(0,'MPID_pion',[ef.max() for ef in df_full_goodruns_precuts['PionPID_int_v'].values])\n",
    "    df_full_goodruns_precuts.insert(0,'Lepton_CosTheta',np.cos(df_full_goodruns_precuts['Lepton_ThetaReco'].values).tolist())\n",
    "    df_full_goodruns_precuts.insert(0,'Proton_CosTheta',np.cos(df_full_goodruns_precuts['Proton_ThetaReco'].values).tolist())\n",
    "    \n",
    "    # add most current bdt weights.\n",
    "#    df_full_goodruns_precuts.insert(0,'bkgBDT_univ',bdtwgts.predict_proba(df_full_goodruns_precuts[bdtVars].values.tolist())[:,0])\n",
    "    df_full_nodupes = df_full_goodruns_precuts.sort_values('BDTscore_1mu1p_nu',ascending=True).drop_duplicates(RSE).sort_index()\n",
    "    \n",
    "    return df_full_nodupes\n",
    "\n",
    "def proc_df_fakedata(df_dlana,bdtwgts):\n",
    "    \n",
    "    df_full_precuts = df_dlana.query(s_precut)    # apply precuts\n",
    "    \n",
    "    # add a bunch of helpful variables!\n",
    "    df_full_precuts.insert(0,'MPID_eminus',[ef.max() for ef in df_full_precuts['EminusPID_int_v'].values])\n",
    "    df_full_precuts.insert(0,'MPID_muon',[ef.max() for ef in df_full_precuts['MuonPID_int_v'].values])\n",
    "    df_full_precuts.insert(0,'MPID_proton',[ef.max() for ef in df_full_precuts['ProtonPID_int_v'].values])\n",
    "    df_full_precuts.insert(0,'MPID_gamma',[ef.max() for ef in df_full_precuts['GammaPID_int_v'].values])\n",
    "    df_full_precuts.insert(0,'MPID_pion',[ef.max() for ef in df_full_precuts['PionPID_int_v'].values])\n",
    "    df_full_precuts.insert(0,'Lepton_CosTheta',np.cos(df_full_precuts['Lepton_ThetaReco'].values).tolist())\n",
    "    df_full_precuts.insert(0,'Proton_CosTheta',np.cos(df_full_precuts['Proton_ThetaReco'].values).tolist())\n",
    "    \n",
    "    # add most current bdt weights.\n",
    "#    df_full_precuts.insert(0,'bkgBDT_univ',bdtwgts.predict_proba(df_full_precuts[bdtVars].values.tolist())[:,0])\n",
    "    df_full_nodupes = df_full_precuts.sort_values('BDTscore_1mu1p_nu',ascending=True).drop_duplicates(RSE).sort_index()\n",
    "    \n",
    "    return df_full_nodupes"
   ]
  },
  {
   "cell_type": "code",
   "execution_count": 5,
   "metadata": {},
   "outputs": [],
   "source": [
    "# Time to load the good runs list\n",
    "good_run1_df = pd.read_csv('%s/R1goodlist.txt'%auxfolder)\n",
    "good_run2_df = pd.read_csv('%s/R2goodlist.txt'%auxfolder)\n",
    "good_run3_df = pd.read_csv('%s/R3goodlist.txt'%auxfolder)\n",
    "\n",
    "good_run1_df['good'] = 1\n",
    "good_run2_df['good'] = 1\n",
    "good_run3_df['good'] = 1\n",
    "#print(good_run1_df)"
   ]
  },
  {
   "cell_type": "markdown",
   "metadata": {},
   "source": [
    "# Training"
   ]
  },
  {
   "cell_type": "code",
   "execution_count": 6,
   "metadata": {},
   "outputs": [],
   "source": [
    "# Are we in  the training sample?\n",
    "a_train_run1 = np.genfromtxt('bdt_run1_trainsample.csv',delimiter=',')\n",
    "a_train_run3 = np.genfromtxt('bdt_run3_trainsample.csv',delimiter=',')\n",
    "dic_train_run1 = {}\n",
    "dic_train_run3 = {}\n",
    "\n",
    "for tr in a_train_run1:\n",
    "    idx = tuple((tr[0],tr[1]))\n",
    "    dic_train_run1[idx] = dict(intrain=1)\n",
    "\n",
    "for tr in a_train_run3:\n",
    "    idx = tuple((tr[0],tr[1]))\n",
    "    dic_train_run3[idx] = dict(intrain=1)\n",
    "    \n",
    "def InTrainRun1(row):\n",
    "    try:\n",
    "        return dic_train_run1[row.run,row.subrun]['intrain']\n",
    "    except:\n",
    "        return 0\n",
    "    \n",
    "def InTrainRun3(row):\n",
    "    try:\n",
    "        return dic_train_run3[row.run,row.subrun]['intrain']\n",
    "    except:\n",
    "        return 0"
   ]
  },
  {
   "cell_type": "code",
   "execution_count": 7,
   "metadata": {},
   "outputs": [],
   "source": [
    "# Beam quality\n",
    "beamq_df = read_root('%s/beamdataquality_remix_bnb5e19.root'%datafolder,'bdq')"
   ]
  },
  {
   "cell_type": "markdown",
   "metadata": {},
   "source": [
    "# MC BNB OVERLAY"
   ]
  },
  {
   "cell_type": "markdown",
   "metadata": {},
   "source": [
    "##  Run1"
   ]
  },
  {
   "cell_type": "code",
   "execution_count": 6,
   "metadata": {},
   "outputs": [],
   "source": [
    "s_mc = 'numu_run1'\n",
    "df_mc = read_root('%s/mcc9_bnb_nu_overlay_CV_run1_500k_numu_v1_1_3_fvv.root'%datafolder,'dlana/FinalVertexVariables')\n",
    "df_mc_cvweight = read_root('%s/weights_forCV_v48_Sep24_bnb_nu_DetVar_run1.root'%auxfolder)\n",
    "\n",
    "#df_mc.insert(0,'InTraining',df_mc.apply(InTrainRun1,axis=1)) # If you are training\n",
    "\n",
    "df_mc_full = proc_df(df_mc,df_mc_cvweight,good_run1_df,0,True) \n",
    "#df_mc_full = df_mc_full.query('not (nu_interaction_ccnc==0 and abs(nu_pdg)==12)') # cut out nue ccqes if using nue intrinsic\n",
    "#print(list(df_mc_full))\n",
    "#df_mc_full.to_parquet('%s/pickles/%s_%s.parquet'%(datafolder,s_mc,tag))\n",
    "\n",
    "del df_mc, df_mc_cvweight, df_mc_full"
   ]
  },
  {
   "cell_type": "code",
   "execution_count": 10,
   "metadata": {},
   "outputs": [],
   "source": [
    "s_mc = 'numu_lowe_run1'\n",
    "df_mc = read_root('%s/bnb_overlay/mcc9_v29e_run1_bnb_nu_overlay_LowE.root'%datafolder,'dlana/FinalVertexVariables')\n",
    "df_mc_cvweight = read_root('%s/bnb_overlay/weights_forCV_v48_Sep24_bnb_nu_lowE_run1.root'%datafolder)\n",
    "\n",
    "df_mc.insert(0,'InTraining',df_mc.apply(InTrainRun1,axis=1))\n",
    "\n",
    "df_mc_full = proc_df(df_mc,df_mc_cvweight,good_run1_df,bkgBDT_run1,True)\n",
    "df_mc_full = df_mc_full.query('not (nu_interaction_ccnc==0 and abs(nu_pdg)==12)') # cut out nue ccqes\n",
    "\n",
    "df_mc_full.to_parquet('%s/pickles/%s_%s.parquet'%(datafolder,s_mc,tag))\n",
    "\n",
    "del df_mc, df_mc_cvweight, df_mc_full"
   ]
  },
  {
   "cell_type": "markdown",
   "metadata": {},
   "source": [
    "##  Run 2"
   ]
  },
  {
   "cell_type": "code",
   "execution_count": 58,
   "metadata": {
    "scrolled": true
   },
   "outputs": [
    {
     "name": "stdout",
     "output_type": "stream",
     "text": [
      "Total Verts 35569\n",
      "mec 209\n",
      "piplusminus 229\n",
      "pizero 87\n",
      "numu CCQE 1963\n",
      "other 159\n"
     ]
    }
   ],
   "source": [
    "# s_mc = 'numu_run2'\n",
    "# df_mc = read_root('%s/bnb_overlay/mcc9_v29e_dl_run2_bnb_nu_overlay_finalbdt.root'%datafolder,'dlana/FinalVertexVariables')\n",
    "# df_mc_cvweight = read_root('%s/bnb_overlay/weights_forCV_v40_bnb_nu_run2.root'%datafolder)\n",
    "\n",
    "# df_mc_full = proc_df(df_mc,df_mc_cvweight,good_run2_df,bkgBDT_run3,True) \n",
    "# df_mc_full = df_mc_full.query('not (nu_interaction_ccnc==0 and abs(nu_pdg)==12)') # cut out nue ccqes\n",
    "\n",
    "# df_mc_full['InTraining'] = 0\n",
    "\n",
    "# print('Total Verts',len(df_mc_full))\n",
    "# print('mec',len(df_mc_full.query(\"mc_label in ['numu_MEC']\")))\n",
    "# print('piplusminus',len(df_mc_full.query(\"mc_label in ['numu_piplusminus']\")))\n",
    "# print('pizero',len(df_mc_full.query(\"mc_label in ['numu_pizero']\")))\n",
    "# print('numu CCQE',len(df_mc_full.query(\"mc_label in ['numu_CCQE']\")))\n",
    "# print('other',len(df_mc_full.query(\"mc_label in ['numu_other','BNB nue_other','nue_MEC','nue_piplusminus','nue_pizero']\")))\n",
    "\n",
    "# df_mc_full.query('abs(MC_energyInit-nu_energy_true) < .0003').to_parquet('%s/pickles/%s_%s.parquet'%(datafolder,s_mc,tag))\n",
    "\n",
    "# #del df_mc, df_mc_cvweight, df_mc_full"
   ]
  },
  {
   "cell_type": "markdown",
   "metadata": {},
   "source": [
    "## Run3"
   ]
  },
  {
   "cell_type": "code",
   "execution_count": 7,
   "metadata": {},
   "outputs": [],
   "source": [
    "s_mc = 'numu_run3'\n",
    "df_mc = read_root('%s/mcc9_v40_bnb_nu_overlay_run3b_CV_v1_1_3_fvv_numu.root'%datafolder,'dlana/FinalVertexVariables')\n",
    "df_mc_cvweight = read_root('%s/weights_forCV_v48_Sep24_bnb_nu_DetVar_run3.root'%auxfolder)\n",
    "\n",
    "#df_mc.insert(0,'InTraining',df_mc.apply(InTrainRun3,axis=1))\n",
    "\n",
    "df_mc_full = proc_df(df_mc,df_mc_cvweight,good_run3_df,0,True) \n",
    "#df_mc_full = df_mc_full.query('not (nu_interaction_ccnc==0 and abs(nu_pdg)==12)') # cut out nue ccqes if using nu_e int\n",
    "\n",
    "df_mc_full.to_parquet('%s/pickles/%s_%s.parquet'%(datafolder,s_mc,tag))\n",
    "\n",
    "del df_mc, df_mc_cvweight, df_mc_full"
   ]
  },
  {
   "cell_type": "code",
   "execution_count": 12,
   "metadata": {},
   "outputs": [],
   "source": [
    "s_mc = 'numu_lowe_run3'\n",
    "df_mc = read_root('%s/bnb_overlay/mcc9_v29e_run3b_bnb_nu_overlay_LowE.root'%datafolder,'dlana/FinalVertexVariables')\n",
    "df_mc_cvweight = read_root('%s/bnb_overlay/weights_forCV_v48_Sep24_bnb_nu_lowE_run3.root'%datafolder)\n",
    "\n",
    "df_mc.insert(0,'InTraining',df_mc.apply(InTrainRun3,axis=1))\n",
    "\n",
    "df_mc_full = proc_df(df_mc,df_mc_cvweight,good_run3_df,bkgBDT_run3,True) \n",
    "df_mc_full = df_mc_full.query('not (nu_interaction_ccnc==0 and abs(nu_pdg)==12)') # cut out nue ccqes\n",
    "\n",
    "df_mc_full.to_parquet('%s/pickles/%s_%s.parquet'%(datafolder,s_mc,tag))\n",
    "\n",
    "del df_mc, df_mc_cvweight, df_mc_full"
   ]
  },
  {
   "cell_type": "markdown",
   "metadata": {},
   "source": [
    "# MC NUE OVERLAY"
   ]
  },
  {
   "cell_type": "code",
   "execution_count": 13,
   "metadata": {},
   "outputs": [],
   "source": [
    "s_mc = 'nue_run1'\n",
    "df_mc = read_root('%s/nue_intrinsic_overlay/mcc9_v28_wctagger_nueintrinsics_stripped.root'%datafolder,'FinalVertexVariables')\n",
    "df_mc_cvweight = read_root('%s/nue_intrinsic_overlay/weights_forCV_v48_Sep24_intrinsic_nue_run1.root'%datafolder)\n",
    "\n",
    "df_mc.insert(0,'InTraining',df_mc.apply(InTrainRun1,axis=1))\n",
    "\n",
    "df_mc_full = proc_df(df_mc,df_mc_cvweight,good_run1_df,bkgBDT_run1,True)\n",
    "\n",
    "df_mc_full.to_parquet('%s/pickles/%s_%s.parquet'%(datafolder,s_mc,tag))\n",
    "\n",
    "del df_mc, df_mc_cvweight, df_mc_full"
   ]
  },
  {
   "cell_type": "code",
   "execution_count": 56,
   "metadata": {},
   "outputs": [],
   "source": [
    "# s_mc = 'nue_run2'\n",
    "# df_mc = read_root('%s/nue_intrinsic_overlay/mcc9_v29e_dl_run2_bnb_intrinsics_nue_overlay_finalbdt.root'%datafolder,'dlana/FinalVertexVariables')\n",
    "# df_mc_cvweight = read_root('%s/nue_intrinsic_overlay/weights_forCV_v40_intrinsic_nue_run2.root'%datafolder)\n",
    "\n",
    "# df_mc_full = proc_df(df_mc,df_mc_cvweight,good_run2_df,bkgBDT_run3,True)\n",
    "\n",
    "# df_mc_full['InTraining'] = 0\n",
    "\n",
    "# #df_mc_full.to_parquet('%s/pickles/%s_%s.parquet'%(datafolder,s_mc,tag))\n",
    "\n",
    "# #del df_mc, df_mc_cvweight, df_mc_full"
   ]
  },
  {
   "cell_type": "code",
   "execution_count": 14,
   "metadata": {},
   "outputs": [],
   "source": [
    "s_mc = 'nue_run3'\n",
    "df_mc = read_root('%s/nue_intrinsic_overlay/mcc9_v29e_run3b_bnb_intrinsic_nue_overlay_nocrtremerge_stripped.root'%datafolder,'FinalVertexVariables')\n",
    "df_mc_cvweight = read_root('%s/nue_intrinsic_overlay/weights_forCV_v48_Sep24_intrinsic_nue_run3.root'%datafolder)\n",
    "\n",
    "df_mc.insert(0,'InTraining',df_mc.apply(InTrainRun3,axis=1))\n",
    "\n",
    "df_mc_full = proc_df(df_mc,df_mc_cvweight,good_run3_df,bkgBDT_run3,True)\n",
    "\n",
    "df_mc_full.to_parquet('%s/pickles/%s_%s.parquet'%(datafolder,s_mc,tag))\n",
    "\n",
    "del df_mc, df_mc_cvweight, df_mc_full"
   ]
  },
  {
   "cell_type": "markdown",
   "metadata": {},
   "source": [
    "# Dirt"
   ]
  },
  {
   "cell_type": "code",
   "execution_count": 15,
   "metadata": {},
   "outputs": [],
   "source": [
    "# s_mc = 'dirt_run1'\n",
    "# df_mc = read_root('%s/dirt/FVV-Prime-dirt-Mar3-WC-1M1P.root'%datafolder,'FinalVertexVariables')\n",
    "# df_mc_cvweight = read_root('%s/dirt/weights_forCV_v40_dirt_nu_run1.root'%datafolder)\n",
    "\n",
    "# df_mc_full = proc_df(df_mc,df_mc_cvweight,good_run1_df,bkgBDT_run1,True)\n",
    "\n",
    "# df_mc_full.to_parquet('%s/pickles/%s_%s.parquet'%(datafolder,s_mc,tag))\n",
    "\n",
    "# del df_mc, df_mc_cvweight, df_mc_full"
   ]
  },
  {
   "cell_type": "markdown",
   "metadata": {},
   "source": [
    "# EXT"
   ]
  },
  {
   "cell_type": "code",
   "execution_count": 16,
   "metadata": {},
   "outputs": [],
   "source": [
    "s_ext = 'ext_run1'\n",
    "df_ext = read_root('%s/ext/mcc9_v28_wctagger_extbnbFULL_stripped.root'%datafolder)\n",
    "\n",
    "df_ext.insert(0,'InTraining',df_ext.apply(InTrainRun1,axis=1))\n",
    "\n",
    "df_ext_full = proc_df(df_ext,'',good_run1_df,bkgBDT_run1,False)\n",
    "\n",
    "df_ext_full.to_parquet('%s/pickles/%s_%s.parquet'%(datafolder,s_ext,tag))"
   ]
  },
  {
   "cell_type": "code",
   "execution_count": 17,
   "metadata": {},
   "outputs": [],
   "source": [
    "s_ext = 'ext_run3'\n",
    "df_ext = read_root('%s/ext/mcc9_v29e_dl_run3_G1_extbnb_stripped.root'%datafolder)\n",
    "    \n",
    "df_ext.insert(0,'InTraining',df_ext.apply(InTrainRun3,axis=1))\n",
    "\n",
    "df_ext_full = proc_df(df_ext,'',good_run3_df,bkgBDT_run3,False)\n",
    "\n",
    "df_ext_full.to_parquet('%s/pickles/%s_%s.parquet'%(datafolder,s_ext,tag)) "
   ]
  },
  {
   "cell_type": "markdown",
   "metadata": {},
   "source": [
    "# Data"
   ]
  },
  {
   "cell_type": "code",
   "execution_count": 21,
   "metadata": {},
   "outputs": [],
   "source": [
    "s_data = 'data_run1_5e19'\n",
    "df_data = read_root('%s/bnb/mcc9_v28_wctagger_5e19.root'%datafolder,'dlana/FinalVertexVariables')\n",
    "\n",
    "# add beam quality filter\n",
    "df_data = df_data.join(beamq_df.set_index(['run','subrun','event']),on=['run','subrun','event'])\n",
    "df_data_full = proc_df(df_data,'',good_run1_df,bkgBDT_run1,False)\n",
    "\n",
    "df_data_full['InTraining'] = 0\n",
    "\n",
    "df_data_full.query('result==1').to_parquet('%s/pickles/%s_%s.parquet'%(datafolder,s_data,tag))"
   ]
  },
  {
   "cell_type": "code",
   "execution_count": 22,
   "metadata": {},
   "outputs": [],
   "source": [
    "s_data = 'data_run3_1e19'\n",
    "df_data = read_root('%s/bnb/mcc9_v28_wctagger_run3_bnb1e19.root'%datafolder,'dlana/FinalVertexVariables')\n",
    "\n",
    "df_data_full = proc_df(df_data,'',good_run3_df,bkgBDT_run3,False)\n",
    "\n",
    "df_data_full['InTraining'] = 0\n",
    "\n",
    "df_data_full.to_parquet('%s/pickles/%s_%s.parquet'%(datafolder,s_data,tag))"
   ]
  },
  {
   "cell_type": "code",
   "execution_count": 23,
   "metadata": {},
   "outputs": [],
   "source": [
    "s_data = 'data_run2_filter'\n",
    "df_data = read_root('%s/bnb/mcc9_v29e_run2_D2E1_1m1p_fvv.root'%datafolder,'dlana/FinalVertexVariables')\n",
    "\n",
    "df_data_full = proc_df(df_data,'',good_run2_df,bkgBDT_run2,False)\n",
    "\n",
    "df_data_full['InTraining'] = 0\n",
    "\n",
    "df_data_full.to_parquet('%s/pickles/%s_%s.parquet'%(datafolder,s_data,tag))"
   ]
  },
  {
   "cell_type": "code",
   "execution_count": 24,
   "metadata": {},
   "outputs": [],
   "source": [
    "s_data = 'data_run3_filter'\n",
    "df_data = read_root('%s/bnb/mcc9_v29e_run3_F1G1_1m1p_fvv.root'%datafolder,'dlana/FinalVertexVariables')\n",
    "\n",
    "df_data_full = proc_df(df_data,'',good_run3_df,bkgBDT_run3,False)\n",
    "\n",
    "df_data_full['InTraining'] = 0\n",
    "\n",
    "df_data_full.to_parquet('%s/pickles/%s_%s.parquet'%(datafolder,s_data,tag))"
   ]
  },
  {
   "cell_type": "code",
   "execution_count": 25,
   "metadata": {},
   "outputs": [],
   "source": [
    "s_data = 'data_run1_filter'\n",
    "df_data = read_root('%s/bnb/mcc9_v29e_dl_run1_C1_bnb_dlfilter_1m1p_v1_1_2b_fvv.root'%datafolder,'dlana/FinalVertexVariables')\n",
    "\n",
    "df_data_full = proc_df(df_data,'',good_run1_df,bkgBDT_run1,False)\n",
    "\n",
    "df_data_full['InTraining'] = 0\n",
    "\n",
    "df_data_full.to_parquet('%s/pickles/%s_%s.parquet'%(datafolder,s_data,tag))"
   ]
  },
  {
   "cell_type": "code",
   "execution_count": 10,
   "metadata": {},
   "outputs": [],
   "source": [
    "s_data = 'fakedata_set1_run1'\n",
    "df_data = read_root('%s/fakedata/dlfilter_fakedata_v08_00_00_29e_dl_ubdlana_v1_1_2_set1_run1_1m1p_stripped.root'%datafolder,'FinalVertexVariables')\n",
    "\n",
    "# remember to turn off pmt precuts\n",
    "df_data_full = proc_df_fakedata(df_data,bkgBDT_run1)\n",
    "\n",
    "df_data_full.to_parquet('%s/pickles/%s_%s.parquet'%(datafolder,s_data,tag))"
   ]
  },
  {
   "cell_type": "code",
   "execution_count": 11,
   "metadata": {},
   "outputs": [],
   "source": [
    "s_data = 'fakedata_set1_run3b'\n",
    "df_data = read_root('%s/fakedata/dlfilter_fakedata_v08_00_00_29e_dl_ubdlana_v1_1_2_set1_run3b_1m1p_stripped.root'%datafolder,'FinalVertexVariables')\n",
    "\n",
    "# remember to turn off pmt precuts\n",
    "df_data_full = proc_df_fakedata(df_data,bkgBDT_run3)\n",
    "\n",
    "df_data_full.to_parquet('%s/pickles/%s_%s.parquet'%(datafolder,s_data,tag))"
   ]
  },
  {
   "cell_type": "code",
   "execution_count": 13,
   "metadata": {},
   "outputs": [],
   "source": [
    "s_data = 'fakedata_set3_run1'\n",
    "df_data = read_root('%s/fakedata/mcc9_v29e_dl_set3_fakedata_run1_numu_v1_1_3_fvv.root'%datafolder,'dlana/FinalVertexVariables')\n",
    "\n",
    "# remember to turn off pmt precuts\n",
    "df_data_full = proc_df_fakedata(df_data,bkgBDT_run1)\n",
    "\n",
    "df_data_full.to_parquet('%s/pickles/%s_%s.parquet'%(datafolder,s_data,tag))"
   ]
  },
  {
   "cell_type": "code",
   "execution_count": 14,
   "metadata": {},
   "outputs": [],
   "source": [
    "s_data = 'fakedata_set3_run3b'\n",
    "df_data = read_root('%s/fakedata/mcc9_v29e_dl_set3_fakedata_run3b_numu_v1_1_3_fvv.root'%datafolder,'dlana/FinalVertexVariables')\n",
    "\n",
    "# remember to turn off pmt precuts\n",
    "df_data_full = proc_df_fakedata(df_data,bkgBDT_run3)\n",
    "\n",
    "df_data_full.to_parquet('%s/pickles/%s_%s.parquet'%(datafolder,s_data,tag))"
   ]
  },
  {
   "cell_type": "code",
   "execution_count": 7,
   "metadata": {},
   "outputs": [],
   "source": [
    "s_data = 'fakedata_set2_run1'\n",
    "df_data = read_root('%s/fakedata/mcc9_v29e_dl_set2_fakedata_run1_numu_v1_1_3_fvv.root'%datafolder,'dlana/FinalVertexVariables')\n",
    "\n",
    "# remember to turn off pmt precuts\n",
    "df_data_full = proc_df_fakedata(df_data,bkgBDT_run1)\n",
    "\n",
    "df_data_full.to_parquet('%s/pickles/%s_%s.parquet'%(datafolder,s_data,tag))"
   ]
  },
  {
   "cell_type": "code",
   "execution_count": 8,
   "metadata": {},
   "outputs": [],
   "source": [
    "s_data = 'fakedata_set2_run3b'\n",
    "df_data = read_root('%s/fakedata/mcc9_v29e_dl_set2_fakedata_run3b_numu_v1_1_3_fvv.root'%datafolder,'dlana/FinalVertexVariables')\n",
    "\n",
    "# remember to turn off pmt precuts\n",
    "df_data_full = proc_df_fakedata(df_data,bkgBDT_run3)\n",
    "\n",
    "df_data_full.to_parquet('%s/pickles/%s_%s.parquet'%(datafolder,s_data,tag))"
   ]
  },
  {
   "cell_type": "code",
   "execution_count": 20,
   "metadata": {},
   "outputs": [],
   "source": [
    "s_data = 'fakedata_set4_run1'\n",
    "df_data = read_root('%s/fakedata/mcc9_v29e_dl_set4_fakedata_run1_numu_v1_1_3_fvv.root'%datafolder,'dlana/FinalVertexVariables')\n",
    "\n",
    "# remember to turn off pmt precuts\n",
    "df_data_full = proc_df_fakedata(df_data,bkgBDT_run1)\n",
    "\n",
    "df_data_full.to_parquet('%s/pickles/%s_%s.parquet'%(datafolder,s_data,tag))"
   ]
  },
  {
   "cell_type": "code",
   "execution_count": 21,
   "metadata": {},
   "outputs": [],
   "source": [
    "s_data = 'fakedata_set4_run3b'\n",
    "df_data = read_root('%s/fakedata/mcc9_v29e_dl_set4_fakedata_run3b_numu_v1_1_3_fvv.root'%datafolder,'dlana/FinalVertexVariables')\n",
    "\n",
    "# remember to turn off pmt precuts\n",
    "df_data_full = proc_df_fakedata(df_data,bkgBDT_run3)\n",
    "\n",
    "df_data_full.to_parquet('%s/pickles/%s_%s.parquet'%(datafolder,s_data,tag))"
   ]
  },
  {
   "cell_type": "code",
   "execution_count": 22,
   "metadata": {},
   "outputs": [],
   "source": [
    "s_data = 'fakedata_set5_run1'\n",
    "df_data = read_root('%s/fakedata/mcc9_v29e_dl_set5_fakedata_run1_numu_v1_1_3_fvv.root'%datafolder,'dlana/FinalVertexVariables')\n",
    "\n",
    "# remember to turn off pmt precuts\n",
    "df_data_full = proc_df_fakedata(df_data,bkgBDT_run1)\n",
    "\n",
    "df_data_full.to_parquet('%s/pickles/%s_%s.parquet'%(datafolder,s_data,tag))"
   ]
  },
  {
   "cell_type": "markdown",
   "metadata": {},
   "source": [
    "# Detector Systematics (run3; not updated)"
   ]
  },
  {
   "cell_type": "code",
   "execution_count": 6,
   "metadata": {},
   "outputs": [],
   "source": [
    "def proc_detvar_mc(df_dlana,df_cv,df_goodrun,df_wgts):\n",
    "    \n",
    "    df_cv['isCV'] = True\n",
    "    df_dlana['isCV'] = False\n",
    "    # Join cv and detsys together\n",
    "    # ugh. okay. this phase takes a million years so let's do it smarter\n",
    "    \n",
    "    df3_big = pd.concat((df_cv,df_dlana))\n",
    "    overlap = df_cv.merge(df_dlana[RSE],how='inner')[RSE].drop_duplicates()\n",
    "    df_full = df3_big.merge(overlap,how='inner')\n",
    "    df_full = df_full.join(df_wgts.set_index(RSE)[['nu_interaction_mode','nu_interaction_type','xsec_corr_weight','spline_weight','nu_interaction_ccnc','nu_pdg','nu_energy_true']],on=RSE)\n",
    "    #df_full = pd.concat((df_dlana[df_dlana[RSE].isin(df_cv[RSE])],df_cv[df_cv[RSE].isin(df_dlana[RSE])])) \n",
    "    df_full_wGoodruns = df_full.join(df_goodrun.set_index('run'),on='run')\n",
    "    df_full_goodruns = df_full_wGoodruns.query('good == 1 and Enu_1m1p > 0')\n",
    "    df_full_goodruns.insert(0,'PassPrecuts1m1p',df_full_goodruns.apply(passPrecut,axis=1))     \n",
    "\n",
    "\n",
    "\n",
    "\n",
    "    \n",
    "#    df_full_goodruns = df_full_goodruns.query(s_precut)    # apply precuts\n",
    "    \n",
    "    \n",
    "#    if(isMC):\n",
    "#        df_full_goodruns.insert(0,'mc_label',df_full_goodruns.apply(bless_MC_labels,axis=1))\n",
    "#        df_full_goodruns.insert(0,'int_label',df_full_goodruns.apply(bless_int_labels,axis=1))\n",
    "       \n",
    "    # add a bunch of helpful variables!\n",
    "    df_full_goodruns.insert(0,'MPID_eminus',[ef.max() for ef in df_full_goodruns['EminusPID_int_v'].values])\n",
    "    df_full_goodruns.insert(0,'MPID_muon',[ef.max() for ef in df_full_goodruns['MuonPID_int_v'].values])\n",
    "    df_full_goodruns.insert(0,'MPID_proton',[ef.max() for ef in df_full_goodruns['ProtonPID_int_v'].values])\n",
    "    df_full_goodruns.insert(0,'MPID_gamma',[ef.max() for ef in df_full_goodruns['GammaPID_int_v'].values])\n",
    "    df_full_goodruns.insert(0,'MPID_pion',[ef.max() for ef in df_full_goodruns['PionPID_int_v'].values])\n",
    "    df_full_goodruns.insert(0,'Lepton_CosTheta',np.cos(df_full_goodruns['Lepton_ThetaReco'].values).tolist())\n",
    "    df_full_goodruns.insert(0,'Proton_CosTheta',np.cos(df_full_goodruns['Proton_ThetaReco'].values).tolist())\n",
    "    \n",
    "    # add most current bdt weights.\n",
    "#    df_full_goodruns.insert(0,'bkgBDT_univ',bdtwgts.predict_proba(df_full_goodruns[bdtVars].values.tolist())[:,0])\n",
    "    df_full_nodupes = df_full_goodruns.sort_values('BDTscore_1mu1p_nu',ascending=True).drop_duplicates(RSE).sort_index()\n",
    "    return df_full_goodruns\n",
    "\n",
    "\n",
    "def passPrecut(row):\n",
    "    #orthogonalcut = 'MaxShrFrac < .2'\n",
    "    #precuts ='PassSimpleCuts == 1 and ChargeNearTrunk > 0 and FailedBoost != 1 and OpenAng > .5 and '\n",
    "    #s_precut = orthogonalcut + ' and ' + precuts\n",
    "    return (row['PassSimpleCuts'] == 1 and row['ChargeNearTrunk'] > 0 and row['FailedBoost'] != 1 and row['OpenAng'] > .5 and row['MaxShrFrac'] < .2)"
   ]
  },
  {
   "cell_type": "markdown",
   "metadata": {},
   "source": [
    "# example of one detvar\n"
   ]
  },
  {
   "cell_type": "code",
   "execution_count": 37,
   "metadata": {},
   "outputs": [
    {
     "name": "stdout",
     "output_type": "stream",
     "text": [
      "done cv\n",
      "10638\n",
      "22291\n",
      "186\n",
      "done wiremodYZ\n"
     ]
    }
   ],
   "source": [
    "\n",
    "df_cv = read_root('%s/mcc9_v40_bnb_nu_overlay_run3b_CV_v1_1_3_fvv_numu.root'%datafolder,'dlana/FinalVertexVariables')\n",
    "#df_passPi0 = pd.read_table('../../data/detsys/Pi0Sel/July27_CV_numu.txt',sep=',')\n",
    "#df_passPi0['PassFinalSelectionPi0'] = 1\n",
    "#df_cv_wPass = df_cv.join(df_passPi0.set_index(RSEV),on=RSEV)\n",
    "print('done cv')\n",
    "print(df_cv.shape[0])\n",
    "\n",
    "s_data = 'wiremodYZ'\n",
    "df_bnb = read_root('%s/mcc9_v40_bnb_nu_overlay_run3b_detvar_WireModYZ_numu_v1_1_3_fvv.root'%datafolder,'dlana/FinalVertexVariables')\n",
    "print(df_bnb.shape[0])\n",
    "\n",
    "#df_passPi0 = pd.read_table('../../data/detsys/Pi0Sel/July27_wiremodthetaXZ_numu.txt',sep=',')\n",
    "#df_passPi0['PassFinalSelectionPi0'] = 1\n",
    "#df_bnb_wPass = df_bnb.join(df_passPi0.set_index(RSEV),on=RSEV)\n",
    "df_bnb_wCV_wPass_wProc = proc_detvar_mc(df_bnb,df_cv,good_run3_df)\n",
    "print(df_bnb_wCV_wPass_wProc.shape[0])\n",
    "#df_bnb_wCV_wPass_wProc.to_parquet('%s/pickles/%s_%s.parquet'%(datafolder,s_data,tag))\n",
    "print('done %s'%s_data)"
   ]
  },
  {
   "cell_type": "code",
   "execution_count": 6,
   "metadata": {},
   "outputs": [
    {
     "name": "stdout",
     "output_type": "stream",
     "text": [
      "2021-01-18\n"
     ]
    }
   ],
   "source": [
    "print(tag)"
   ]
  },
  {
   "cell_type": "markdown",
   "metadata": {},
   "source": [
    "# all detvar with thier correspondance cv \n"
   ]
  },
  {
   "cell_type": "code",
   "execution_count": 13,
   "metadata": {},
   "outputs": [
    {
     "name": "stdout",
     "output_type": "stream",
     "text": [
      "done cv500\n",
      "done cv1000\n",
      "done wiremodThetaXZ\n",
      "21269\n",
      "done wiremodThetaYZ\n",
      "21624\n",
      "done wiremodYZ\n",
      "22479\n",
      "done wiremodX\n",
      "21681\n",
      "done LYRayleigh\n",
      "23510\n",
      "done LYAtt\n",
      "       Proton_CosTheta  Lepton_CosTheta  MPID_pion  MPID_gamma  MPID_proton  \\\n",
      "0             0.830783        -0.034722   0.159228    0.014726     0.998197   \n",
      "1             0.258883        -0.171274   0.678799    0.030676     0.839291   \n",
      "2             0.830783        -0.034722   0.159229    0.014726     0.998197   \n",
      "3             0.258883        -0.171274   0.678799    0.030676     0.839292   \n",
      "4             0.975623        -0.270942   0.208159    0.017922     0.941928   \n",
      "...                ...              ...        ...         ...          ...   \n",
      "26322         0.747969        -0.920739   0.721294    0.239540     0.342381   \n",
      "26323         0.916610        -0.067103   0.802907    0.109758     0.946799   \n",
      "26325         0.928967        -0.014260   0.717957    0.737711     0.946799   \n",
      "26326         0.704559        -0.922697   0.721293    0.239540     0.342382   \n",
      "26327         0.858976        -0.067487   0.802907    0.109759     0.946799   \n",
      "\n",
      "       MPID_muon  MPID_eminus  PassPrecuts1m1p    run  subrun  ...  is1l1p0pi  \\\n",
      "0       0.927704     0.013370             True  16934     101  ...          0   \n",
      "1       0.957332     0.640680             True  16934     101  ...          0   \n",
      "2       0.927704     0.013370             True  16934     101  ...          0   \n",
      "3       0.957332     0.640679             True  16934     101  ...          0   \n",
      "4       0.864636     0.003617             True  16934     101  ...          1   \n",
      "...          ...          ...              ...    ...     ...  ...        ...   \n",
      "26322   0.930980     0.116553            False  16161      69  ...          0   \n",
      "26323   0.724500     0.199651             True  16161      69  ...          0   \n",
      "26325   0.724500     0.126577             True  16161      69  ...          0   \n",
      "26326   0.930980     0.116553            False  16161      69  ...          0   \n",
      "26327   0.724500     0.199652             True  16161      69  ...          0   \n",
      "\n",
      "        isCV  nu_interaction_mode  nu_interaction_type  xsec_corr_weight  \\\n",
      "0       True                    1                 1003           1.00000   \n",
      "1       True                    1                 1003           1.00000   \n",
      "2      False                    1                 1003           1.00000   \n",
      "3      False                    1                 1003           1.00000   \n",
      "4       True                    0                 1001           1.24755   \n",
      "...      ...                  ...                  ...               ...   \n",
      "26322   True                    1                 1003           1.00000   \n",
      "26323   True                    1                 1003           1.00000   \n",
      "26325  False                    1                 1003           1.00000   \n",
      "26326  False                    1                 1003           1.00000   \n",
      "26327  False                    1                 1003           1.00000   \n",
      "\n",
      "       spline_weight  nu_interaction_ccnc  nu_pdg  nu_energy_true  good  \n",
      "0           1.000000                    0      14      965.791047     1  \n",
      "1           1.000000                    0      14      965.791047     1  \n",
      "2           1.000000                    0      14      965.791047     1  \n",
      "3           1.000000                    0      14      965.791047     1  \n",
      "4           0.982822                    0      14     1025.365949     1  \n",
      "...              ...                  ...     ...             ...   ...  \n",
      "26322       1.000000                    0      14     1337.965608     1  \n",
      "26323       1.000000                    0      14     1337.965608     1  \n",
      "26325       1.000000                    0      14     1337.965608     1  \n",
      "26326       1.000000                    0      14     1337.965608     1  \n",
      "26327       1.000000                    0      14     1337.965608     1  \n",
      "\n",
      "[21464 rows x 270 columns]\n",
      "done LYdown\n",
      "       Proton_CosTheta  Lepton_CosTheta  MPID_pion  MPID_gamma  MPID_proton  \\\n",
      "0             0.793806         0.090669   0.764141    0.066455     0.444562   \n",
      "2             0.855932        -0.606455   0.668657    0.036454     0.864515   \n",
      "6             0.793806         0.090669   0.764141    0.066455     0.444564   \n",
      "8             0.855932        -0.606455   0.668657    0.036454     0.864515   \n",
      "13           -0.163695         0.637460   0.460699    0.033726     0.816610   \n",
      "...                ...              ...        ...         ...          ...   \n",
      "27612         0.997092        -0.985883   0.716403    0.287268     0.064747   \n",
      "27615         0.747969        -0.920739   0.721294    0.239540     0.342381   \n",
      "27616         0.916610        -0.067103   0.802907    0.109758     0.946799   \n",
      "27619         0.747969        -0.920739   0.721293    0.239540     0.342382   \n",
      "27620         0.916610        -0.067103   0.802907    0.109759     0.946799   \n",
      "\n",
      "       MPID_muon  MPID_eminus  PassPrecuts1m1p    run  subrun  ...  is1l1p0pi  \\\n",
      "0       0.878557     0.234793            False  16934      96  ...          0   \n",
      "2       0.923685     0.040259             True  16934      96  ...          0   \n",
      "6       0.878557     0.234793            False  16934      96  ...          0   \n",
      "8       0.923685     0.040259             True  16934      96  ...          0   \n",
      "13      0.839297     0.204431            False  16934      96  ...          0   \n",
      "...          ...          ...              ...    ...     ...  ...        ...   \n",
      "27612   0.849219     0.938160             True  16161      45  ...          1   \n",
      "27615   0.930980     0.116553            False  16161      69  ...          0   \n",
      "27616   0.724500     0.199651             True  16161      69  ...          0   \n",
      "27619   0.930980     0.116553            False  16161      69  ...          0   \n",
      "27620   0.724500     0.199652             True  16161      69  ...          0   \n",
      "\n",
      "        isCV  nu_interaction_mode  nu_interaction_type  xsec_corr_weight  \\\n",
      "0       True                    1                 1003          1.000000   \n",
      "2       True                    1                 1003          1.000000   \n",
      "6      False                    1                 1003          1.000000   \n",
      "8      False                    1                 1003          1.000000   \n",
      "13      True                    1                 1003          1.000000   \n",
      "...      ...                  ...                  ...               ...   \n",
      "27612  False                   10                 1000          1.281628   \n",
      "27615   True                    1                 1003          1.000000   \n",
      "27616   True                    1                 1003          1.000000   \n",
      "27619  False                    1                 1003          1.000000   \n",
      "27620  False                    1                 1003          1.000000   \n",
      "\n",
      "       spline_weight  nu_interaction_ccnc  nu_pdg  nu_energy_true  good  \n",
      "0                1.0                    0      14     1339.939475     1  \n",
      "2                1.0                    0      14     1339.939475     1  \n",
      "6                1.0                    0      14     1339.939475     1  \n",
      "8                1.0                    0      14     1339.939475     1  \n",
      "13               1.0                    0      14     1926.162362     1  \n",
      "...              ...                  ...     ...             ...   ...  \n",
      "27612            1.0                    0      14     1741.650343     1  \n",
      "27615            1.0                    0      14     1337.965608     1  \n",
      "27616            1.0                    0      14     1337.965608     1  \n",
      "27619            1.0                    0      14     1337.965608     1  \n",
      "27620            1.0                    0      14     1337.965608     1  \n",
      "\n",
      "[22610 rows x 270 columns]\n",
      "9797\n",
      "done SCE\n",
      "done recomb\n",
      "11197\n",
      "----done all----\n"
     ]
    }
   ],
   "source": [
    "run = 'run3'\n",
    "\n",
    "df_mc_cvweight_500 = read_root('%s/weights_forCV_v48_Sep24_bnb_nu_DetVar_run3.root'%auxfolder)\n",
    "df_mc_cvweight_1000 = read_root('%s/weights_forCV_v48_Sep24_bnb_nu_run3.root'%auxfolder)\n",
    "print('!!!!!!!!!!!!!!!!!!!!!!!!!!!!!')\n",
    "print(df_mc_cvweight_1000)\n",
    "df_cv_500 = read_root('%s/mcc9_v40_bnb_nu_overlay_run3b_CV_v1_1_3_fvv_numu.root'%datafolder,'dlana/FinalVertexVariables')\n",
    "#df_passPi0 = pd.read_table('%s/Pi0Sel/July27_CV_numu.txt',sep=',')\n",
    "#df_passPi0['PassFinalSelectionPi0'] = 1\n",
    "#df_cv = df_cv.join(df_passPi0.set_index(RSEV),on=RSEV)\n",
    "print('done cv500')\n",
    "\n",
    "df_cv_1000 = read_root('%s/mcc9_v29e_dl_run3b_bnb_nu_overlay_nocrtremerge_finalbdt.root'%datafolder,'dlana/FinalVertexVariables')\n",
    "#df_passPi0 = pd.read_table('%s/Pi0Sel/July27_CV_numu.txt',sep=',')\n",
    "#df_passPi0['PassFinalSelectionPi0'] = 1\n",
    "#df_cv = df_cv.join(df_passPi0.set_index(RSEV),on=RSEV)\n",
    "print('done cv1000')\n",
    "\n",
    "s_data = 'wiremodThetaXZ'\n",
    "df_bnb = read_root('%s/mcc9_v40_bnb_nu_overlay_run3b_detvar_WireModThetaXZ_numu_v1_1_3_fvv.root'%datafolder,'dlana/FinalVertexVariables')\n",
    "#df_passPi0 = pd.read_table('%s/Pi0Sel/July27_wiremodthetaXZ_numu.txt',sep=',')\n",
    "#df_passPi0['PassFinalSelectionPi0'] = 1\n",
    "#df_bnb_wPass = df_bnb.join(df_passPi0.set_index(RSEV),on=RSEV)\n",
    "df_bnb_wCV_wPass_wProc = proc_detvar_mc(df_bnb,df_cv_1000,good_run3_df,df_mc_cvweight_1000)\n",
    "df_bnb_wCV_wPass_wProc.to_parquet('%s/pickles/%s_%s_%s.parquet'%(datafolder,s_data,run,tag))\n",
    "print('done %s'%s_data)\n",
    "print(df_bnb_wCV_wPass_wProc.shape[0])\n",
    "\n",
    "\n",
    "s_data = 'wiremodThetaYZ'\n",
    "df_bnb = read_root('%s/mcc9_v40_bnb_nu_overlay_run3b_detvar_WireModThetaYZ_numu_v1_1_3_fvv.root'%datafolder,'dlana/FinalVertexVariables')\n",
    "#df_passPi0 = pd.read_table('%s/Pi0Sel/July27_wiremodthetaYZ_numu.txt',sep=',')\n",
    "#df_passPi0['PassFinalSelectionPi0'] = 1\n",
    "#df_bnb_wPass = df_bnb.join(df_passPi0.set_index(RSEV),on=RSEV)\n",
    "df_bnb_wCV_wPass_wProc = proc_detvar_mc(df_bnb,df_cv_1000,good_run3_df,df_mc_cvweight_1000)\n",
    "df_bnb_wCV_wPass_wProc.to_parquet('%s/pickles/%s_%s_%s.parquet'%(datafolder,s_data,run,tag))\n",
    "print('done %s'%s_data)\n",
    "print(df_bnb_wCV_wPass_wProc.shape[0])\n",
    "\n",
    "s_data = 'wiremodYZ'\n",
    "df_bnb = read_root('%s/mcc9_v40_bnb_nu_overlay_run3b_detvar_WireModYZ_numu_v1_1_3_fvv.root'%datafolder,'dlana/FinalVertexVariables')\n",
    "#df_passPi0 = pd.read_table('%s/Pi0Sel/July27_wiremodYZ_numu.txt',sep=',')\n",
    "#df_passPi0['PassFinalSelectionPi0'] = 1\n",
    "#df_bnb_wPass = df_bnb.join(df_passPi0.set_index(RSEV),on=RSEV)\n",
    "df_bnb_wCV_wPass_wProc = proc_detvar_mc(df_bnb,df_cv_1000,good_run3_df,df_mc_cvweight_1000)\n",
    "df_bnb_wCV_wPass_wProc.to_parquet('%s/pickles/%s_%s_%s.parquet'%(datafolder,s_data,run,tag))\n",
    "print('done %s'%s_data)\n",
    "print(df_bnb_wCV_wPass_wProc.shape[0])\n",
    "\n",
    "s_data = 'wiremodX'\n",
    "df_bnb = read_root('%s/mcc9_v40_bnb_nu_overlay_run3b_detvar_WireModX_numu_v1_1_3_fvv.root'%datafolder,'dlana/FinalVertexVariables')\n",
    "#df_passPi0 = pd.read_table('%s/Pi0Sel/July27_wiremodX_numu.txt',sep=',')\n",
    "#df_passPi0['PassFinalSelectionPi0'] = 1\n",
    "#df_bnb_wPass = df_bnb.join(df_passPi0.set_index(RSEV),on=RSEV)\n",
    "df_bnb_wCV_wPass_wProc = proc_detvar_mc(df_bnb,df_cv_1000,good_run3_df,df_mc_cvweight_1000)\n",
    "df_bnb_wCV_wPass_wProc.to_parquet('%s/pickles/%s_%s_%s.parquet'%(datafolder,s_data,run,tag))\n",
    "print('done %s'%s_data)\n",
    "print(df_bnb_wCV_wPass_wProc.shape[0])\n",
    "\n",
    "\n",
    "s_data = 'LYRayleigh'\n",
    "df_bnb = read_root('%s/mcc9_v40_bnb_nu_overlay_run3b_detvar_LYRayleigh_numu_v1_1_3_fvv.root'%datafolder,'dlana/FinalVertexVariables')\n",
    "#df_passPi0 = pd.read_table('%s/Pi0Sel/July27_LYRayleigh_numu.txt',sep=',')\n",
    "#df_passPi0['PassFinalSelectionPi0'] = 1\n",
    "#df_bnb_wPass = df_bnb.join(df_passPi0.set_index(RSEV),on=RSEV)\n",
    "df_bnb_wCV_wPass_wProc = proc_detvar_mc(df_bnb,df_cv_1000,good_run3_df,df_mc_cvweight_1000)\n",
    "df_bnb_wCV_wPass_wProc.to_parquet('%s/pickles/%s_%s_%s.parquet'%(datafolder,s_data,run,tag))\n",
    "print('done %s'%s_data)\n",
    "print(df_bnb_wCV_wPass_wProc.shape[0])\n",
    "\n",
    "\n",
    "s_data = 'LYAtt'\n",
    "df_bnb = read_root('%s/mcc9_v40_bnb_nu_overlay_run3b_detvar_LYAttenuation_numu_v1_1_3_fvv.root'%datafolder,'dlana/FinalVertexVariables')\n",
    "#df_passPi0 = pd.read_table('%s/Pi0Sel/July27_LYRayleigh_numu.txt',sep=',')\n",
    "#df_passPi0['PassFinalSelectionPi0'] = 1\n",
    "#df_bnb_wPass = df_bnb.join(df_passPi0.set_index(RSEV),on=RSEV)\n",
    "df_bnb_wCV_wPass_wProc = proc_detvar_mc(df_bnb,df_cv_1000,good_run3_df,df_mc_cvweight_1000)\n",
    "df_bnb_wCV_wPass_wProc.to_parquet('%s/pickles/%s_%s_%s.parquet'%(datafolder,s_data,run,tag))\n",
    "print('done %s'%s_data)\n",
    "print(df_bnb_wCV_wPass_wProc)\n",
    "\n",
    "s_data = 'LYdown'\n",
    "df_bnb = read_root('%s/mcc9_v40_bnb_nu_overlay_run3b_detvar_LYDown_numu_v1_1_3_fvv.root'%datafolder,'dlana/FinalVertexVariables')\n",
    "#df_passPi0 = pd.read_table('%s/Pi0Sel/July27_LYdown_numu.txt',sep=',')\n",
    "#df_passPi0['PassFinalSelectionPi0'] = 1\n",
    "#df_bnb_wPass = df_bnb.join(df_passPi0.set_index(RSEV),on=RSEV)\n",
    "df_bnb_wCV_wPass_wProc = proc_detvar_mc(df_bnb,df_cv_1000,good_run3_df,df_mc_cvweight_1000)\n",
    "df_bnb_wCV_wPass_wProc.to_parquet('%s/pickles/%s_%s_%s.parquet'%(datafolder,s_data,run,tag))\n",
    "print('done %s'%s_data)\n",
    "print(df_bnb_wCV_wPass_wProc)\n",
    "\n",
    "\n",
    "\n",
    "s_data = 'SCE'\n",
    "df_bnb = read_root('%s/mcc9_v40_bnb_nu_overlay_run3b_detvar_SCE_numu_v1_1_3_fvv.root'%datafolder,'dlana/FinalVertexVariables')\n",
    "#df_passPi0 = pd.read_table('%s/Pi0Sel/July27_SCE_numu.txt',sep=',')\n",
    "#df_passPi0['PassFinalSelectionPi0'] = 1\n",
    "#df_bnb_wPass = df_bnb.join(df_passPi0.set_index(RSEV),on=RSEV)\n",
    "df_bnb_wCV_wPass_wProc = proc_detvar_mc(df_bnb,df_cv_500,good_run3_df,df_mc_cvweight_500)\n",
    "df_bnb_wCV_wPass_wProc.to_parquet('%s/pickles/%s_%s_%s.parquet'%(datafolder,s_data,run,tag))\n",
    "print(df_bnb_wCV_wPass_wProc.shape[0])\n",
    "\n",
    "print('done %s'%s_data)\n",
    "\n",
    "\n",
    "\n",
    "\n",
    "s_data = 'recomb'\n",
    "df_bnb = read_root('%s/mcc9_v40_bnb_nu_overlay_run3_detvar_Recomb2_numu_v1_1_3_fvv.root'%datafolder,'dlana/FinalVertexVariables')\n",
    "#df_passPi0 = pd.read_table('%s/Pi0Sel/July27_scaleddedx_numu.txt',sep=',')\n",
    "#df_passPi0['PassFinalSelectionPi0'] = 1\n",
    "#df_bnb_wPass = df_bnb.join(df_passPi0.set_index(RSEV),on=RSEV)\n",
    "df_bnb_wCV_wPass_wProc = proc_detvar_mc(df_bnb,df_cv_500,good_run3_df,df_mc_cvweight_500)\n",
    "df_bnb_wCV_wPass_wProc.to_parquet('%s/pickles/%s_%s_%s.parquet'%(datafolder,s_data,run,tag))\n",
    "print('done %s'%s_data)\n",
    "print(df_bnb_wCV_wPass_wProc.shape[0])\n",
    "\n",
    "print('----done all----')"
   ]
  },
  {
   "cell_type": "markdown",
   "metadata": {},
   "source": [
    "# Run1"
   ]
  },
  {
   "cell_type": "code",
   "execution_count": 14,
   "metadata": {},
   "outputs": [
    {
     "name": "stdout",
     "output_type": "stream",
     "text": [
      "done cv500\n",
      "done LYRayleigh\n",
      "17704\n",
      "done LYAtt\n",
      "15597\n",
      "done LYdown\n",
      "16014\n",
      "11025\n",
      "done SCE\n",
      "done recomb\n",
      "12281\n",
      "----done all----\n"
     ]
    }
   ],
   "source": [
    "run = 'run1'\n",
    "df_mc_cvweight = read_root('%s/weights_forCV_v48_Sep24_bnb_nu_DetVar_run1.root'%auxfolder)\n",
    "df_cv_500 = read_root('%s/mcc9_bnb_nu_overlay_CV_run1_500k_numu_v1_1_3_fvv.root'%datafolder,'dlana/FinalVertexVariables')\n",
    "#df_passPi0 = pd.read_table('%s/Pi0Sel/July27_CV_numu.txt',sep=',')\n",
    "#df_passPi0['PassFinalSelectionPi0'] = 1\n",
    "#df_cv = df_cv.join(df_passPi0.set_index(RSEV),on=RSEV)\n",
    "print('done cv500')\n",
    "\n",
    "\n",
    "s_data = 'LYRayleigh'\n",
    "df_bnb = read_root('%s/mcc9_v40_bnb_nu_overlay_run1_detvar_LYRayleigh_numu_v1_1_3_fvv.root'%datafolder,'dlana/FinalVertexVariables')\n",
    "#df_passPi0 = pd.read_table('%s/Pi0Sel/July27_LYRayleigh_numu.txt',sep=',')\n",
    "#df_passPi0['PassFinalSelectionPi0'] = 1\n",
    "#df_bnb_wPass = df_bnb.join(df_passPi0.set_index(RSEV),on=RSEV)\n",
    "df_bnb_wCV_wPass_wProc = proc_detvar_mc(df_bnb,df_cv_500,good_run1_df,df_mc_cvweight)\n",
    "df_bnb_wCV_wPass_wProc.to_parquet('%s/pickles/%s_%s_%s.parquet'%(datafolder,s_data,run,tag))\n",
    "print('done %s'%s_data)\n",
    "print(df_bnb_wCV_wPass_wProc.shape[0])\n",
    "\n",
    "\n",
    "s_data = 'LYAtt'\n",
    "df_bnb = read_root('%s/mcc9_bnb_nu_overlay_DetVar_LYAttenuation_run1_500k_numu_v1_1_3_fvv.root'%datafolder,'dlana/FinalVertexVariables')\n",
    "#df_passPi0 = pd.read_table('%s/Pi0Sel/July27_LYRayleigh_numu.txt',sep=',')\n",
    "#df_passPi0['PassFinalSelectionPi0'] = 1\n",
    "#df_bnb_wPass = df_bnb.join(df_passPi0.set_index(RSEV),on=RSEV)\n",
    "df_bnb_wCV_wPass_wProc = proc_detvar_mc(df_bnb,df_cv_500,good_run1_df,df_mc_cvweight)\n",
    "df_bnb_wCV_wPass_wProc.to_parquet('%s/pickles/%s_%s_%s.parquet'%(datafolder,s_data,run,tag))\n",
    "print('done %s'%s_data)\n",
    "print(df_bnb_wCV_wPass_wProc.shape[0])\n",
    "\n",
    "s_data = 'LYdown'\n",
    "df_bnb = read_root('%s/mcc9_v40_bnb_nu_overlay_run1_detvar_LYDown_numu_v1_1_3_fvv.root'%datafolder,'dlana/FinalVertexVariables')\n",
    "#df_passPi0 = pd.read_table('%s/Pi0Sel/July27_LYdown_numu.txt',sep=',')\n",
    "#df_passPi0['PassFinalSelectionPi0'] = 1\n",
    "#df_bnb_wPass = df_bnb.join(df_passPi0.set_index(RSEV),on=RSEV)\n",
    "df_bnb_wCV_wPass_wProc = proc_detvar_mc(df_bnb,df_cv_500,good_run1_df,df_mc_cvweight)\n",
    "df_bnb_wCV_wPass_wProc.to_parquet('%s/pickles/%s_%s_%s.parquet'%(datafolder,s_data,run,tag))\n",
    "print('done %s'%s_data)\n",
    "print(df_bnb_wCV_wPass_wProc.shape[0])\n",
    "\n",
    "\n",
    "\n",
    "s_data = 'SCE'\n",
    "df_bnb = read_root('%s/mcc9_v40_bnb_nu_overlay_run1_detvar_SCE_numu_v1_1_3_fvv.root'%datafolder,'dlana/FinalVertexVariables')\n",
    "#df_passPi0 = pd.read_table('%s/Pi0Sel/July27_SCE_numu.txt',sep=',')\n",
    "#df_passPi0['PassFinalSelectionPi0'] = 1\n",
    "#df_bnb_wPass = df_bnb.join(df_passPi0.set_index(RSEV),on=RSEV)\n",
    "df_bnb_wCV_wPass_wProc = proc_detvar_mc(df_bnb,df_cv_500,good_run1_df,df_mc_cvweight)\n",
    "df_bnb_wCV_wPass_wProc.to_parquet('%s/pickles/%s_%s_%s.parquet'%(datafolder,s_data,run,tag))\n",
    "print(df_bnb_wCV_wPass_wProc.shape[0])\n",
    "\n",
    "print('done %s'%s_data)\n",
    "\n",
    "\n",
    "\n",
    "\n",
    "s_data = 'recomb'\n",
    "df_bnb = read_root('%s/mcc9_v40_bnb_nu_overlay_run1_detvar_Recomb2_numu_v1_1_3_fvv.root'%datafolder,'dlana/FinalVertexVariables')\n",
    "#df_passPi0 = pd.read_table('%s/Pi0Sel/July27_scaleddedx_numu.txt',sep=',')\n",
    "#df_passPi0['PassFinalSelectionPi0'] = 1\n",
    "#df_bnb_wPass = df_bnb.join(df_passPi0.set_index(RSEV),on=RSEV)\n",
    "df_bnb_wCV_wPass_wProc = proc_detvar_mc(df_bnb,df_cv_500,good_run1_df,df_mc_cvweight)\n",
    "df_bnb_wCV_wPass_wProc.to_parquet('%s/pickles/%s_%s_%s.parquet'%(datafolder,s_data,run,tag))\n",
    "print('done %s'%s_data)\n",
    "print(df_bnb_wCV_wPass_wProc.shape[0])\n",
    "\n",
    "print('----done all----')"
   ]
  },
  {
   "cell_type": "code",
   "execution_count": 36,
   "metadata": {},
   "outputs": [
    {
     "name": "stdout",
     "output_type": "stream",
     "text": [
      "donecv\n",
      "done wiremodX\n",
      "done LYdownRayleigh\n",
      "done LYdown\n",
      "done SCE\n",
      "done wiremoddEdx\n",
      "done wiremodThetaXZ\n",
      "done wiremodThetaYZ\n",
      "done wiremodYZ\n"
     ]
    }
   ],
   "source": [
    "#Detsys for nues now!\n",
    "df_cv = read_root('../../data/detsys/mcc9_v40a_dl_run3b_bnb_intrinsic_nue_overlay_CV.root','dlana/FinalVertexVariables')\n",
    "df_passPi0 = pd.read_table('../../data/detsys/SystematicsForDavio/SystematicsForDavio_CV.txt',sep=',',names=['run','subrun','event','vtxid'])\n",
    "df_passPi0['PassFinalSelection1e1p'] = 1\n",
    "df_cv_wPass = df_cv.merge(df_passPi0,how='left')\n",
    "print('donecv')\n",
    "\n",
    "s_data = 'wiremodX'\n",
    "df_bnb = read_root('../../data/detsys/mcc9_v40a_dl_run3b_bnb_intrinsic_nue_overlay_wiremodX.root','dlana/FinalVertexVariables')\n",
    "df_passPi0 = pd.read_table('../../data/detsys/SystematicsForDavio/SystematicsForDavio_WireModX.txt',sep=',',names=['run','subrun','event','vtxid'])\n",
    "df_passPi0['PassFinalSelection1e1p'] = 1\n",
    "df_bnb_wPass = df_bnb.join(df_passPi0.set_index(RSEV),on=RSEV)\n",
    "df_bnb_wCV_wPass_wProc = proc_detvar_mc(df_bnb_wPass,df_cv_wPass,good_run3_df)\n",
    "df_bnb_wCV_wPass_wProc.to_parquet('%s/pickles/nue_%s_%s.parquet'%(datafolder,s_data,tag))\n",
    "print('done %s'%s_data)\n",
    "\n",
    "\n",
    "s_data = 'LYdownRayleigh'\n",
    "df_bnb = read_root('../../data/detsys/mcc9_v40a_dl_run3b_bnb_intrinsic_nue_overlay_wiremodLYRayleigh.root','dlana/FinalVertexVariables')\n",
    "df_passPi0 = pd.read_table('../../data/detsys/SystematicsForDavio/SystematicsForDavio_LYdownRayleigh.txt',sep=',',names=['run','subrun','event','vtxid'])\n",
    "df_passPi0['PassFinalSelection1e1p'] = 1\n",
    "df_bnb_wPass = df_bnb.join(df_passPi0.set_index(RSEV),on=RSEV)\n",
    "df_bnb_wCV_wPass_wProc = proc_detvar_mc(df_bnb_wPass,df_cv_wPass,good_run3_df)\n",
    "df_bnb_wCV_wPass_wProc.to_parquet('%s/pickles/nue_%s_%s.parquet'%(datafolder,s_data,tag))\n",
    "print('done %s'%s_data)\n",
    "\n",
    "\n",
    "s_data = 'LYdown'\n",
    "df_bnb = read_root('../../data/detsys/mcc9_v40a_dl_run3b_bnb_intrinsic_nue_overlay_wiremodLYdown.root','dlana/FinalVertexVariables')\n",
    "df_passPi0 = pd.read_table('../../data/detsys/SystematicsForDavio/SystematicsForDavio_LYdown.txt',sep=',',names=['run','subrun','event','vtxid'])\n",
    "df_passPi0['PassFinalSelection1e1p'] = 1\n",
    "df_bnb_wPass = df_bnb.join(df_passPi0.set_index(RSEV),on=RSEV)\n",
    "df_bnb_wCV_wPass_wProc = proc_detvar_mc(df_bnb_wPass,df_cv_wPass,good_run3_df)\n",
    "df_bnb_wCV_wPass_wProc.to_parquet('%s/pickles/nue_%s_%s.parquet'%(datafolder,s_data,tag))\n",
    "print('done %s'%s_data)\n",
    "\n",
    "s_data = 'SCE'\n",
    "df_bnb = read_root('../../data/detsys/mcc9_v29e_dl_run3b_bnb_intrinsic_nue_wiremodSCE.root','dlana/FinalVertexVariables')\n",
    "df_passPi0 = pd.read_table('../../data/detsys/SystematicsForDavio/SystematicsForDavio_SCE.txt',sep=',',names=['run','subrun','event','vtxid'])\n",
    "df_passPi0['PassFinalSelection1e1p'] = 1\n",
    "df_bnb_wPass = df_bnb.join(df_passPi0.set_index(RSEV),on=RSEV)\n",
    "df_bnb_wCV_wPass_wProc = proc_detvar_mc(df_bnb_wPass,df_cv_wPass,good_run3_df)\n",
    "df_bnb_wCV_wPass_wProc.to_parquet('%s/pickles/nue_%s_%s.parquet'%(datafolder,s_data,tag))\n",
    "print('done %s'%s_data)\n",
    "\n",
    "s_data = 'wiremoddEdx'\n",
    "df_bnb = read_root('../../data/detsys/mcc9_v40a_dl_run3b_bnb_intrinsic_nue_overlay_wiremodScaleddEdX.root','dlana/FinalVertexVariables')\n",
    "df_passPi0 = pd.read_table('../../data/detsys/SystematicsForDavio/SystematicsForDavio_WireModdEdx.txt',sep=',',names=['run','subrun','event','vtxid'])\n",
    "df_passPi0['PassFinalSelection1e1p'] = 1\n",
    "df_bnb_wPass = df_bnb.join(df_passPi0.set_index(RSEV),on=RSEV)\n",
    "df_bnb_wCV_wPass_wProc = proc_detvar_mc(df_bnb_wPass,df_cv_wPass,good_run3_df)\n",
    "df_bnb_wCV_wPass_wProc.to_parquet('%s/pickles/nue_%s_%s.parquet'%(datafolder,s_data,tag))\n",
    "print('done %s'%s_data)\n",
    "\n",
    "s_data = 'wiremodThetaXZ'\n",
    "df_bnb = read_root('../../data/detsys/mcc9_v40a_dl_run3b_bnb_intrinsic_nue_overlay_wiremodThetaXZ.root','dlana/FinalVertexVariables')\n",
    "df_passPi0 = pd.read_table('../../data/detsys/SystematicsForDavio/SystematicsForDavio_WireModThetaXZ.txt',sep=',',names=['run','subrun','event','vtxid'])\n",
    "df_passPi0['PassFinalSelection1e1p'] = 1\n",
    "df_bnb_wPass = df_bnb.join(df_passPi0.set_index(RSEV),on=RSEV)\n",
    "df_bnb_wCV_wPass_wProc = proc_detvar_mc(df_bnb_wPass,df_cv_wPass,good_run3_df)\n",
    "df_bnb_wCV_wPass_wProc.to_parquet('%s/pickles/nue_%s_%s.parquet'%(datafolder,s_data,tag))\n",
    "print('done %s'%s_data)\n",
    "\n",
    "s_data = 'wiremodThetaYZ'\n",
    "df_bnb = read_root('../../data/detsys/mcc9_v40a_dl_run3b_bnb_intrinsic_nue_overlay_wiremodThetaYZ.root','dlana/FinalVertexVariables')\n",
    "df_passPi0 = pd.read_table('../../data/detsys/SystematicsForDavio/SystematicsForDavio_WireModThetaYZ.txt',sep=',',names=['run','subrun','event','vtxid'])\n",
    "df_passPi0['PassFinalSelection1e1p'] = 1\n",
    "df_bnb_wPass = df_bnb.join(df_passPi0.set_index(RSEV),on=RSEV)\n",
    "df_bnb_wCV_wPass_wProc = proc_detvar_mc(df_bnb_wPass,df_cv_wPass,good_run3_df)\n",
    "df_bnb_wCV_wPass_wProc.to_parquet('%s/pickles/nue_%s_%s.parquet'%(datafolder,s_data,tag))\n",
    "print('done %s'%s_data)\n",
    "\n",
    "s_data = 'wiremodYZ'\n",
    "df_bnb = read_root('../../data/detsys/mcc9_v40a_dl_run3b_bnb_intrinsic_nue_overlay_wiremodYZ.root','dlana/FinalVertexVariables')\n",
    "df_passPi0 = pd.read_table('../../data/detsys/SystematicsForDavio/SystematicsForDavio_WireModYZ.txt',sep=',',names=['run','subrun','event','vtxid'])\n",
    "df_passPi0['PassFinalSelection1e1p'] = 1\n",
    "df_bnb_wPass = df_bnb.join(df_passPi0.set_index(RSEV),on=RSEV)\n",
    "df_bnb_wCV_wPass_wProc = proc_detvar_mc(df_bnb_wPass,df_cv_wPass,good_run3_df)\n",
    "df_bnb_wCV_wPass_wProc.to_parquet('%s/pickles/nue_%s_%s.parquet'%(datafolder,s_data,tag))\n",
    "print('done %s'%s_data)"
   ]
  },
  {
   "cell_type": "code",
   "execution_count": null,
   "metadata": {},
   "outputs": [],
   "source": []
  },
  {
   "cell_type": "code",
   "execution_count": null,
   "metadata": {},
   "outputs": [],
   "source": []
  },
  {
   "cell_type": "code",
   "execution_count": 70,
   "metadata": {},
   "outputs": [],
   "source": [
    "s_data = 'LYdown'\n",
    "df_bnb = read_root('../../data/detsys/mcc9_v40a_dl_run3b_bnb_nu_overlay_DetVar_LYdown.root','dlana/FinalVertexVariables')"
   ]
  },
  {
   "cell_type": "code",
   "execution_count": 71,
   "metadata": {},
   "outputs": [
    {
     "data": {
      "text/plain": [
       "0       -99998.0\n",
       "1       -99998.0\n",
       "2       -99998.0\n",
       "3       -99998.0\n",
       "4       -99998.0\n",
       "          ...   \n",
       "30387   -99998.0\n",
       "30388   -99998.0\n",
       "30389   -99998.0\n",
       "30390   -99998.0\n",
       "30391   -99998.0\n",
       "Name: MC_energyInit, Length: 30392, dtype: float32"
      ]
     },
     "execution_count": 71,
     "metadata": {},
     "output_type": "execute_result"
    }
   ],
   "source": [
    "df_bnb['MC_energyInit']"
   ]
  },
  {
   "cell_type": "code",
   "execution_count": null,
   "metadata": {},
   "outputs": [],
   "source": []
  },
  {
   "cell_type": "code",
   "execution_count": null,
   "metadata": {},
   "outputs": [],
   "source": []
  },
  {
   "cell_type": "markdown",
   "metadata": {},
   "source": [
    "# DIRT"
   ]
  },
  {
   "cell_type": "code",
   "execution_count": 20,
   "metadata": {},
   "outputs": [
    {
     "ename": "OSError",
     "evalue": "cannot read ../data/dirt/FVV-Prime-dirt-Mar3-WC-1M1P.root",
     "output_type": "error",
     "traceback": [
      "\u001b[0;31m---------------------------------------------------------------------------\u001b[0m",
      "\u001b[0;31mOSError\u001b[0m                                   Traceback (most recent call last)",
      "\u001b[0;32m<ipython-input-20-f18622baf8f1>\u001b[0m in \u001b[0;36m<module>\u001b[0;34m\u001b[0m\n\u001b[0;32m----> 1\u001b[0;31m \u001b[0mdf_dirt\u001b[0m \u001b[0;34m=\u001b[0m \u001b[0mread_root\u001b[0m\u001b[0;34m(\u001b[0m\u001b[0;34m'../data/dirt/FVV-Prime-dirt-Mar3-WC-1M1P.root'\u001b[0m\u001b[0;34m,\u001b[0m\u001b[0;34m'FinalVertexVariables'\u001b[0m\u001b[0;34m)\u001b[0m\u001b[0;34m\u001b[0m\u001b[0;34m\u001b[0m\u001b[0m\n\u001b[0m\u001b[1;32m      2\u001b[0m \u001b[0mdf_dirt_cvweight\u001b[0m \u001b[0;34m=\u001b[0m \u001b[0mread_root\u001b[0m\u001b[0;34m(\u001b[0m\u001b[0;34m'../data/dirt/weights_forCV_v40_dirt_nu_run1.root'\u001b[0m\u001b[0;34m)\u001b[0m\u001b[0;34m\u001b[0m\u001b[0;34m\u001b[0m\u001b[0m\n\u001b[1;32m      3\u001b[0m \u001b[0;34m\u001b[0m\u001b[0m\n\u001b[1;32m      4\u001b[0m \u001b[0mdf_full\u001b[0m \u001b[0;34m=\u001b[0m \u001b[0mdf_dirt\u001b[0m\u001b[0;34m.\u001b[0m\u001b[0mjoin\u001b[0m\u001b[0;34m(\u001b[0m\u001b[0mgood_run1_df\u001b[0m\u001b[0;34m.\u001b[0m\u001b[0mset_index\u001b[0m\u001b[0;34m(\u001b[0m\u001b[0;34m'run'\u001b[0m\u001b[0;34m)\u001b[0m\u001b[0;34m,\u001b[0m\u001b[0mon\u001b[0m\u001b[0;34m=\u001b[0m\u001b[0;34m'run'\u001b[0m\u001b[0;34m)\u001b[0m\u001b[0;34m\u001b[0m\u001b[0;34m\u001b[0m\u001b[0m\n\u001b[1;32m      5\u001b[0m \u001b[0mdf_full\u001b[0m \u001b[0;34m=\u001b[0m \u001b[0mdf_full\u001b[0m\u001b[0;34m.\u001b[0m\u001b[0mjoin\u001b[0m\u001b[0;34m(\u001b[0m\u001b[0mdf_dirt_cvweight\u001b[0m\u001b[0;34m.\u001b[0m\u001b[0mset_index\u001b[0m\u001b[0;34m(\u001b[0m\u001b[0mRSE\u001b[0m\u001b[0;34m)\u001b[0m\u001b[0;34m[\u001b[0m\u001b[0;34m[\u001b[0m\u001b[0;34m'nu_interaction_mode'\u001b[0m\u001b[0;34m,\u001b[0m\u001b[0;34m'nu_interaction_type'\u001b[0m\u001b[0;34m,\u001b[0m\u001b[0;34m'xsec_corr_weight'\u001b[0m\u001b[0;34m,\u001b[0m\u001b[0;34m'spline_weight'\u001b[0m\u001b[0;34m,\u001b[0m\u001b[0;34m'nu_interaction_ccnc'\u001b[0m\u001b[0;34m,\u001b[0m\u001b[0;34m'nu_pdg'\u001b[0m\u001b[0;34m]\u001b[0m\u001b[0;34m]\u001b[0m\u001b[0;34m,\u001b[0m\u001b[0mon\u001b[0m\u001b[0;34m=\u001b[0m\u001b[0mRSE\u001b[0m\u001b[0;34m)\u001b[0m\u001b[0;34m\u001b[0m\u001b[0;34m\u001b[0m\u001b[0m\n",
      "\u001b[0;32m~/.local/lib/python3.6/site-packages/root_pandas/readwrite.py\u001b[0m in \u001b[0;36mread_root\u001b[0;34m(paths, key, columns, ignore, chunksize, where, flatten, *args, **kwargs)\u001b[0m\n\u001b[1;32m    204\u001b[0m     \u001b[0;31m# Use a single file to search for trees and branches, ensuring the key exists\u001b[0m\u001b[0;34m\u001b[0m\u001b[0;34m\u001b[0m\u001b[0;34m\u001b[0m\u001b[0m\n\u001b[1;32m    205\u001b[0m     \u001b[0;32mfor\u001b[0m \u001b[0mseed_path\u001b[0m \u001b[0;32min\u001b[0m \u001b[0mpaths\u001b[0m\u001b[0;34m:\u001b[0m\u001b[0;34m\u001b[0m\u001b[0;34m\u001b[0m\u001b[0m\n\u001b[0;32m--> 206\u001b[0;31m         \u001b[0mtrees\u001b[0m \u001b[0;34m=\u001b[0m \u001b[0mlist_trees\u001b[0m\u001b[0;34m(\u001b[0m\u001b[0mseed_path\u001b[0m\u001b[0;34m)\u001b[0m\u001b[0;34m\u001b[0m\u001b[0;34m\u001b[0m\u001b[0m\n\u001b[0m\u001b[1;32m    207\u001b[0m         \u001b[0;32mif\u001b[0m \u001b[0mkey\u001b[0m \u001b[0;32mand\u001b[0m \u001b[0mkey\u001b[0m \u001b[0;32mnot\u001b[0m \u001b[0;32min\u001b[0m \u001b[0mtrees\u001b[0m\u001b[0;34m:\u001b[0m\u001b[0;34m\u001b[0m\u001b[0;34m\u001b[0m\u001b[0m\n\u001b[1;32m    208\u001b[0m             \u001b[0;32mcontinue\u001b[0m\u001b[0;34m\u001b[0m\u001b[0;34m\u001b[0m\u001b[0m\n",
      "\u001b[0;32m~/.local/lib/python3.6/site-packages/root_numpy/_tree.py\u001b[0m in \u001b[0;36mlist_trees\u001b[0;34m(filename)\u001b[0m\n\u001b[1;32m     53\u001b[0m \u001b[0;34m\u001b[0m\u001b[0m\n\u001b[1;32m     54\u001b[0m     \"\"\"\n\u001b[0;32m---> 55\u001b[0;31m     \u001b[0;32mreturn\u001b[0m \u001b[0m_librootnumpy\u001b[0m\u001b[0;34m.\u001b[0m\u001b[0mlist_trees\u001b[0m\u001b[0;34m(\u001b[0m\u001b[0mfilename\u001b[0m\u001b[0;34m)\u001b[0m\u001b[0;34m\u001b[0m\u001b[0;34m\u001b[0m\u001b[0m\n\u001b[0m\u001b[1;32m     56\u001b[0m \u001b[0;34m\u001b[0m\u001b[0m\n\u001b[1;32m     57\u001b[0m \u001b[0;34m\u001b[0m\u001b[0m\n",
      "\u001b[0;32mroot_numpy/src/tree.pyx\u001b[0m in \u001b[0;36m_librootnumpy.list_trees\u001b[0;34m()\u001b[0m\n",
      "\u001b[0;32mroot_numpy/src/tree.pyx\u001b[0m in \u001b[0;36m_librootnumpy.list_objects\u001b[0;34m()\u001b[0m\n",
      "\u001b[0;31mOSError\u001b[0m: cannot read ../data/dirt/FVV-Prime-dirt-Mar3-WC-1M1P.root"
     ]
    },
    {
     "name": "stderr",
     "output_type": "stream",
     "text": [
      "Error in <TFile::TFile>: file ../data/dirt/FVV-Prime-dirt-Mar3-WC-1M1P.root does not exist\n"
     ]
    }
   ],
   "source": []
  }
 ],
 "metadata": {
  "kernelspec": {
   "display_name": "Python 2",
   "language": "python",
   "name": "python2"
  },
  "language_info": {
   "codemirror_mode": {
    "name": "ipython",
    "version": 3
   },
   "file_extension": ".py",
   "mimetype": "text/x-python",
   "name": "python",
   "nbconvert_exporter": "python",
   "pygments_lexer": "ipython3",
   "version": "3.8.3"
  }
 },
 "nbformat": 4,
 "nbformat_minor": 2
}
