{
 "cells": [
  {
   "cell_type": "code",
   "execution_count": 1,
   "metadata": {},
   "outputs": [
    {
     "name": "stdout",
     "output_type": "stream",
     "text": [
      "Welcome to JupyROOT 6.18/04\n"
     ]
    },
    {
     "data": {
      "text/html": [
       "<style>.container { width:100% !important; }</style>"
      ],
      "text/plain": [
       "<IPython.core.display.HTML object>"
      ]
     },
     "metadata": {},
     "output_type": "display_data"
    }
   ],
   "source": [
    "from ROOT import TFile,vector\n",
    "import ROOT\n",
    "import matplotlib.pyplot as plt\n",
    "import pickle\n",
    "import pandas as pd\n",
    "import numpy as np\n",
    "from numpy import mean\n",
    "from math import sqrt,acos,cos,sin,pi,exp,log,isnan,atan2\n",
    "from numpy import asarray\n",
    "from root_pandas import read_root\n",
    "from matplotlib import gridspec\n",
    "from scipy import stats\n",
    "import seaborn as sns\n",
    "\n",
    "from xgboost import XGBClassifier\n",
    "from sklearn.model_selection import train_test_split\n",
    "from sklearn.metrics import accuracy_score\n",
    "from numpy import asarray\n",
    "\n",
    "from scipy import stats\n",
    "from matplotlib.collections import PatchCollection\n",
    "from matplotlib.patches import Rectangle\n",
    "from textwrap import wrap\n",
    "import seaborn as sns\n",
    "\n",
    "import os\n",
    "\n",
    "from PlottingScripts import CV, Spline, Tune1, sampHist, distVar,distplot_wratio,StackedHisto,SimpleHisto\n",
    "\n",
    "from IPython.core.display import display, HTML\n",
    "display(HTML(\"<style>.container { width:100% !important; }</style>\"))"
   ]
  },
  {
   "cell_type": "markdown",
   "metadata": {},
   "source": [
    "## Load  Things Up"
   ]
  },
  {
   "cell_type": "code",
   "execution_count": 2,
   "metadata": {},
   "outputs": [
    {
     "name": "stdout",
     "output_type": "stream",
     "text": [
      "8.786e+18\n"
     ]
    }
   ],
   "source": [
    "#wc tagger\n",
    "NUMU_RUN1_POT = 4.71579e+20\n",
    "NUMU_LOWE_RUN1_POT = 1.63103516179e+21\n",
    "NUE_RUN1_POT  = 9.80259e+22\n",
    "RUN1_POT = 4.403e+19   #  run1\n",
    "EXTRUN1_POT = (22474918.0) / float ( 9776965.0) * RUN1_POT #run1\n",
    "DIRT_RUN1_POT = 2.61947e+20\n",
    "\n",
    "NUMU_RUN3_POT = 8.98773223801e+20\n",
    "NUMU_LOWE_RUN3_POT = 1.51234621011e+21\n",
    "NUE_RUN3_POT = 4.70704675581e+22\n",
    "RUN3_POT = 8.786e+18 # no beam quality  cut\n",
    "#RUN3_POT = 1.701e+20 #1.5e20\n",
    "EXTRUN3_POT = (39566274.0) / float (2263559) * RUN3_POT\n",
    "#EXTRUN3_POT = (39566274.0) / float (43980680.0) * RUN3_POT\n",
    "\n",
    "\n",
    "POT_SCALE_FACTOR = RUN1_POT\n",
    "NUMU_RUN1_SCALE = POT_SCALE_FACTOR / float(NUMU_RUN1_POT)\n",
    "NUMU_LOWE_RUN1_SCALE = POT_SCALE_FACTOR / float(NUMU_LOWE_RUN1_POT)\n",
    "NUMU_RUN3_SCALE = POT_SCALE_FACTOR / float(NUMU_RUN3_POT)\n",
    "NUMU_LOWE_RUN3_SCALE = POT_SCALE_FACTOR / float(NUMU_LOWE_RUN3_POT)\n",
    "NUE_RUN1_SCALE = POT_SCALE_FACTOR / float(NUE_RUN1_POT)\n",
    "NUE_RUN3_SCALE = POT_SCALE_FACTOR / float(NUE_RUN3_POT)\n",
    "EXT_RUN1_SCALE = POT_SCALE_FACTOR / float(EXTRUN1_POT)\n",
    "EXT_RUN3_SCALE = POT_SCALE_FACTOR / float(EXTRUN3_POT)\n",
    "DIRT_RUN1_SCALE = POT_SCALE_FACTOR / float(DIRT_RUN1_POT)\n",
    "\n",
    "\n",
    "RUN1_SCALE = POT_SCALE_FACTOR / float(RUN1_POT)\n",
    "RUN3_SCALE = POT_SCALE_FACTOR / float(RUN3_POT)\n",
    "\n",
    "print(RUN3_POT)"
   ]
  },
  {
   "cell_type": "code",
   "execution_count": 3,
   "metadata": {},
   "outputs": [],
   "source": [
    "tag = 'May1'\n",
    "\n",
    "orthogonalcut = 'MaxShrFrac < .2'\n",
    "precuts ='OpenAng > .5 and ChargeNearTrunk > 0 and FailedBoost != 1'# and Lepton_EdgeDist > 15 and Proton_EdgeDist > 15'\n",
    "emptycut = 'Enu_1m1p > 0'\n",
    "\n",
    "precut = orthogonalcut + ' and ' + precuts\n",
    "\n",
    "df_numu_run1_presel = pd.read_parquet('../data/pickles/numu_run1_nodupes%s.parquet'%tag).query(precut)\n",
    "df_numu_run1_presel_lowe = pd.read_parquet('../data/pickles/numu_lowe_run1_nodupes%s.parquet'%tag).query(precut)\n",
    "\n",
    "df_numu_run3_presel = pd.read_parquet('../data/pickles/numu_run3_nodupes%s.parquet'%tag).query(precut)\n",
    "df_numu_run3_presel_lowe = pd.read_parquet('../data/pickles/numu_lowe_run3_nodupes%s.parquet'%tag).query(precut)\n",
    "\n",
    "df_nue_run1_presel = pd.read_parquet('../data/pickles/nue_run1_nodupes%s.parquet'%tag).query(precut)\n",
    "df_nue_run3_presel = pd.read_parquet('../data/pickles/nue_run3_nodupes%s.parquet'%tag).query(precut)\n",
    "\n",
    "df_ext_run1_presel = pd.read_parquet('../data/pickles/ext_run1_nodupes%s.parquet'%tag).query(precut)\n",
    "df_ext_run3_presel = pd.read_parquet('../data/pickles/ext_run3_nodupes%s.parquet'%tag).query(precut)\n",
    "\n",
    "df_data_run1_presel = pd.read_parquet('../data/pickles/data_run1_nodupes%s.parquet'%tag).query(precut)\n",
    "df_data_run3_presel = pd.read_parquet('../data/pickles/data_run3_filter_nodupes%s.parquet'%tag).query(precut)\n",
    "\n",
    "df_dirt_run1_presel = pd.read_parquet('../data/pickles/dirt_run1_nodupes%s.parquet'%tag).query(precut)"
   ]
  },
  {
   "cell_type": "markdown",
   "metadata": {},
   "source": [
    "## This is where the magic happens"
   ]
  },
  {
   "cell_type": "code",
   "execution_count": 5,
   "metadata": {},
   "outputs": [],
   "source": [
    "# Define signal and background for training.\n",
    "\n",
    "nbins = 45\n",
    "s_annotation = 'All Precuts, Orthogonality Cuts'\n",
    "\n",
    "#run1\n",
    "df_numu_presel = pd.concat((df_numu_run1_presel,df_numu_run1_presel_lowe))\n",
    "df_signal = df_numu_presel.query(\"mc_label in ['numu_CCQE']\")\n",
    "df_extbkg = pd.concat([df_ext_run1_presel,df_dirt_run1_presel,df_numu_presel.query(\"mc_label in ['offvtx','nLmP','badreco']\")],sort=False)\n",
    "df_nubkg = df_numu_presel.query(\"mc_label not in ['numu_CCQE']\")\n",
    "\n",
    "#run3\n",
    "#df_numu_presel = pd.concat((df_numu_run3_presel,df_numu_run3_presel_lowe,df_nue_run3_presel))\n",
    "#df_signal = df_numu_presel.query(\"mc_label in ['numu_CCQE']\")\n",
    "#df_extbkg = pd.concat([df_ext_run3_presel,df_numu_presel.query(\"mc_label in ['offvtx','nLmP','badreco']\")],sort=False)\n",
    "#df_nubkg = df_numu_presel.query(\"mc_label not in ['numu_CCQE']\")\n",
    "\n"
   ]
  },
  {
   "cell_type": "code",
   "execution_count": 44,
   "metadata": {},
   "outputs": [],
   "source": [
    "# this is new! but what it does is combine all the MC stuff together so when we say Numu CCQE, it's that portion from all applicable samples all together.\n",
    "# make sure to get the scales right and i'll handle the rest!\n",
    "# for AddStrata, you plug in an expression to query the dataframe for a specific layer of the stacked histogram. Strata are all subsets of the MC defined before\n",
    "# for AddLayer, we're adding layers to the stacked histogram that are independent from the MC defined before (EXT,dirt, etc - things that aren't split into strata)\n",
    "\n",
    "run1Hists = StackedHisto((df_numu_run1_presel.query('MC_energyInit > 400'),df_numu_run1_presel_lowe,df_nue_run1_presel),(NUMU_RUN1_SCALE,NUMU_LOWE_RUN1_SCALE,NUE_RUN1_SCALE))\n",
    "run1Hists.AddStrata(\"mc_label in ['numu_CCQE']\",r'BNB $\\nu_\\mu$ CCQE','blue')\n",
    "run1Hists.AddStrata(\"mc_label in ['numu_MEC']\",r'BNB $\\nu_\\mu$ MEC','cyan')\n",
    "run1Hists.AddStrata(\"mc_label in ['numu_piplusminus']\",r'BNB $\\nu_\\mu$ Res $\\pi^{+/-}$','darkgreen')\n",
    "run1Hists.AddStrata(\"mc_label in ['numu_pizero']\",r'BNB $\\nu_\\mu$ Res $\\pi^{0}$','greenyellow')\n",
    "run1Hists.AddStrata(\"mc_label in ['nue_CCQE']\",r'$\\nu_e$ Intrinsic','pink')\n",
    "run1Hists.AddStrata(\"mc_label in ['numu_other','BNB nue_other','nue_MEC','nue_piplusminus','nue_pizero']\",r'BNB Other','gold')\n",
    "run1Hists.AddStrata(\"mc_label in ['badreco']\",r'BNB Bad Reco','coral')\n",
    "run1Hists.AddStrata(\"mc_label in ['offvtx']\",r'BNB 1L1P Off Vertex','grey')\n",
    "run1Hists.AddStrata(\"mc_label in ['nLmP']\",r'BNB Not 1L1P','crimson')\n",
    "run1Hists.AddLayer(df_dirt_run1_presel,DIRT_RUN1_SCALE,1,'Dirt','peru')\n",
    "run1Hists.AddLayer(df_ext_run1_presel,EXT_RUN1_SCALE,0,'Cosmic Background','fuchsia')\n",
    "\n",
    "run1DataHist = SimpleHisto(df_data_run1_presel,RUN1_SCALE,0,'','bnb5e19 [Run 1]')\n",
    "\n",
    "run3Hists = StackedHisto((df_numu_run3_presel.query('MC_energyInit > 400'),df_numu_run3_presel_lowe,df_nue_run3_presel),(NUMU_RUN3_SCALE,NUMU_LOWE_RUN3_SCALE,NUE_RUN3_SCALE))\n",
    "run3Hists.AddStrata(\"mc_label in ['numu_CCQE']\",r'BNB $\\nu_\\mu$ CCQE','blue')\n",
    "run3Hists.AddStrata(\"mc_label in ['numu_MEC']\",r'BNB $\\nu_\\mu$ MEC','cyan')\n",
    "run3Hists.AddStrata(\"mc_label in ['numu_piplusminus']\",r'BNB $\\nu_\\mu$ Res $\\pi^{+/-}$','darkgreen')\n",
    "run3Hists.AddStrata(\"mc_label in ['numu_pizero']\",r'BNB $\\nu_\\mu$ Res $\\pi^{0}$','greenyellow')\n",
    "run3Hists.AddStrata(\"mc_label in ['nue_CCQE']\",r'$\\nu_e$ Intrinsic','pink')\n",
    "run3Hists.AddStrata(\"mc_label in ['numu_other','BNB nue_other','nue_MEC','nue_piplusminus','nue_pizero']\",r'BNB Other','gold')\n",
    "run3Hists.AddStrata(\"mc_label in ['badreco']\",r'BNB Bad Reco','coral')\n",
    "run3Hists.AddStrata(\"mc_label in ['offvtx']\",r'BNB 1L1P Off Vertex','grey')\n",
    "run3Hists.AddStrata(\"mc_label in ['nLmP']\",r'BNB Not 1L1P','crimson')\n",
    "run3Hists.AddLayer(df_dirt_run1_presel,DIRT_RUN1_SCALE,1,'Dirt','peru')\n",
    "run3Hists.AddLayer(df_ext_run3_presel,EXT_RUN3_SCALE,0,'Cosmic Background','fuchsia')\n",
    "\n",
    "run3DataHist = SimpleHisto(df_data_run3_presel,RUN3_SCALE,0,'','1m1p Open Data [Run 3]')"
   ]
  },
  {
   "cell_type": "code",
   "execution_count": 45,
   "metadata": {
    "scrolled": true
   },
   "outputs": [],
   "source": [
    "# Make big list of variables with their accompanying ranges so we can just dump a buttload of plots\n",
    "varlist = []\n",
    "\n",
    "# variable name, range, variable label, string for covariance matrix location (if applicable, or just leave blank)\n",
    "varlist.append(distVar('Xreco',(15,241.25),'Reco Vertex X','../data/CovMatrices_Apr20/covar_postsel__x_reco.txt'))\n",
    "varlist.append(distVar('Yreco',(-101.5,101.5),'Reco Vertex Y','../data/CovMatrices_Apr20/covar_postsel__y_reco.txt'))\n",
    "varlist.append(distVar('Zreco',(15,1021.8),'Reco Vertex Z','../data/CovMatrices_Apr20/covar_postsel__z_reco.txt'))\n",
    "varlist.append(distVar('Good3DReco',(0,1),'Good 3D Reco (tracker metric)'))\n",
    "varlist.append(distVar('Eta',(0,.8),r'$\\eta$','../data/CovMatrices_Apr20/covar_postsel__eta.txt'))\n",
    "varlist.append(distVar('OpenAng',(.5,np.pi),'Opening Angle (rads)','../data/CovMatrices_Apr20/covar_postsel__openang_reco.txt'))\n",
    "varlist.append(distVar('Thetas',(0,2*np.pi),r'Sum of Thetas ($\\theta_{p} + \\theta_{\\mu}$) (rads)','../data/CovMatrices_Apr20/covar_postsel__sum_thetas_reco.txt'))\n",
    "varlist.append(distVar('Phis',(0,2*np.pi),r'Sum of Phis ($\\phi_{p} + \\phi_{\\mu}$)  (rads)','../data/CovMatrices_Apr20/covar_postsel__sum_phis_reco.txt'))\n",
    "varlist.append(distVar('ChargeNearTrunk',(0,800),'ADC Charge within 5cm of Reco Vertex','../data/CovMatrices_Apr20/covar_postsel__charge_near_trunk_reco.txt'))\n",
    "varlist.append(distVar('CCQEEnergyShift_1m1p',(0,5),'Energy Shift (in MeV) to Maximize QE Consistency'))\n",
    "varlist.append(distVar('Enu_1m1p',(200,2000),'Reconstructed Neutrino Energy (MeV)','../data/CovMatrices_Apr20/covar_postsel__nu_energy_reco.txt'))\n",
    "varlist.append(distVar('PhiT_1m1p',(0,np.pi),r'$\\phi_T$','../data/CovMatrices_Apr20/covar_postsel__phiT_reco.txt'))\n",
    "varlist.append(distVar('AlphaT_1m1p',(0,np.pi),r'$\\alpha_T$','../data/CovMatrices_Apr20/covar_postsel__alphaT_reco.txt'))\n",
    "varlist.append(distVar('PT_1m1p',(0,850),r'$p_T$','../data/CovMatrices_Apr20/covar_postsel__pT_reco.txt'))\n",
    "varlist.append(distVar('PTRat_1m1p',(0,1),r'$p_T/|p|$','../data/CovMatrices_Apr20/covar_postsel__pT_ratio_reco.txt'))\n",
    "varlist.append(distVar('BjX_1m1p',(0,2),'Bjorken X','../data/CovMatrices_Apr20/covar_postsel__Bjx_reco.txt'))\n",
    "varlist.append(distVar('BjY_1m1p',(0,1),'Bjorken Y','../data/CovMatrices_Apr20/covar_postsel__Bjy_reco.txt'))\n",
    "varlist.append(distVar('Q2_1m1p',(0,6e5),r'$Q^2$','../data/CovMatrices_Apr20/covar_postsel__Q2_reco.txt'))\n",
    "varlist.append(distVar('Sph_1m1p',(0,4000),'QE Consistency','../data/CovMatrices_Apr20/covar_postsel__sph_reco.txt'))\n",
    "varlist.append(distVar('PzEnu_1m1p',(-1500,400),r'$p_z - E_\\nu$ (MeV)'))\n",
    "varlist.append(distVar('Q0_1m1p',(70,600),r'$Q_0$','../data/CovMatrices_Apr20/covar_postsel__Q0_reco.txt'))\n",
    "varlist.append(distVar('Q3_1m1p',(50,1000),r'$Q_3$','../data/CovMatrices_Apr20/covar_postsel__Q3_reco.txt'))\n",
    "varlist.append(distVar('Lepton_PhiReco',(-np.pi,np.pi),r'Muon $\\phi$','../data/CovMatrices_Apr20/covar_postsel__lepton_phi_reco.txt'))\n",
    "varlist.append(distVar('Lepton_ThetaReco',(0,np.pi),r'Muon $\\theta$','../data/CovMatrices_Apr20/covar_postsel__lepton_theta_reco.txt'))\n",
    "varlist.append(distVar('Lepton_TrackLength',(5,200),'Muon Track Length (cm)','../data/CovMatrices_Apr20/covar_postsel__lepton_length_reco.txt'))\n",
    "varlist.append(distVar('Muon_Edep',(20,600),'Reco Muon Energy (from range) (MeV)','../data/CovMatrices_Apr20/covar_postsel__lepton_KE_reco.txt'))\n",
    "varlist.append(distVar('Proton_PhiReco',(-np.pi,np.pi),r'Proton $\\phi$','../data/CovMatrices_Apr20/covar_postsel__proton_phi_reco.txt'))\n",
    "varlist.append(distVar('Proton_ThetaReco',(0,np.pi),r'Proton $\\theta$','../data/CovMatrices_Apr20/covar_postsel__proton_theta_reco.txt'))\n",
    "varlist.append(distVar('Proton_TrackLength',(5,150),'Proton Track Length','../data/CovMatrices_Apr20/covar_postsel__proton_length_reco.txt'))\n",
    "varlist.append(distVar('Proton_Edep',(50,500),'Reco Proton Energy (from range) (MeV)','../data/CovMatrices_Apr20/covar_postsel__proton_KE_reco.txt'))"
   ]
  },
  {
   "cell_type": "code",
   "execution_count": 47,
   "metadata": {},
   "outputs": [
    {
     "name": "stdout",
     "output_type": "stream",
     "text": [
      "Events: 3372.0\n",
      "Min Bin ct (data): 19.0\n",
      "Events: 3372.0\n",
      "Min Bin ct (data): 34.0\n",
      "Events: 3372.0\n",
      "Min Bin ct (data): 33.0\n",
      "Events: 3372.0\n",
      "Min Bin ct (data): 0.0\n",
      "Events: 3361.0\n",
      "Min Bin ct (data): 0.0\n",
      "Events: 3372.0\n",
      "Min Bin ct (data): 8.0\n",
      "Events: 3372.0\n",
      "Min Bin ct (data): 0.0\n",
      "Events: 3372.0\n",
      "Min Bin ct (data): 0.0\n",
      "Events: 3277.0\n",
      "Min Bin ct (data): 8.0\n",
      "Events: 3372.0\n",
      "Min Bin ct (data): 37.0\n",
      "Events: 3369.0\n",
      "Min Bin ct (data): 0.0\n",
      "Events: 3372.0\n",
      "Min Bin ct (data): 25.0\n",
      "Events: 3372.0\n",
      "Min Bin ct (data): 68.0\n",
      "Events: 3364.0\n",
      "Min Bin ct (data): 5.0\n",
      "Events: 3372.0\n",
      "Min Bin ct (data): 6.0\n",
      "Events: 3126.0\n",
      "Min Bin ct (data): 10.0\n",
      "Events: 3372.0\n",
      "Min Bin ct (data): 0.0\n",
      "Events: 3046.0\n",
      "Min Bin ct (data): 13.0\n",
      "Events: 3016.0\n",
      "Min Bin ct (data): 6.0\n",
      "Events: 3326.0\n",
      "Min Bin ct (data): 5.0\n",
      "Events: 3306.0\n",
      "Min Bin ct (data): 2.0\n",
      "Events: 3274.0\n",
      "Min Bin ct (data): 11.0\n",
      "Events: 3372.0\n",
      "Min Bin ct (data): 64.0\n",
      "Events: 3372.0\n",
      "Min Bin ct (data): 13.0\n",
      "Events: 3038.0\n",
      "Min Bin ct (data): 14.0\n",
      "Events: 3213.0\n",
      "Min Bin ct (data): 7.0\n",
      "Events: 3372.0\n",
      "Min Bin ct (data): 69.0\n",
      "Events: 3372.0\n",
      "Min Bin ct (data): 3.0\n",
      "Events: 2755.0\n",
      "Min Bin ct (data): 1.0\n",
      "Events: 3264.0\n",
      "Min Bin ct (data): 6.0\n"
     ]
    }
   ],
   "source": [
    "# This will  just dump all the above variable plots with everything you want.\n",
    "dumpbins = 36\n",
    "dumphole = 'May7PreselTests' # where are we dumping these?\n",
    "\n",
    "if not os.path.exists(dumphole):\n",
    "    os.makedirs(dumphole)\n",
    "\n",
    "for dist in varlist:\n",
    "    fig,ax0 = distplot_wratio(dist.myname,dumpbins,dist.myrange,run1Hists,run1DataHist,dist.mylabel,normshift=.95)#cov=dist.mycovs\n",
    "    #ax0.set_ylabel('Events in 1e19',fontsize=25)\n",
    "    plt.savefig(dumphole+'/'+dist.myname+'.png')\n",
    "    plt.close(fig)"
   ]
  },
  {
   "cell_type": "markdown",
   "metadata": {},
   "source": [
    "# Weight the bdts"
   ]
  },
  {
   "cell_type": "code",
   "execution_count": 7,
   "metadata": {},
   "outputs": [],
   "source": [
    "vars_cos_allofem = ['Eta','ChargeNearTrunk','PT_1m1p','PhiT_1m1p','AlphaT_1m1p','Sph_1m1p','Q0_1m1p','Q2_1m1p','Q3_1m1p','Lepton_ThetaReco','Lepton_PhiReco','Proton_ThetaReco','Proton_PhiReco','PTRat_1m1p','Lepton_TrackLength','Thetas','Phis','Proton_TrackLength','OpenAng','PzEnu_1m1p']\n",
    "\n",
    "vars_apr14 = ['Eta','ChargeNearTrunk','PT_1m1p','PhiT_1m1p','AlphaT_1m1p','Sph_1m1p','Q0_1m1p','Q2_1m1p','Q3_1m1p','Lepton_ThetaReco','Lepton_PhiReco','Proton_ThetaReco','Proton_PhiReco','PTRat_1m1p','Lepton_TrackLength','Thetas','Phis','Proton_TrackLength','OpenAng','PzEnu_1m1p','BjX_1m1p','BjY_1m1p']\n",
    "\n",
    "vars_may7 = ['Proton_Edep','Muon_Edep','OpenAng','Enu_1m1p','CCQEEnergyShift_1m1p','ChargeNearTrunk','PT_1m1p','PhiT_1m1p','AlphaT_1m1p','Sph_1m1p','Q0_1m1p','Q3_1m1p','Lepton_PhiReco','Proton_ThetaReco','Proton_PhiReco','PTRat_1m1p','Phis','BjX_1m1p','BjY_1m1p']\n",
    "\n",
    "vars_may13 = ['OpenAng','Phis','ChargeNearTrunk','Enu_1m1p','PhiT_1m1p','AlphaT_1m1p','PT_1m1p','PTRat_1m1p','BjX_1m1p','BjY_1m1p','Sph_1m1p','Q0_1m1p','Q3_1m1p','Lepton_PhiReco','Lepton_TrackLength','Proton_PhiReco','Proton_ThetaReco']\n",
    "myvars = vars_may13"
   ]
  },
  {
   "cell_type": "code",
   "execution_count": 28,
   "metadata": {},
   "outputs": [
    {
     "data": {
      "image/png": "[encoded data removed]",
      "text/plain": [
       "<Figure size 432x288 with 1 Axes>"
      ]
     },
     "metadata": {
      "needs_background": "light"
     },
     "output_type": "display_data"
    },
    {
     "name": "stdout",
     "output_type": "stream",
     "text": [
      "Accuracy Test:   0.9364548494983278\n",
      "Accuracy Train:  0.9434769586239357\n",
      "TestAcc - TrainAcc =  -0.7022109125607856\n"
     ]
    }
   ],
   "source": [
    "X = df_signal[myvars].values.tolist()\n",
    "Y_cos = df_extbkg[myvars].values.tolist()\n",
    "\n",
    "#######################################################################################################\n",
    "Xl = [1 for i in range(len(X))]\n",
    "Yl = [0 for i in range(len(Y_cos))]\n",
    "\n",
    "seed = 15\n",
    "test_size = 0.3\n",
    "x_train, x_test, y_train, y_test = train_test_split(asarray(X+Y_cos), asarray(Xl+Yl), test_size=test_size, random_state=seed)\n",
    "\n",
    "eval_set = [(x_train, y_train), (x_test, y_test)]\n",
    "cosmicBDT = XGBClassifier(silent=False, \n",
    "                      scale_pos_weight=1,\n",
    "                      learning_rate=0.01,  \n",
    "                      #colsample_bytree = .8,\n",
    "                      objective='binary:logistic',\n",
    "                      subsample = 0.8, \n",
    "                      n_estimators=1000, \n",
    "                      max_depth=5, \n",
    "                      gamma=5)\n",
    "cosmicBDT.fit(x_train, y_train)\n",
    "\n",
    "y_checkV = cosmicBDT.predict(x_test) #\n",
    "y_checkT = cosmicBDT.predict(x_train) #\n",
    "#\n",
    "predictionsV = [round(value) for value in y_checkV] #\n",
    "predictionsT = [round(value) for value in y_checkT] #\n",
    "accuracy_diff = (accuracy_score(y_test, predictionsV)-accuracy_score(y_train,predictionsT))*100. #\n",
    "\n",
    "fig,ax = plt.subplots(figsize=(6,4))\n",
    "ax.set_title('cosmicBDT Importance')\n",
    "plt.bar(range(len(cosmicBDT.feature_importances_)), cosmicBDT.feature_importances_)\n",
    "plt.xticks(range(len(cosmicBDT.feature_importances_)),myvars, rotation='vertical')\n",
    "plt.show()\n",
    "\n",
    "acc_test = accuracy_score(y_test, predictionsV)\n",
    "acc_train = accuracy_score(y_train,predictionsT)\n",
    "accuracy_diff = (acc_test-acc_train)*100. #\n",
    "print(\"Accuracy Test:  \",acc_test)\n",
    "print(\"Accuracy Train: \",acc_train)\n",
    "print(\"TestAcc - TrainAcc = \",accuracy_diff)"
   ]
  },
  {
   "cell_type": "code",
   "execution_count": 29,
   "metadata": {},
   "outputs": [
    {
     "data": {
      "text/plain": [
       "<matplotlib.legend.Legend at 0x7f1cb77b32b0>"
      ]
     },
     "execution_count": 29,
     "metadata": {},
     "output_type": "execute_result"
    },
    {
     "data": {
      "image/png": "[encoded data removed]",
      "text/plain": [
       "<Figure size 432x288 with 1 Axes>"
      ]
     },
     "metadata": {
      "needs_background": "light"
     },
     "output_type": "display_data"
    }
   ],
   "source": [
    "fig,ax = plt.subplots(figsize=(6,4))\n",
    "bdt_score_ccqe = cosmicBDT.predict_proba(X)\n",
    "bdt_score_ext = cosmicBDT.predict_proba(Y_cos)\n",
    "\n",
    "_ = plt.hist(bdt_score_ccqe[:,0],30,(0,1),alpha = .5,density=1,label='CCQE')\n",
    "_ = plt.hist(bdt_score_ext[:,0],30,(0,1),alpha = .5,density=1,label='EXT')\n",
    "\n",
    "plt.legend()"
   ]
  },
  {
   "cell_type": "code",
   "execution_count": 95,
   "metadata": {},
   "outputs": [],
   "source": [
    "pickle.dump(cosmicBDT,open( \"../1mu1pSelection/cosmicbdt_1mu1p_mar31_ccqe.pickle\", \"wb\" ),protocol=2)"
   ]
  },
  {
   "cell_type": "code",
   "execution_count": 30,
   "metadata": {},
   "outputs": [
    {
     "data": {
      "image/png": "[encoded data removed]",
      "text/plain": [
       "<Figure size 432x288 with 1 Axes>"
      ]
     },
     "metadata": {
      "needs_background": "light"
     },
     "output_type": "display_data"
    },
    {
     "name": "stdout",
     "output_type": "stream",
     "text": [
      "Accuracy Test:   0.931411388477877\n",
      "Accuracy Train:  0.9408722228752792\n",
      "TestAcc - TrainAcc =  -0.9460834397402196\n"
     ]
    }
   ],
   "source": [
    "X = df_signal[myvars].values.tolist()\n",
    "Y_nubkg = df_nubkg[myvars].values.tolist()\n",
    "\n",
    "#######################################################################################################\n",
    "Xl = [1 for i in range(len(X))]\n",
    "Yl = [0 for i in range(len(Y_nubkg))]\n",
    "\n",
    "seed = 15\n",
    "test_size = 0.33\n",
    "x_train, x_test, y_train, y_test = train_test_split(asarray(X+Y_nubkg), asarray(Xl+Yl), test_size=test_size, random_state=seed)\n",
    "\n",
    "eval_set = [(x_train, y_train), (x_test, y_test)]\n",
    "nubkgBDT = XGBClassifier(silent=False, \n",
    "                      scale_pos_weight=1,\n",
    "                      learning_rate=0.01,  \n",
    "                      #colsample_bytree = .8,\n",
    "                      objective='binary:logistic',\n",
    "                      subsample = 0.8, \n",
    "                      n_estimators=1000, \n",
    "                      max_depth=5, \n",
    "                      gamma=5)\n",
    "nubkgBDT.fit(x_train, y_train)\n",
    "\n",
    "y_checkV = nubkgBDT.predict(x_test) #\n",
    "y_checkT = nubkgBDT.predict(x_train) #\n",
    "#\n",
    "predictionsV = [round(value) for value in y_checkV] #\n",
    "predictionsT = [round(value) for value in y_checkT] #\n",
    "accuracy_diff = (accuracy_score(y_test, predictionsV)-accuracy_score(y_train,predictionsT))*100. #\n",
    "\n",
    "fig,ax = plt.subplots(figsize=(6,4))\n",
    "ax.set_title('NuBkgBDT Importance')\n",
    "plt.bar(range(len(nubkgBDT.feature_importances_)), nubkgBDT.feature_importances_)\n",
    "plt.xticks(range(len(nubkgBDT.feature_importances_)),myvars, rotation='vertical')\n",
    "plt.show()\n",
    "\n",
    "acc_test = accuracy_score(y_test, predictionsV)\n",
    "acc_train = accuracy_score(y_train,predictionsT)\n",
    "accuracy_diff = (acc_test-acc_train)*100. #\n",
    "print(\"Accuracy Test:  \",acc_test)\n",
    "print(\"Accuracy Train: \",acc_train)\n",
    "print(\"TestAcc - TrainAcc = \",accuracy_diff)\n"
   ]
  },
  {
   "cell_type": "code",
   "execution_count": 31,
   "metadata": {},
   "outputs": [
    {
     "data": {
      "text/plain": [
       "<matplotlib.legend.Legend at 0x7f1cb98e6128>"
      ]
     },
     "execution_count": 31,
     "metadata": {},
     "output_type": "execute_result"
    },
    {
     "data": {
      "image/png": "[encoded data removed]",
      "text/plain": [
       "<Figure size 432x288 with 1 Axes>"
      ]
     },
     "metadata": {
      "needs_background": "light"
     },
     "output_type": "display_data"
    },
    {
     "data": {
      "image/png": "[encoded data removed]",
      "text/plain": [
       "<Figure size 432x288 with 1 Axes>"
      ]
     },
     "metadata": {
      "needs_background": "light"
     },
     "output_type": "display_data"
    }
   ],
   "source": [
    "fig,ax = plt.subplots(figsize=(6,4))\n",
    "bdt_score_ccqe = nubkgBDT.predict_proba(X)\n",
    "bdt_score_ext = nubkgBDT.predict_proba(Y_cos)\n",
    "\n",
    "_ = plt.hist(bdt_score_ccqe[:,0],30,(0,1),alpha = .5,density=1,label='CCQE')\n",
    "_ = plt.hist(bdt_score_ext[:,0],30,(0,1),alpha = .5,density=1,label='EXT')\n",
    "\n",
    "plt.legend()\n",
    "\n",
    "fig,ax = plt.subplots(figsize=(6,4))\n",
    "bdt_score_nubkg = nubkgBDT.predict_proba(Y_nubkg)\n",
    "\n",
    "_ = plt.hist(bdt_score_ccqe[:,0],40,(0,1),alpha = .5,density=1,label='CCQE')\n",
    "_ = plt.hist(bdt_score_nubkg[:,0],40,(0,1),alpha = .5,density=1,label='NuBkg')\n",
    "ax.set_xlabel('Nubkg Background Score')\n",
    "\n",
    "plt.legend()"
   ]
  },
  {
   "cell_type": "code",
   "execution_count": 28,
   "metadata": {},
   "outputs": [
    {
     "data": {
      "text/plain": [
       "array([0.29261148, 0.24616116, 0.16443151, ..., 0.40067393, 0.92871445,\n",
       "       0.9880372 ], dtype=float32)"
      ]
     },
     "execution_count": 28,
     "metadata": {},
     "output_type": "execute_result"
    }
   ],
   "source": [
    "bdt_score_ccqe[:,0]"
   ]
  },
  {
   "cell_type": "code",
   "execution_count": 31,
   "metadata": {},
   "outputs": [
    {
     "data": {
      "text/plain": [
       "array([0.29261148, 0.24616116, 0.16443151, ..., 0.40067393, 0.92871445,\n",
       "       0.9880372 ], dtype=float32)"
      ]
     },
     "execution_count": 31,
     "metadata": {},
     "output_type": "execute_result"
    }
   ],
   "source": []
  },
  {
   "cell_type": "code",
   "execution_count": 16,
   "metadata": {},
   "outputs": [
    {
     "data": {
      "text/plain": [
       "<matplotlib.legend.Legend at 0x7f481dd176d8>"
      ]
     },
     "execution_count": 16,
     "metadata": {},
     "output_type": "execute_result"
    },
    {
     "data": {
      "image/png": "[encoded data removed]",
      "text/plain": [
       "<Figure size 432x288 with 1 Axes>"
      ]
     },
     "metadata": {
      "needs_background": "light"
     },
     "output_type": "display_data"
    },
    {
     "data": {
      "image/png": "[encoded data removed]",
      "text/plain": [
       "<Figure size 432x288 with 1 Axes>"
      ]
     },
     "metadata": {
      "needs_background": "light"
     },
     "output_type": "display_data"
    }
   ],
   "source": [
    "fig,ax = plt.subplots(figsize=(6,4))\n",
    "bdt_score_ccqe = nubkgBDT.predict(X ,output_margin=True)\n",
    "bdt_score_ext = nubkgBDT.predict(Y_cos,output_margin=True)\n",
    "\n",
    "_ = plt.hist(bdt_score_ccqe,30,(-7.5,5),alpha = .5,density=1,label='CCQE')\n",
    "_ = plt.hist(bdt_score_ext,30,(-7.5,5),alpha = .5,density=1,label='EXT')\n",
    "\n",
    "plt.legend()\n",
    "\n",
    "fig,ax = plt.subplots(figsize=(6,4))\n",
    "bdt_score_nubkg = nubkgBDT.predict(Y_nubkg,output_margin=True)\n",
    "\n",
    "_ = plt.hist(bdt_score_ccqe,40,(-7.5,5),alpha = .5,density=1,label='CCQE')\n",
    "_ = plt.hist(bdt_score_nubkg,40,(-7.5,5),alpha = .5,density=1,label='NuBkg')\n",
    "ax.set_xlabel('Nubkg Background Score')\n",
    "\n",
    "plt.legend()"
   ]
  },
  {
   "cell_type": "code",
   "execution_count": 33,
   "metadata": {},
   "outputs": [],
   "source": [
    "bdts = [cosmicBDT,nubkgBDT]\n",
    "pickle.dump(bdts,open( \"../1mu1pSelection/bdtweights_1m1p_run3_lowe_may13vars.pickle\", \"wb\" ),protocol=2)"
   ]
  }
 ],
 "metadata": {
  "kernelspec": {
   "display_name": "Python 3",
   "language": "python",
   "name": "python3"
  },
  "language_info": {
   "codemirror_mode": {
    "name": "ipython",
    "version": 3
   },
   "file_extension": ".py",
   "mimetype": "text/x-python",
   "name": "python",
   "nbconvert_exporter": "python",
   "pygments_lexer": "ipython3",
   "version": "3.6.9"
  }
 },
 "nbformat": 4,
 "nbformat_minor": 2
}
