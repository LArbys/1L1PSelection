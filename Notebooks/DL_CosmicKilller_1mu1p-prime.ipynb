{
 "cells": [
  {
   "cell_type": "code",
   "execution_count": 1,
   "metadata": {},
   "outputs": [
    {
     "name": "stdout",
     "output_type": "stream",
     "text": [
      "Welcome to JupyROOT 6.18/04\n"
     ]
    }
   ],
   "source": [
    "%matplotlib inline\n",
    "\n",
    "from ROOT import TFile,vector\n",
    "import ROOT\n",
    "import matplotlib.pyplot as plt\n",
    "import pickle\n",
    "import pandas as pd\n",
    "import numpy as np\n",
    "from numpy import mean\n",
    "from math import sqrt,acos,cos,sin,pi,exp,log,isnan,atan2\n",
    "from numpy import asarray\n",
    "from root_pandas import read_root\n",
    "from matplotlib import gridspec\n",
    "from scipy import stats\n",
    "import seaborn as sns\n",
    "\n",
    "from xgboost import XGBClassifier\n",
    "from sklearn.model_selection import train_test_split\n",
    "from sklearn.metrics import accuracy_score\n",
    "from numpy import asarray"
   ]
  },
  {
   "cell_type": "code",
   "execution_count": 2,
   "metadata": {},
   "outputs": [],
   "source": [
    "# This file loads up our samples, applies a cosmic bdt weight and removes all vertices assigned to the same event\n",
    "# except for the one with the highest cosmic likelihood score\n",
    "# Basically, we only want one vertex per event, so this does that."
   ]
  },
  {
   "cell_type": "markdown",
   "metadata": {},
   "source": [
    "## Load  Things Up"
   ]
  },
  {
   "cell_type": "code",
   "execution_count": 5,
   "metadata": {},
   "outputs": [],
   "source": [
    "datatag = 'Mar4-WC'\n",
    "mctag = 'Mar30-WC'\n",
    "\n",
    "df_run1_presel = pd.read_parquet('../data/pickles/data_goodruns_precuts_%s.parquet'%datatag)\n",
    "df_run3_presel = pd.read_parquet('../data/pickles/datarun3_goodruns_precuts_%s.parquet'%datatag)\n",
    "df_numu_presel = pd.read_parquet('../data/pickles/numu_goodruns_precuts_%s.parquet'%mctag)\n",
    "df_nue_presel = pd.read_parquet('../data/pickles/nue_goodruns_precuts_%s.parquet'%mctag)\n",
    "df_ext_presel = pd.read_parquet('../data/pickles/ext_goodruns_precuts_%s.parquet'%datatag)\n",
    "df_dirt_presel = pd.read_parquet('../data/pickles/dirt_goodruns_precuts_%s.parquet'%mctag)"
   ]
  },
  {
   "cell_type": "markdown",
   "metadata": {},
   "source": [
    "# Kill Duplicates"
   ]
  },
  {
   "cell_type": "code",
   "execution_count": 6,
   "metadata": {},
   "outputs": [],
   "source": [
    "# Let's kill some dupes\n",
    "with open('/home/dcianci/Physics/1e1p/1mu1pSelection/cosmicbdt_1mu1p_mar31_ccqe.pickle','rb') as handle: cosmicBDT = pickle.load(handle)          # Load BDT weights for 1mu1p background differentiation\n",
    "\n",
    "vars_cos_allofem = ['Eta','ChargeNearTrunk','PT_1m1p','PhiT_1m1p','AlphaT_1m1p','Sph_1m1p','Q0_1m1p','Q2_1m1p','Q3_1m1p','Lepton_ThetaReco','Lepton_PhiReco','Proton_ThetaReco','Proton_PhiReco','PTRat_1m1p','Lepton_TrackLength','Thetas','Phis','Proton_TrackLength','OpenAng','PzEnu_1m1p']\n",
    "\n",
    "myvars = vars_cos_allofem\n",
    "scorename = 'CosBkgScore'\n",
    "\n",
    "df_run1_presel.insert(0,scorename,cosmicBDT.predict(df_run1_presel[myvars].values.tolist(),output_margin=True))\n",
    "df_run3_presel.insert(0,scorename,cosmicBDT.predict(df_run3_presel[myvars].values.tolist(),output_margin=True))\n",
    "df_numu_presel.insert(0,scorename,cosmicBDT.predict(df_numu_presel[myvars].values.tolist(),output_margin=True))\n",
    "df_nue_presel.insert(0,scorename,cosmicBDT.predict(df_nue_presel[myvars].values.tolist(),output_margin=True))\n",
    "df_ext_presel.insert(0,scorename,cosmicBDT.predict(df_ext_presel[myvars].values.tolist(),output_margin=True))\n",
    "df_dirt_presel.insert(0,scorename,cosmicBDT.predict(df_dirt_presel[myvars].values.tolist(),output_margin=True))"
   ]
  },
  {
   "cell_type": "code",
   "execution_count": 7,
   "metadata": {},
   "outputs": [],
   "source": [
    "df_run1_nodupes = df_run1_presel.sort_values('CosBkgScore',ascending=False).drop_duplicates(['run','subrun','event']).sort_index()\n",
    "df_run3_nodupes = df_run3_presel.sort_values('CosBkgScore',ascending=False).drop_duplicates(['run','subrun','event']).sort_index()\n",
    "df_numu_nodupes = df_numu_presel.sort_values('CosBkgScore',ascending=False).drop_duplicates(['run','subrun','event']).sort_index()\n",
    "df_nue_nodupes = df_nue_presel.sort_values('CosBkgScore',ascending=False).drop_duplicates(['run','subrun','event']).sort_index()\n",
    "df_ext_nodupes = df_ext_presel.sort_values('CosBkgScore',ascending=False).drop_duplicates(['run','subrun','event']).sort_index()\n",
    "df_dirt_nodupes = df_dirt_presel.sort_values('CosBkgScore',ascending=False).drop_duplicates(['run','subrun','event']).sort_index()"
   ]
  },
  {
   "cell_type": "code",
   "execution_count": 8,
   "metadata": {},
   "outputs": [],
   "source": [
    "tag = 'Mar31-WC'\n",
    "df_dirt_nodupes.to_parquet('../data/pickles/dirt_nodupes_%s.parquet'%tag)\n",
    "df_run1_nodupes.to_parquet('../data/pickles/datarun1_nodupes_%s.parquet'%tag)\n",
    "df_run3_nodupes.to_parquet('../data/pickles/datarun3_nodupes_%s.parquet'%tag)\n",
    "df_numu_nodupes.to_parquet('../data/pickles/numu_nodupes_%s.parquet'%tag)\n",
    "df_nue_nodupes.to_parquet('../data/pickles/nue_nodupes_%s.parquet'%tag)\n",
    "df_ext_nodupes.to_parquet('../data/pickles/ext_nodupes_%s.parquet'%tag)"
   ]
  }
 ],
 "metadata": {
  "kernelspec": {
   "display_name": "Python 3",
   "language": "python",
   "name": "python3"
  },
  "language_info": {
   "codemirror_mode": {
    "name": "ipython",
    "version": 3
   },
   "file_extension": ".py",
   "mimetype": "text/x-python",
   "name": "python",
   "nbconvert_exporter": "python",
   "pygments_lexer": "ipython3",
   "version": "3.6.9"
  }
 },
 "nbformat": 4,
 "nbformat_minor": 2
}
