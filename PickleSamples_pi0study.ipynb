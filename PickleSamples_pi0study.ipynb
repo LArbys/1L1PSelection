{
 "cells": [
  {
   "cell_type": "code",
   "execution_count": 1,
   "metadata": {},
   "outputs": [
    {
     "name": "stdout",
     "output_type": "stream",
     "text": [
      "Welcome to JupyROOT 6.14/08\n"
     ]
    }
   ],
   "source": [
    "%matplotlib inline\n",
    "\n",
    "from ROOT import TFile,vector,TGraph\n",
    "import ROOT\n",
    "import matplotlib.pyplot as plt\n",
    "import pickle\n",
    "import pandas as pd\n",
    "\n",
    "import numpy as np\n",
    "from numpy import mean\n",
    "from math import sqrt,acos,cos,sin,pi,exp,log,isnan,atan2\n",
    "from xgboost import XGBClassifier\n",
    "from sklearn.model_selection import train_test_split\n",
    "from numpy import asarray\n",
    "from root_pandas import read_root\n",
    "from matplotlib import gridspec\n",
    "from scipy import stats"
   ]
  },
  {
   "cell_type": "code",
   "execution_count": 2,
   "metadata": {},
   "outputs": [],
   "source": [
    "def bless_tune1_reweight(row):\n",
    "    rw = float(1)\n",
    "    if row['nu_interaction_mode']==1001 and (row['nu_pdg']==14 or row['nu_pdg']==-14):\n",
    "        rw = xsec_tune1_graph_numu.Eval(row['MC_energyInit']) / xsec_mcc9_graph_numu.Eval(row['MC_energyInit'])\n",
    "    if row['nu_interaction_mode']==1001 and (row['nu_pdg']==12 or row['nu_pdg']==-12):\n",
    "        rw = xsec_tune1_graph_nue.Eval(row['MC_energyInit']) / xsec_mcc9_graph_nue.Eval(row['MC_energyInit'])\n",
    "    return rw\n",
    "\n",
    "def bless_MC_labels(row):\n",
    "    mclabel = ''\n",
    "    intlabel = ''\n",
    "    parentlabel = ''\n",
    "    pizero = [1090,1086,1090,1080,1015,1013,1011,1008,1006,1004]\n",
    "    piplusminus = [1085,1079,1032,1017,1014,1007,1005,1003,1028,1021,1016,1012,1010,1009]\n",
    "        \n",
    "    if abs(row['nu_pdg']) == 12:\n",
    "        intlabel = 'nue'\n",
    "    elif abs(row['nu_pdg']) == 14:\n",
    "        intlabel = 'numu'\n",
    "    \n",
    "    if not 0 < row['MC_scedr'] <= 5.0 :\n",
    "        mclabel = 'offvtx'\n",
    "    else:\n",
    "        if row['nu_interaction_type'] == 1001:\n",
    "            mclabel = 'CCQE'\n",
    "        elif row['nu_interaction_type'] == 1000:\n",
    "            mclabel = 'MEC'\n",
    "        elif row['nu_interaction_type'] in pizero:\n",
    "            mclabel = 'pizero'\n",
    "        elif row['nu_interaction_type'] in piplusminus:\n",
    "            mclabel = 'piplusminus' \n",
    "        else:\n",
    "            mclabel = 'other'\n",
    "            \n",
    "    return '%s_%s'%(intlabel,mclabel)\n",
    "\n",
    "def bless_leeweight(row):\n",
    "    wgts_unfolded = np.array((0, 5.03093, 4.50515, 3.50515, 2.31959, 1.31959, 0.64948, 0.27835, 0.11340, 0))\n",
    "    binedges_unfolded = np.array((0,.200,.250,.300,.350,.400,.450,.500,.600,.800,3.000))\n",
    "    \n",
    "    for i in range(0,len(wgts_unfolded)):\n",
    "        if row['MC_energyInit'] < binedges_unfolded[i+1]:\n",
    "            return wgts_unfolded[i]\n",
    "        \n",
    "    return 0"
   ]
  },
  {
   "cell_type": "code",
   "execution_count": 3,
   "metadata": {},
   "outputs": [],
   "source": [
    "# Time to load the good runs list\n",
    "# good_df = pd.read_csv('data/goodruns_2020.txt') # run1\n",
    "# good_df = pd.read_csv('data/goodruns_run3.txt')\n",
    "good_df = pd.read_csv('data/goodruns_run2.txt')\n",
    "good_df['good'] = 1\n",
    "\n",
    "RSE=['run','subrun','event']"
   ]
  },
  {
   "cell_type": "code",
   "execution_count": 4,
   "metadata": {},
   "outputs": [],
   "source": [
    "xsec_mcc9_file = ROOT.TFile('data/xsec_graphs_tune1.root')\n",
    "xsec_mcc9_graph_numu = xsec_mcc9_file.Get('nu_mu_Ar40/qel_cc_n')\n",
    "xsec_mcc9_graph_nue = xsec_mcc9_file.Get('nu_e_Ar40/qel_cc_n')\n",
    "xsec_tune1_file = ROOT.TFile('data/xsec_graphs_mcc9_v304.root')\n",
    "xsec_tune1_graph_numu = xsec_tune1_file.Get('nu_mu_Ar40/qel_cc_n')\n",
    "xsec_tune1_graph_nue = xsec_tune1_file.Get('nu_e_Ar40/qel_cc_n')"
   ]
  },
  {
   "cell_type": "code",
   "execution_count": 5,
   "metadata": {},
   "outputs": [],
   "source": [
    "# Beam quality\n",
    "beamq_df = read_root('data/beamdataquality_remix_bnb5e19.root','bdq')\n",
    "tag = 'Sept_9_run2_MC'"
   ]
  },
  {
   "cell_type": "markdown",
   "metadata": {},
   "source": [
    "# loading in all data from pi0 box"
   ]
  },
  {
   "cell_type": "code",
   "execution_count": 6,
   "metadata": {},
   "outputs": [
    {
     "name": "stdout",
     "output_type": "stream",
     "text": [
      "Aug_21_pi0box_run1 start length 1809\n",
      "Aug_21_pi0box_run1 end length 1618\n",
      "Aug_21_pi0box_run2D start length 2186\n",
      "Aug_21_pi0box_run2D end length 2068\n",
      "Aug_21_pi0box_run2E start length 701\n",
      "Aug_21_pi0box_run2E end length 639\n",
      "Aug_21_pi0box_run3F start length 507\n",
      "Aug_21_pi0box_run3F end length 473\n",
      "Aug_21_pi0box_run3G start length 2049\n",
      "Aug_21_pi0box_run3G end length 1914\n"
     ]
    }
   ],
   "source": [
    "# Time to load the good runs list\n",
    "good_df = pd.read_csv('data/goodruns_2020.txt') # run1\n",
    "good_df['good'] = 1\n",
    "RSE=['run','subrun','event']\n",
    "\n",
    "tag = 'Aug_21_pi0box_run1'\n",
    "\n",
    "df_data = read_root('/media/disk1/kmason/mcc9_v29e_dl_run1_C1_bnb_dlfilter_pi0_v1_1_3_fvv.root','dlana/FinalVertexVariables')\n",
    "print (tag, \"start length\",len(df_data))\n",
    "df_data = df_data.join(good_df.set_index('run'),on='run') #get good runs flag\n",
    "df_data_goodruns = df_data.query(\"good==1\")\n",
    "df_data_goodruns_precuts = df_data_goodruns.query(\"PassPMTPrecut ==1 and PassShowerReco ==1 and InFiducial ==1\")\n",
    "# df_data_goodruns_precuts = df_data_goodruns_precuts.sort_values('shower1_E_Y',ascending=False).drop_duplicates(RSE).sort_index()\n",
    "print (tag, \"end length\",len(df_data_goodruns_precuts))\n",
    "df_data_goodruns_precuts.to_pickle('data/pickles/data_goodruns_precuts_%s.pickle'%tag)\n",
    "del df_data,df_data_goodruns,df_data_goodruns_precuts #clear out info\n",
    "\n",
    "good_df = pd.read_csv('data/goodruns_run2.txt')\n",
    "good_df['good'] = 1\n",
    "RSE=['run','subrun','event']\n",
    "\n",
    "tag = 'Aug_21_pi0box_run2D'\n",
    "\n",
    "df_data = read_root('/media/disk1/kmason/mcc9_v29e_dl_run2_D2_bnb_dlfilter_pi0_v1_1_3_fvv.root','dlana/FinalVertexVariables')\n",
    "print (tag, \"start length\",len(df_data))\n",
    "df_data = df_data.join(good_df.set_index('run'),on='run') #get good runs flag\n",
    "df_data_goodruns = df_data.query(\"good==1\")\n",
    "df_data_goodruns_precuts = df_data_goodruns.query(\"PassPMTPrecut ==1 and PassShowerReco ==1 and InFiducial ==1\")\n",
    "# df_data_goodruns_precuts = df_data_goodruns_precuts.sort_values('shower1_E_Y',ascending=False).drop_duplicates(RSE).sort_index()\n",
    "print (tag, \"end length\",len(df_data_goodruns_precuts))\n",
    "df_data_goodruns_precuts.to_pickle('data/pickles/data_goodruns_precuts_%s.pickle'%tag)\n",
    "del df_data,df_data_goodruns,df_data_goodruns_precuts #clear out info\n",
    "\n",
    "tag = 'Aug_21_pi0box_run2E'\n",
    "\n",
    "df_data = read_root('/media/disk1/kmason/mcc9_v29e_dl_run2_E1_bnb_dlfilter_pi0_v1_1_3_fvv.root','dlana/FinalVertexVariables')\n",
    "print (tag, \"start length\",len(df_data))\n",
    "df_data = df_data.join(good_df.set_index('run'),on='run') #get good runs flag\n",
    "df_data_goodruns = df_data.query(\"good==1\")\n",
    "df_data_goodruns_precuts = df_data_goodruns.query(\"PassPMTPrecut ==1 and PassShowerReco ==1 and InFiducial ==1\")\n",
    "# df_data_goodruns_precuts = df_data_goodruns_precuts.sort_values('shower1_E_Y',ascending=False).drop_duplicates(RSE).sort_index()\n",
    "print (tag, \"end length\",len(df_data_goodruns_precuts))\n",
    "df_data_goodruns_precuts.to_pickle('data/pickles/data_goodruns_precuts_%s.pickle'%tag)\n",
    "del df_data,df_data_goodruns,df_data_goodruns_precuts #clear out info\n",
    "\n",
    "good_df = pd.read_csv('data/goodruns_run3.txt')\n",
    "good_df['good'] = 1\n",
    "RSE=['run','subrun','event']\n",
    "\n",
    "tag = 'Aug_21_pi0box_run3F'\n",
    "\n",
    "df_data = read_root('/media/disk1/kmason/mcc9_v29e_dl_run3_F1_bnb_dlfilter_pi0_v1_1_3_fvv.root','dlana/FinalVertexVariables')\n",
    "print (tag, \"start length\",len(df_data))\n",
    "df_data = df_data.join(good_df.set_index('run'),on='run') #get good runs flag\n",
    "df_data_goodruns = df_data.query(\"good==1\")\n",
    "df_data_goodruns_precuts = df_data_goodruns.query(\"PassPMTPrecut ==1 and PassShowerReco ==1 and InFiducial ==1\")\n",
    "# df_data_goodruns_precuts = df_data_goodruns_precuts.sort_values('shower1_E_Y',ascending=False).drop_duplicates(RSE).sort_index()\n",
    "print (tag, \"end length\",len(df_data_goodruns_precuts))\n",
    "df_data_goodruns_precuts.to_pickle('data/pickles/data_goodruns_precuts_%s.pickle'%tag)\n",
    "del df_data,df_data_goodruns,df_data_goodruns_precuts #clear out info\n",
    "\n",
    "tag = 'Aug_21_pi0box_run3G'\n",
    "\n",
    "df_data = read_root('/media/disk1/kmason/mcc9_v29e_dl_run3_G1_bnb_dlfilter_pi0_v1_1_3_fvv.root','dlana/FinalVertexVariables')\n",
    "print (tag, \"start length\",len(df_data))\n",
    "df_data = df_data.join(good_df.set_index('run'),on='run') #get good runs flag\n",
    "df_data_goodruns = df_data.query(\"good==1\")\n",
    "df_data_goodruns_precuts = df_data_goodruns.query(\"PassPMTPrecut ==1 and PassShowerReco ==1 and InFiducial ==1\")\n",
    "# df_data_goodruns_precuts = df_data_goodruns_precuts.sort_values('shower1_E_Y',ascending=False).drop_duplicates(RSE).sort_index()\n",
    "print (tag, \"end length\",len(df_data_goodruns_precuts))\n",
    "df_data_goodruns_precuts.to_pickle('data/pickles/data_goodruns_precuts_%s.pickle'%tag)\n",
    "del df_data,df_data_goodruns,df_data_goodruns_precuts #clear out info"
   ]
  },
  {
   "cell_type": "markdown",
   "metadata": {},
   "source": [
    "# MC BNB OVERLAY"
   ]
  },
  {
   "cell_type": "code",
   "execution_count": 13,
   "metadata": {},
   "outputs": [
    {
     "name": "stdout",
     "output_type": "stream",
     "text": [
      "143672\n",
      "['run', 'subrun', 'event', 'nu_pdg', 'nu_energy_true', 'nu_interaction_ccnc', 'nu_interaction_mode', 'nu_interaction_type', 'nu_target_pdg', 'nu_L_true', 'spline_weight', 'rootino_weight', 'ub_tune_weight', 'xsec_corr_weight', 'lee_weight']\n",
      "Loaded Files\n",
      "244621\n",
      "244621\n",
      "205342\n",
      "Merged\n",
      "Genie Reweighted\n",
      "1317\n",
      "MC Labeled\n"
     ]
    }
   ],
   "source": [
    "tag ='Sept_run2_test'\n",
    "good_df = pd.read_csv('data/goodruns_run2.txt') # run1\n",
    "# good_df = pd.read_csv('data/goodruns_run3.txt')\n",
    "good_df['good'] = 1\n",
    "\n",
    "# tag ='July_28_run1_new'\n",
    "# mcc9_v28_wctagger_bnboverlay_finalbdt.root\n",
    "# mcc9_v28_wctagger_nueintrinsics_finalbdt.root\n",
    "# mcc9_v28_wctagger_extbnb_finalbdt.root\n",
    "# mcc9_v28_wctagger_5e19_finalbdt.root\n",
    "\n",
    "# tag ='July_28_run3_old'\n",
    "# mcc9_v29e_dl_run3b_bnb_nu_overlay_nocrtremerge_finalbdt.root\n",
    "# mcc9_v29e_dl_run3b_bnb_intrinsic_nue_overlay_nocrtremerge_finalbdt.root\n",
    "# mcc9_v29e_dl_run3_G1_extbnb_finalbdt.root\n",
    "# mcc9_v29e_dl_run3_F1_bnb_dlfilter_pi0_v1_1_3_fvv.root\n",
    "\n",
    "# tag = 'July_29_pi0box_run1'\n",
    "# mcc9_v29e_dl_run1_C1_bnb_dlfilter_pi0_v1_1_3_fvv.root\n",
    "\n",
    "\n",
    "# mcc9_v28_wctagger_run3_bnb1e19.root\n",
    "\n",
    "RSE=['run','subrun','event']\n",
    "\n",
    "df_bnb = read_root('/media/disk1/kmason/mcc9_v29e_dl_run2_bnb_nu_overlay_finalbdt.root','dlana/FinalVertexVariables')\n",
    "print(len(df_bnb))\n",
    "df_bnb_cvweight = read_root('data/weights_forCV_v40_bnb_nu_run2.root')\n",
    "pd.set_option('display.max_columns', None)\n",
    "pd.set_option('display.max_rows', None)\n",
    "cols = df_bnb_cvweight.columns.tolist()\n",
    "print(cols)\n",
    "\n",
    "\n",
    "print('Loaded Files')\n",
    "\n",
    "df_bnb = df_bnb.join(good_df.set_index('run'),on='run')\n",
    "df_bnb = df_bnb.join(df_bnb_cvweight.set_index(RSE)[['nu_energy_true','nu_interaction_mode','nu_interaction_type','xsec_corr_weight','spline_weight','nu_interaction_ccnc','nu_pdg']],on=RSE)\n",
    "\n",
    "# remove nue cc events\n",
    "df_numu = df_bnb.query('not (nu_interaction_ccnc==0 and abs(nu_pdg)==12)')\n",
    "print(len(df_numu))\n",
    "df_numu_goodruns = df_numu.query('good==1')\n",
    "\n",
    "print(len(df_numu_goodruns))\n",
    "df_numu_goodruns_precuts = df_numu_goodruns.query(\"InFiducial==1 and PassPMTPrecut == 1\")\n",
    "print(len(df_numu_goodruns_precuts))\n",
    "\n",
    "df_numu_goodruns_precuts = df_numu_goodruns_precuts.sort_values('shower1_E_Y',ascending=False).drop_duplicates(RSE).sort_index()\n",
    "\n",
    "print('Merged')\n",
    "\n",
    "df_numu_goodruns_precuts.insert(0,'xsec_tune1_weight',df_numu_goodruns_precuts.apply(bless_tune1_reweight,axis=1))\n",
    "\n",
    "print('Genie Reweighted')\n",
    "\n",
    "df_numu_goodruns_precuts.insert(0,'mc_label',df_numu_goodruns_precuts.apply(bless_MC_labels,axis=1))\n",
    "\n",
    "cuts = 'PassPMTPrecut == 1  and _pi0mass<400 and PassSimpleCuts ==1 and Proton_Edep>60.0  and Electron_Edep>35.0 and PassPMTPrecut==1 and PassShowerReco==1  and shower1_E_Y>80 and ChargeNearTrunk >250 and Electron_ThetaRecoB_e1ep <1.5 and _shower_alpha <2.5 and _pi0mass>0 and BDTscore_1e1p<.7'\n",
    "print(len(df_numu_goodruns_precuts.query(cuts))) \n",
    "\n",
    "\n",
    "\n",
    "print ('MC Labeled')"
   ]
  },
  {
   "cell_type": "code",
   "execution_count": 12,
   "metadata": {},
   "outputs": [
    {
     "name": "stdout",
     "output_type": "stream",
     "text": [
      "Saved Parquet\n",
      "Cleaned up\n"
     ]
    }
   ],
   "source": [
    "df_numu_goodruns_precuts.to_pickle('data/pickles/numu_goodruns_precuts_%s.pickle'%tag)\n",
    "\n",
    "print('Saved Parquet')\n",
    "\n",
    "del df_bnb,df_bnb_cvweight,df_numu_goodruns_precuts\n",
    "\n",
    "print('Cleaned up')"
   ]
  },
  {
   "cell_type": "markdown",
   "metadata": {},
   "source": [
    "# MC NUE OVERLAY"
   ]
  },
  {
   "cell_type": "code",
   "execution_count": 9,
   "metadata": {},
   "outputs": [
    {
     "name": "stdout",
     "output_type": "stream",
     "text": [
      "Loaded Files\n",
      "Merged\n"
     ]
    }
   ],
   "source": [
    "df_nue = read_root('/media/disk1/kmason/mcc9_v29e_dl_run2_bnb_intrinsics_nue_overlay_finalbdt.root','dlana/FinalVertexVariables')\n",
    "df_nue_cvweights = read_root('data/weights_forCV_v40_intrinsic_nue_run2.root')\n",
    "\n",
    "print('Loaded Files')\n",
    "\n",
    "df_nue = df_nue.join(good_df.set_index('run'),on='run')\n",
    "df_nue = df_nue.join(df_nue_cvweights.set_index(RSE)[['lee_weight','nu_interaction_mode','nu_interaction_type','xsec_corr_weight','spline_weight','nu_pdg']],on=RSE)\n",
    "df_nue_goodruns = df_nue.query(\"good==1\")\n",
    "# df_nue_goodruns = df_nue\n",
    "df_nue_goodruns_precuts = df_nue_goodruns.query(\"InFiducial==1\")\n",
    "\n",
    "# df_nue_goodruns_precuts = df_nue_goodruns_precuts.sort_values('shower1_E_Y',ascending=False).drop_duplicates(RSE).sort_index()\n",
    "\n",
    "\n",
    "print('Merged')\n",
    "\n",
    "df_nue_goodruns_precuts.insert(0,'xsec_tune_weight',df_nue_goodruns_precuts.apply(bless_tune1_reweight,axis=1))\n",
    "df_nue_goodruns_precuts.insert(0,'mc_label',df_nue_goodruns_precuts.apply(bless_MC_labels,axis=1))\n",
    "# df_nue_goodruns_precuts.insert(0,'leeweight',df_nue_goodruns_precuts.apply(bless_leeweight,axis=1))"
   ]
  },
  {
   "cell_type": "code",
   "execution_count": 10,
   "metadata": {},
   "outputs": [
    {
     "name": "stdout",
     "output_type": "stream",
     "text": [
      "Saved Parquet\n",
      "Cleaned up\n"
     ]
    }
   ],
   "source": [
    "df_nue_goodruns_precuts.to_pickle('data/pickles/nue_goodruns_precuts_%s.pickle'%tag)\n",
    "\n",
    "print('Saved Parquet')\n",
    "\n",
    "del df_nue,df_nue_goodruns_precuts,df_nue_cvweights\n",
    "\n",
    "print('Cleaned up')"
   ]
  },
  {
   "cell_type": "markdown",
   "metadata": {},
   "source": [
    "# EXT"
   ]
  },
  {
   "cell_type": "code",
   "execution_count": 10,
   "metadata": {},
   "outputs": [
    {
     "name": "stdout",
     "output_type": "stream",
     "text": [
      "Loaded files\n",
      "102390\n",
      "73310\n",
      "Merged\n"
     ]
    }
   ],
   "source": [
    "df_ext = read_root('/media/disk1/kmason/mcc9_v29e_dl_run3_G1_extbnb_finalbdt.root','dlana/FinalVertexVariables')\n",
    "\n",
    "print('Loaded files')\n",
    "print(len(df_ext))\n",
    "\n",
    "df_ext = df_ext.join(good_df.set_index('run'),on='run')\n",
    "\n",
    "df_ext_goodruns = df_ext.query(\"good==1\")\n",
    "df_ext_goodruns_precuts = df_ext_goodruns.query(\"PassPMTPrecut==1 and InFiducial==1\")\n",
    "\n",
    "# df_ext_goodruns_precuts = df_ext_goodruns_precuts.sort_values('shower1_E_Y',ascending=False).drop_duplicates(RSE).sort_index()\n",
    "print(len(df_ext_goodruns_precuts))\n",
    "\n",
    "print('Merged')\n",
    "\n",
    "# restrict to 5e19 run range\n",
    "#df_ext_goodruns_pmtprecut = df_ext_goodruns_pmtprecut.query('run>=5119 and run<=5955')"
   ]
  },
  {
   "cell_type": "code",
   "execution_count": 11,
   "metadata": {},
   "outputs": [
    {
     "name": "stdout",
     "output_type": "stream",
     "text": [
      "Saved Parquet\n",
      "Cleaned up\n"
     ]
    }
   ],
   "source": [
    "df_ext_goodruns_precuts.to_pickle('data/pickles/ext_goodruns_precuts_%s.pickle'%tag)\n",
    "\n",
    "print('Saved Parquet')\n",
    "\n",
    "del df_ext,df_ext_goodruns,df_ext_goodruns_precuts\n",
    "\n",
    "print('Cleaned up')"
   ]
  },
  {
   "cell_type": "markdown",
   "metadata": {},
   "source": [
    "# Data"
   ]
  },
  {
   "cell_type": "code",
   "execution_count": 8,
   "metadata": {},
   "outputs": [
    {
     "name": "stdout",
     "output_type": "stream",
     "text": [
      "11075\n",
      "Loaded files\n",
      "11075\n",
      "11044\n",
      "10785\n",
      "4635\n",
      "Merged\n"
     ]
    }
   ],
   "source": [
    "good_df = pd.read_csv('data/goodruns_2020.txt')\n",
    "good_df['good'] = 1\n",
    "\n",
    "RSE=['run','subrun','event']\n",
    "\n",
    "tag = 'Dec_12_fake5_run1'\n",
    "\n",
    "df_data = read_root('/media/disk1/kmason/mcc9_v29e_dl_set5_fakedata_run1_pi0_lowBDT_v1_1_3_fvv.root','dlana/FinalVertexVariables')\n",
    "print (len(df_data))\n",
    "\n",
    "print('Loaded files')\n",
    "df_data = df_data.join(good_df.set_index('run'),on='run')\n",
    "# df_data = df_data.join(beamq_df.set_index(['run','subrun','event']),on=['run','subrun','event'])\n",
    "# df_data_goodruns = df_data.query(\"good==1 and result==1\")\n",
    "df_data_goodruns = df_data.query(\"good==1\")\n",
    "df_data_goodruns = df_data\n",
    "print (len(df_data_goodruns))\n",
    "df_data_goodruns_precuts = df_data_goodruns.query( \"PassShowerReco ==1\")\n",
    "print(len(df_data_goodruns_precuts))\n",
    "df_data_goodruns_precuts = df_data_goodruns_precuts.query(\"InFiducial ==1  \")\n",
    "print(len(df_data_goodruns_precuts))\n",
    "# df_data_goodruns_precuts = df_data_goodruns_precuts.sort_values('shower1_E_Y',ascending=False).drop_duplicates(RSE).sort_index()\n",
    "\n",
    "cuts = 'PassPMTPrecut == 1 and _pi0mass<400 and PassSimpleCuts ==1 and Proton_Edep>60.0  and Electron_Edep>35.0 and PassShowerReco==1  and shower1_E_Y>80 and ChargeNearTrunk >250 and Electron_ThetaRecoB_e1ep <1.5 and _shower_alpha <2.5 and _pi0mass>0 and BDTscore_1e1p<.7'\n",
    "print(len(df_data_goodruns_precuts.query(cuts)))\n",
    "# print(len(df_data_goodruns_precuts))\n",
    "print('Merged')"
   ]
  },
  {
   "cell_type": "code",
   "execution_count": 9,
   "metadata": {},
   "outputs": [
    {
     "name": "stdout",
     "output_type": "stream",
     "text": [
      "Saved Parquet\n",
      "Cleaned up\n"
     ]
    }
   ],
   "source": [
    "df_data_goodruns_precuts.to_pickle('data/pickles/data_goodruns_precuts_%s.pickle'%tag)\n",
    "\n",
    "print('Saved Parquet')\n",
    "\n",
    "del df_data,df_data_goodruns,df_data_goodruns_precuts\n",
    "\n",
    "print('Cleaned up')"
   ]
  },
  {
   "cell_type": "markdown",
   "metadata": {},
   "source": [
    "# Get POT for mc"
   ]
  },
  {
   "cell_type": "code",
   "execution_count": null,
   "metadata": {},
   "outputs": [],
   "source": [
    "df_pot = read_root('../data/mcc9_v13_bnb_overlay/old/pot_scrape.root','pot_tree',columns=['run', 'subrun','pot'])\n",
    "RS=['run','subrun']\n",
    "\n",
    "df_pot = pd.merge(df_numu_goodruns,df_pot,on=RS)\n",
    "df_pot.drop_duplicates(RS,inplace=True)\n",
    "print(df_pot['pot'].values.sum())"
   ]
  },
  {
   "cell_type": "code",
   "execution_count": null,
   "metadata": {},
   "outputs": [],
   "source": [
    "# Get list of RS\n",
    "RS=['run','subrun']\n",
    "df_rs = df_data_goodruns.drop_duplicates(RS)\n",
    "\n",
    "f = open('../data/RS_data.txt','w')\n",
    "for e in range(len(df_rs)):\n",
    "    f.write('%i %i\\n' % (df_rs['run'].values[e], df_rs['subrun'].values[e]))\n",
    "f.close() "
   ]
  },
  {
   "cell_type": "code",
   "execution_count": null,
   "metadata": {},
   "outputs": [],
   "source": [
    "def bless_scedr(row):\n",
    "    scedr = float(-1)\n",
    "    dx = row['Xreco'] - row['parentSCEX']\n",
    "    dy = row['Yreco'] - row['parentSCEY']\n",
    "    dz = row['Zreco'] - row['parentSCEZ']\n",
    "    dr2 = dx*dx+dy*dy+dz*dz\n",
    "    dr = np.sqrt(dr2)\n",
    "\n",
    "    scedr = dr\n",
    "    return scedr\n"
   ]
  },
  {
   "cell_type": "code",
   "execution_count": null,
   "metadata": {},
   "outputs": [],
   "source": [
    "def bless_proton_dedx(row):\n",
    "    dedx = row['Proton_Edep']/float(row['Proton_TrackLength'])\n",
    "    return dedx\n",
    "\n",
    "def bless_proton_dedx_recombo(row):\n",
    "    \n",
    "    Rho = 1.383\n",
    "    betap = 0.183592\n",
    "    alpha = 0.921969\n",
    "\n",
    "    Wion = 23.6e-6\n",
    "    Efield = 0.273\n",
    "\n",
    "    dedx = (np.exp(row['Proton_dQdx']*(betap/(Rho*Efield))*Wion)-alpha)/(betap/(Rho*Efield))\n",
    "    return dedx"
   ]
  },
  {
   "cell_type": "code",
   "execution_count": null,
   "metadata": {},
   "outputs": [],
   "source": [
    "# restrict to 5e19 run range\n",
    "#df_nue_goodruns_pmtprecut = df_nue_goodruns_pmtprecut.query('run>=5119 and run<=5955')"
   ]
  }
 ],
 "metadata": {
  "kernelspec": {
   "display_name": "Python 3",
   "language": "python",
   "name": "python3"
  },
  "language_info": {
   "codemirror_mode": {
    "name": "ipython",
    "version": 3
   },
   "file_extension": ".py",
   "mimetype": "text/x-python",
   "name": "python",
   "nbconvert_exporter": "python",
   "pygments_lexer": "ipython3",
   "version": "3.5.2"
  }
 },
 "nbformat": 4,
 "nbformat_minor": 2
}
